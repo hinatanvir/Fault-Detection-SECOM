{
 "cells": [
  {
   "cell_type": "code",
   "execution_count": null,
   "metadata": {},
   "outputs": [],
   "source": [
    "def FS_BorutaPy (X, y, classifier_option):\n",
    "    if classifier_option='RF':\n",
    "        model = RandomForestClassifier(n_jobs=-1, class_weight='balanced_subsample', max_depth=5, random_state=100)\n",
    "    if classifier_option='XGB':\n",
    "        model = XGB(n_jobs=-1, class_weight='balanced_subsample', max_depth=5, random_state=100)\n",
    "    \n",
    "    feature_selector = BorutaPy(model, n_estimators='auto', verbose=2, random_state=100, max_iter=140)\n",
    "\n",
    "    ... \n",
    "    return X\n",
    "\n",
    "def FS_BorutaShap (X, y, classifier_option):\n",
    "    if classifier_option='RF':\n",
    "        model = RandomForestClassifier(n_jobs=-1, class_weight='balanced_subsample', max_depth=5, random_state=100)\n",
    "    if classifier_option='XGB':\n",
    "        model = XGB(n_jobs=-1, class_weight='balanced_subsample', max_depth=5, random_state=100)\n",
    "    \n",
    "    feature_selector = BorutaShap(model, n_estimators='auto', verbose=2, random_state=100, max_iter=140)\n",
    "\n",
    "    ... \n",
    "    return X\n",
    "\n",
    "\n",
    "def FS_RFE (X, y, classifier_option):\n",
    "    if classifier_option='RF':\n",
    "        model = RandomForestClassifier(n_jobs=-1, class_weight='balanced_subsample', max_depth=5, random_state=100)\n",
    "    if classifier_option='XGB':\n",
    "        model = XGB(n_jobs=-1, class_weight='balanced_subsample', max_depth=5, random_state=100)\n",
    "    \n",
    "    feature_selector = RFE(model, n_estimators='auto', verbose=2, random_state=100, max_iter=140)\n",
    "\n",
    "    ... \n",
    "    return X\n"
   ]
  },
  {
   "cell_type": "code",
   "execution_count": null,
   "metadata": {},
   "outputs": [],
   "source": [
    "list_classifier = ['RF','XGB']\n",
    "\n",
    "list_result = []\n",
    "\n",
    "order=0\n",
    "for c in list_classifier:\n",
    "    list_result[order] = FS_RFE(X_train, y_train, c)\n",
    "    order = order + 1\n",
    "\n",
    "for r in list_resule:\n",
    "    print(r)"
   ]
  },
  {
   "cell_type": "code",
   "execution_count": null,
   "metadata": {},
   "outputs": [],
   "source": [
    "list_classifier = ['RF','XGB']\n",
    "\n",
    "\n",
    "for c in list_classifier:\n",
    "    print(FS_RFE(X_train, y_train, c).columns)\n",
    "\n",
    "\n"
   ]
  },
  {
   "cell_type": "code",
   "execution_count": null,
   "metadata": {},
   "outputs": [],
   "source": [
    "list_null_impute = [knnimputation_distance, MICEimputation_distance]\n",
    "list_null_outlier = [outlier_knn,outlier_3s]\n",
    "list_feat_selection = ['Boruta_RF', 'Boruta_shap', 'RFE']\n",
    "Boruta = ['RF', 'XGB']\n",
    "Boruta_shap = ['RF', 'XGB', 'kNN']\n",
    "RFE = ['RF', 'SVC']\n",
    "\n",
    "remove_duplicated_columns()\n",
    "remove_constant_volatility()\n",
    "...\n",
    "for i in list_null_impute:\n",
    "    for o in list_null_outlier:\n",
    "        for fs in ...:\n",
    "            run_model(i,o,fs)\n"
   ]
  }
 ],
 "metadata": {
  "language_info": {
   "name": "python"
  },
  "orig_nbformat": 4
 },
 "nbformat": 4,
 "nbformat_minor": 2
}
