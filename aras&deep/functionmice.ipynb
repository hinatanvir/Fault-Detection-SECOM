{
 "cells": [
  {
   "cell_type": "code",
   "execution_count": 1,
   "metadata": {},
   "outputs": [],
   "source": [
    "import pandas as pd \n",
    "import numpy as np \n",
    "from sklearn.experimental import enable_iterative_imputer\n",
    "from sklearn.impute import IterativeImputer\n",
    "from sklearn.linear_model import LinearRegression"
   ]
  },
  {
   "cell_type": "code",
   "execution_count": 2,
   "metadata": {},
   "outputs": [],
   "source": [
    "#df features \n",
    "df_features = pd.read_csv('/Users/arasdirekoglu/Documents/Github/Fault-Detection-SECOM-2/secom.data', delimiter=' ', header=None, na_values=['NaN'])\n",
    "df_features.columns = ['feature'+str(x+1) for x in range(len(df_features.columns))] \n",
    "\n",
    "#df target \n",
    "df_target = pd.read_csv('/Users/arasdirekoglu/Documents/Github/Fault-Detection-SECOM-2/secom_labels.data', delimiter= ' ', header=None, na_values={'NaN'})\n",
    "df_target.columns = ['status', 'timestamp']\n",
    "df_target['timestamp'] = pd.to_datetime(df_target['timestamp'], dayfirst=True)\n",
    "\n",
    "#concat both to df\n",
    "df = pd.concat([df_features, df_target], axis=1) "
   ]
  },
  {
   "cell_type": "markdown",
   "metadata": {},
   "source": [
    "Attempt MICE Imputation "
   ]
  },
  {
   "cell_type": "code",
   "execution_count": 4,
   "metadata": {},
   "outputs": [
    {
     "data": {
      "text/plain": [
       "1567"
      ]
     },
     "execution_count": 4,
     "metadata": {},
     "output_type": "execute_result"
    }
   ],
   "source": [
    "#Number of Missing Values BEFORE MICE Imputation\n",
    "df_features.isna().any(axis=1).sum()"
   ]
  },
  {
   "cell_type": "code",
   "execution_count": 7,
   "metadata": {},
   "outputs": [
    {
     "name": "stdout",
     "output_type": "stream",
     "text": [
      "[IterativeImputer] Completing matrix with shape (1567, 590)\n",
      "[IterativeImputer] Ending imputation round 1/10, elapsed time 279.30\n",
      "[IterativeImputer] Change: 1267.4303091161391, scaled tolerance: 37.943 \n",
      "[IterativeImputer] Ending imputation round 2/10, elapsed time 559.78\n",
      "[IterativeImputer] Change: 924.0677396136525, scaled tolerance: 37.943 \n"
     ]
    }
   ],
   "source": [
    "#MICE imputation\n",
    "imp = IterativeImputer(max_iter= 10,  verbose=2, imputation_order='roman', random_state=0)\n",
    "df_mice = pd.DataFrame(imp.fit_transform(df_features), columns=df_features.columns)"
   ]
  },
  {
   "cell_type": "code",
   "execution_count": null,
   "metadata": {},
   "outputs": [],
   "source": [
    "df_mice.isna().any(axis=1).sum()"
   ]
  },
  {
   "cell_type": "markdown",
   "metadata": {},
   "source": [
    "Defition & Test of Function"
   ]
  },
  {
   "cell_type": "code",
   "execution_count": null,
   "metadata": {},
   "outputs": [],
   "source": [
    "#Definition of Function\n",
    "def miceimputation(x): \n",
    "    imp = IterativeImputer()\n",
    "    df_mice = pd.DataFrame(imp.fit_transform(x), columns=x.columns)\n",
    "    return df_mice"
   ]
  },
  {
   "cell_type": "code",
   "execution_count": null,
   "metadata": {},
   "outputs": [],
   "source": [
    "#Number of Rows with Missing Values BEFORE MICE Imputation\n",
    "df_features.isna().any(axis=1).sum()"
   ]
  },
  {
   "cell_type": "code",
   "execution_count": null,
   "metadata": {},
   "outputs": [],
   "source": [
    "#Test of function \n",
    "df_test_function = knnimputation(df_features)\n",
    "df_test_function.isna().any(axis=1).sum()"
   ]
  }
 ],
 "metadata": {
  "interpreter": {
   "hash": "3078b67b691a5c266f6971fd9f463b4eac2178879712276f7d11f0f0eb816c78"
  },
  "kernelspec": {
   "display_name": "Python 3.9.12 ('dscience')",
   "language": "python",
   "name": "python3"
  },
  "language_info": {
   "codemirror_mode": {
    "name": "ipython",
    "version": 3
   },
   "file_extension": ".py",
   "mimetype": "text/x-python",
   "name": "python",
   "nbconvert_exporter": "python",
   "pygments_lexer": "ipython3",
   "version": "3.9.12"
  },
  "orig_nbformat": 4
 },
 "nbformat": 4,
 "nbformat_minor": 2
}
