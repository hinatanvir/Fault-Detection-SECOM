{
 "cells": [
  {
   "cell_type": "code",
   "execution_count": null,
   "metadata": {},
   "outputs": [],
   "source": [
    "imputation_list = ['knn','mice']\n",
    "outlier_list = ['3s','2s']\n",
    "feat = ['boruta', 'RFE']\n",
    "\n",
    "for i in imputation_list:\n",
    "    for o in outlier_list:\n",
    "        for f in feat:\n",
    "            print(i,'_',o,'_',f,'\\n')\n",
    "\n"
   ]
  },
  {
   "cell_type": "code",
   "execution_count": null,
   "metadata": {},
   "outputs": [],
   "source": [
    "def boruta()\n",
    "def RFE()\n",
    "\n",
    "def feat_sec(df, tech)\n",
    "    if tech='boruta':\n",
    "        boruta(df)"
   ]
  }
 ],
 "metadata": {
  "language_info": {
   "name": "python"
  },
  "orig_nbformat": 4
 },
 "nbformat": 4,
 "nbformat_minor": 2
}
