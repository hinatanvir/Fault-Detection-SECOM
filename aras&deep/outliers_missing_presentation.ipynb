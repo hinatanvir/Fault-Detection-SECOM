{
 "cells": [
  {
   "cell_type": "code",
   "execution_count": 261,
   "metadata": {},
   "outputs": [],
   "source": [
    "import pandas as pd \n",
    "import numpy as np \n",
    "from sklearn.impute import KNNImputer\n",
    "import matplotlib.pyplot as plt \n",
    "from sklearn.preprocessing import MinMaxScaler\n",
    "from scipy import stats\n",
    "from sklearn.model_selection import KFold, StratifiedKFold, train_test_split \n",
    "import seaborn as sns "
   ]
  },
  {
   "cell_type": "markdown",
   "metadata": {},
   "source": [
    "# Reading & Merging Data"
   ]
  },
  {
   "cell_type": "code",
   "execution_count": 192,
   "metadata": {},
   "outputs": [],
   "source": [
    "#this function is to read, transform and join 2 data frame\n",
    "\n",
    "def read_features():\n",
    "    path = 'secom.data'\n",
    "    df = pd.read_csv(path, delimiter=' ', header=None, na_values=['NaN'])\n",
    "    df.columns = ['feature_'+str(x+1) for x in range(len(df.columns))]\n",
    "    return df\n",
    "\n",
    "\n",
    "\n",
    "def read_target():\n",
    "    path = 'secom_labels.data'\n",
    "    df = pd.read_csv(path, delimiter=' ', header=None, na_values=['NaN'])\n",
    "    df.columns = ['status','timestamp']\n",
    "    df['timestamp'] = pd.to_datetime(df['timestamp'],dayfirst=True)\n",
    "    return df\n",
    "\n",
    "#for the testing purporse, trim to remain first 100 rows only\n",
    "X = read_features()\n",
    "y = read_target().iloc[:,0]"
   ]
  },
  {
   "cell_type": "code",
   "execution_count": 193,
   "metadata": {},
   "outputs": [
    {
     "data": {
      "text/plain": [
       "(1567, 590)"
      ]
     },
     "execution_count": 193,
     "metadata": {},
     "output_type": "execute_result"
    }
   ],
   "source": [
    "#Row & Columns of Features \n",
    "X.shape"
   ]
  },
  {
   "cell_type": "markdown",
   "metadata": {},
   "source": [
    "# Split Training & Test Data "
   ]
  },
  {
   "cell_type": "code",
   "execution_count": 194,
   "metadata": {},
   "outputs": [],
   "source": [
    "x_train, x_test, y_train, y_test = train_test_split(X, y, test_size = 0.2, random_state = 1,stratify=y)"
   ]
  },
  {
   "cell_type": "code",
   "execution_count": 195,
   "metadata": {},
   "outputs": [
    {
     "data": {
      "text/html": [
       "<div>\n",
       "<style scoped>\n",
       "    .dataframe tbody tr th:only-of-type {\n",
       "        vertical-align: middle;\n",
       "    }\n",
       "\n",
       "    .dataframe tbody tr th {\n",
       "        vertical-align: top;\n",
       "    }\n",
       "\n",
       "    .dataframe thead th {\n",
       "        text-align: right;\n",
       "    }\n",
       "</style>\n",
       "<table border=\"1\" class=\"dataframe\">\n",
       "  <thead>\n",
       "    <tr style=\"text-align: right;\">\n",
       "      <th></th>\n",
       "      <th>feature_1</th>\n",
       "      <th>feature_2</th>\n",
       "      <th>feature_3</th>\n",
       "      <th>feature_4</th>\n",
       "      <th>feature_5</th>\n",
       "      <th>feature_6</th>\n",
       "      <th>feature_7</th>\n",
       "      <th>feature_8</th>\n",
       "      <th>feature_9</th>\n",
       "      <th>feature_10</th>\n",
       "      <th>...</th>\n",
       "      <th>feature_581</th>\n",
       "      <th>feature_582</th>\n",
       "      <th>feature_583</th>\n",
       "      <th>feature_584</th>\n",
       "      <th>feature_585</th>\n",
       "      <th>feature_586</th>\n",
       "      <th>feature_587</th>\n",
       "      <th>feature_588</th>\n",
       "      <th>feature_589</th>\n",
       "      <th>feature_590</th>\n",
       "    </tr>\n",
       "  </thead>\n",
       "  <tbody>\n",
       "    <tr>\n",
       "      <th>443</th>\n",
       "      <td>3079.77</td>\n",
       "      <td>2354.51</td>\n",
       "      <td>2207.0444</td>\n",
       "      <td>1269.6078</td>\n",
       "      <td>1.7571</td>\n",
       "      <td>100.0</td>\n",
       "      <td>97.0189</td>\n",
       "      <td>0.1221</td>\n",
       "      <td>1.4607</td>\n",
       "      <td>0.0155</td>\n",
       "      <td>...</td>\n",
       "      <td>0.0059</td>\n",
       "      <td>68.7444</td>\n",
       "      <td>0.5001</td>\n",
       "      <td>0.0110</td>\n",
       "      <td>0.0034</td>\n",
       "      <td>2.1899</td>\n",
       "      <td>0.0282</td>\n",
       "      <td>0.0194</td>\n",
       "      <td>0.0059</td>\n",
       "      <td>68.7444</td>\n",
       "    </tr>\n",
       "    <tr>\n",
       "      <th>760</th>\n",
       "      <td>3001.36</td>\n",
       "      <td>2491.23</td>\n",
       "      <td>2155.3111</td>\n",
       "      <td>918.2161</td>\n",
       "      <td>1.2753</td>\n",
       "      <td>100.0</td>\n",
       "      <td>105.0478</td>\n",
       "      <td>0.1227</td>\n",
       "      <td>1.4206</td>\n",
       "      <td>-0.0052</td>\n",
       "      <td>...</td>\n",
       "      <td>NaN</td>\n",
       "      <td>NaN</td>\n",
       "      <td>0.4943</td>\n",
       "      <td>0.0199</td>\n",
       "      <td>0.0042</td>\n",
       "      <td>4.0318</td>\n",
       "      <td>0.0169</td>\n",
       "      <td>0.0276</td>\n",
       "      <td>0.0081</td>\n",
       "      <td>163.9998</td>\n",
       "    </tr>\n",
       "    <tr>\n",
       "      <th>479</th>\n",
       "      <td>3042.78</td>\n",
       "      <td>2377.89</td>\n",
       "      <td>2173.4556</td>\n",
       "      <td>1433.6732</td>\n",
       "      <td>1.0304</td>\n",
       "      <td>100.0</td>\n",
       "      <td>110.5422</td>\n",
       "      <td>0.1245</td>\n",
       "      <td>1.4964</td>\n",
       "      <td>0.0204</td>\n",
       "      <td>...</td>\n",
       "      <td>NaN</td>\n",
       "      <td>NaN</td>\n",
       "      <td>0.4962</td>\n",
       "      <td>0.0114</td>\n",
       "      <td>0.0034</td>\n",
       "      <td>2.2877</td>\n",
       "      <td>0.0208</td>\n",
       "      <td>0.0287</td>\n",
       "      <td>0.0091</td>\n",
       "      <td>138.2861</td>\n",
       "    </tr>\n",
       "    <tr>\n",
       "      <th>362</th>\n",
       "      <td>3018.64</td>\n",
       "      <td>2401.80</td>\n",
       "      <td>2224.0000</td>\n",
       "      <td>1510.0797</td>\n",
       "      <td>1.5611</td>\n",
       "      <td>100.0</td>\n",
       "      <td>99.8300</td>\n",
       "      <td>0.1199</td>\n",
       "      <td>1.4428</td>\n",
       "      <td>-0.0110</td>\n",
       "      <td>...</td>\n",
       "      <td>0.0038</td>\n",
       "      <td>49.7490</td>\n",
       "      <td>0.5047</td>\n",
       "      <td>0.0101</td>\n",
       "      <td>0.0031</td>\n",
       "      <td>1.9927</td>\n",
       "      <td>0.0284</td>\n",
       "      <td>0.0141</td>\n",
       "      <td>0.0038</td>\n",
       "      <td>49.7490</td>\n",
       "    </tr>\n",
       "    <tr>\n",
       "      <th>662</th>\n",
       "      <td>3020.29</td>\n",
       "      <td>2433.99</td>\n",
       "      <td>2217.8111</td>\n",
       "      <td>1744.7771</td>\n",
       "      <td>0.9618</td>\n",
       "      <td>100.0</td>\n",
       "      <td>100.1789</td>\n",
       "      <td>0.1218</td>\n",
       "      <td>1.4950</td>\n",
       "      <td>-0.0097</td>\n",
       "      <td>...</td>\n",
       "      <td>NaN</td>\n",
       "      <td>NaN</td>\n",
       "      <td>0.5010</td>\n",
       "      <td>0.0147</td>\n",
       "      <td>0.0036</td>\n",
       "      <td>2.9338</td>\n",
       "      <td>0.0165</td>\n",
       "      <td>0.0114</td>\n",
       "      <td>0.0043</td>\n",
       "      <td>68.9871</td>\n",
       "    </tr>\n",
       "    <tr>\n",
       "      <th>...</th>\n",
       "      <td>...</td>\n",
       "      <td>...</td>\n",
       "      <td>...</td>\n",
       "      <td>...</td>\n",
       "      <td>...</td>\n",
       "      <td>...</td>\n",
       "      <td>...</td>\n",
       "      <td>...</td>\n",
       "      <td>...</td>\n",
       "      <td>...</td>\n",
       "      <td>...</td>\n",
       "      <td>...</td>\n",
       "      <td>...</td>\n",
       "      <td>...</td>\n",
       "      <td>...</td>\n",
       "      <td>...</td>\n",
       "      <td>...</td>\n",
       "      <td>...</td>\n",
       "      <td>...</td>\n",
       "      <td>...</td>\n",
       "      <td>...</td>\n",
       "    </tr>\n",
       "    <tr>\n",
       "      <th>669</th>\n",
       "      <td>3057.31</td>\n",
       "      <td>2481.53</td>\n",
       "      <td>2214.9333</td>\n",
       "      <td>1663.7024</td>\n",
       "      <td>1.0203</td>\n",
       "      <td>100.0</td>\n",
       "      <td>100.4456</td>\n",
       "      <td>0.1247</td>\n",
       "      <td>1.4830</td>\n",
       "      <td>-0.0328</td>\n",
       "      <td>...</td>\n",
       "      <td>NaN</td>\n",
       "      <td>NaN</td>\n",
       "      <td>0.5037</td>\n",
       "      <td>0.0175</td>\n",
       "      <td>0.0039</td>\n",
       "      <td>3.4736</td>\n",
       "      <td>0.0263</td>\n",
       "      <td>0.0117</td>\n",
       "      <td>0.0033</td>\n",
       "      <td>44.3686</td>\n",
       "    </tr>\n",
       "    <tr>\n",
       "      <th>821</th>\n",
       "      <td>3009.71</td>\n",
       "      <td>2565.53</td>\n",
       "      <td>2224.6778</td>\n",
       "      <td>1308.6479</td>\n",
       "      <td>1.3907</td>\n",
       "      <td>100.0</td>\n",
       "      <td>101.1333</td>\n",
       "      <td>0.1208</td>\n",
       "      <td>1.4440</td>\n",
       "      <td>-0.0079</td>\n",
       "      <td>...</td>\n",
       "      <td>NaN</td>\n",
       "      <td>NaN</td>\n",
       "      <td>0.4979</td>\n",
       "      <td>0.0078</td>\n",
       "      <td>0.0024</td>\n",
       "      <td>1.5724</td>\n",
       "      <td>0.0275</td>\n",
       "      <td>0.0215</td>\n",
       "      <td>0.0076</td>\n",
       "      <td>78.1199</td>\n",
       "    </tr>\n",
       "    <tr>\n",
       "      <th>213</th>\n",
       "      <td>3034.34</td>\n",
       "      <td>2631.47</td>\n",
       "      <td>2179.0445</td>\n",
       "      <td>2028.2208</td>\n",
       "      <td>1.5552</td>\n",
       "      <td>100.0</td>\n",
       "      <td>95.4256</td>\n",
       "      <td>0.1234</td>\n",
       "      <td>1.4281</td>\n",
       "      <td>0.0049</td>\n",
       "      <td>...</td>\n",
       "      <td>NaN</td>\n",
       "      <td>NaN</td>\n",
       "      <td>0.4968</td>\n",
       "      <td>0.0128</td>\n",
       "      <td>0.0035</td>\n",
       "      <td>2.5829</td>\n",
       "      <td>0.0298</td>\n",
       "      <td>0.0116</td>\n",
       "      <td>0.0039</td>\n",
       "      <td>38.9781</td>\n",
       "    </tr>\n",
       "    <tr>\n",
       "      <th>1556</th>\n",
       "      <td>3025.21</td>\n",
       "      <td>2503.30</td>\n",
       "      <td>2179.7333</td>\n",
       "      <td>3085.3781</td>\n",
       "      <td>1.4843</td>\n",
       "      <td>100.0</td>\n",
       "      <td>82.2467</td>\n",
       "      <td>0.1248</td>\n",
       "      <td>1.3687</td>\n",
       "      <td>-0.0070</td>\n",
       "      <td>...</td>\n",
       "      <td>0.0016</td>\n",
       "      <td>46.1076</td>\n",
       "      <td>0.5019</td>\n",
       "      <td>0.0158</td>\n",
       "      <td>0.0043</td>\n",
       "      <td>3.1428</td>\n",
       "      <td>0.0120</td>\n",
       "      <td>0.0055</td>\n",
       "      <td>0.0016</td>\n",
       "      <td>46.1076</td>\n",
       "    </tr>\n",
       "    <tr>\n",
       "      <th>181</th>\n",
       "      <td>2997.07</td>\n",
       "      <td>2543.11</td>\n",
       "      <td>2256.1222</td>\n",
       "      <td>1226.2217</td>\n",
       "      <td>1.4656</td>\n",
       "      <td>100.0</td>\n",
       "      <td>106.3122</td>\n",
       "      <td>0.1209</td>\n",
       "      <td>1.4779</td>\n",
       "      <td>0.0052</td>\n",
       "      <td>...</td>\n",
       "      <td>NaN</td>\n",
       "      <td>NaN</td>\n",
       "      <td>0.5014</td>\n",
       "      <td>0.0116</td>\n",
       "      <td>0.0031</td>\n",
       "      <td>2.3055</td>\n",
       "      <td>-0.0012</td>\n",
       "      <td>0.0220</td>\n",
       "      <td>0.0072</td>\n",
       "      <td>0.0000</td>\n",
       "    </tr>\n",
       "  </tbody>\n",
       "</table>\n",
       "<p>1253 rows × 590 columns</p>\n",
       "</div>"
      ],
      "text/plain": [
       "      feature_1  feature_2  feature_3  feature_4  feature_5  feature_6  \\\n",
       "443     3079.77    2354.51  2207.0444  1269.6078     1.7571      100.0   \n",
       "760     3001.36    2491.23  2155.3111   918.2161     1.2753      100.0   \n",
       "479     3042.78    2377.89  2173.4556  1433.6732     1.0304      100.0   \n",
       "362     3018.64    2401.80  2224.0000  1510.0797     1.5611      100.0   \n",
       "662     3020.29    2433.99  2217.8111  1744.7771     0.9618      100.0   \n",
       "...         ...        ...        ...        ...        ...        ...   \n",
       "669     3057.31    2481.53  2214.9333  1663.7024     1.0203      100.0   \n",
       "821     3009.71    2565.53  2224.6778  1308.6479     1.3907      100.0   \n",
       "213     3034.34    2631.47  2179.0445  2028.2208     1.5552      100.0   \n",
       "1556    3025.21    2503.30  2179.7333  3085.3781     1.4843      100.0   \n",
       "181     2997.07    2543.11  2256.1222  1226.2217     1.4656      100.0   \n",
       "\n",
       "      feature_7  feature_8  feature_9  feature_10  ...  feature_581  \\\n",
       "443     97.0189     0.1221     1.4607      0.0155  ...       0.0059   \n",
       "760    105.0478     0.1227     1.4206     -0.0052  ...          NaN   \n",
       "479    110.5422     0.1245     1.4964      0.0204  ...          NaN   \n",
       "362     99.8300     0.1199     1.4428     -0.0110  ...       0.0038   \n",
       "662    100.1789     0.1218     1.4950     -0.0097  ...          NaN   \n",
       "...         ...        ...        ...         ...  ...          ...   \n",
       "669    100.4456     0.1247     1.4830     -0.0328  ...          NaN   \n",
       "821    101.1333     0.1208     1.4440     -0.0079  ...          NaN   \n",
       "213     95.4256     0.1234     1.4281      0.0049  ...          NaN   \n",
       "1556    82.2467     0.1248     1.3687     -0.0070  ...       0.0016   \n",
       "181    106.3122     0.1209     1.4779      0.0052  ...          NaN   \n",
       "\n",
       "      feature_582  feature_583  feature_584  feature_585  feature_586  \\\n",
       "443       68.7444       0.5001       0.0110       0.0034       2.1899   \n",
       "760           NaN       0.4943       0.0199       0.0042       4.0318   \n",
       "479           NaN       0.4962       0.0114       0.0034       2.2877   \n",
       "362       49.7490       0.5047       0.0101       0.0031       1.9927   \n",
       "662           NaN       0.5010       0.0147       0.0036       2.9338   \n",
       "...           ...          ...          ...          ...          ...   \n",
       "669           NaN       0.5037       0.0175       0.0039       3.4736   \n",
       "821           NaN       0.4979       0.0078       0.0024       1.5724   \n",
       "213           NaN       0.4968       0.0128       0.0035       2.5829   \n",
       "1556      46.1076       0.5019       0.0158       0.0043       3.1428   \n",
       "181           NaN       0.5014       0.0116       0.0031       2.3055   \n",
       "\n",
       "      feature_587  feature_588  feature_589  feature_590  \n",
       "443        0.0282       0.0194       0.0059      68.7444  \n",
       "760        0.0169       0.0276       0.0081     163.9998  \n",
       "479        0.0208       0.0287       0.0091     138.2861  \n",
       "362        0.0284       0.0141       0.0038      49.7490  \n",
       "662        0.0165       0.0114       0.0043      68.9871  \n",
       "...           ...          ...          ...          ...  \n",
       "669        0.0263       0.0117       0.0033      44.3686  \n",
       "821        0.0275       0.0215       0.0076      78.1199  \n",
       "213        0.0298       0.0116       0.0039      38.9781  \n",
       "1556       0.0120       0.0055       0.0016      46.1076  \n",
       "181       -0.0012       0.0220       0.0072       0.0000  \n",
       "\n",
       "[1253 rows x 590 columns]"
      ]
     },
     "execution_count": 195,
     "metadata": {},
     "output_type": "execute_result"
    }
   ],
   "source": [
    "x_train"
   ]
  },
  {
   "cell_type": "code",
   "execution_count": 196,
   "metadata": {},
   "outputs": [
    {
     "data": {
      "text/plain": [
       "(1253, 590)"
      ]
     },
     "execution_count": 196,
     "metadata": {},
     "output_type": "execute_result"
    }
   ],
   "source": [
    "#Rows and Columns of X_Train DF\n",
    "x_train.shape"
   ]
  },
  {
   "cell_type": "markdown",
   "metadata": {},
   "source": [
    "# Reducing Dimensionality"
   ]
  },
  {
   "cell_type": "markdown",
   "metadata": {},
   "source": [
    "## Remove Duplicated Columns"
   ]
  },
  {
   "cell_type": "code",
   "execution_count": 197,
   "metadata": {},
   "outputs": [],
   "source": [
    "#find the duplicated features (columns)\n",
    "def remove_duplicated_columns(df):\n",
    "    dict_duplicate_pair = {}\n",
    "    dict_duplicate_matches = {}\n",
    "    list_duplicate = []\n",
    "    to_remove = []\n",
    "    for i in range(0, len(df.columns)):\n",
    "        l = []\n",
    "        for j in range(i+1,len(df.columns)):\n",
    "            dict_duplicate_pair[str(i+1)+';'+str(j+1)] = df.iloc[:,i].equals(df.iloc[:,j])\n",
    "            if df.iloc[:,i].equals(df.iloc[:,j]) == True:\n",
    "                if j not in list_duplicate:\n",
    "                    l.append(j)\n",
    "                    to_remove.append('feature_'+str(j+1))\n",
    "                list_duplicate.append(i)\n",
    "                list_duplicate.append(j)\n",
    "        if len(l)!=0:\n",
    "            dict_duplicate_matches[i] = l\n",
    "\n",
    "\n",
    "    df_duplicate_pair = pd.DataFrame.from_dict(dict_duplicate_pair, orient='index')\n",
    "    df_duplicate_pair.columns=['duplicate']\n",
    "\n",
    "    df_duplicate_matches = pd.DataFrame.from_dict(dict_duplicate_matches, orient='index')\n",
    "\n",
    "    \n",
    "    df = df.drop(columns=to_remove, axis = 1)\n",
    "\n",
    "    return df"
   ]
  },
  {
   "cell_type": "code",
   "execution_count": 198,
   "metadata": {},
   "outputs": [
    {
     "data": {
      "text/plain": [
       "(1253, 486)"
      ]
     },
     "execution_count": 198,
     "metadata": {},
     "output_type": "execute_result"
    }
   ],
   "source": [
    "x_train = remove_duplicated_columns(x_train)\n",
    "x_train.shape"
   ]
  },
  {
   "cell_type": "markdown",
   "metadata": {},
   "source": [
    "## Remove Features with high % of Missing Values"
   ]
  },
  {
   "cell_type": "code",
   "execution_count": 199,
   "metadata": {},
   "outputs": [
    {
     "data": {
      "text/plain": [
       "(1253, 478)"
      ]
     },
     "execution_count": 199,
     "metadata": {},
     "output_type": "execute_result"
    }
   ],
   "source": [
    "def remove_cols_with_high_pct_null(df, null_threshold):\n",
    "    list_column_with_pct_null = pd.concat([df.isnull().sum(), df.isnull().sum()/df.shape[0]],axis=1).rename(columns={0:'Missing_Records', 1:'Percentage (%)'})\n",
    "    list_column_with_pct_null= list_column_with_pct_null[list_column_with_pct_null[\"Percentage (%)\"] >= null_threshold]\n",
    "    df = df.drop(axis=1, columns=list_column_with_pct_null.index)\n",
    "    return df\n",
    "\n",
    "x_train = remove_cols_with_high_pct_null(x_train, 0.8)\n",
    "x_train.shape"
   ]
  },
  {
   "cell_type": "markdown",
   "metadata": {},
   "source": [
    "## Removing Features with Constant Volatility "
   ]
  },
  {
   "cell_type": "code",
   "execution_count": 209,
   "metadata": {},
   "outputs": [
    {
     "data": {
      "text/plain": [
       "(1253, 466)"
      ]
     },
     "execution_count": 209,
     "metadata": {},
     "output_type": "execute_result"
    }
   ],
   "source": [
    "def remove_constant_volatility(df):\n",
    "    df_EDA= df.describe().T\n",
    "    df_EDA= df_EDA[df_EDA[\"std\"] == 0]\n",
    "    df = df.drop(axis=1, columns=df_EDA.index)\n",
    "    return df\n",
    "\n",
    "x_train = remove_constant_volatility(x_train)\n",
    "x_train.shape"
   ]
  },
  {
   "cell_type": "markdown",
   "metadata": {},
   "source": [
    "# Outlier Treatment"
   ]
  },
  {
   "cell_type": "markdown",
   "metadata": {},
   "source": [
    "## Detect Outliers"
   ]
  },
  {
   "cell_type": "code",
   "execution_count": 388,
   "metadata": {},
   "outputs": [],
   "source": [
    "dict_outliers = {}\n",
    "for col in x_train.columns:\n",
    "    ll_col = x_train[col].mean() - 3 * x_train[col].std()\n",
    "    ul_col = x_train[col].mean() + 3 * x_train[col].std()\n",
    "    dict_outliers[col] = ((x_train[col] < ll_col) | (x_train[col] > ul_col)).sum()\n"
   ]
  },
  {
   "cell_type": "code",
   "execution_count": 389,
   "metadata": {},
   "outputs": [],
   "source": [
    "dict_outliers_perc = {}\n",
    "for col in x_train.columns:\n",
    "    ll_col = x_train[col].mean() - 3 * x_train[col].std()\n",
    "    ul_col = x_train[col].mean() + 3 * x_train[col].std()\n",
    "    dict_outliers_perc[col] = ((x_train[col] < ll_col) | (x_train[col] > ul_col)).sum()/len(x_train)"
   ]
  },
  {
   "cell_type": "code",
   "execution_count": 390,
   "metadata": {},
   "outputs": [
    {
     "data": {
      "text/html": [
       "<div>\n",
       "<style scoped>\n",
       "    .dataframe tbody tr th:only-of-type {\n",
       "        vertical-align: middle;\n",
       "    }\n",
       "\n",
       "    .dataframe tbody tr th {\n",
       "        vertical-align: top;\n",
       "    }\n",
       "\n",
       "    .dataframe thead th {\n",
       "        text-align: right;\n",
       "    }\n",
       "</style>\n",
       "<table border=\"1\" class=\"dataframe\">\n",
       "  <thead>\n",
       "    <tr style=\"text-align: right;\">\n",
       "      <th></th>\n",
       "      <th>Number of Outliers</th>\n",
       "      <th>% Outliers per Column</th>\n",
       "    </tr>\n",
       "  </thead>\n",
       "  <tbody>\n",
       "    <tr>\n",
       "      <th>feature_1</th>\n",
       "      <td>13</td>\n",
       "      <td>0.010375</td>\n",
       "    </tr>\n",
       "    <tr>\n",
       "      <th>feature_2</th>\n",
       "      <td>19</td>\n",
       "      <td>0.015164</td>\n",
       "    </tr>\n",
       "    <tr>\n",
       "      <th>feature_3</th>\n",
       "      <td>11</td>\n",
       "      <td>0.008779</td>\n",
       "    </tr>\n",
       "    <tr>\n",
       "      <th>feature_4</th>\n",
       "      <td>23</td>\n",
       "      <td>0.018356</td>\n",
       "    </tr>\n",
       "    <tr>\n",
       "      <th>feature_5</th>\n",
       "      <td>3</td>\n",
       "      <td>0.002394</td>\n",
       "    </tr>\n",
       "    <tr>\n",
       "      <th>...</th>\n",
       "      <td>...</td>\n",
       "      <td>...</td>\n",
       "    </tr>\n",
       "    <tr>\n",
       "      <th>feature_586</th>\n",
       "      <td>2</td>\n",
       "      <td>0.001596</td>\n",
       "    </tr>\n",
       "    <tr>\n",
       "      <th>feature_587</th>\n",
       "      <td>9</td>\n",
       "      <td>0.007183</td>\n",
       "    </tr>\n",
       "    <tr>\n",
       "      <th>feature_588</th>\n",
       "      <td>17</td>\n",
       "      <td>0.013567</td>\n",
       "    </tr>\n",
       "    <tr>\n",
       "      <th>feature_589</th>\n",
       "      <td>18</td>\n",
       "      <td>0.014366</td>\n",
       "    </tr>\n",
       "    <tr>\n",
       "      <th>feature_590</th>\n",
       "      <td>32</td>\n",
       "      <td>0.025539</td>\n",
       "    </tr>\n",
       "  </tbody>\n",
       "</table>\n",
       "<p>466 rows × 2 columns</p>\n",
       "</div>"
      ],
      "text/plain": [
       "             Number of Outliers  % Outliers per Column\n",
       "feature_1                    13               0.010375\n",
       "feature_2                    19               0.015164\n",
       "feature_3                    11               0.008779\n",
       "feature_4                    23               0.018356\n",
       "feature_5                     3               0.002394\n",
       "...                         ...                    ...\n",
       "feature_586                   2               0.001596\n",
       "feature_587                   9               0.007183\n",
       "feature_588                  17               0.013567\n",
       "feature_589                  18               0.014366\n",
       "feature_590                  32               0.025539\n",
       "\n",
       "[466 rows x 2 columns]"
      ]
     },
     "execution_count": 390,
     "metadata": {},
     "output_type": "execute_result"
    }
   ],
   "source": [
    "df_outliers = pd.DataFrame.from_dict(dict_outliers, orient='index').rename(columns={0:'Number of Outliers'})\n",
    "df_outliers_perc = pd.DataFrame.from_dict(dict_outliers_perc, orient='index').rename(columns={0:'% Outliers per Column'})\n",
    "df_outlier3s = pd.concat([df_outliers,df_outliers_perc], axis =1 )\n",
    "df_outlier3s"
   ]
  },
  {
   "cell_type": "code",
   "execution_count": null,
   "metadata": {},
   "outputs": [],
   "source": [
    "df_outlier3s['% Outliers per Column'] = df_outlier3s['% Outliers per Column'].astype('float')"
   ]
  },
  {
   "cell_type": "code",
   "execution_count": 391,
   "metadata": {},
   "outputs": [
    {
     "data": {
      "text/html": [
       "<div>\n",
       "<style scoped>\n",
       "    .dataframe tbody tr th:only-of-type {\n",
       "        vertical-align: middle;\n",
       "    }\n",
       "\n",
       "    .dataframe tbody tr th {\n",
       "        vertical-align: top;\n",
       "    }\n",
       "\n",
       "    .dataframe thead th {\n",
       "        text-align: right;\n",
       "    }\n",
       "</style>\n",
       "<table border=\"1\" class=\"dataframe\">\n",
       "  <thead>\n",
       "    <tr style=\"text-align: right;\">\n",
       "      <th></th>\n",
       "      <th>Number of Outliers</th>\n",
       "      <th>% Outliers per Column</th>\n",
       "    </tr>\n",
       "  </thead>\n",
       "  <tbody>\n",
       "    <tr>\n",
       "      <th>feature_39</th>\n",
       "      <td>60</td>\n",
       "      <td>0.047885</td>\n",
       "    </tr>\n",
       "    <tr>\n",
       "      <th>feature_577</th>\n",
       "      <td>57</td>\n",
       "      <td>0.045491</td>\n",
       "    </tr>\n",
       "    <tr>\n",
       "      <th>feature_575</th>\n",
       "      <td>55</td>\n",
       "      <td>0.043895</td>\n",
       "    </tr>\n",
       "    <tr>\n",
       "      <th>feature_578</th>\n",
       "      <td>50</td>\n",
       "      <td>0.039904</td>\n",
       "    </tr>\n",
       "    <tr>\n",
       "      <th>feature_573</th>\n",
       "      <td>50</td>\n",
       "      <td>0.039904</td>\n",
       "    </tr>\n",
       "    <tr>\n",
       "      <th>...</th>\n",
       "      <td>...</td>\n",
       "      <td>...</td>\n",
       "    </tr>\n",
       "    <tr>\n",
       "      <th>feature_501</th>\n",
       "      <td>0</td>\n",
       "      <td>0.000000</td>\n",
       "    </tr>\n",
       "    <tr>\n",
       "      <th>feature_512</th>\n",
       "      <td>0</td>\n",
       "      <td>0.000000</td>\n",
       "    </tr>\n",
       "    <tr>\n",
       "      <th>feature_540</th>\n",
       "      <td>0</td>\n",
       "      <td>0.000000</td>\n",
       "    </tr>\n",
       "    <tr>\n",
       "      <th>feature_541</th>\n",
       "      <td>0</td>\n",
       "      <td>0.000000</td>\n",
       "    </tr>\n",
       "    <tr>\n",
       "      <th>feature_268</th>\n",
       "      <td>0</td>\n",
       "      <td>0.000000</td>\n",
       "    </tr>\n",
       "  </tbody>\n",
       "</table>\n",
       "<p>466 rows × 2 columns</p>\n",
       "</div>"
      ],
      "text/plain": [
       "             Number of Outliers  % Outliers per Column\n",
       "feature_39                   60               0.047885\n",
       "feature_577                  57               0.045491\n",
       "feature_575                  55               0.043895\n",
       "feature_578                  50               0.039904\n",
       "feature_573                  50               0.039904\n",
       "...                         ...                    ...\n",
       "feature_501                   0               0.000000\n",
       "feature_512                   0               0.000000\n",
       "feature_540                   0               0.000000\n",
       "feature_541                   0               0.000000\n",
       "feature_268                   0               0.000000\n",
       "\n",
       "[466 rows x 2 columns]"
      ]
     },
     "execution_count": 391,
     "metadata": {},
     "output_type": "execute_result"
    }
   ],
   "source": [
    "df_outlier3s.sort_values('Number of Outliers', ascending=False)"
   ]
  },
  {
   "cell_type": "code",
   "execution_count": 442,
   "metadata": {},
   "outputs": [
    {
     "data": {
      "image/png": "[encoded data removed]",
      "text/plain": [
       "<Figure size 432x288 with 1 Axes>"
      ]
     },
     "metadata": {},
     "output_type": "display_data"
    }
   ],
   "source": [
    "sns.boxplot(x=x_train.feature_39)\n",
    "plt.show()"
   ]
  },
  {
   "cell_type": "code",
   "execution_count": 425,
   "metadata": {},
   "outputs": [
    {
     "data": {
      "text/plain": [
       "434"
      ]
     },
     "execution_count": 425,
     "metadata": {},
     "output_type": "execute_result"
    }
   ],
   "source": [
    "#Number of Features without Outliers\n",
    "len(df_outlier3s.loc[(df_outlier3s['Number of Outliers'] > 0)])"
   ]
  },
  {
   "cell_type": "code",
   "execution_count": 393,
   "metadata": {},
   "outputs": [
    {
     "data": {
      "text/plain": [
       "434"
      ]
     },
     "execution_count": 393,
     "metadata": {},
     "output_type": "execute_result"
    }
   ],
   "source": [
    "#Number of Features with Outliers\n",
    "len(df_outlier3s.loc[(df_outlier3s['Number of Outliers'] > 0)])"
   ]
  },
  {
   "cell_type": "code",
   "execution_count": 399,
   "metadata": {},
   "outputs": [
    {
     "data": {
      "image/png": "[encoded data removed]",
      "text/plain": [
       "<Figure size 432x288 with 1 Axes>"
      ]
     },
     "metadata": {},
     "output_type": "display_data"
    }
   ],
   "source": [
    "#Histogram\n",
    "bins = [0,0.01, 0.02, 0.03, 0.04, 0.05]\n",
    "plt.hist(df_outlier3s['% Outliers per Column'], bins=bins, edgecolor=\"k\")\n",
    "plt.xticks(bins)\n",
    "plt.show()"
   ]
  },
  {
   "cell_type": "code",
   "execution_count": 400,
   "metadata": {},
   "outputs": [
    {
     "data": {
      "text/html": [
       "<div>\n",
       "<style scoped>\n",
       "    .dataframe tbody tr th:only-of-type {\n",
       "        vertical-align: middle;\n",
       "    }\n",
       "\n",
       "    .dataframe tbody tr th {\n",
       "        vertical-align: top;\n",
       "    }\n",
       "\n",
       "    .dataframe thead th {\n",
       "        text-align: right;\n",
       "    }\n",
       "</style>\n",
       "<table border=\"1\" class=\"dataframe\">\n",
       "  <thead>\n",
       "    <tr style=\"text-align: right;\">\n",
       "      <th></th>\n",
       "      <th>Number of Outliers</th>\n",
       "      <th>% Outliers per Column</th>\n",
       "    </tr>\n",
       "  </thead>\n",
       "  <tbody>\n",
       "    <tr>\n",
       "      <th>feature_1</th>\n",
       "      <td>13</td>\n",
       "      <td>0.010375</td>\n",
       "    </tr>\n",
       "    <tr>\n",
       "      <th>feature_2</th>\n",
       "      <td>19</td>\n",
       "      <td>0.015164</td>\n",
       "    </tr>\n",
       "    <tr>\n",
       "      <th>feature_3</th>\n",
       "      <td>11</td>\n",
       "      <td>0.008779</td>\n",
       "    </tr>\n",
       "    <tr>\n",
       "      <th>feature_4</th>\n",
       "      <td>23</td>\n",
       "      <td>0.018356</td>\n",
       "    </tr>\n",
       "    <tr>\n",
       "      <th>feature_5</th>\n",
       "      <td>3</td>\n",
       "      <td>0.002394</td>\n",
       "    </tr>\n",
       "    <tr>\n",
       "      <th>...</th>\n",
       "      <td>...</td>\n",
       "      <td>...</td>\n",
       "    </tr>\n",
       "    <tr>\n",
       "      <th>feature_586</th>\n",
       "      <td>2</td>\n",
       "      <td>0.001596</td>\n",
       "    </tr>\n",
       "    <tr>\n",
       "      <th>feature_587</th>\n",
       "      <td>9</td>\n",
       "      <td>0.007183</td>\n",
       "    </tr>\n",
       "    <tr>\n",
       "      <th>feature_588</th>\n",
       "      <td>17</td>\n",
       "      <td>0.013567</td>\n",
       "    </tr>\n",
       "    <tr>\n",
       "      <th>feature_589</th>\n",
       "      <td>18</td>\n",
       "      <td>0.014366</td>\n",
       "    </tr>\n",
       "    <tr>\n",
       "      <th>feature_590</th>\n",
       "      <td>32</td>\n",
       "      <td>0.025539</td>\n",
       "    </tr>\n",
       "  </tbody>\n",
       "</table>\n",
       "<p>434 rows × 2 columns</p>\n",
       "</div>"
      ],
      "text/plain": [
       "             Number of Outliers  % Outliers per Column\n",
       "feature_1                    13               0.010375\n",
       "feature_2                    19               0.015164\n",
       "feature_3                    11               0.008779\n",
       "feature_4                    23               0.018356\n",
       "feature_5                     3               0.002394\n",
       "...                         ...                    ...\n",
       "feature_586                   2               0.001596\n",
       "feature_587                   9               0.007183\n",
       "feature_588                  17               0.013567\n",
       "feature_589                  18               0.014366\n",
       "feature_590                  32               0.025539\n",
       "\n",
       "[434 rows x 2 columns]"
      ]
     },
     "execution_count": 400,
     "metadata": {},
     "output_type": "execute_result"
    }
   ],
   "source": [
    "#Preparation of Bar Chart without Features with no Outliers: We first create a new dataframe including features with outliers only\n",
    "df_bar_outlier = df_outlier3s.loc[(df_outlier3s['Number of Outliers'] > 0)]\n",
    "df_bar_outlier"
   ]
  },
  {
   "cell_type": "code",
   "execution_count": 437,
   "metadata": {},
   "outputs": [
    {
     "name": "stderr",
     "output_type": "stream",
     "text": [
      "/var/folders/bs/ht_t1wp94tl3wt5xhchcxq2m0000gn/T/ipykernel_76101/678418214.py:3: SettingWithCopyWarning: \n",
      "A value is trying to be set on a copy of a slice from a DataFrame.\n",
      "Try using .loc[row_indexer,col_indexer] = value instead\n",
      "\n",
      "See the caveats in the documentation: https://pandas.pydata.org/pandas-docs/stable/user_guide/indexing.html#returning-a-view-versus-a-copy\n",
      "  df_bar_outlier['Outlier Category'] = pd.cut(df_bar_outlier['% Outliers per Column'], bins, labels=labels)\n"
     ]
    },
    {
     "data": {
      "text/html": [
       "<div>\n",
       "<style scoped>\n",
       "    .dataframe tbody tr th:only-of-type {\n",
       "        vertical-align: middle;\n",
       "    }\n",
       "\n",
       "    .dataframe tbody tr th {\n",
       "        vertical-align: top;\n",
       "    }\n",
       "\n",
       "    .dataframe thead th {\n",
       "        text-align: right;\n",
       "    }\n",
       "</style>\n",
       "<table border=\"1\" class=\"dataframe\">\n",
       "  <thead>\n",
       "    <tr style=\"text-align: right;\">\n",
       "      <th></th>\n",
       "      <th>Number of Outliers</th>\n",
       "      <th>% Outliers per Column</th>\n",
       "      <th>Outlier Category</th>\n",
       "    </tr>\n",
       "  </thead>\n",
       "  <tbody>\n",
       "    <tr>\n",
       "      <th>feature_1</th>\n",
       "      <td>13</td>\n",
       "      <td>0.010375</td>\n",
       "      <td>1 to 2%</td>\n",
       "    </tr>\n",
       "    <tr>\n",
       "      <th>feature_2</th>\n",
       "      <td>19</td>\n",
       "      <td>0.015164</td>\n",
       "      <td>1 to 2%</td>\n",
       "    </tr>\n",
       "    <tr>\n",
       "      <th>feature_3</th>\n",
       "      <td>11</td>\n",
       "      <td>0.008779</td>\n",
       "      <td>upto 1%</td>\n",
       "    </tr>\n",
       "    <tr>\n",
       "      <th>feature_4</th>\n",
       "      <td>23</td>\n",
       "      <td>0.018356</td>\n",
       "      <td>1 to 2%</td>\n",
       "    </tr>\n",
       "    <tr>\n",
       "      <th>feature_5</th>\n",
       "      <td>3</td>\n",
       "      <td>0.002394</td>\n",
       "      <td>upto 1%</td>\n",
       "    </tr>\n",
       "    <tr>\n",
       "      <th>...</th>\n",
       "      <td>...</td>\n",
       "      <td>...</td>\n",
       "      <td>...</td>\n",
       "    </tr>\n",
       "    <tr>\n",
       "      <th>feature_586</th>\n",
       "      <td>2</td>\n",
       "      <td>0.001596</td>\n",
       "      <td>upto 1%</td>\n",
       "    </tr>\n",
       "    <tr>\n",
       "      <th>feature_587</th>\n",
       "      <td>9</td>\n",
       "      <td>0.007183</td>\n",
       "      <td>upto 1%</td>\n",
       "    </tr>\n",
       "    <tr>\n",
       "      <th>feature_588</th>\n",
       "      <td>17</td>\n",
       "      <td>0.013567</td>\n",
       "      <td>1 to 2%</td>\n",
       "    </tr>\n",
       "    <tr>\n",
       "      <th>feature_589</th>\n",
       "      <td>18</td>\n",
       "      <td>0.014366</td>\n",
       "      <td>1 to 2%</td>\n",
       "    </tr>\n",
       "    <tr>\n",
       "      <th>feature_590</th>\n",
       "      <td>32</td>\n",
       "      <td>0.025539</td>\n",
       "      <td>2 to 3%</td>\n",
       "    </tr>\n",
       "  </tbody>\n",
       "</table>\n",
       "<p>434 rows × 3 columns</p>\n",
       "</div>"
      ],
      "text/plain": [
       "             Number of Outliers  % Outliers per Column Outlier Category\n",
       "feature_1                    13               0.010375          1 to 2%\n",
       "feature_2                    19               0.015164          1 to 2%\n",
       "feature_3                    11               0.008779          upto 1%\n",
       "feature_4                    23               0.018356          1 to 2%\n",
       "feature_5                     3               0.002394          upto 1%\n",
       "...                         ...                    ...              ...\n",
       "feature_586                   2               0.001596          upto 1%\n",
       "feature_587                   9               0.007183          upto 1%\n",
       "feature_588                  17               0.013567          1 to 2%\n",
       "feature_589                  18               0.014366          1 to 2%\n",
       "feature_590                  32               0.025539          2 to 3%\n",
       "\n",
       "[434 rows x 3 columns]"
      ]
     },
     "execution_count": 437,
     "metadata": {},
     "output_type": "execute_result"
    }
   ],
   "source": [
    "#New Column as Bin categories is created within the new Dataframe \n",
    "bins = [0.0001, 0.01, 0.02, 0.03, 0.04, 0.05]\n",
    "labels = [ 'upto 1%', '1 to 2%', '2 to 3%', '3 to 4%', '4 to 5%']\n",
    "df_bar_outlier['Outlier Category'] = pd.cut(df_bar_outlier['% Outliers per Column'], bins, labels=labels)\n",
    "df_bar_outlier"
   ]
  },
  {
   "cell_type": "code",
   "execution_count": 441,
   "metadata": {},
   "outputs": [
    {
     "data": {
      "text/plain": [
       "<AxesSubplot:title={'center':'Frequency of Features with certain Percentage of Outliers'}>"
      ]
     },
     "execution_count": 441,
     "metadata": {},
     "output_type": "execute_result"
    },
    {
     "data": {
      "image/png": "[encoded data removed]",
      "text/plain": [
       "<Figure size 432x288 with 1 Axes>"
      ]
     },
     "metadata": {},
     "output_type": "display_data"
    }
   ],
   "source": [
    "#Simple Bar Chart \n",
    "df_bar_outlier['Outlier Category'].value_counts(ascending=True).plot(kind='barh', title='Frequency of Features with certain Percentage of Outliers', grid=False)\n"
   ]
  },
  {
   "cell_type": "code",
   "execution_count": 439,
   "metadata": {},
   "outputs": [
    {
     "data": {
      "text/plain": [
       "upto 1%    284\n",
       "1 to 2%     92\n",
       "2 to 3%     47\n",
       "3 to 4%      8\n",
       "4 to 5%      3\n",
       "Name: Outlier Category, dtype: int64"
      ]
     },
     "execution_count": 439,
     "metadata": {},
     "output_type": "execute_result"
    }
   ],
   "source": [
    "#Frequency Counts \n",
    "df_bar_outlier['Outlier Category'].value_counts(ascending=False)"
   ]
  }
 ],
 "metadata": {
  "kernelspec": {
   "display_name": "Python 3.9.12 ('dscience')",
   "language": "python",
   "name": "python3"
  },
  "language_info": {
   "codemirror_mode": {
    "name": "ipython",
    "version": 3
   },
   "file_extension": ".py",
   "mimetype": "text/x-python",
   "name": "python",
   "nbconvert_exporter": "python",
   "pygments_lexer": "ipython3",
   "version": "3.9.12"
  },
  "orig_nbformat": 4,
  "vscode": {
   "interpreter": {
    "hash": "3078b67b691a5c266f6971fd9f463b4eac2178879712276f7d11f0f0eb816c78"
   }
  }
 },
 "nbformat": 4,
 "nbformat_minor": 2
}
