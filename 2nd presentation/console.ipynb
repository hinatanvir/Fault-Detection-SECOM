{
 "cells": [
  {
   "cell_type": "code",
   "execution_count": 34,
   "metadata": {},
   "outputs": [],
   "source": [
    "#importing libraries\n",
    "import pandas as pd\n",
    "import numpy as np\n",
    "import matplotlib.pyplot as plt\n",
    "import seaborn as sns\n",
    "from sklearn.model_selection import train_test_split\n",
    "from sklearn.preprocessing import MinMaxScaler\n",
    "from sklearn.impute import KNNImputer\n",
    "from sklearn.experimental import enable_iterative_imputer\n",
    "from sklearn.impute import IterativeImputer\n",
    "from sklearn.ensemble import RandomForestClassifier\n",
    "\n",
    "from boruta import BorutaPy\n",
    "from BorutaShap import BorutaShap\n",
    "from sklearn.feature_selection import RFE\n",
    "\n",
    "from imblearn.over_sampling import SMOTE, ADASYN, RandomOverSampler\n",
    "from imblearn.under_sampling import RandomUnderSampler\n",
    "from imblearn.combine import SMOTEENN\n",
    "\n",
    "from collections import Counter\n",
    "from sklearn.metrics import accuracy_score, confusion_matrix, ConfusionMatrixDisplay\n",
    "from sklearn.svm import SVC"
   ]
  },
  {
   "cell_type": "code",
   "execution_count": 62,
   "metadata": {},
   "outputs": [],
   "source": [
    "from sklearn.experimental import enable_iterative_imputer\n",
    "from sklearn.impute import IterativeImputer"
   ]
  },
  {
   "cell_type": "markdown",
   "metadata": {},
   "source": [
    "# Read df"
   ]
  },
  {
   "cell_type": "code",
   "execution_count": 56,
   "metadata": {},
   "outputs": [],
   "source": [
    "#this function is to read, transform and join 2 data frame\n",
    "\n",
    "def read_features():\n",
    "    path = 'input/secom.data'\n",
    "    df = pd.read_csv(path, delimiter=' ', header=None, na_values=['NaN'])\n",
    "    df.columns = ['feature_'+str(x+1) for x in range(len(df.columns))]\n",
    "    return df\n",
    "\n",
    "\n",
    "\n",
    "def read_target():\n",
    "    path = 'input/secom_labels.data'\n",
    "    df = pd.read_csv(path, delimiter=' ', header=None, na_values=['NaN'])\n",
    "    df.columns = ['status','timestamp']\n",
    "    df['timestamp'] = pd.to_datetime(df['timestamp'],dayfirst=True)\n",
    "    return df\n",
    "\n",
    "#for the testing purporse, trim to remain first 100 rows only\n",
    "X = read_features()\n",
    "y = read_target().iloc[:,0]"
   ]
  },
  {
   "cell_type": "markdown",
   "metadata": {},
   "source": [
    "# Remove duplicated columns"
   ]
  },
  {
   "cell_type": "code",
   "execution_count": 37,
   "metadata": {},
   "outputs": [],
   "source": [
    "#find the duplicated features (columns)\n",
    "def remove_duplicated_columns(df):\n",
    "    dict_duplicate_pair = {}\n",
    "    dict_duplicate_matches = {}\n",
    "    list_duplicate = []\n",
    "    to_remove = []\n",
    "    for i in range(0, len(df.columns)):\n",
    "        l = []\n",
    "        for j in range(i+1,len(df.columns)):\n",
    "            dict_duplicate_pair[str(i+1)+';'+str(j+1)] = df.iloc[:,i].equals(df.iloc[:,j])\n",
    "            if df.iloc[:,i].equals(df.iloc[:,j]) == True:\n",
    "                if j not in list_duplicate:\n",
    "                    l.append(j)\n",
    "                    to_remove.append('feature_'+str(j+1))\n",
    "                list_duplicate.append(i)\n",
    "                list_duplicate.append(j)\n",
    "        if len(l)!=0:\n",
    "            dict_duplicate_matches[i] = l\n",
    "\n",
    "\n",
    "    df_duplicate_pair = pd.DataFrame.from_dict(dict_duplicate_pair, orient='index')\n",
    "    df_duplicate_pair.columns=['duplicate']\n",
    "\n",
    "    df_duplicate_matches = pd.DataFrame.from_dict(dict_duplicate_matches, orient='index')\n",
    "\n",
    "    \n",
    "    df = df.drop(columns=to_remove, axis = 1)\n",
    "\n",
    "    return df\n",
    "\n",
    "# X = remove_duplicated_columns(X)\n",
    "# X.shape\n"
   ]
  },
  {
   "cell_type": "markdown",
   "metadata": {},
   "source": [
    "# Remove columns with Constant volatility (std=0)"
   ]
  },
  {
   "cell_type": "code",
   "execution_count": 38,
   "metadata": {},
   "outputs": [],
   "source": [
    "def remove_constant_volatility(df):\n",
    "    df_EDA= df.describe().T\n",
    "    df_EDA= df_EDA[df_EDA[\"std\"] == 0]\n",
    "    df = df.drop(axis=1, columns=df_EDA.index)\n",
    "    return df\n",
    "\n",
    "# X = remove_constant_volatility(X)\n",
    "# X.shape"
   ]
  },
  {
   "cell_type": "markdown",
   "metadata": {},
   "source": [
    "# Remove columns with high %Missing values"
   ]
  },
  {
   "cell_type": "code",
   "execution_count": 39,
   "metadata": {},
   "outputs": [],
   "source": [
    "def remove_cols_with_high_pct_null(df, null_threshold):\n",
    "    list_column_with_pct_null = pd.concat([df.isnull().sum(), df.isnull().sum()/df.shape[0]],axis=1).rename(columns={0:'Missing_Records', 1:'Percentage (%)'})\n",
    "    list_column_with_pct_null= list_column_with_pct_null[list_column_with_pct_null[\"Percentage (%)\"] >= null_threshold]\n",
    "    df = df.drop(axis=1, columns=list_column_with_pct_null.index)\n",
    "    return df\n",
    "\n",
    "# X = remove_cols_with_high_pct_null(X, 0.8)\n",
    "# X.shape"
   ]
  },
  {
   "cell_type": "markdown",
   "metadata": {},
   "source": [
    "# Split data"
   ]
  },
  {
   "cell_type": "code",
   "execution_count": 40,
   "metadata": {},
   "outputs": [],
   "source": [
    "# X_train, X_test, y_train, y_test = train_test_split(X, y, test_size = 0.2, random_state = 1,stratify=y)"
   ]
  },
  {
   "cell_type": "markdown",
   "metadata": {},
   "source": [
    "# Outlier treatment"
   ]
  },
  {
   "cell_type": "code",
   "execution_count": 41,
   "metadata": {},
   "outputs": [],
   "source": [
    "#how = ['NaN', '3s']\n",
    "def replace_outlier(df, how):\n",
    "    for col in df:\n",
    "        ll_col = df[col].mean() - 3 * df[col].std()\n",
    "        ul_col = df[col].mean() + 3 * df[col].std()\n",
    "        if how == 'NaN':\n",
    "            df[col] = np.where(df[col]>ul_col,np.NaN,np.where(df[col]<ll_col,np.NaN,df[col]))\n",
    "        elif how == '3s':\n",
    "            df[col] = np.where(df[col]>ul_col,ul_col,np.where(df[col]<ll_col,ll_col,df[col]))\n",
    "    return df"
   ]
  },
  {
   "cell_type": "markdown",
   "metadata": {},
   "source": [
    "# Missing value Imputation"
   ]
  },
  {
   "cell_type": "code",
   "execution_count": 42,
   "metadata": {},
   "outputs": [],
   "source": [
    "#which_weights = ['distance','uniform']\n",
    "\n",
    "def impute_null_with_knn(X_train, X_test, which_weights):\n",
    "    #First scale the data \n",
    "    scaler = MinMaxScaler()\n",
    "    X_train = pd.DataFrame(scaler.fit_transform(X_train), columns= X_train.columns)\n",
    "    X_test = pd.DataFrame(scaler.transform(X_test), columns= X_test.columns)\n",
    "\n",
    "    knn = KNNImputer(n_neighbors=5, weights=which_weights) #check this neighbors = 5\n",
    "\n",
    "    X_train = pd.DataFrame(knn.fit_transform(X_train), columns=X_train.columns)\n",
    "    X_test = pd.DataFrame(knn.transform(X_test), columns=X_test.columns)\n",
    "    \n",
    "    X_train = pd.DataFrame(scaler.inverse_transform(X_train), columns= X_train.columns)\n",
    "    X_test = pd.DataFrame(scaler.inverse_transform(X_test), columns= X_test.columns)\n",
    "    return X_train, X_test\n",
    "\n",
    "#X_train = impute_null_with_knn(X_train)"
   ]
  },
  {
   "cell_type": "code",
   "execution_count": 43,
   "metadata": {},
   "outputs": [],
   "source": [
    "def impute_null_with_mice(X_train, X_test): \n",
    "    imp = IterativeImputer(maX_train_iter=10, verbose=0, imputation_order='roman', random_state=0)\n",
    "    X_train = pd.DataFrame(imp.fit_transform(X_train), columns=X_train.columns)\n",
    "    X_test = pd.DataFrame(imp.transform(X_test), columns=X_test.columns)\n",
    "    return X_train, X_test"
   ]
  },
  {
   "cell_type": "markdown",
   "metadata": {},
   "source": [
    "# Feature Selection"
   ]
  },
  {
   "cell_type": "code",
   "execution_count": 44,
   "metadata": {},
   "outputs": [],
   "source": [
    "#list_method=['shap','gini']\n",
    "\n",
    "def BorutaShap_FS (X, y, method_option) :\n",
    "    modelshap = RandomForestClassifier(n_jobs=-1,n_estimators=100, class_weight='balanced_subsample', max_depth=5, random_state=100)\n",
    "    # define model for resp. classifier\n",
    "    modelshap.fit(X,y)\n",
    "    ##-- feature_names = np.array(X.columns)\n",
    "    # define Boruta Sahp feature selection method\n",
    "    feature_selector = BorutaShap(model=modelshap,\n",
    "                              importance_measure=method_option,\n",
    "                              classification=True)  # find all relevant features\n",
    "    feature_selector.fit(X,y,n_trials=100, sample=False, verbose=False, random_state=100)  \n",
    "    ##-- feature_selector.plot(which_features='accepted',figsize=(20,10))\n",
    "    # call transform() on X to filter it down to selected features\n",
    "    return  feature_selector.Subset()"
   ]
  },
  {
   "cell_type": "code",
   "execution_count": 45,
   "metadata": {},
   "outputs": [],
   "source": [
    "#RFE function with random forest\n",
    "\n",
    "def RFE_FS (X, y, classify) :\n",
    "    feature_names = np.array(X.columns)\n",
    "    if classify == 'RF':\n",
    "    # define random forest classifier\n",
    "        model = RandomForestClassifier(n_jobs=-1, class_weight='balanced_subsample', max_depth=5, random_state=100)\n",
    "        #model.fit(X, y)\n",
    "        #rfe = RFE(estimator = model,n_features_to_select = 15)\n",
    "    if classify== 'SVM':\n",
    "        model = SVC(kernel='linear',C=5)\n",
    "        #model.fit(X, y)\n",
    "        #rfe = RFECV(estimator = model,scoring='accuracy')\n",
    "    # find all relevant features\n",
    "    model.fit(X, y)\n",
    "    rfe = RFE(estimator = model,n_features_to_select = 15)\n",
    "    rfe.fit(X,y)\n",
    "\n",
    "    # check selected features\n",
    "    ##--rfe.support_\n",
    "\n",
    "    # check ranking of features\n",
    "    ##--rfe.ranking_\n",
    "\n",
    "    # zip feature names, ranks, and decisions \n",
    "    # feature_ranks = list(zip(feature_names, \n",
    "    #                          rfe.ranking_, \n",
    "    #                          rfe.support_))\n",
    "\n",
    "    # print the results\n",
    "    ##--for feat in feature_ranks:\n",
    "    ##--    print('Feature: {:<30} Rank: {},  Keep: {}'.format(feat[0], feat[1], feat[2]))\n",
    "        \n",
    "    final_features_rfe = list()\n",
    "    indexes = np.where(rfe.ranking_ <= 1)\n",
    "    for x in np.nditer(indexes):\n",
    "        final_features_rfe.append(feature_names[x])\n",
    "    ##-- print(final_features_rfe)\n",
    "    \n",
    " # call transform() on X to filter it down to selected features\n",
    "    return pd.DataFrame(X.filter(final_features_rfe))"
   ]
  },
  {
   "cell_type": "code",
   "execution_count": 46,
   "metadata": {},
   "outputs": [],
   "source": [
    "#Boruta function with random forest\n",
    "\n",
    "def BorutaPy_FS (X, y) :\n",
    "    feature_names = np.array(X.columns)\n",
    "\n",
    "    # define random forest classifier\n",
    "    model = RandomForestClassifier(n_jobs=-1, class_weight='balanced_subsample', max_depth=5, random_state=100)\n",
    "    model.fit(X, y)\n",
    "    # define Boruta feature selection method\n",
    "    \n",
    "    feature_selector = BorutaPy(model, n_estimators='auto', verbose=0, random_state=100, max_iter=140)\n",
    "\n",
    "    # find all relevant features\n",
    "    feature_selector.fit(X.to_numpy(),y)\n",
    "\n",
    "    # check selected features\n",
    "    ##--feature_selector.support_\n",
    "\n",
    "    # check ranking of features\n",
    "    ##--feature_ranking=feature_selector.ranking_\n",
    "\n",
    "    # zip feature names, ranks, and decisions \n",
    "    # feature_ranks = list(zip(feature_names, \n",
    "    #                          feature_selector.ranking_, \n",
    "    #                          feature_selector.support_))\n",
    "\n",
    "    # print the results\n",
    "    ##--for feat in feature_ranks:\n",
    "    ##--    print('Feature: {:<30} Rank: {},  Keep: {}'.format(feat[0], feat[1], feat[2]))\n",
    "        \n",
    "    final_features = list()\n",
    "    indexes = np.where(feature_selector.ranking_ <= 1)\n",
    "    for x in np.nditer(indexes):\n",
    "        final_features.append(feature_names[x])\n",
    "    ##--print(final_features)\n",
    "    \n",
    " # call transform() on X to filter it down to selected features\n",
    "    return pd.DataFrame(X.filter(final_features))"
   ]
  },
  {
   "cell_type": "markdown",
   "metadata": {},
   "source": [
    "# Balancing"
   ]
  },
  {
   "cell_type": "code",
   "execution_count": 52,
   "metadata": {},
   "outputs": [],
   "source": [
    "def sampling(X_train, y_train, sampler):\n",
    "    \n",
    "    #SMOTE\n",
    "    if sampler == 'SMOTE':\n",
    "        sampler = SMOTE(random_state=100)    \n",
    "    \n",
    "    #ROSE\n",
    "    if sampler == 'ROSE':\n",
    "        sampler = RandomOverSampler(random_state=100, shrinkage=1)\n",
    "\n",
    "    #ADASYN\n",
    "    if sampler == 'ADASYN':\n",
    "        sampler = ADASYN(random_state=100)\n",
    "    \n",
    "\n",
    "    #SMOTTEENN\n",
    "    if sampler == 'SMOTEENN' :\n",
    "        sampler = SMOTEENN(random_state=100)\n",
    "        \n",
    "        \n",
    "    #Random under Sampling\n",
    "    if sampler == \"randomunder\":\n",
    "        sampler = RandomUnderSampler(random_state=100)\n",
    "\n",
    "    X_resampled, y_resampled = sampler.fit_resample(X_train, y_train)\n",
    "    counter = Counter(y_resampled)\n",
    "    print(counter)\n",
    "    \n",
    "    return X_resampled, y_resampled\n",
    "\n",
    "# X_train, y_train = sampling(X_train, y_train,'SMOTE')\n",
    "# X_train.shape"
   ]
  },
  {
   "cell_type": "markdown",
   "metadata": {},
   "source": [
    "# Model"
   ]
  },
  {
   "cell_type": "code",
   "execution_count": 48,
   "metadata": {},
   "outputs": [],
   "source": [
    "def run_model(X_train, y_train, X_test, y_test):\n",
    "    # building model before balancing data\n",
    "    model = RandomForestClassifier(random_state=1, n_estimators=1000, max_depth=5)\n",
    "    model.fit(X_train,y_train)\n",
    "    y_pred= model.predict(X_test)\n",
    "    accuracy= accuracy_score(y_test, y_pred)\n",
    "    cf_matrix = confusion_matrix(y_test, y_pred)\n",
    "    specificity = cf_matrix[1][1] / ( cf_matrix[1][1] + cf_matrix[1][0] )\n",
    "    #add type I/II error, F1\n",
    "    #add loss/cost ROC/AUC \n",
    "    return accuracy, specificity, cf_matrix\n",
    "\n",
    "#run_model(X_train, y_train, X_test, y_test)"
   ]
  },
  {
   "cell_type": "markdown",
   "metadata": {},
   "source": [
    "## Combine"
   ]
  },
  {
   "cell_type": "code",
   "execution_count": 59,
   "metadata": {},
   "outputs": [
    {
     "name": "stderr",
     "output_type": "stream",
     "text": [
      "100%|██████████| 100/100 [01:45<00:00,  1.05s/it]\n"
     ]
    },
    {
     "name": "stdout",
     "output_type": "stream",
     "text": [
      "Counter({-1: 1170, 1: 1170})\n",
      "1 NaN&knn__distance&BoS__shap&SMOTE \n",
      " 0.7197452229299363 \n",
      " 0.47619047619047616 \n",
      " [[216  77]\n",
      " [ 11  10]] \n",
      " Index(['feature_469', 'feature_130', 'feature_60', 'feature_34', 'feature_478',\n",
      "       'feature_461'],\n",
      "      dtype='object') \n",
      "\n"
     ]
    },
    {
     "name": "stderr",
     "output_type": "stream",
     "text": [
      "100%|██████████| 100/100 [01:33<00:00,  1.07it/s]\n"
     ]
    },
    {
     "name": "stdout",
     "output_type": "stream",
     "text": [
      "Counter({-1: 1170, 1: 1170})\n",
      "2 NaN&knn__distance&BoS__shap&ROSE \n",
      " 0.7834394904458599 \n",
      " 0.42857142857142855 \n",
      " [[237  56]\n",
      " [ 12   9]] \n",
      " Index(['feature_248', 'feature_469', 'feature_130', 'feature_60', 'feature_34',\n",
      "       'feature_461'],\n",
      "      dtype='object') \n",
      "\n"
     ]
    },
    {
     "name": "stderr",
     "output_type": "stream",
     "text": [
      "100%|██████████| 100/100 [01:39<00:00,  1.01it/s]\n"
     ]
    },
    {
     "name": "stdout",
     "output_type": "stream",
     "text": [
      "Counter({1: 1202, -1: 1170})\n",
      "3 NaN&knn__distance&BoS__shap&ADASYN \n",
      " 0.7484076433121019 \n",
      " 0.6190476190476191 \n",
      " [[222  71]\n",
      " [  8  13]] \n",
      " Index(['feature_469', 'feature_130', 'feature_60', 'feature_34',\n",
      "       'feature_461'],\n",
      "      dtype='object') \n",
      "\n"
     ]
    },
    {
     "name": "stderr",
     "output_type": "stream",
     "text": [
      "100%|██████████| 100/100 [01:40<00:00,  1.00s/it]\n"
     ]
    },
    {
     "name": "stdout",
     "output_type": "stream",
     "text": [
      "Counter({1: 804, -1: 643})\n",
      "4 NaN&knn__distance&BoS__shap&SMOTEENN \n",
      " 0.7611464968152867 \n",
      " 0.6190476190476191 \n",
      " [[226  67]\n",
      " [  8  13]] \n",
      " Index(['feature_248', 'feature_469', 'feature_60', 'feature_34',\n",
      "       'feature_461'],\n",
      "      dtype='object') \n",
      "\n"
     ]
    },
    {
     "name": "stderr",
     "output_type": "stream",
     "text": [
      "100%|██████████| 100/100 [00:53<00:00,  1.87it/s]\n"
     ]
    },
    {
     "name": "stdout",
     "output_type": "stream",
     "text": [
      "Counter({-1: 1170, 1: 1170})\n",
      "5 NaN&knn__distance&BoS__gini&SMOTE \n",
      " 0.7133757961783439 \n",
      " 0.5714285714285714 \n",
      " [[212  81]\n",
      " [  9  12]] \n",
      " Index(['feature_248', 'feature_469', 'feature_130', 'feature_206',\n",
      "       'feature_60', 'feature_34', 'feature_461'],\n",
      "      dtype='object') \n",
      "\n"
     ]
    },
    {
     "name": "stderr",
     "output_type": "stream",
     "text": [
      "100%|██████████| 100/100 [00:55<00:00,  1.81it/s]\n"
     ]
    },
    {
     "name": "stdout",
     "output_type": "stream",
     "text": [
      "Counter({-1: 1170, 1: 1170})\n",
      "6 NaN&knn__distance&BoS__gini&ROSE \n",
      " 0.8439490445859873 \n",
      " 0.47619047619047616 \n",
      " [[255  38]\n",
      " [ 11  10]] \n",
      " Index(['feature_469', 'feature_130', 'feature_60', 'feature_34',\n",
      "       'feature_461'],\n",
      "      dtype='object') \n",
      "\n"
     ]
    },
    {
     "name": "stderr",
     "output_type": "stream",
     "text": [
      "100%|██████████| 100/100 [00:54<00:00,  1.83it/s]\n"
     ]
    },
    {
     "name": "stdout",
     "output_type": "stream",
     "text": [
      "Counter({1: 1205, -1: 1170})\n",
      "7 NaN&knn__distance&BoS__gini&ADASYN \n",
      " 0.7133757961783439 \n",
      " 0.5714285714285714 \n",
      " [[212  81]\n",
      " [  9  12]] \n",
      " Index(['feature_469', 'feature_130', 'feature_60', 'feature_34', 'feature_478',\n",
      "       'feature_461'],\n",
      "      dtype='object') \n",
      "\n"
     ]
    },
    {
     "name": "stderr",
     "output_type": "stream",
     "text": [
      "100%|██████████| 100/100 [00:56<00:00,  1.78it/s]\n"
     ]
    },
    {
     "name": "stdout",
     "output_type": "stream",
     "text": [
      "Counter({1: 898, -1: 618})\n",
      "8 NaN&knn__distance&BoS__gini&SMOTEENN \n",
      " 0.6592356687898089 \n",
      " 0.7142857142857143 \n",
      " [[192 101]\n",
      " [  6  15]] \n",
      " Index(['feature_248', 'feature_469', 'feature_130', 'feature_60', 'feature_34',\n",
      "       'feature_478', 'feature_461'],\n",
      "      dtype='object') \n",
      "\n",
      "Counter({-1: 1170, 1: 1170})\n",
      "9 NaN&knn__distance&RFE__RF&SMOTE \n",
      " 0.7802547770700637 \n",
      " 0.47619047619047616 \n",
      " [[235  58]\n",
      " [ 11  10]] \n",
      " Index(['feature_1', 'feature_20', 'feature_32', 'feature_34', 'feature_60',\n",
      "       'feature_92', 'feature_103', 'feature_104', 'feature_122',\n",
      "       'feature_130', 'feature_131', 'feature_154', 'feature_206',\n",
      "       'feature_248', 'feature_478'],\n",
      "      dtype='object') \n",
      "\n",
      "Counter({-1: 1170, 1: 1170})\n",
      "10 NaN&knn__distance&RFE__RF&ROSE \n",
      " 0.8280254777070064 \n",
      " 0.3333333333333333 \n",
      " [[253  40]\n",
      " [ 14   7]] \n",
      " Index(['feature_1', 'feature_20', 'feature_22', 'feature_32', 'feature_34',\n",
      "       'feature_60', 'feature_103', 'feature_122', 'feature_130',\n",
      "       'feature_131', 'feature_248', 'feature_288', 'feature_342',\n",
      "       'feature_427', 'feature_520'],\n",
      "      dtype='object') \n",
      "\n",
      "Counter({-1: 1170, 1: 1150})\n",
      "11 NaN&knn__distance&RFE__RF&ADASYN \n",
      " 0.7707006369426752 \n",
      " 0.38095238095238093 \n",
      " [[234  59]\n",
      " [ 13   8]] \n",
      " Index(['feature_1', 'feature_20', 'feature_22', 'feature_34', 'feature_60',\n",
      "       'feature_103', 'feature_116', 'feature_122', 'feature_130',\n",
      "       'feature_131', 'feature_248', 'feature_342', 'feature_427',\n",
      "       'feature_461', 'feature_520'],\n",
      "      dtype='object') \n",
      "\n",
      "Counter({1: 958, -1: 748})\n",
      "12 NaN&knn__distance&RFE__RF&SMOTEENN \n",
      " 0.7101910828025477 \n",
      " 0.5238095238095238 \n",
      " [[212  81]\n",
      " [ 10  11]] \n",
      " Index(['feature_1', 'feature_20', 'feature_22', 'feature_32', 'feature_34',\n",
      "       'feature_60', 'feature_103', 'feature_116', 'feature_122',\n",
      "       'feature_130', 'feature_131', 'feature_206', 'feature_248',\n",
      "       'feature_427', 'feature_520'],\n",
      "      dtype='object') \n",
      "\n"
     ]
    },
    {
     "ename": "NameError",
     "evalue": "name 'SVC' is not defined",
     "output_type": "error",
     "traceback": [
      "\u001b[0;31m---------------------------------------------------------------------------\u001b[0m",
      "\u001b[0;31mNameError\u001b[0m                                 Traceback (most recent call last)",
      "\u001b[0;32m<ipython-input-59-deb44f59d300>\u001b[0m in \u001b[0;36m<module>\u001b[0;34m\u001b[0m\n\u001b[1;32m     48\u001b[0m                     \u001b[0mX_train_temp\u001b[0m \u001b[0;34m=\u001b[0m \u001b[0mBorutaShap_FS\u001b[0m\u001b[0;34m(\u001b[0m\u001b[0mX_train_temp\u001b[0m\u001b[0;34m,\u001b[0m \u001b[0my_train_temp\u001b[0m\u001b[0;34m,\u001b[0m \u001b[0mclassifier_model\u001b[0m\u001b[0;34m[\u001b[0m\u001b[0;34m-\u001b[0m\u001b[0;34m(\u001b[0m\u001b[0mlen\u001b[0m\u001b[0;34m(\u001b[0m\u001b[0mclassifier_model\u001b[0m\u001b[0;34m)\u001b[0m\u001b[0;34m-\u001b[0m\u001b[0;36m5\u001b[0m\u001b[0;34m)\u001b[0m\u001b[0;34m:\u001b[0m\u001b[0;34m]\u001b[0m\u001b[0;34m)\u001b[0m\u001b[0;34m\u001b[0m\u001b[0;34m\u001b[0m\u001b[0m\n\u001b[1;32m     49\u001b[0m                 \u001b[0;32melif\u001b[0m \u001b[0mclassifier_model\u001b[0m \u001b[0;34m==\u001b[0m \u001b[0;34m'RFE__RF'\u001b[0m \u001b[0;32mor\u001b[0m \u001b[0mclassifier_model\u001b[0m \u001b[0;34m==\u001b[0m \u001b[0;34m'RFE__SVM'\u001b[0m\u001b[0;34m:\u001b[0m\u001b[0;34m\u001b[0m\u001b[0;34m\u001b[0m\u001b[0m\n\u001b[0;32m---> 50\u001b[0;31m                     \u001b[0mX_train_temp\u001b[0m \u001b[0;34m=\u001b[0m \u001b[0mRFE_FS\u001b[0m\u001b[0;34m(\u001b[0m\u001b[0mX_train_temp\u001b[0m\u001b[0;34m,\u001b[0m \u001b[0my_train_temp\u001b[0m\u001b[0;34m,\u001b[0m \u001b[0mclassifier_model\u001b[0m\u001b[0;34m[\u001b[0m\u001b[0;34m-\u001b[0m\u001b[0;34m(\u001b[0m\u001b[0mlen\u001b[0m\u001b[0;34m(\u001b[0m\u001b[0mclassifier_model\u001b[0m\u001b[0;34m)\u001b[0m\u001b[0;34m-\u001b[0m\u001b[0;36m5\u001b[0m\u001b[0;34m)\u001b[0m\u001b[0;34m:\u001b[0m\u001b[0;34m]\u001b[0m\u001b[0;34m)\u001b[0m\u001b[0;34m\u001b[0m\u001b[0;34m\u001b[0m\u001b[0m\n\u001b[0m\u001b[1;32m     51\u001b[0m                 \u001b[0;32melif\u001b[0m \u001b[0mclassifier_model\u001b[0m \u001b[0;34m==\u001b[0m \u001b[0;34m'BoP'\u001b[0m\u001b[0;34m:\u001b[0m\u001b[0;34m\u001b[0m\u001b[0;34m\u001b[0m\u001b[0m\n\u001b[1;32m     52\u001b[0m                     \u001b[0mX_train_temp\u001b[0m \u001b[0;34m=\u001b[0m \u001b[0mBorutaPy_FS\u001b[0m\u001b[0;34m(\u001b[0m\u001b[0mX_train_temp\u001b[0m\u001b[0;34m,\u001b[0m \u001b[0my_train_temp\u001b[0m\u001b[0;34m)\u001b[0m\u001b[0;34m\u001b[0m\u001b[0;34m\u001b[0m\u001b[0m\n",
      "\u001b[0;32m<ipython-input-45-7f7cbb28c3a8>\u001b[0m in \u001b[0;36mRFE_FS\u001b[0;34m(X, y, classify)\u001b[0m\n\u001b[1;32m      9\u001b[0m         \u001b[0;31m#rfe = RFE(estimator = model,n_features_to_select = 15)\u001b[0m\u001b[0;34m\u001b[0m\u001b[0;34m\u001b[0m\u001b[0;34m\u001b[0m\u001b[0m\n\u001b[1;32m     10\u001b[0m     \u001b[0;32mif\u001b[0m \u001b[0mclassify\u001b[0m\u001b[0;34m==\u001b[0m \u001b[0;34m'SVM'\u001b[0m\u001b[0;34m:\u001b[0m\u001b[0;34m\u001b[0m\u001b[0;34m\u001b[0m\u001b[0m\n\u001b[0;32m---> 11\u001b[0;31m         \u001b[0mmodel\u001b[0m \u001b[0;34m=\u001b[0m \u001b[0mSVC\u001b[0m\u001b[0;34m(\u001b[0m\u001b[0mkernel\u001b[0m\u001b[0;34m=\u001b[0m\u001b[0;34m'linear'\u001b[0m\u001b[0;34m,\u001b[0m\u001b[0mC\u001b[0m\u001b[0;34m=\u001b[0m\u001b[0;36m5\u001b[0m\u001b[0;34m)\u001b[0m\u001b[0;34m\u001b[0m\u001b[0;34m\u001b[0m\u001b[0m\n\u001b[0m\u001b[1;32m     12\u001b[0m         \u001b[0;31m#model.fit(X, y)\u001b[0m\u001b[0;34m\u001b[0m\u001b[0;34m\u001b[0m\u001b[0;34m\u001b[0m\u001b[0m\n\u001b[1;32m     13\u001b[0m         \u001b[0;31m#rfe = RFECV(estimator = model,scoring='accuracy')\u001b[0m\u001b[0;34m\u001b[0m\u001b[0;34m\u001b[0m\u001b[0;34m\u001b[0m\u001b[0m\n",
      "\u001b[0;31mNameError\u001b[0m: name 'SVC' is not defined"
     ]
    }
   ],
   "source": [
    "X = read_features()\n",
    "y = read_target().iloc[:,0]\n",
    "\n",
    "result = []\n",
    "i = 0\n",
    "\n",
    "#step 4:\n",
    "X_train, X_test, y_train, y_test = train_test_split(X, y, test_size = 0.2, random_state = 1, stratify=y)\n",
    "\n",
    "\n",
    "#step 1\n",
    "X = remove_duplicated_columns(X)\n",
    "#step 2:\n",
    "X = remove_constant_volatility(X)\n",
    "#step 3:\n",
    "X = remove_cols_with_high_pct_null(X, 0.8) #this can be in the loop too, may be later\n",
    "\n",
    "\n",
    "\n",
    "\n",
    "\n",
    "\n",
    "#step 5-9\n",
    "replace_outlier_options = ['NaN', '3s']\n",
    "impute_null_options = ['knn__distance', 'knn__uniform', 'MICE']\n",
    "FS_options = ['BoS__shap', 'BoS__gini', 'RFE__RF', 'RFE__SVM', 'BoP']\n",
    "sampling_options = ['SMOTE','ROSE','ADASYN','SMOTEENN']\n",
    "\n",
    "for replace_with in replace_outlier_options:\n",
    "    for knn_weight in impute_null_options:\n",
    "        for classifier_model in FS_options:\n",
    "            #<remove correlated columns, decide on the thresold 70%>\n",
    "            for sampling_technique in sampling_options:\n",
    "                X_train_temp = X_train\n",
    "                X_test_temp = X_test\n",
    "                y_train_temp = y_train\n",
    "                y_test_temp = y_test\n",
    "\n",
    "                #step 5: oulier treatement (on both TRAIN & TEST split)\n",
    "                X_train_temp = replace_outlier(X_train_temp, replace_with)\n",
    "                X_test_temp = replace_outlier(X_test_temp, replace_with)\n",
    "                \n",
    "                #step 6: missing value imputation (on both TRAIN & TEST split)\n",
    "                if knn_weight == 'knn__distance' or knn_weight == 'knn__uniform':\n",
    "                    X_train_temp, X_test_temp = impute_null_with_knn(X_train_temp, X_test_temp, knn_weight[-(len(knn_weight)-5):])\n",
    "                elif knn_weight == 'MICE':\n",
    "                    X_train_temp, X_test_temp = impute_null_with_mice(X_train_temp, X_test_temp)\n",
    "\n",
    "\n",
    "                if classifier_model == 'BoS__shap' or classifier_model == 'BoS__gini':\n",
    "                    X_train_temp = BorutaShap_FS(X_train_temp, y_train_temp, classifier_model[-(len(classifier_model)-5):])\n",
    "                elif classifier_model == 'RFE__RF' or classifier_model == 'RFE__SVM':\n",
    "                    X_train_temp = RFE_FS(X_train_temp, y_train_temp, classifier_model[-(len(classifier_model)-5):])\n",
    "                elif classifier_model == 'BoP':\n",
    "                    X_train_temp = BorutaPy_FS(X_train_temp, y_train_temp)\n",
    "                \n",
    "\n",
    "                #step 7: sampling only on TRAIN split\n",
    "                X_train_temp, y_train_temp = sampling(X_train_temp, y_train_temp, sampling_technique)\n",
    "                X_train_temp.to_csv('output/X_train_temp_'+str(i)+'.csv')\n",
    "                X_test_temp.to_csv('output/X_test_temp_'+str(i)+'.csv')\n",
    "                y_train_temp.to_csv('output/y_train_temp_'+str(i)+'.csv')\n",
    "                y_test_temp.to_csv('output/y_test_temp_'+str(i)+'.csv')\n",
    "                i+=1\n",
    "\n",
    "                #step 8: remove unused features on TRAIN_TEST split\n",
    "                X_test_temp = X_test_temp.loc[:,X_train_temp.columns]\n",
    "\n",
    "\n",
    "                #step 9: train model, predict, and print scores\n",
    "                accuracy, specificity, cf_matrix = run_model(X_train_temp, y_train_temp, X_test_temp, y_test_temp)\n",
    "                result.append([i, accuracy, specificity, cf_matrix, X_train_temp.columns])\n",
    "                \n",
    "                combined_technique = replace_with +'&'+ knn_weight +'&'+ classifier_model +'&'+ sampling_technique\n",
    "                print(i, combined_technique,'\\n', accuracy, '\\n', specificity,'\\n', cf_matrix, '\\n', X_train_temp.columns, '\\n')\n",
    "\n",
    "\n",
    "df_result = pd.DataFrame(result)\n",
    "df_result.to_csv('output/result.csv')\n",
    "print(result)"
   ]
  },
  {
   "cell_type": "markdown",
   "metadata": {},
   "source": [
    "# --------------------Appendix--------------------"
   ]
  },
  {
   "cell_type": "code",
   "execution_count": null,
   "metadata": {},
   "outputs": [],
   "source": [
    "# #------------------------------------\n",
    "# X_train = replace_outlier(X_train, how)\n",
    "# replace_outlier_options = ['NaN', '3s']\n",
    "# #--\n",
    "# X_train = impute_null_with_knn(X_train, which_weights) #\n",
    "# impute_null_options = ['knn__distance', 'knn__uniform', 'MICE']\n",
    "\n",
    "# X_train = impute_null_with_mice(X_train)\n",
    "# #--\n",
    "# BorutaShap_FS(X_train, y_train, method_option)\n",
    "# list_method=['shap','gini']\n",
    "\n",
    "# RFE_FS(X_train, y_train, classify) \n",
    "# list_clf=['RF','SVM']\n",
    "\n",
    "# BorutaPy_FS(X_train, y_train)\n",
    "\n",
    "# FS_options = ['BoS__shap', 'BoS__gini', 'RFE__RF', 'RFE__SVM', 'BoP']\n",
    "# #--\n",
    "# sampling(X_train, y_train, sampler)\n",
    "# sampling_options = ['SMOTE','ROSE','ADASYN','SMOTEENN']\n",
    "\n",
    "# #--------------------------------------"
   ]
  },
  {
   "cell_type": "code",
   "execution_count": 9,
   "metadata": {},
   "outputs": [
    {
     "data": {
      "text/plain": [
       "[[1, 2, 3], [2, 3, 1]]"
      ]
     },
     "execution_count": 9,
     "metadata": {},
     "output_type": "execute_result"
    }
   ],
   "source": [
    "# l = []\n",
    "# a=1\n",
    "# b=2\n",
    "# c=3\n",
    "\n",
    "# l.append([a,b,c])\n",
    "# l.append([b,c,a])\n",
    "\n",
    "# l\n",
    "\n"
   ]
  },
  {
   "cell_type": "code",
   "execution_count": null,
   "metadata": {},
   "outputs": [],
   "source": [
    "# list_null_impute = [knnimputation_distance, MICEimputation_distance]\n",
    "# list_null_outlier = [outlier_knn,outlier_3s]\n",
    "# list_feat_selection = ['Boruta_RF', 'Boruta_shap', 'RFE']\n",
    "# Boruta = ['RF', 'XGB']\n",
    "# Boruta_shap = ['RF', 'XGB', 'kNN']\n",
    "# RFE = ['RF', 'SVC']"
   ]
  },
  {
   "cell_type": "code",
   "execution_count": null,
   "metadata": {},
   "outputs": [
    {
     "data": {
      "text/html": [
       "<div>\n",
       "<style scoped>\n",
       "    .dataframe tbody tr th:only-of-type {\n",
       "        vertical-align: middle;\n",
       "    }\n",
       "\n",
       "    .dataframe tbody tr th {\n",
       "        vertical-align: top;\n",
       "    }\n",
       "\n",
       "    .dataframe thead th {\n",
       "        text-align: right;\n",
       "    }\n",
       "</style>\n",
       "<table border=\"1\" class=\"dataframe\">\n",
       "  <thead>\n",
       "    <tr style=\"text-align: right;\">\n",
       "      <th></th>\n",
       "      <th>a</th>\n",
       "      <th>b</th>\n",
       "      <th>c</th>\n",
       "    </tr>\n",
       "  </thead>\n",
       "  <tbody>\n",
       "    <tr>\n",
       "      <th>0</th>\n",
       "      <td>1</td>\n",
       "      <td>2</td>\n",
       "      <td>3</td>\n",
       "    </tr>\n",
       "    <tr>\n",
       "      <th>1</th>\n",
       "      <td>4</td>\n",
       "      <td>5</td>\n",
       "      <td>6</td>\n",
       "    </tr>\n",
       "    <tr>\n",
       "      <th>2</th>\n",
       "      <td>7</td>\n",
       "      <td>8</td>\n",
       "      <td>9</td>\n",
       "    </tr>\n",
       "    <tr>\n",
       "      <th>3</th>\n",
       "      <td>1</td>\n",
       "      <td>1</td>\n",
       "      <td>1</td>\n",
       "    </tr>\n",
       "  </tbody>\n",
       "</table>\n",
       "</div>"
      ],
      "text/plain": [
       "   a  b  c\n",
       "0  1  2  3\n",
       "1  4  5  6\n",
       "2  7  8  9\n",
       "3  1  1  1"
      ]
     },
     "metadata": {},
     "output_type": "display_data"
    }
   ],
   "source": [
    "# #TESTING\n",
    "# df = pd.DataFrame(np.array([[1, 2, 3], [4, 5, 6], [7, 8, 9], [1,1,1]]),\n",
    "#                    columns=['a', 'b', 'c'])\n",
    "# df"
   ]
  }
 ],
 "metadata": {
  "interpreter": {
   "hash": "3aeb15c8c31224d9ef37a76c0046f703a279f439b6efd04fb2681e5f2715bf2f"
  },
  "kernelspec": {
   "display_name": "Python 3.8.8 ('base')",
   "language": "python",
   "name": "python3"
  },
  "language_info": {
   "codemirror_mode": {
    "name": "ipython",
    "version": 3
   },
   "file_extension": ".py",
   "mimetype": "text/x-python",
   "name": "python",
   "nbconvert_exporter": "python",
   "pygments_lexer": "ipython3",
   "version": "3.8.8"
  },
  "orig_nbformat": 4
 },
 "nbformat": 4,
 "nbformat_minor": 2
}
