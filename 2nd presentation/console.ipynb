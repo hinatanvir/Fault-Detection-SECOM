{
 "cells": [
  {
   "cell_type": "markdown",
   "metadata": {},
   "source": [
    "# READ ME"
   ]
  },
  {
   "cell_type": "markdown",
   "metadata": {},
   "source": [
    "#### This notebook is implemeted in a repository in github with input and output folders.\n",
    "#### It has 2 parts:\n",
    "##### > Part 1: Pre-defined funtions for each technique.\n",
    "##### > Part 2: Execution of model pipelines, here users can modify which combination of techniques they want to run. The scores will be printed as a csv in output folders. "
   ]
  },
  {
   "cell_type": "markdown",
   "metadata": {},
   "source": [
    "# PART 1: FUNCTIONS"
   ]
  },
  {
   "cell_type": "markdown",
   "metadata": {},
   "source": [
    "# Import library"
   ]
  },
  {
   "cell_type": "code",
   "execution_count": 2,
   "metadata": {},
   "outputs": [],
   "source": [
    "# #importing libraries\n",
    "# import csv\n",
    "# import pandas as pd\n",
    "# import numpy as np\n",
    "# import matplotlib.pyplot as plt\n",
    "# import seaborn as sns\n",
    "# from sklearn.model_selection import train_test_split\n",
    "# from sklearn.preprocessing import MinMaxScaler\n",
    "# from sklearn.impute import KNNImputer\n",
    "# from sklearn.experimental import enable_iterative_imputer\n",
    "# from sklearn.impute import IterativeImputer\n",
    "# from sklearn.ensemble import RandomForestClassifier\n",
    "# from sklearn.linear_model import LogisticRegression\n",
    "\n",
    "# from boruta import BorutaPy\n",
    "# from BorutaShap import BorutaShap\n",
    "# from sklearn.feature_selection import RFE\n",
    "\n",
    "# from imblearn.over_sampling import SMOTE, ADASYN, RandomOverSampler\n",
    "# from imblearn.under_sampling import RandomUnderSampler\n",
    "# from imblearn.combine import SMOTEENN\n",
    "\n",
    "# from collections import Counter\n",
    "# from sklearn.svm import SVC\n",
    "\n",
    "# from sklearn.metrics import accuracy_score, confusion_matrix, ConfusionMatrixDisplay, f1_score, precision_score, recall_score, roc_auc_score, log_loss, cohen_kappa_score\n",
    "\n",
    "# import keras\n",
    "# from keras.models import Sequential\n",
    "# from keras.layers import Dense\n",
    "# from keras.utils import to_categorical "
   ]
  },
  {
   "cell_type": "code",
   "execution_count": null,
   "metadata": {},
   "outputs": [],
   "source": []
  },
  {
   "cell_type": "markdown",
   "metadata": {},
   "source": [
    "# Read df"
   ]
  },
  {
   "cell_type": "code",
   "execution_count": 3,
   "metadata": {},
   "outputs": [],
   "source": [
    "#this function is to read, transform and join 2 data frame\n",
    "\n",
    "def read_features():\n",
    "    path = 'input/secom.data'\n",
    "    df = pd.read_csv(path, delimiter=' ', header=None, na_values=['NaN'])\n",
    "    df.columns = ['feature_'+str(x+1) for x in range(len(df.columns))]\n",
    "    return df\n",
    "\n",
    "\n",
    "\n",
    "def read_target():\n",
    "    path = 'input/secom_labels.data'\n",
    "    df = pd.read_csv(path, delimiter=' ', header=None, na_values=['NaN'])\n",
    "    df.columns = ['status','timestamp']\n",
    "    df['timestamp'] = pd.to_datetime(df['timestamp'],dayfirst=True)\n",
    "    return df\n",
    "\n",
    "#for the testing purporse, trim to remain first 100 rows only\n",
    "X = read_features()\n",
    "y = read_target().iloc[:,0]"
   ]
  },
  {
   "cell_type": "markdown",
   "metadata": {},
   "source": [
    "# Remove duplicated columns"
   ]
  },
  {
   "cell_type": "code",
   "execution_count": 4,
   "metadata": {},
   "outputs": [],
   "source": [
    "#find the duplicated features (columns)\n",
    "def remove_duplicated_columns(df):\n",
    "    dict_duplicate_pair = {}\n",
    "    dict_duplicate_matches = {}\n",
    "    list_duplicate = []\n",
    "    to_remove = []\n",
    "    for i in range(0, len(df.columns)):\n",
    "        l = []\n",
    "        for j in range(i+1,len(df.columns)):\n",
    "            dict_duplicate_pair[str(i+1)+';'+str(j+1)] = df.iloc[:,i].equals(df.iloc[:,j])\n",
    "            if df.iloc[:,i].equals(df.iloc[:,j]) == True:\n",
    "                if j not in list_duplicate:\n",
    "                    l.append(j)\n",
    "                    to_remove.append('feature_'+str(j+1))\n",
    "                list_duplicate.append(i)\n",
    "                list_duplicate.append(j)\n",
    "        if len(l)!=0:\n",
    "            dict_duplicate_matches[i] = l\n",
    "\n",
    "\n",
    "    df_duplicate_pair = pd.DataFrame.from_dict(dict_duplicate_pair, orient='index')\n",
    "    df_duplicate_pair.columns=['duplicate']\n",
    "\n",
    "    df_duplicate_matches = pd.DataFrame.from_dict(dict_duplicate_matches, orient='index')\n",
    "\n",
    "    \n",
    "    df = df.drop(columns=to_remove, axis = 1)\n",
    "\n",
    "    return df\n",
    "\n",
    "# X = remove_duplicated_columns(X)\n",
    "# X.shape\n"
   ]
  },
  {
   "cell_type": "markdown",
   "metadata": {},
   "source": [
    "# Remove columns with Constant volatility (std=0)"
   ]
  },
  {
   "cell_type": "code",
   "execution_count": 5,
   "metadata": {},
   "outputs": [],
   "source": [
    "def remove_constant_volatility(df):\n",
    "    df_EDA= df.describe().T\n",
    "    df_EDA= df_EDA[df_EDA[\"std\"] == 0]\n",
    "    df = df.drop(axis=1, columns=df_EDA.index)\n",
    "    return df\n",
    "\n",
    "# X = remove_constant_volatility(X)\n",
    "# X.shape"
   ]
  },
  {
   "cell_type": "markdown",
   "metadata": {},
   "source": [
    "# Remove columns with high %Missing values"
   ]
  },
  {
   "cell_type": "code",
   "execution_count": 6,
   "metadata": {},
   "outputs": [],
   "source": [
    "def remove_cols_with_high_pct_null(df, null_threshold):\n",
    "    list_column_with_pct_null = pd.concat([df.isnull().sum(), df.isnull().sum()/df.shape[0]],axis=1).rename(columns={0:'Missing_Records', 1:'Percentage (%)'})\n",
    "    list_column_with_pct_null= list_column_with_pct_null[list_column_with_pct_null[\"Percentage (%)\"] >= null_threshold]\n",
    "    df = df.drop(axis=1, columns=list_column_with_pct_null.index)\n",
    "    return df\n",
    "\n",
    "# X = remove_cols_with_high_pct_null(X, 0.8)\n",
    "# X.shape"
   ]
  },
  {
   "cell_type": "markdown",
   "metadata": {},
   "source": [
    "# Split data"
   ]
  },
  {
   "cell_type": "code",
   "execution_count": 7,
   "metadata": {},
   "outputs": [],
   "source": [
    "# X_train, X_test, y_train, y_test = train_test_split(X, y, test_size = 0.2, random_state = 1,stratify=y)"
   ]
  },
  {
   "cell_type": "markdown",
   "metadata": {},
   "source": [
    "# Outlier treatment"
   ]
  },
  {
   "cell_type": "code",
   "execution_count": 8,
   "metadata": {},
   "outputs": [],
   "source": [
    "#how = ['NaN', '3s' ,'nothing']\n",
    "def replace_outlier(df, how):\n",
    "    for col in df:\n",
    "        ll_col = df[col].mean() - 3 * df[col].std()\n",
    "        ul_col = df[col].mean() + 3 * df[col].std()\n",
    "        if how == 'NaN':\n",
    "            df[col] = np.where(df[col]>ul_col,np.NaN,np.where(df[col]<ll_col,np.NaN,df[col]))\n",
    "        elif how == '3s':\n",
    "            df[col] = np.where(df[col]>ul_col,ul_col,np.where(df[col]<ll_col,ll_col,df[col]))\n",
    "    return df"
   ]
  },
  {
   "cell_type": "markdown",
   "metadata": {},
   "source": [
    "# Missing value Imputation"
   ]
  },
  {
   "cell_type": "code",
   "execution_count": 9,
   "metadata": {},
   "outputs": [],
   "source": [
    "#which_weights = ['distance','uniform']\n",
    "\n",
    "def impute_null_with_knn(X_train, X_test, which_weights):\n",
    "    #First scale the data \n",
    "    scaler = MinMaxScaler()\n",
    "    X_train = pd.DataFrame(scaler.fit_transform(X_train), columns= X_train.columns)\n",
    "    X_test = pd.DataFrame(scaler.transform(X_test), columns= X_test.columns)\n",
    "\n",
    "    knn = KNNImputer(n_neighbors=5, weights=which_weights) #check this neighbors = 5\n",
    "\n",
    "    X_train = pd.DataFrame(knn.fit_transform(X_train), columns=X_train.columns)\n",
    "    X_test = pd.DataFrame(knn.transform(X_test), columns=X_test.columns)\n",
    "    \n",
    "    X_train = pd.DataFrame(scaler.inverse_transform(X_train), columns= X_train.columns)\n",
    "    X_test = pd.DataFrame(scaler.inverse_transform(X_test), columns= X_test.columns)\n",
    "    return X_train, X_test\n",
    "\n",
    "#X_train = impute_null_with_knn(X_train)"
   ]
  },
  {
   "cell_type": "code",
   "execution_count": 10,
   "metadata": {},
   "outputs": [],
   "source": [
    "def impute_null_with_mice(X_train, X_test): \n",
    "    imp = IterativeImputer(max_iter=5, verbose=0, imputation_order='roman', random_state=0)\n",
    "    X_train = pd.DataFrame(imp.fit_transform(X_train), columns=X_train.columns)\n",
    "    X_test = pd.DataFrame(imp.transform(X_test), columns=X_test.columns)\n",
    "    return X_train, X_test"
   ]
  },
  {
   "cell_type": "markdown",
   "metadata": {},
   "source": [
    "# Feature Selection"
   ]
  },
  {
   "cell_type": "code",
   "execution_count": 11,
   "metadata": {},
   "outputs": [],
   "source": [
    "#This is BorutaShap with TENTATIVE features\n",
    "\n",
    "#list_method=['shap','gini']\n",
    "\n",
    "def BorutaShap_FS (X, y,method_option) :\n",
    "    #modelshap = RandomForestClassifier(n_jobs=-1,n_estimators=100, class_weight='balanced_subsample', max_depth=5, random_state=100)\n",
    "    modelshap = RandomForestClassifier(n_jobs=-1,n_estimators=100, max_depth=5, random_state=100)\n",
    "\n",
    "    # define model for resp. classifier\n",
    "    modelshap.fit(X,y)\n",
    "    feature_names = np.array(X.columns)\n",
    "    # define Boruta Sahp feature selection method\n",
    "    feature_selector = BorutaShap(model=modelshap,\n",
    "                              importance_measure=method_option,\n",
    "                              classification=True)  # find all relevant features\n",
    "    feature_selector.fit(X,y,n_trials=100,sample = False, verbose = False,random_state=100)  \n",
    "    #feature_selector.plot(which_features='accepted',figsize=(20,10))\n",
    "    tentative=X.loc[:,feature_selector.tentative]\n",
    "    selected=feature_selector.Subset()\n",
    "    selten=pd.concat([selected,tentative],axis=1)\n",
    "    # call transform() on X to filter it down to selected features\n",
    "    return  selten"
   ]
  },
  {
   "cell_type": "code",
   "execution_count": 12,
   "metadata": {},
   "outputs": [],
   "source": [
    "#RFE\n",
    "\n",
    "#classifier = ['RF', 'SVM']\n",
    "\n",
    "def RFE_FS (X, y,classify) :\n",
    "    scaler = MinMaxScaler()\n",
    "    X_scaled= pd.DataFrame(scaler.fit_transform(X), columns=X.columns)\n",
    "    feature_names = np.array(X_scaled.columns)\n",
    "    if classify == 'RF':\n",
    "    # define random forest classifier\n",
    "        model = RandomForestClassifier(n_jobs=-1, class_weight='balanced_subsample', max_depth=5, random_state=100)\n",
    "       \n",
    "    if classify== 'SVM':\n",
    "        model = SVC(kernel='linear',C=5)\n",
    "        #rfe = RFECV(estimator = model,scoring='accuracy')\n",
    "    # find all relevant features\n",
    "    model.fit(X_scaled, y)\n",
    "    rfe = RFE(estimator = model,n_features_to_select = 30)\n",
    "    rfe.fit(X_scaled,y)\n",
    "\n",
    "     # zip feature names, ranks, and decisions \n",
    "    feature_ranks = list(zip(feature_names, \n",
    "                             rfe.ranking_, \n",
    "                             rfe.support_))\n",
    "\n",
    "    final_features_rfe = list()\n",
    "    indexes = np.where(rfe.ranking_ <= 2)\n",
    "    for x in np.nditer(indexes):\n",
    "        final_features_rfe.append(feature_names[x])\n",
    "    \n",
    "    \n",
    "    # unscale the data before return\n",
    "    X_unscaled=pd.DataFrame(scaler.inverse_transform(X_scaled), columns=X_scaled.columns)\n",
    "    ff_rfe=pd.DataFrame(X_unscaled.filter(final_features_rfe))\n",
    "    \n",
    "\n",
    " # call transform() on X to filter it down to selected features\n",
    "    return  ff_rfe"
   ]
  },
  {
   "cell_type": "code",
   "execution_count": 13,
   "metadata": {},
   "outputs": [],
   "source": [
    "#Boruta function with random forest\n",
    "\n",
    "def BorutaPy_FS (X, y) :\n",
    "    feature_names = np.array(X.columns)\n",
    "\n",
    "    # define random forest classifier\n",
    "    model = RandomForestClassifier(n_jobs=-1, class_weight='balanced_subsample', max_depth=5, random_state=100)\n",
    "    model.fit(X, y)\n",
    "    # define Boruta feature selection method\n",
    "    \n",
    "    feature_selector = BorutaPy(model, n_estimators='auto', verbose=0, random_state=100, max_iter=140)\n",
    "\n",
    "    # find all relevant features\n",
    "    feature_selector.fit(X.to_numpy(),y)\n",
    "\n",
    "    # check selected features\n",
    "    ##--feature_selector.support_\n",
    "\n",
    "    # check ranking of features\n",
    "    ##--feature_ranking=feature_selector.ranking_\n",
    "\n",
    "    # zip feature names, ranks, and decisions \n",
    "    # feature_ranks = list(zip(feature_names, \n",
    "    #                          feature_selector.ranking_, \n",
    "    #                          feature_selector.support_))\n",
    "\n",
    "    # print the results\n",
    "    ##--for feat in feature_ranks:\n",
    "    ##--    print('Feature: {:<30} Rank: {},  Keep: {}'.format(feat[0], feat[1], feat[2]))\n",
    "        \n",
    "    final_features = list()\n",
    "    indexes = np.where(feature_selector.ranking_ <= 2) #change to 2\n",
    "    for x in np.nditer(indexes):\n",
    "        final_features.append(feature_names[x])\n",
    "    ##--print(final_features)\n",
    "    \n",
    " # call transform() on X to filter it down to selected features\n",
    "    return pd.DataFrame(X.filter(final_features))"
   ]
  },
  {
   "cell_type": "markdown",
   "metadata": {},
   "source": [
    "# Multicolinearity treatement"
   ]
  },
  {
   "cell_type": "code",
   "execution_count": 14,
   "metadata": {},
   "outputs": [],
   "source": [
    "#Remove the highly collinear features from data\n",
    "def remove_collinear_features(x, threshold):\n",
    "    '''\n",
    "    Objective:\n",
    "        Remove collinear features in a dataframe with a correlation coefficient\n",
    "        greater than the threshold. Removing collinear features can help a model \n",
    "        to generalize and improves the interpretability of the model.\n",
    "\n",
    "    Inputs: \n",
    "        x: features dataframe\n",
    "        threshold: features with correlations greater than this value are removed\n",
    "\n",
    "    Output: \n",
    "        dataframe that contains only the non-highly-collinear features\n",
    "    '''\n",
    "\n",
    "    # Calculate the correlation matrix\n",
    "    corr_matrix = x.corr()\n",
    "    iters = range(len(corr_matrix.columns) - 1)\n",
    "    drop_cols = []\n",
    "\n",
    "    # Iterate through the correlation matrix and compare correlations\n",
    "    for i in iters:\n",
    "        for j in range(i+1):\n",
    "            item = corr_matrix.iloc[j:(j+1), (i+1):(i+2)]\n",
    "            col = item.columns\n",
    "            row = item.index\n",
    "            val = abs(item.values)\n",
    "\n",
    "            # If correlation exceeds the threshold\n",
    "            if val >= threshold:\n",
    "                #Print the correlated features and the correlation value\n",
    "                #print(col.values[0], \"|\", row.values[0], \"|\", round(val[0][0], 2))\n",
    "                drop_cols.append(col.values[0])\n",
    "\n",
    "    # Drop one of each pair of correlated columns\n",
    "    drops = set(drop_cols)\n",
    "    x = x.drop(columns=drops)\n",
    "\n",
    "    return x\n",
    "\n",
    "#remove_collinear_features(X, 0.7)"
   ]
  },
  {
   "cell_type": "markdown",
   "metadata": {},
   "source": [
    "# Balancing"
   ]
  },
  {
   "cell_type": "code",
   "execution_count": 15,
   "metadata": {},
   "outputs": [],
   "source": [
    "def sampling(X_train, y_train, sampler):\n",
    "    \n",
    "    #SMOTE\n",
    "    if sampler == 'SMOTE':\n",
    "        sampler = SMOTE(random_state=100)    \n",
    "    \n",
    "    #ROSE\n",
    "    if sampler == 'ROSE':\n",
    "        sampler = RandomOverSampler(random_state=100, shrinkage=1)\n",
    "\n",
    "    #ADASYN\n",
    "    if sampler == 'ADASYN':\n",
    "        sampler = ADASYN(random_state=100)\n",
    "    \n",
    "\n",
    "    #SMOTTEENN\n",
    "    if sampler == 'SMOTEENN' :\n",
    "        sampler = SMOTEENN(random_state=100)\n",
    "        \n",
    "        \n",
    "    #Random under Sampling\n",
    "    if sampler == \"randomunder\":\n",
    "        sampler = RandomUnderSampler(random_state=100)\n",
    "\n",
    "    X_resampled, y_resampled = sampler.fit_resample(X_train, y_train)\n",
    "    #counter = Counter(y_resampled)\n",
    "    #print(counter)\n",
    "    \n",
    "    return X_resampled, y_resampled\n",
    "\n",
    "# X_train, y_train = sampling(X_train, y_train,'SMOTE')\n",
    "# X_train.shape"
   ]
  },
  {
   "cell_type": "markdown",
   "metadata": {},
   "source": [
    "# Model"
   ]
  },
  {
   "cell_type": "markdown",
   "metadata": {},
   "source": [
    "#### Model: Random Forest & Logistic Regression"
   ]
  },
  {
   "cell_type": "code",
   "execution_count": 16,
   "metadata": {},
   "outputs": [],
   "source": [
    "which_model = ['RF', 'LR']\n",
    "\n",
    "def run_model(X_train, y_train, X_test, y_test, which_model):\n",
    "\n",
    "    if which_model == 'RF':\n",
    "    # building model before balancing data\n",
    "        model = RandomForestClassifier(random_state=1, n_estimators=1000, max_depth=5) ###############\n",
    "    elif which_model == 'LR':\n",
    "        model = LogisticRegression(random_state=1)\n",
    "    \n",
    "    model.fit(X_train,y_train)\n",
    "\n",
    "\n",
    "    #For TEST SPLIT\n",
    "    y_pred= model.predict(X_test)\n",
    "    cf_matrix = confusion_matrix(y_test, y_pred)\n",
    "    accuracy= accuracy_score(y_test, y_pred)\n",
    "    f1 = f1_score(y_test, y_pred) ##\n",
    "    precision = precision_score(y_test, y_pred)\n",
    "    recall = recall_score(y_test, y_pred)\n",
    "    sensitivity = cf_matrix[1][1] / ( cf_matrix[1][1] + cf_matrix[1][0] )\n",
    "    auc = roc_auc_score(y_test, y_pred)\n",
    "    type_1_error_FP = cf_matrix[1][0]\n",
    "    type_2_error_FN = cf_matrix[0][1]\n",
    "    log_loss_ = log_loss(y_test, y_pred)\n",
    "    cohen_kappa_score_ = cohen_kappa_score(y_test, y_pred)\n",
    "    #Note by default 1 is the positive label. Therefore, -1 is negative\n",
    "    #bad waffe -> 2 line of matrix -> POSITIVE -> data = -1\n",
    "\n",
    "    #For TRAIN SPLIT\n",
    "    y_pred_train= model.predict(X_train)\n",
    "    cf_matrix_train = confusion_matrix(y_train, y_pred_train)\n",
    "    accuracy_train= accuracy_score(y_train, y_pred_train)\n",
    "    f1_train = f1_score(y_train, y_pred_train) ##\n",
    "    precision_train = precision_score(y_train, y_pred_train)\n",
    "    recall_train = recall_score(y_train, y_pred_train)\n",
    "    sensitivity_train = cf_matrix_train[1][1] / ( cf_matrix_train[1][1] + cf_matrix_train[1][0] )\n",
    "    auc_train = roc_auc_score(y_train, y_pred_train)\n",
    "    type_1_error_FP_train = cf_matrix_train[1][0]\n",
    "    type_2_error_FN_train = cf_matrix_train[0][1]\n",
    "\n",
    "\n",
    "\n",
    "\n",
    "    return cf_matrix, accuracy, f1, precision, recall, sensitivity, type_1_error_FP, type_2_error_FN, auc,log_loss_,cohen_kappa_score_, cf_matrix_train, accuracy_train, f1_train, precision_train, recall_train, sensitivity_train, type_1_error_FP_train, type_2_error_FN_train, auc_train\n",
    "\n",
    "#run_model(X_train, y_train, X_test, y_test)"
   ]
  },
  {
   "cell_type": "markdown",
   "metadata": {},
   "source": [
    "#### Model: Deep Neural Network"
   ]
  },
  {
   "cell_type": "code",
   "execution_count": 17,
   "metadata": {},
   "outputs": [],
   "source": [
    "#NN\n",
    "\n",
    "\n",
    "def run_model_NN(X_train, y_train, X_test, y_test):\n",
    "    y_train = y_train.replace(-1, 0) #to_cat cannot work with negative numbers\n",
    "    y_test = y_test.replace(-1, 0)\n",
    "\n",
    "    input_dim = X_train.shape[1]\n",
    "\n",
    "    model = Sequential()\n",
    "    model.add(Dense(50, activation='relu', input_dim=input_dim))\n",
    "    model.add(Dense(35, activation='relu'))\n",
    "    model.add(Dense(20, activation='relu'))\n",
    "    model.add(Dense(10, activation='relu'))\n",
    "    model.add(Dense(5, activation='relu'))\n",
    "    model.add(Dense(2, activation='softmax'))\n",
    "\n",
    "    # Compile the model\n",
    "    model.compile(optimizer='adam', \n",
    "                loss='categorical_crossentropy', \n",
    "                metrics=['accuracy'])\n",
    "\n",
    "    # one hot encode outputs\n",
    "    y_train_c = to_categorical(y_train)\n",
    "    y_test_c = to_categorical(y_test)\n",
    "\n",
    "\n",
    "    model.fit(X_train, y_train_c, epochs=10, batch_size=50, verbose=2)\n",
    "\n",
    "\n",
    "    #For TEST SPLIT\n",
    "    y_pred = model.predict(X_test)\n",
    "    #Converting predictions to label\n",
    "    pred = list()\n",
    "    for i in range(len(y_pred)):\n",
    "        pred.append(np.argmax(y_pred[i]))\n",
    "\n",
    "    #Converting one hot encoded test label to label\n",
    "    test = list()\n",
    "    for i in range(len(y_test_c)):\n",
    "        test.append(np.argmax(y_test_c[i]))\n",
    "\n",
    "\n",
    "    cf_matrix = confusion_matrix(test, pred)\n",
    "    accuracy= accuracy_score(test, pred)\n",
    "    f1 = f1_score(test, pred) ##\n",
    "    precision = precision_score(test, pred)\n",
    "    recall = recall_score(test, pred)\n",
    "    sensitivity = cf_matrix[1][1] / ( cf_matrix[1][1] + cf_matrix[1][0] ) #change from specificity -> sensitivity\n",
    "    auc = roc_auc_score(test, pred)\n",
    "    type_1_error_FP = cf_matrix[1][0]\n",
    "    type_2_error_FN = cf_matrix[0][1]\n",
    "    log_loss_ = log_loss(test, pred)\n",
    "    cohen_kappa_score_ = cohen_kappa_score(test, pred)\n",
    "    #Note by default 1 is the positive label. Therefore, -1 is negative\n",
    "    #bad waffe -> 2 line of matrix -> POSITIVE -> data = -1\n",
    "\n",
    "\n",
    "    #For TRAIN SPLIT\n",
    "    y_pred_train = model.predict(X_train)\n",
    "    #Converting predictions to label\n",
    "    pred_train = list()\n",
    "    for i in range(len(y_pred_train)): \n",
    "        pred_train.append(np.argmax(y_pred_train[i]))\n",
    "\n",
    "    #Converting one hot encoded test label to label\n",
    "    train_ = list()\n",
    "    for i in range(len(y_train_c)):\n",
    "        train_.append(np.argmax(y_train_c[i]))\n",
    "\n",
    "    y_pred_train= model.predict(X_train)\n",
    "    cf_matrix_train = confusion_matrix(train_, pred_train)\n",
    "    accuracy_train= accuracy_score(train_, pred_train)\n",
    "    f1_train = f1_score(train_, pred_train) ##\n",
    "    precision_train = precision_score(train_, pred_train)\n",
    "    recall_train = recall_score(train_, pred_train)\n",
    "    sensitivity_train = cf_matrix_train[1][1] / ( cf_matrix_train[1][1] + cf_matrix_train[1][0] )\n",
    "    auc_train = roc_auc_score(train_, pred_train)\n",
    "    type_1_error_FP_train = cf_matrix_train[1][0]\n",
    "    type_2_error_FN_train = cf_matrix_train[0][1]\n",
    "\n",
    "\n",
    "    return cf_matrix, accuracy, f1, precision, recall, sensitivity, type_1_error_FP, type_2_error_FN, auc,log_loss_,cohen_kappa_score_, cf_matrix_train, accuracy_train, f1_train, precision_train, recall_train, sensitivity_train, type_1_error_FP_train, type_2_error_FN_train, auc_train\n"
   ]
  },
  {
   "cell_type": "markdown",
   "metadata": {},
   "source": [
    "# PART 2: EXECUTION"
   ]
  },
  {
   "cell_type": "code",
   "execution_count": 21,
   "metadata": {},
   "outputs": [
    {
     "data": {
      "text/plain": [
       "(466,)"
      ]
     },
     "execution_count": 21,
     "metadata": {},
     "output_type": "execute_result"
    }
   ],
   "source": [
    "fast_track_cols = X_test.columns\n",
    "fast_track_cols.shape"
   ]
  },
  {
   "cell_type": "code",
   "execution_count": 22,
   "metadata": {
    "scrolled": false
   },
   "outputs": [
    {
     "name": "stderr",
     "output_type": "stream",
     "text": [
      "100%|██████████| 100/100 [00:50<00:00,  1.97it/s]\n"
     ]
    },
    {
     "name": "stdout",
     "output_type": "stream",
     "text": [
      "n_cols BEFORE multicolinearity treatement 11\n",
      "n_cols AFTER multicolinearity treatement 9\n",
      "attemp no.:  1 3s & knn__uniform & BoS__gini & Yes & SMOTEENN & RF  acc:  0.821656050955414  accuracy_train:  0.8938156359393232  f1:  0.3170731707317073  f1_train:  0.9006550218340611  sensitivity:  0.6190476190476191  :auc  0.7276125467251747  cfm:  \n",
      " [[245  48]\n",
      " [  8  13]] \n",
      " n_cols 9\n"
     ]
    },
    {
     "name": "stderr",
     "output_type": "stream",
     "text": [
      "100%|██████████| 100/100 [00:44<00:00,  2.25it/s]\n"
     ]
    },
    {
     "name": "stdout",
     "output_type": "stream",
     "text": [
      "n_cols BEFORE multicolinearity treatement 14\n",
      "n_cols AFTER multicolinearity treatement 8\n",
      "attemp no.:  2 3s & knn__uniform & BoS__gini & Yes & SMOTEENN & LR  acc:  0.8503184713375797  accuracy_train:  0.7227214377406932  f1:  0.31884057971014496  f1_train:  0.698744769874477  sensitivity:  0.5238095238095238  :auc  0.6987648301641476  cfm:  \n",
      " [[256  37]\n",
      " [ 10  11]] \n",
      " n_cols 8\n"
     ]
    },
    {
     "name": "stderr",
     "output_type": "stream",
     "text": [
      "100%|██████████| 100/100 [00:45<00:00,  2.18it/s]\n"
     ]
    },
    {
     "name": "stdout",
     "output_type": "stream",
     "text": [
      "n_cols BEFORE multicolinearity treatement 13\n",
      "n_cols AFTER multicolinearity treatement 8\n",
      "attemp no.:  3 3s & knn__uniform & BoS__gini & Yes & ADASYN & RF  acc:  0.7356687898089171  accuracy_train:  0.8479758828596038  f1:  0.1616161616161616  f1_train:  0.8553871364195001  sensitivity:  0.38095238095238093  :auc  0.5710222655615147  cfm:  \n",
      " [[223  70]\n",
      " [ 13   8]] \n",
      " n_cols 8\n"
     ]
    },
    {
     "name": "stderr",
     "output_type": "stream",
     "text": [
      "100%|██████████| 100/100 [00:50<00:00,  2.00it/s]\n"
     ]
    },
    {
     "name": "stdout",
     "output_type": "stream",
     "text": [
      "n_cols BEFORE multicolinearity treatement 11\n",
      "n_cols AFTER multicolinearity treatement 8\n",
      "attemp no.:  4 3s & knn__uniform & BoS__gini & Yes & ADASYN & LR  acc:  0.6624203821656051  accuracy_train:  0.5882859603789836  f1:  0.15873015873015872  f1_train:  0.5565862708719852  sensitivity:  0.47619047619047616  :auc  0.5759791971396068  cfm:  \n",
      " [[198  95]\n",
      " [ 11  10]] \n",
      " n_cols 8\n"
     ]
    },
    {
     "name": "stderr",
     "output_type": "stream",
     "text": [
      "100%|██████████| 100/100 [00:49<00:00,  2.03it/s]\n"
     ]
    },
    {
     "name": "stdout",
     "output_type": "stream",
     "text": [
      "n_cols BEFORE multicolinearity treatement 12\n",
      "n_cols AFTER multicolinearity treatement 8\n",
      "attemp no.:  5 3s & knn__uniform & BoS__gini & Yes & SMOTE & RF  acc:  0.7070063694267515  accuracy_train:  0.8064102564102564  f1:  0.16363636363636364  f1_train:  0.8187274909963985  sensitivity:  0.42857142857142855  :auc  0.5777669429546561  cfm:  \n",
      " [[213  80]\n",
      " [ 12   9]] \n",
      " n_cols 8\n"
     ]
    },
    {
     "name": "stderr",
     "output_type": "stream",
     "text": [
      "100%|██████████| 100/100 [00:48<00:00,  2.05it/s]\n"
     ]
    },
    {
     "name": "stdout",
     "output_type": "stream",
     "text": [
      "n_cols BEFORE multicolinearity treatement 12\n",
      "n_cols AFTER multicolinearity treatement 8\n",
      "attemp no.:  6 3s & knn__uniform & BoS__gini & Yes & SMOTE & LR  acc:  0.6114649681528662  accuracy_train:  0.5833333333333334  f1:  0.1408450704225352  f1_train:  0.5633676668159426  sensitivity:  0.47619047619047616  :auc  0.5486754428733951  cfm:  \n",
      " [[182 111]\n",
      " [ 11  10]] \n",
      " n_cols 8\n"
     ]
    },
    {
     "name": "stderr",
     "output_type": "stream",
     "text": [
      "100%|██████████| 100/100 [00:49<00:00,  2.02it/s]\n"
     ]
    },
    {
     "name": "stdout",
     "output_type": "stream",
     "text": [
      "n_cols BEFORE multicolinearity treatement 7\n",
      "n_cols AFTER multicolinearity treatement 5\n",
      "attemp no.:  7 3s & knn__uniform & BoS__gini & Yes & ROSE & RF  acc:  0.802547770700637  accuracy_train:  0.7380341880341881  f1:  0.22500000000000003  f1_train:  0.7037216046399226  sensitivity:  0.42857142857142855  :auc  0.6289614822038031  cfm:  \n",
      " [[243  50]\n",
      " [ 12   9]] \n",
      " n_cols 5\n"
     ]
    },
    {
     "name": "stderr",
     "output_type": "stream",
     "text": [
      "100%|██████████| 100/100 [00:49<00:00,  2.02it/s]\n"
     ]
    },
    {
     "name": "stdout",
     "output_type": "stream",
     "text": [
      "n_cols BEFORE multicolinearity treatement 7\n",
      "n_cols AFTER multicolinearity treatement 5\n",
      "attemp no.:  8 3s & knn__uniform & BoS__gini & Yes & ROSE & LR  acc:  0.5573248407643312  accuracy_train:  0.5376068376068376  f1:  0.12578616352201258  f1_train:  0.5130513051305131  sensitivity:  0.47619047619047616  :auc  0.5196652039655452  cfm:  \n",
      " [[165 128]\n",
      " [ 11  10]] \n",
      " n_cols 5\n"
     ]
    },
    {
     "name": "stderr",
     "output_type": "stream",
     "text": [
      "100%|██████████| 100/100 [00:50<00:00,  1.98it/s]\n"
     ]
    },
    {
     "name": "stdout",
     "output_type": "stream",
     "text": [
      "n_cols BEFORE multicolinearity treatement 11\n",
      "n_cols AFTER multicolinearity treatement 7\n",
      "attemp no.:  9 3s & MICE & BoS__gini & Yes & SMOTEENN & RF  acc:  0.678343949044586  accuracy_train:  0.8830675778283978  f1:  0.1788617886178862  f1_train:  0.8948087431693988  sensitivity:  0.5238095238095238  :auc  0.6066146595156834  cfm:  \n",
      " [[202  91]\n",
      " [ 10  11]] \n",
      " n_cols 7\n"
     ]
    },
    {
     "name": "stderr",
     "output_type": "stream",
     "text": [
      "100%|██████████| 100/100 [00:50<00:00,  1.97it/s]\n"
     ]
    },
    {
     "name": "stdout",
     "output_type": "stream",
     "text": [
      "n_cols BEFORE multicolinearity treatement 11\n",
      "n_cols AFTER multicolinearity treatement 7\n",
      "attemp no.:  10 3s & MICE & BoS__gini & Yes & SMOTEENN & LR  acc:  0.4267515923566879  accuracy_train:  0.6332574031890661  f1:  0.1346153846153846  f1_train:  0.6994399502177971  sensitivity:  0.6666666666666666  :auc  0.5381114903299203  cfm:  \n",
      " [[120 173]\n",
      " [  7  14]] \n",
      " n_cols 7\n"
     ]
    },
    {
     "name": "stderr",
     "output_type": "stream",
     "text": [
      "100%|██████████| 100/100 [00:49<00:00,  2.04it/s]\n"
     ]
    },
    {
     "name": "stdout",
     "output_type": "stream",
     "text": [
      "n_cols BEFORE multicolinearity treatement 11\n",
      "n_cols AFTER multicolinearity treatement 7\n",
      "attemp no.:  11 3s & MICE & BoS__gini & Yes & ADASYN & RF  acc:  0.5955414012738853  accuracy_train:  0.7623888182973316  f1:  0.12413793103448277  f1_train:  0.7849750862399386  sensitivity:  0.42857142857142855  :auc  0.5180399804973184  cfm:  \n",
      " [[178 115]\n",
      " [ 12   9]] \n",
      " n_cols 7\n"
     ]
    },
    {
     "name": "stderr",
     "output_type": "stream",
     "text": [
      "100%|██████████| 100/100 [00:51<00:00,  1.93it/s]\n"
     ]
    },
    {
     "name": "stdout",
     "output_type": "stream",
     "text": [
      "n_cols BEFORE multicolinearity treatement 8\n",
      "n_cols AFTER multicolinearity treatement 4\n",
      "attemp no.:  12 3s & MICE & BoS__gini & Yes & ADASYN & LR  acc:  0.5414012738853503  accuracy_train:  0.5201185938161795  f1:  0.15294117647058825  f1_train:  0.5088859991330733  sensitivity:  0.6190476190476191  :auc  0.5774418982610109  cfm:  \n",
      " [[157 136]\n",
      " [  8  13]] \n",
      " n_cols 4\n"
     ]
    },
    {
     "name": "stderr",
     "output_type": "stream",
     "text": [
      "100%|██████████| 100/100 [00:50<00:00,  1.99it/s]\n"
     ]
    },
    {
     "name": "stdout",
     "output_type": "stream",
     "text": [
      "n_cols BEFORE multicolinearity treatement 7\n",
      "n_cols AFTER multicolinearity treatement 4\n",
      "attemp no.:  13 3s & MICE & BoS__gini & Yes & SMOTE & RF  acc:  0.7961783439490446  accuracy_train:  0.7175213675213675  f1:  0.21951219512195122  f1_train:  0.6835806606031595  sensitivity:  0.42857142857142855  :auc  0.6255485129205266  cfm:  \n",
      " [[241  52]\n",
      " [ 12   9]] \n",
      " n_cols 4\n"
     ]
    },
    {
     "name": "stderr",
     "output_type": "stream",
     "text": [
      "100%|██████████| 100/100 [00:51<00:00,  1.93it/s]\n"
     ]
    },
    {
     "name": "stdout",
     "output_type": "stream",
     "text": [
      "n_cols BEFORE multicolinearity treatement 5\n",
      "n_cols AFTER multicolinearity treatement 5\n",
      "attemp no.:  14 3s & MICE & BoS__gini & Yes & SMOTE & LR  acc:  0.5859872611464968  accuracy_train:  0.5303418803418803  f1:  0.14473684210526316  f1_train:  0.5033890646181653  sensitivity:  0.5238095238095238  :auc  0.5571266049081749  cfm:  \n",
      " [[173 120]\n",
      " [ 10  11]] \n",
      " n_cols 5\n"
     ]
    },
    {
     "name": "stderr",
     "output_type": "stream",
     "text": [
      "100%|██████████| 100/100 [01:04<00:00,  1.56it/s]\n"
     ]
    },
    {
     "name": "stdout",
     "output_type": "stream",
     "text": [
      "n_cols BEFORE multicolinearity treatement 5\n",
      "n_cols AFTER multicolinearity treatement 5\n",
      "attemp no.:  15 3s & MICE & BoS__gini & Yes & ROSE & RF  acc:  0.7961783439490446  accuracy_train:  0.7534188034188034  f1:  0.23809523809523808  f1_train:  0.7181240840254031  sensitivity:  0.47619047619047616  :auc  0.6476515520884121  cfm:  \n",
      " [[240  53]\n",
      " [ 11  10]] \n",
      " n_cols 5\n"
     ]
    },
    {
     "name": "stderr",
     "output_type": "stream",
     "text": [
      "100%|██████████| 100/100 [00:53<00:00,  1.87it/s]\n"
     ]
    },
    {
     "name": "stdout",
     "output_type": "stream",
     "text": [
      "n_cols BEFORE multicolinearity treatement 5\n",
      "n_cols AFTER multicolinearity treatement 5\n",
      "attemp no.:  16 3s & MICE & BoS__gini & Yes & ROSE & LR  acc:  0.589171974522293  accuracy_train:  0.5363247863247863  f1:  0.16774193548387098  f1_train:  0.5105999097880018  sensitivity:  0.6190476190476191  :auc  0.6030391678855843  cfm:  \n",
      " [[172 121]\n",
      " [  8  13]] \n",
      " n_cols 5\n"
     ]
    }
   ],
   "source": [
    "X = read_features()\n",
    "y = read_target().iloc[:,0]\n",
    "\n",
    "removing_coli = 'Yes'\n",
    "#['Yes', 'No']\n",
    "\n",
    "result = []\n",
    "i = 1\n",
    "\n",
    "\n",
    "\n",
    "#step 1:\n",
    "X_train, X_test, y_train, y_test = train_test_split(X, y, test_size = 0.2, random_state = 1, stratify=y)\n",
    "#change random state??\n",
    "\n",
    "#-----------\n",
    "\n",
    "# # step 2:\n",
    "# X_train = remove_duplicated_columns(X_train)\n",
    "# #step 3:\n",
    "# X_train = remove_constant_volatility(X_train)\n",
    "# #step 4:\n",
    "# X_train = remove_cols_with_high_pct_null(X_train, 0.8) #this can be in the loop too, may be later\n",
    "# #step 5: remove the same columns from step 2-4 TRAIN_TEST split\n",
    "# X_test = X_test.loc[:,X_train.columns]\n",
    "\n",
    "#------------\n",
    "\n",
    "X_train = X_train.loc[:, fast_track_cols]\n",
    "X_test = X_test.loc[:, fast_track_cols]\n",
    "\n",
    "#------------\n",
    "\n",
    "\n",
    "\n",
    "\n",
    "#step 6-9\n",
    "replace_outlier_options = ['3s'] #nothing at all\n",
    "#replace_outlier_options = ['3s','NaN','nothing']\n",
    "impute_null_options = ['knn__uniform','MICE']\n",
    "#impute_null_options = ['knn__distance', 'MICE', 'knn__uniform']\n",
    "FS_options = ['BoS__gini']\n",
    "#FS_options = ['BoP','BoS__shap', 'BoS__gini', 'RFE__RF', 'RFE__SVM', 'nothing]\n",
    "sampling_options = ['SMOTEENN','ADASYN','SMOTE','ROSE'] #TRY OTHER SAMPLING\n",
    "#sampling_options = ['SMOTE','ROSE','ADASYN','SMOTEENN']\n",
    "model_options = ['RF','LR']\n",
    "#model_options = ['LR', 'RF', 'NN']\n",
    "#try RF=10depth\n",
    "\n",
    "#next: TRY KNN DISTANCE\n",
    "\n",
    "for replace_with in replace_outlier_options:\n",
    "    for knn_weight in impute_null_options:\n",
    "        for classifier_model in FS_options:\n",
    "            for sampling_technique in sampling_options:\n",
    "                for Model in model_options:\n",
    "                    X_train_temp = X_train\n",
    "                    X_test_temp = X_test\n",
    "                    y_train_temp = y_train\n",
    "                    y_test_temp = y_test\n",
    "\n",
    "                    combined_technique = replace_with +' & '+ knn_weight +' & '+ classifier_model + ' & ' + removing_coli +' & '+ sampling_technique +' & '+ Model\n",
    "\n",
    "                    #step 6: oulier treatement (on both TRAIN & TEST split)\n",
    "                    if replace_with != 'nothing':\n",
    "                        X_train_temp = replace_outlier(X_train_temp, replace_with)\n",
    "                        X_test_temp = replace_outlier(X_test_temp, replace_with)\n",
    "                    \n",
    "                    #step 7: missing value imputation (on both TRAIN & TEST split)\n",
    "                    if knn_weight == 'knn__distance' or knn_weight == 'knn__uniform':\n",
    "                        X_train_temp, X_test_temp = impute_null_with_knn(X_train_temp, X_test_temp, knn_weight[-(len(knn_weight)-5):])\n",
    "                    elif knn_weight == 'MICE':\n",
    "                        X_train_temp, X_test_temp = impute_null_with_mice(X_train_temp, X_test_temp)\n",
    "\n",
    "                    #step 8: feature selection (on both TRAIN & TEST split)\n",
    "                    if classifier_model !='nothing':\n",
    "                        if classifier_model == 'BoS__shap' or classifier_model == 'BoS__gini':\n",
    "                            X_train_temp = BorutaShap_FS(X_train_temp, y_train_temp, classifier_model[-(len(classifier_model)-5):])\n",
    "                        elif classifier_model == 'RFE__RF' or classifier_model == 'RFE__SVM':\n",
    "                            X_train_temp = RFE_FS(X_train_temp, y_train_temp, classifier_model[-(len(classifier_model)-5):])\n",
    "                        elif classifier_model == 'BoP':\n",
    "                            X_train_temp = BorutaPy_FS(X_train_temp, y_train_temp)\n",
    "                    \n",
    "\n",
    "                        #step 9: remove multilinear features\n",
    "                    if removing_coli=='Yes':\n",
    "                        print('n_cols BEFORE multicolinearity treatement', X_train_temp.shape[1])\n",
    "                        X_train_temp = remove_collinear_features(X_train_temp, 0.7)\n",
    "                        print('n_cols AFTER multicolinearity treatement', X_train_temp.shape[1])\n",
    "\n",
    "                    #apply the same result for TEST\n",
    "                    X_test_temp = X_test_temp.loc[:,X_train_temp.columns]\n",
    "\n",
    "                    #print out datasets for backup\n",
    "                    X_train_temp.to_csv('sampling_visualization/X_train_temp_BEFORESAMPLING_'+str(i)+combined_technique+'.csv')\n",
    "                    X_test_temp.to_csv('sampling_visualization/X_test_temp_BEFORESAMPLING_'+str(i)+combined_technique+'.csv')\n",
    "                    y_train_temp.to_csv('sampling_visualization/y_train_temp_BEFORESAMPLING_'+str(i)+combined_technique+'.csv')\n",
    "                    y_test_temp.to_csv('sampling_visualization/y_test_temp_BEFORESAMPLING_'+str(i)+combined_technique+'.csv')\n",
    "\n",
    "                    #step 10: balancing only on TRAIN split\n",
    "                    X_train_temp, y_train_temp = sampling(X_train_temp, y_train_temp, sampling_technique)\n",
    "\n",
    "                    #print out datasets for backup\n",
    "                    X_train_temp.to_csv('sampling_visualization/X_train_temp_AFTERSAMPLING_'+str(i)+combined_technique+'.csv')\n",
    "                    X_test_temp.to_csv('sampling_visualization/X_test_temp_AFTERSAMPLING_'+str(i)+combined_technique+'.csv')\n",
    "                    y_train_temp.to_csv('sampling_visualization/y_train_temp_AFTERSAMPLING_'+str(i)+combined_technique+'.csv')\n",
    "                    y_test_temp.to_csv('sampling_visualization/y_test_temp_AFTERSAMPLING_'+str(i)+combined_technique+'.csv')\n",
    "\n",
    "\n",
    "                    #step 11: train model, predict, and print scores\n",
    "                    if Model != 'NN':\n",
    "                        try:\n",
    "                            cf_matrix, accuracy, f1, precision, recall, sensitivity, type_1_error_FP, type_2_error_FN, auc, log_loss_,cohen_kappa_score_, cf_matrix_train, accuracy_train, f1_train, precision_train, recall_train, sensitivity_train, type_1_error_FP_train, type_2_error_FN_train, auc_train = run_model(X_train_temp, y_train_temp, X_test_temp, y_test_temp, Model)\n",
    "                        except Exception:\n",
    "                            cf_matrix = accuracy = f1 = precision = recall = sensitivity = type_1_error_FP = type_2_error_FN = auc = log_loss_ =cohen_kappa_score_ = cf_matrix_train = accuracy_train = f1_train = precision_train = recall_train = sensitivity_train = type_1_error_FP_train = type_2_error_FN_train = auc_train = 0\n",
    "                    elif Model == 'NN':\n",
    "                        try:\n",
    "                            cf_matrix, accuracy, f1, precision, recall, sensitivity, type_1_error_FP, type_2_error_FN, auc, log_loss_,cohen_kappa_score_, cf_matrix_train, accuracy_train, f1_train, precision_train, recall_train, sensitivity_train, type_1_error_FP_train, type_2_error_FN_train, auc_train = run_model_NN(X_train_temp, y_train_temp, X_test_temp, y_test_temp)\n",
    "                        except Exception:\n",
    "                            cf_matrix = accuracy = f1 = precision = recall = sensitivity = type_1_error_FP = type_2_error_FN = auc = log_loss_ =cohen_kappa_score_ = cf_matrix_train = accuracy_train = f1_train = precision_train = recall_train = sensitivity_train = type_1_error_FP_train = type_2_error_FN_train = auc_train = 0\n",
    "\n",
    "                    result.append((i, combined_technique, X_train_temp.shape[1], replace_with, knn_weight, classifier_model, removing_coli, sampling_technique, Model, X_train_temp.columns, cf_matrix, accuracy, f1, precision, recall, sensitivity, type_1_error_FP, type_2_error_FN, auc, log_loss_, cohen_kappa_score_, cf_matrix_train, accuracy_train, f1_train, precision_train, recall_train, sensitivity_train, type_1_error_FP_train, type_2_error_FN_train, auc_train))\n",
    "                    \n",
    "                    print('attemp no.: ',i, combined_technique,' acc: ', accuracy,' accuracy_train: ',accuracy_train, ' f1: ', f1,' f1_train: ',f1_train, ' sensitivity: ', sensitivity, ' :auc ', auc, ' cfm: ', '\\n', cf_matrix, '\\n n_cols', X_train_temp.shape[1])\n",
    "                    \n",
    "\n",
    "                    if i%5==0: \n",
    "                        df_result = pd.DataFrame(result, columns = ['No.','combination','n_cols','outlier_replace_with', 'imputation_knn_weight', 'FS_classifier_model', 'removing_coli','balancing_sampling_technique', 'Model','cols','cf_matrix', 'accuracy', 'f1', 'precision', 'recall', 'sensitivity', 'type_1_error_FP', 'type_2_error_FN', 'auc', 'log_loss_','cohen_kappa_score_','cf_matrix_train', 'accuracy_train', 'f1_train', 'precision_train', 'recall_train', 'sensitivity_train', 'type_1_error_FP_train', 'type_2_error_FN_train', 'auc_train'])\n",
    "                        df_result.to_csv('tracker/result'+str(i)+'.csv')\n",
    "                    \n",
    "\n",
    "                    i+=1\n",
    "\n",
    "\n",
    "\n",
    "df_result = pd.DataFrame(result, columns = ['No.','combination','n_cols','outlier_replace_with', 'imputation_knn_weight', 'FS_classifier_model', 'removing_coli','balancing_sampling_technique', 'Model','cols','cf_matrix', 'accuracy', 'f1', 'precision', 'recall', 'sensitivity', 'type_1_error_FP', 'type_2_error_FN', 'auc', 'log_loss_','cohen_kappa_score_','cf_matrix_train', 'accuracy_train', 'f1_train', 'precision_train', 'recall_train', 'sensitivity_train', 'type_1_error_FP_train', 'type_2_error_FN_train', 'auc_train'])\n",
    "df_result.to_csv('tracker/result.csv')\n",
    "\n"
   ]
  },
  {
   "cell_type": "code",
   "execution_count": null,
   "metadata": {},
   "outputs": [],
   "source": []
  }
 ],
 "metadata": {
  "interpreter": {
   "hash": "3aeb15c8c31224d9ef37a76c0046f703a279f439b6efd04fb2681e5f2715bf2f"
  },
  "kernelspec": {
   "display_name": "Python 3",
   "language": "python",
   "name": "python3"
  },
  "language_info": {
   "codemirror_mode": {
    "name": "ipython",
    "version": 3
   },
   "file_extension": ".py",
   "mimetype": "text/x-python",
   "name": "python",
   "nbconvert_exporter": "python",
   "pygments_lexer": "ipython3",
   "version": "3.8.8"
  }
 },
 "nbformat": 4,
 "nbformat_minor": 2
}
