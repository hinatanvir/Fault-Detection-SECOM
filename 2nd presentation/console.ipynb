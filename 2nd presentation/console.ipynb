{
 "cells": [
  {
   "cell_type": "markdown",
   "metadata": {},
   "source": [
    "# Import library"
   ]
  },
  {
   "cell_type": "code",
   "execution_count": 45,
   "metadata": {},
   "outputs": [],
   "source": [
    "# #importing libraries\n",
    "# import csv\n",
    "# import pandas as pd\n",
    "# import numpy as np\n",
    "# import matplotlib.pyplot as plt\n",
    "# import seaborn as sns\n",
    "# from sklearn.model_selection import train_test_split\n",
    "# from sklearn.preprocessing import MinMaxScaler\n",
    "# from sklearn.impute import KNNImputer\n",
    "# from sklearn.experimental import enable_iterative_imputer\n",
    "# from sklearn.impute import IterativeImputer\n",
    "# from sklearn.ensemble import RandomForestClassifier\n",
    "# from sklearn.linear_model import LogisticRegression\n",
    "\n",
    "# from boruta import BorutaPy\n",
    "# from BorutaShap import BorutaShap\n",
    "# from sklearn.feature_selection import RFE\n",
    "\n",
    "# from imblearn.over_sampling import SMOTE, ADASYN, RandomOverSampler\n",
    "# from imblearn.under_sampling import RandomUnderSampler\n",
    "# from imblearn.combine import SMOTEENN\n",
    "\n",
    "# from collections import Counter\n",
    "# from sklearn.svm import SVC\n",
    "\n",
    "# from sklearn.metrics import accuracy_score, confusion_matrix, ConfusionMatrixDisplay, f1_score, precision_score, recall_score, roc_auc_score, log_loss, cohen_kappa_score\n",
    "\n",
    "# import keras\n",
    "# from keras.models import Sequential\n",
    "# from keras.layers import Dense\n",
    "# from keras.utils import to_categorical "
   ]
  },
  {
   "cell_type": "code",
   "execution_count": null,
   "metadata": {},
   "outputs": [],
   "source": []
  },
  {
   "cell_type": "markdown",
   "metadata": {},
   "source": [
    "# Read df"
   ]
  },
  {
   "cell_type": "code",
   "execution_count": 46,
   "metadata": {},
   "outputs": [],
   "source": [
    "#this function is to read, transform and join 2 data frame\n",
    "\n",
    "def read_features():\n",
    "    path = 'input/secom.data'\n",
    "    df = pd.read_csv(path, delimiter=' ', header=None, na_values=['NaN'])\n",
    "    df.columns = ['feature_'+str(x+1) for x in range(len(df.columns))]\n",
    "    return df\n",
    "\n",
    "\n",
    "\n",
    "def read_target():\n",
    "    path = 'input/secom_labels.data'\n",
    "    df = pd.read_csv(path, delimiter=' ', header=None, na_values=['NaN'])\n",
    "    df.columns = ['status','timestamp']\n",
    "    df['timestamp'] = pd.to_datetime(df['timestamp'],dayfirst=True)\n",
    "    return df\n",
    "\n",
    "#for the testing purporse, trim to remain first 100 rows only\n",
    "X = read_features()\n",
    "y = read_target().iloc[:,0]"
   ]
  },
  {
   "cell_type": "markdown",
   "metadata": {},
   "source": [
    "# Remove duplicated columns"
   ]
  },
  {
   "cell_type": "code",
   "execution_count": 47,
   "metadata": {},
   "outputs": [],
   "source": [
    "#find the duplicated features (columns)\n",
    "def remove_duplicated_columns(df):\n",
    "    dict_duplicate_pair = {}\n",
    "    dict_duplicate_matches = {}\n",
    "    list_duplicate = []\n",
    "    to_remove = []\n",
    "    for i in range(0, len(df.columns)):\n",
    "        l = []\n",
    "        for j in range(i+1,len(df.columns)):\n",
    "            dict_duplicate_pair[str(i+1)+';'+str(j+1)] = df.iloc[:,i].equals(df.iloc[:,j])\n",
    "            if df.iloc[:,i].equals(df.iloc[:,j]) == True:\n",
    "                if j not in list_duplicate:\n",
    "                    l.append(j)\n",
    "                    to_remove.append('feature_'+str(j+1))\n",
    "                list_duplicate.append(i)\n",
    "                list_duplicate.append(j)\n",
    "        if len(l)!=0:\n",
    "            dict_duplicate_matches[i] = l\n",
    "\n",
    "\n",
    "    df_duplicate_pair = pd.DataFrame.from_dict(dict_duplicate_pair, orient='index')\n",
    "    df_duplicate_pair.columns=['duplicate']\n",
    "\n",
    "    df_duplicate_matches = pd.DataFrame.from_dict(dict_duplicate_matches, orient='index')\n",
    "\n",
    "    \n",
    "    df = df.drop(columns=to_remove, axis = 1)\n",
    "\n",
    "    return df\n",
    "\n",
    "# X = remove_duplicated_columns(X)\n",
    "# X.shape\n"
   ]
  },
  {
   "cell_type": "markdown",
   "metadata": {},
   "source": [
    "# Remove columns with Constant volatility (std=0)"
   ]
  },
  {
   "cell_type": "code",
   "execution_count": 48,
   "metadata": {},
   "outputs": [],
   "source": [
    "def remove_constant_volatility(df):\n",
    "    df_EDA= df.describe().T\n",
    "    df_EDA= df_EDA[df_EDA[\"std\"] == 0]\n",
    "    df = df.drop(axis=1, columns=df_EDA.index)\n",
    "    return df\n",
    "\n",
    "# X = remove_constant_volatility(X)\n",
    "# X.shape"
   ]
  },
  {
   "cell_type": "markdown",
   "metadata": {},
   "source": [
    "# Remove columns with high %Missing values"
   ]
  },
  {
   "cell_type": "code",
   "execution_count": 49,
   "metadata": {},
   "outputs": [],
   "source": [
    "def remove_cols_with_high_pct_null(df, null_threshold):\n",
    "    list_column_with_pct_null = pd.concat([df.isnull().sum(), df.isnull().sum()/df.shape[0]],axis=1).rename(columns={0:'Missing_Records', 1:'Percentage (%)'})\n",
    "    list_column_with_pct_null= list_column_with_pct_null[list_column_with_pct_null[\"Percentage (%)\"] >= null_threshold]\n",
    "    df = df.drop(axis=1, columns=list_column_with_pct_null.index)\n",
    "    return df\n",
    "\n",
    "# X = remove_cols_with_high_pct_null(X, 0.8)\n",
    "# X.shape"
   ]
  },
  {
   "cell_type": "markdown",
   "metadata": {},
   "source": [
    "# Split data"
   ]
  },
  {
   "cell_type": "code",
   "execution_count": 50,
   "metadata": {},
   "outputs": [],
   "source": [
    "# X_train, X_test, y_train, y_test = train_test_split(X, y, test_size = 0.2, random_state = 1,stratify=y)"
   ]
  },
  {
   "cell_type": "markdown",
   "metadata": {},
   "source": [
    "# Outlier treatment"
   ]
  },
  {
   "cell_type": "code",
   "execution_count": 51,
   "metadata": {},
   "outputs": [],
   "source": [
    "#how = ['NaN', '3s' ,'nothing']\n",
    "def replace_outlier(df, how):\n",
    "    for col in df:\n",
    "        ll_col = df[col].mean() - 3 * df[col].std()\n",
    "        ul_col = df[col].mean() + 3 * df[col].std()\n",
    "        if how == 'NaN':\n",
    "            df[col] = np.where(df[col]>ul_col,np.NaN,np.where(df[col]<ll_col,np.NaN,df[col]))\n",
    "        elif how == '3s':\n",
    "            df[col] = np.where(df[col]>ul_col,ul_col,np.where(df[col]<ll_col,ll_col,df[col]))\n",
    "    return df"
   ]
  },
  {
   "cell_type": "markdown",
   "metadata": {},
   "source": [
    "# Missing value Imputation"
   ]
  },
  {
   "cell_type": "code",
   "execution_count": 52,
   "metadata": {},
   "outputs": [],
   "source": [
    "#which_weights = ['distance','uniform']\n",
    "\n",
    "def impute_null_with_knn(X_train, X_test, which_weights):\n",
    "    #First scale the data \n",
    "    scaler = MinMaxScaler()\n",
    "    X_train = pd.DataFrame(scaler.fit_transform(X_train), columns= X_train.columns)\n",
    "    X_test = pd.DataFrame(scaler.transform(X_test), columns= X_test.columns)\n",
    "\n",
    "    knn = KNNImputer(n_neighbors=5, weights=which_weights) #check this neighbors = 5\n",
    "\n",
    "    X_train = pd.DataFrame(knn.fit_transform(X_train), columns=X_train.columns)\n",
    "    X_test = pd.DataFrame(knn.transform(X_test), columns=X_test.columns)\n",
    "    \n",
    "    X_train = pd.DataFrame(scaler.inverse_transform(X_train), columns= X_train.columns)\n",
    "    X_test = pd.DataFrame(scaler.inverse_transform(X_test), columns= X_test.columns)\n",
    "    return X_train, X_test\n",
    "\n",
    "#X_train = impute_null_with_knn(X_train)"
   ]
  },
  {
   "cell_type": "code",
   "execution_count": 53,
   "metadata": {},
   "outputs": [],
   "source": [
    "def impute_null_with_mice(X_train, X_test): \n",
    "    imp = IterativeImputer(max_iter=5, verbose=0, imputation_order='roman', random_state=0)\n",
    "    X_train = pd.DataFrame(imp.fit_transform(X_train), columns=X_train.columns)\n",
    "    X_test = pd.DataFrame(imp.transform(X_test), columns=X_test.columns)\n",
    "    return X_train, X_test"
   ]
  },
  {
   "cell_type": "markdown",
   "metadata": {},
   "source": [
    "# Feature Selection"
   ]
  },
  {
   "cell_type": "code",
   "execution_count": 54,
   "metadata": {},
   "outputs": [],
   "source": [
    "#This is BorutaShap with TENTATIVE features\n",
    "\n",
    "#list_method=['shap','gini']\n",
    "\n",
    "def BorutaShap_FS (X, y,method_option) :\n",
    "    #modelshap = RandomForestClassifier(n_jobs=-1,n_estimators=100, class_weight='balanced_subsample', max_depth=5, random_state=100)\n",
    "    modelshap = RandomForestClassifier(n_jobs=-1,n_estimators=100, max_depth=5, random_state=100)\n",
    "\n",
    "    # define model for resp. classifier\n",
    "    modelshap.fit(X,y)\n",
    "    feature_names = np.array(X.columns)\n",
    "    # define Boruta Sahp feature selection method\n",
    "    feature_selector = BorutaShap(model=modelshap,\n",
    "                              importance_measure=method_option,\n",
    "                              classification=True)  # find all relevant features\n",
    "    feature_selector.fit(X,y,n_trials=100,sample = False, verbose = False,random_state=100)  \n",
    "    #feature_selector.plot(which_features='accepted',figsize=(20,10))\n",
    "    tentative=X.loc[:,feature_selector.tentative]\n",
    "    selected=feature_selector.Subset()\n",
    "    selten=pd.concat([selected,tentative],axis=1)\n",
    "    # call transform() on X to filter it down to selected features\n",
    "    return  selten"
   ]
  },
  {
   "cell_type": "code",
   "execution_count": 55,
   "metadata": {},
   "outputs": [],
   "source": [
    "#RFE\n",
    "\n",
    "#classifier = ['RF', 'SVM']\n",
    "\n",
    "def RFE_FS (X, y,classify) :\n",
    "    scaler = MinMaxScaler()\n",
    "    X_scaled= pd.DataFrame(scaler.fit_transform(X), columns=X.columns)\n",
    "    feature_names = np.array(X_scaled.columns)\n",
    "    if classify == 'RF':\n",
    "    # define random forest classifier\n",
    "        model = RandomForestClassifier(n_jobs=-1, class_weight='balanced_subsample', max_depth=5, random_state=100)\n",
    "       \n",
    "    if classify== 'SVM':\n",
    "        model = SVC(kernel='linear',C=5)\n",
    "        #rfe = RFECV(estimator = model,scoring='accuracy')\n",
    "    # find all relevant features\n",
    "    model.fit(X_scaled, y)\n",
    "    rfe = RFE(estimator = model,n_features_to_select = 15)\n",
    "    rfe.fit(X_scaled,y)\n",
    "\n",
    "     # zip feature names, ranks, and decisions \n",
    "    feature_ranks = list(zip(feature_names, \n",
    "                             rfe.ranking_, \n",
    "                             rfe.support_))\n",
    "\n",
    "    final_features_rfe = list()\n",
    "    indexes = np.where(rfe.ranking_ <= 2)\n",
    "    for x in np.nditer(indexes):\n",
    "        final_features_rfe.append(feature_names[x])\n",
    "    \n",
    "    \n",
    "    # unscale the data before return\n",
    "    X_unscaled=pd.DataFrame(scaler.inverse_transform(X_scaled), columns=X_scaled.columns)\n",
    "    ff_rfe=pd.DataFrame(X_unscaled.filter(final_features_rfe))\n",
    "    \n",
    "\n",
    " # call transform() on X to filter it down to selected features\n",
    "    return  ff_rfe"
   ]
  },
  {
   "cell_type": "code",
   "execution_count": 56,
   "metadata": {},
   "outputs": [],
   "source": [
    "#Boruta function with random forest\n",
    "\n",
    "def BorutaPy_FS (X, y) :\n",
    "    feature_names = np.array(X.columns)\n",
    "\n",
    "    # define random forest classifier\n",
    "    model = RandomForestClassifier(n_jobs=-1, class_weight='balanced_subsample', max_depth=5, random_state=100)\n",
    "    model.fit(X, y)\n",
    "    # define Boruta feature selection method\n",
    "    \n",
    "    feature_selector = BorutaPy(model, n_estimators='auto', verbose=0, random_state=100, max_iter=140)\n",
    "\n",
    "    # find all relevant features\n",
    "    feature_selector.fit(X.to_numpy(),y)\n",
    "\n",
    "    # check selected features\n",
    "    ##--feature_selector.support_\n",
    "\n",
    "    # check ranking of features\n",
    "    ##--feature_ranking=feature_selector.ranking_\n",
    "\n",
    "    # zip feature names, ranks, and decisions \n",
    "    # feature_ranks = list(zip(feature_names, \n",
    "    #                          feature_selector.ranking_, \n",
    "    #                          feature_selector.support_))\n",
    "\n",
    "    # print the results\n",
    "    ##--for feat in feature_ranks:\n",
    "    ##--    print('Feature: {:<30} Rank: {},  Keep: {}'.format(feat[0], feat[1], feat[2]))\n",
    "        \n",
    "    final_features = list()\n",
    "    indexes = np.where(feature_selector.ranking_ <= 2) #change to 2\n",
    "    for x in np.nditer(indexes):\n",
    "        final_features.append(feature_names[x])\n",
    "    ##--print(final_features)\n",
    "    \n",
    " # call transform() on X to filter it down to selected features\n",
    "    return pd.DataFrame(X.filter(final_features))"
   ]
  },
  {
   "cell_type": "markdown",
   "metadata": {},
   "source": [
    "# Multicolinearity treatement"
   ]
  },
  {
   "cell_type": "code",
   "execution_count": 57,
   "metadata": {},
   "outputs": [],
   "source": [
    "#Remove the highly collinear features from data\n",
    "def remove_collinear_features(x, threshold):\n",
    "    '''\n",
    "    Objective:\n",
    "        Remove collinear features in a dataframe with a correlation coefficient\n",
    "        greater than the threshold. Removing collinear features can help a model \n",
    "        to generalize and improves the interpretability of the model.\n",
    "\n",
    "    Inputs: \n",
    "        x: features dataframe\n",
    "        threshold: features with correlations greater than this value are removed\n",
    "\n",
    "    Output: \n",
    "        dataframe that contains only the non-highly-collinear features\n",
    "    '''\n",
    "\n",
    "    # Calculate the correlation matrix\n",
    "    corr_matrix = x.corr()\n",
    "    iters = range(len(corr_matrix.columns) - 1)\n",
    "    drop_cols = []\n",
    "\n",
    "    # Iterate through the correlation matrix and compare correlations\n",
    "    for i in iters:\n",
    "        for j in range(i+1):\n",
    "            item = corr_matrix.iloc[j:(j+1), (i+1):(i+2)]\n",
    "            col = item.columns\n",
    "            row = item.index\n",
    "            val = abs(item.values)\n",
    "\n",
    "            # If correlation exceeds the threshold\n",
    "            if val >= threshold:\n",
    "                #Print the correlated features and the correlation value\n",
    "                #print(col.values[0], \"|\", row.values[0], \"|\", round(val[0][0], 2))\n",
    "                drop_cols.append(col.values[0])\n",
    "\n",
    "    # Drop one of each pair of correlated columns\n",
    "    drops = set(drop_cols)\n",
    "    x = x.drop(columns=drops)\n",
    "\n",
    "    return x\n",
    "\n",
    "#remove_collinear_features(X, 0.7)"
   ]
  },
  {
   "cell_type": "markdown",
   "metadata": {},
   "source": [
    "# Balancing"
   ]
  },
  {
   "cell_type": "code",
   "execution_count": 58,
   "metadata": {},
   "outputs": [],
   "source": [
    "def sampling(X_train, y_train, sampler):\n",
    "    \n",
    "    #SMOTE\n",
    "    if sampler == 'SMOTE':\n",
    "        sampler = SMOTE(random_state=100)    \n",
    "    \n",
    "    #ROSE\n",
    "    if sampler == 'ROSE':\n",
    "        sampler = RandomOverSampler(random_state=100, shrinkage=1)\n",
    "\n",
    "    #ADASYN\n",
    "    if sampler == 'ADASYN':\n",
    "        sampler = ADASYN(random_state=100)\n",
    "    \n",
    "\n",
    "    #SMOTTEENN\n",
    "    if sampler == 'SMOTEENN' :\n",
    "        sampler = SMOTEENN(random_state=100)\n",
    "        \n",
    "        \n",
    "    #Random under Sampling\n",
    "    if sampler == \"randomunder\":\n",
    "        sampler = RandomUnderSampler(random_state=100)\n",
    "\n",
    "    X_resampled, y_resampled = sampler.fit_resample(X_train, y_train)\n",
    "    #counter = Counter(y_resampled)\n",
    "    #print(counter)\n",
    "    \n",
    "    return X_resampled, y_resampled\n",
    "\n",
    "# X_train, y_train = sampling(X_train, y_train,'SMOTE')\n",
    "# X_train.shape"
   ]
  },
  {
   "cell_type": "markdown",
   "metadata": {},
   "source": [
    "# Model"
   ]
  },
  {
   "cell_type": "markdown",
   "metadata": {},
   "source": [
    "#### Model: Random Forest & Logistic Regression"
   ]
  },
  {
   "cell_type": "code",
   "execution_count": 59,
   "metadata": {},
   "outputs": [],
   "source": [
    "which_model = ['RF', 'LR']\n",
    "\n",
    "def run_model(X_train, y_train, X_test, y_test, which_model):\n",
    "\n",
    "    if which_model == 'RF':\n",
    "    # building model before balancing data\n",
    "        model = RandomForestClassifier(random_state=1, n_estimators=1000, max_depth=5)\n",
    "    elif which_model == 'LR':\n",
    "        model = LogisticRegression(random_state=1)\n",
    "    \n",
    "    model.fit(X_train,y_train)\n",
    "\n",
    "\n",
    "    #For TEST SPLIT\n",
    "    y_pred= model.predict(X_test)\n",
    "    cf_matrix = confusion_matrix(y_test, y_pred)\n",
    "    accuracy= accuracy_score(y_test, y_pred)\n",
    "    f1 = f1_score(y_test, y_pred) ##\n",
    "    precision = precision_score(y_test, y_pred)\n",
    "    recall = recall_score(y_test, y_pred)\n",
    "    sensitivity = cf_matrix[1][1] / ( cf_matrix[1][1] + cf_matrix[1][0] )\n",
    "    auc = roc_auc_score(y_test, y_pred)\n",
    "    type_1_error_FP = cf_matrix[1][0]\n",
    "    type_2_error_FN = cf_matrix[0][1]\n",
    "    log_loss_ = log_loss(y_test, y_pred)\n",
    "    cohen_kappa_score_ = cohen_kappa_score(y_test, y_pred)\n",
    "    #Note by default 1 is the positive label. Therefore, -1 is negative\n",
    "    #bad waffe -> 2 line of matrix -> POSITIVE -> data = -1\n",
    "\n",
    "    #For TRAIN SPLIT\n",
    "    y_pred_train= model.predict(X_train)\n",
    "    cf_matrix_train = confusion_matrix(y_train, y_pred_train)\n",
    "    accuracy_train= accuracy_score(y_train, y_pred_train)\n",
    "    f1_train = f1_score(y_train, y_pred_train) ##\n",
    "    precision_train = precision_score(y_train, y_pred_train)\n",
    "    recall_train = recall_score(y_train, y_pred_train)\n",
    "    sensitivity_train = cf_matrix_train[1][1] / ( cf_matrix_train[1][1] + cf_matrix_train[1][0] )\n",
    "    auc_train = roc_auc_score(y_train, y_pred_train)\n",
    "    type_1_error_FP_train = cf_matrix_train[1][0]\n",
    "    type_2_error_FN_train = cf_matrix_train[0][1]\n",
    "\n",
    "\n",
    "\n",
    "\n",
    "    return cf_matrix, accuracy, f1, precision, recall, sensitivity, type_1_error_FP, type_2_error_FN, auc,log_loss_,cohen_kappa_score_, cf_matrix_train, accuracy_train, f1_train, precision_train, recall_train, sensitivity_train, type_1_error_FP_train, type_2_error_FN_train, auc_train\n",
    "\n",
    "#run_model(X_train, y_train, X_test, y_test)"
   ]
  },
  {
   "cell_type": "markdown",
   "metadata": {},
   "source": [
    "#### Model: Deep Neural Network"
   ]
  },
  {
   "cell_type": "code",
   "execution_count": 60,
   "metadata": {},
   "outputs": [],
   "source": [
    "#NN\n",
    "\n",
    "\n",
    "def run_model_NN(X_train, y_train, X_test, y_test):\n",
    "    y_train = y_train.replace(-1, 0) #to_cat cannot work with negative numbers\n",
    "    y_test = y_test.replace(-1, 0)\n",
    "\n",
    "    input_dim = X_train.shape[1]\n",
    "\n",
    "    model = Sequential()\n",
    "    model.add(Dense(400, activation='relu', input_dim=input_dim))\n",
    "    model.add(Dense(250, activation='relu'))\n",
    "    model.add(Dense(100, activation='relu'))\n",
    "    model.add(Dense(50, activation='relu'))\n",
    "    model.add(Dense(25, activation='relu'))\n",
    "    model.add(Dense(2, activation='softmax'))\n",
    "\n",
    "    # Compile the model\n",
    "    model.compile(optimizer='adam', \n",
    "                loss='categorical_crossentropy', \n",
    "                metrics=['accuracy'])\n",
    "\n",
    "    # one hot encode outputs\n",
    "    y_train_c = to_categorical(y_train)\n",
    "    y_test_c = to_categorical(y_test)\n",
    "\n",
    "\n",
    "    model.fit(X_train, y_train_c, epochs=10, batch_size=50, verbose=2)\n",
    "\n",
    "\n",
    "    #For TEST SPLIT\n",
    "    y_pred = model.predict(X_test)\n",
    "    #Converting predictions to label\n",
    "    pred = list()\n",
    "    for i in range(len(y_pred)):\n",
    "        pred.append(np.argmax(y_pred[i]))\n",
    "\n",
    "    #Converting one hot encoded test label to label\n",
    "    test = list()\n",
    "    for i in range(len(y_test_c)):\n",
    "        test.append(np.argmax(y_test_c[i]))\n",
    "\n",
    "\n",
    "    cf_matrix = confusion_matrix(test, pred)\n",
    "    accuracy= accuracy_score(test, pred)\n",
    "    f1 = f1_score(test, pred) ##\n",
    "    precision = precision_score(test, pred)\n",
    "    recall = recall_score(test, pred)\n",
    "    sensitivity = cf_matrix[1][1] / ( cf_matrix[1][1] + cf_matrix[1][0] ) #change from specificity -> sensitivity\n",
    "    auc = roc_auc_score(test, pred)\n",
    "    type_1_error_FP = cf_matrix[1][0]\n",
    "    type_2_error_FN = cf_matrix[0][1]\n",
    "    log_loss_ = log_loss(test, pred)\n",
    "    cohen_kappa_score_ = cohen_kappa_score(test, pred)\n",
    "    #Note by default 1 is the positive label. Therefore, -1 is negative\n",
    "    #bad waffe -> 2 line of matrix -> POSITIVE -> data = -1\n",
    "\n",
    "\n",
    "    #For TRAIN SPLIT\n",
    "    y_pred_train = model.predict(X_train)\n",
    "    #Converting predictions to label\n",
    "    pred_train = list()\n",
    "    for i in range(len(y_pred_train)): \n",
    "        pred_train.append(np.argmax(y_pred_train[i]))\n",
    "\n",
    "    #Converting one hot encoded test label to label\n",
    "    train_ = list()\n",
    "    for i in range(len(y_train_c)):\n",
    "        train_.append(np.argmax(y_train_c[i]))\n",
    "\n",
    "    y_pred_train= model.predict(X_train)\n",
    "    cf_matrix_train = confusion_matrix(train_, pred_train)\n",
    "    accuracy_train= accuracy_score(train_, pred_train)\n",
    "    f1_train = f1_score(train_, pred_train) ##\n",
    "    precision_train = precision_score(train_, pred_train)\n",
    "    recall_train = recall_score(train_, pred_train)\n",
    "    sensitivity_train = cf_matrix_train[1][1] / ( cf_matrix_train[1][1] + cf_matrix_train[1][0] )\n",
    "    auc_train = roc_auc_score(train_, pred_train)\n",
    "    type_1_error_FP_train = cf_matrix_train[1][0]\n",
    "    type_2_error_FN_train = cf_matrix_train[0][1]\n",
    "\n",
    "\n",
    "    return cf_matrix, accuracy, f1, precision, recall, sensitivity, type_1_error_FP, type_2_error_FN, auc,log_loss_,cohen_kappa_score_, cf_matrix_train, accuracy_train, f1_train, precision_train, recall_train, sensitivity_train, type_1_error_FP_train, type_2_error_FN_train, auc_train\n"
   ]
  },
  {
   "cell_type": "markdown",
   "metadata": {},
   "source": [
    "## Combine"
   ]
  },
  {
   "cell_type": "code",
   "execution_count": 18,
   "metadata": {},
   "outputs": [],
   "source": [
    "# fast_track_cols = X_test.columns\n",
    "# fast_track_cols.shape"
   ]
  },
  {
   "cell_type": "code",
   "execution_count": 64,
   "metadata": {},
   "outputs": [
    {
     "name": "stderr",
     "output_type": "stream",
     "text": [
      "100%|██████████| 100/100 [01:20<00:00,  1.25it/s]\n"
     ]
    },
    {
     "name": "stdout",
     "output_type": "stream",
     "text": [
      "n_cols BEFORE multicolinearity treatement 19\n",
      "n_cols AFTER multicolinearity treatement 14\n",
      "attemp no.:  1 3s & knn__uniform & BoS__shap & ROSE & RF  acc:  0.8630573248407644  accuracy_train:  0.9235042735042736  f1:  0.21818181818181817  f1_train:  0.9213877909530083  spec:  0.2857142857142857  :auc  0.5950755728912724  cfm:  \n",
      " [[265  28]\n",
      " [ 15   6]] \n",
      " cols 14\n"
     ]
    },
    {
     "name": "stderr",
     "output_type": "stream",
     "text": [
      "100%|██████████| 100/100 [01:19<00:00,  1.26it/s]\n"
     ]
    },
    {
     "name": "stdout",
     "output_type": "stream",
     "text": [
      "n_cols BEFORE multicolinearity treatement 15\n",
      "n_cols AFTER multicolinearity treatement 10\n",
      "attemp no.:  2 3s & knn__uniform & BoS__shap & SMOTE & RF  acc:  0.8248407643312102  accuracy_train:  0.8564102564102564  f1:  0.3037974683544304  f1_train:  0.8592964824120604  spec:  0.5714285714285714  :auc  0.7072159921989273  cfm:  \n",
      " [[247  46]\n",
      " [  9  12]] \n",
      " cols 10\n",
      "n_cols BEFORE multicolinearity treatement 14\n",
      "n_cols AFTER multicolinearity treatement 12\n",
      "attemp no.:  3 3s & knn__uniform & BoP & ROSE & RF  acc:  0.7929936305732485  accuracy_train:  0.8333333333333334  f1:  0.28571428571428575  f1_train:  0.8320413436692505  spec:  0.6190476190476191  :auc  0.7122541849504307  cfm:  \n",
      " [[236  57]\n",
      " [  8  13]] \n",
      " cols 12\n",
      "n_cols BEFORE multicolinearity treatement 15\n",
      "n_cols AFTER multicolinearity treatement 13\n",
      "attemp no.:  4 3s & knn__uniform & BoP & SMOTE & RF  acc:  0.7866242038216561  accuracy_train:  0.8982905982905983  f1:  0.24719101123595508  f1_train:  0.9045709703287892  spec:  0.5238095238095238  :auc  0.664635137331383  cfm:  \n",
      " [[236  57]\n",
      " [ 10  11]] \n",
      " cols 13\n",
      "n_cols BEFORE multicolinearity treatement 16\n",
      "n_cols AFTER multicolinearity treatement 14\n",
      "attemp no.:  5 3s & knn__uniform & RFE__RF & ROSE & RF  acc:  0.802547770700637  accuracy_train:  0.8478632478632478  f1:  0.27906976744186046  f1_train:  0.845486111111111  spec:  0.5714285714285714  :auc  0.6952705997074597  cfm:  \n",
      " [[240  53]\n",
      " [  9  12]] \n",
      " cols 14\n",
      "n_cols BEFORE multicolinearity treatement 16\n",
      "n_cols AFTER multicolinearity treatement 14\n",
      "attemp no.:  6 3s & knn__uniform & RFE__RF & SMOTE & RF  acc:  0.8248407643312102  accuracy_train:  0.9111111111111111  f1:  0.2028985507246377  f1_train:  0.9147540983606558  spec:  0.3333333333333333  :auc  0.5967007963594995  cfm:  \n",
      " [[252  41]\n",
      " [ 14   7]] \n",
      " cols 14\n",
      "n_cols BEFORE multicolinearity treatement 466\n",
      "n_cols AFTER multicolinearity treatement 225\n",
      "attemp no.:  7 3s & knn__uniform & nothing & ROSE & RF  acc:  0.9331210191082803  accuracy_train:  0.9606837606837607  f1:  0.0  f1_train:  0.9590747330960855  spec:  0.0  :auc  0.5  cfm:  \n",
      " [[293   0]\n",
      " [ 21   0]] \n",
      " cols 225\n",
      "n_cols BEFORE multicolinearity treatement 466\n",
      "n_cols AFTER multicolinearity treatement 225\n",
      "attemp no.:  8 3s & knn__uniform & nothing & SMOTE & RF  acc:  0.8885350318471338  accuracy_train:  0.976068376068376  f1:  0.25531914893617025  f1_train:  0.976510067114094  spec:  0.2857142857142857  :auc  0.6087274500243782  cfm:  \n",
      " [[273  20]\n",
      " [ 15   6]] \n",
      " cols 225\n"
     ]
    },
    {
     "name": "stderr",
     "output_type": "stream",
     "text": [
      "100%|██████████| 100/100 [01:28<00:00,  1.13it/s]\n"
     ]
    },
    {
     "name": "stdout",
     "output_type": "stream",
     "text": [
      "n_cols BEFORE multicolinearity treatement 14\n",
      "n_cols AFTER multicolinearity treatement 10\n",
      "attemp no.:  9 3s & MICE & BoS__shap & ROSE & RF  acc:  0.8121019108280255  accuracy_train:  0.8405982905982906  f1:  0.2716049382716049  f1_train:  0.8385980095196885  spec:  0.5238095238095238  :auc  0.6782870144644888  cfm:  \n",
      " [[244  49]\n",
      " [ 10  11]] \n",
      " cols 10\n"
     ]
    },
    {
     "name": "stderr",
     "output_type": "stream",
     "text": [
      "100%|██████████| 100/100 [01:29<00:00,  1.11it/s]\n"
     ]
    },
    {
     "name": "stdout",
     "output_type": "stream",
     "text": [
      "n_cols BEFORE multicolinearity treatement 15\n",
      "n_cols AFTER multicolinearity treatement 11\n",
      "attemp no.:  10 3s & MICE & BoS__shap & SMOTE & RF  acc:  0.8471337579617835  accuracy_train:  0.8606837606837607  f1:  0.35135135135135137  f1_train:  0.8634840871021775  spec:  0.6190476190476191  :auc  0.7412644238582805  cfm:  \n",
      " [[253  40]\n",
      " [  8  13]] \n",
      " cols 11\n",
      "n_cols BEFORE multicolinearity treatement 17\n",
      "n_cols AFTER multicolinearity treatement 14\n",
      "attemp no.:  11 3s & MICE & BoP & ROSE & RF  acc:  0.8057324840764332  accuracy_train:  0.8444444444444444  f1:  0.2823529411764706  f1_train:  0.8466722830665544  spec:  0.5714285714285714  :auc  0.696977084349098  cfm:  \n",
      " [[241  52]\n",
      " [  9  12]] \n",
      " cols 14\n",
      "n_cols BEFORE multicolinearity treatement 15\n",
      "n_cols AFTER multicolinearity treatement 13\n",
      "attemp no.:  12 3s & MICE & BoP & SMOTE & RF  acc:  0.8121019108280255  accuracy_train:  0.9064102564102564  f1:  0.2716049382716049  f1_train:  0.9121540312876053  spec:  0.5238095238095238  :auc  0.6782870144644888  cfm:  \n",
      " [[244  49]\n",
      " [ 10  11]] \n",
      " cols 13\n",
      "n_cols BEFORE multicolinearity treatement 16\n",
      "n_cols AFTER multicolinearity treatement 15\n",
      "attemp no.:  13 3s & MICE & RFE__RF & ROSE & RF  acc:  0.7866242038216561  accuracy_train:  0.8547008547008547  f1:  0.24719101123595508  f1_train:  0.8555649957519117  spec:  0.5238095238095238  :auc  0.664635137331383  cfm:  \n",
      " [[236  57]\n",
      " [ 10  11]] \n",
      " cols 15\n",
      "n_cols BEFORE multicolinearity treatement 16\n",
      "n_cols AFTER multicolinearity treatement 13\n",
      "attemp no.:  14 3s & MICE & RFE__RF & SMOTE & RF  acc:  0.8121019108280255  accuracy_train:  0.9098290598290598  f1:  0.2716049382716049  f1_train:  0.9154308617234469  spec:  0.5238095238095238  :auc  0.6782870144644888  cfm:  \n",
      " [[244  49]\n",
      " [ 10  11]] \n",
      " cols 13\n",
      "n_cols BEFORE multicolinearity treatement 466\n",
      "n_cols AFTER multicolinearity treatement 223\n",
      "attemp no.:  15 3s & MICE & nothing & ROSE & RF  acc:  0.9331210191082803  accuracy_train:  0.961965811965812  f1:  0.0  f1_train:  0.9604620168813861  spec:  0.0  :auc  0.5  cfm:  \n",
      " [[293   0]\n",
      " [ 21   0]] \n",
      " cols 223\n",
      "n_cols BEFORE multicolinearity treatement 466\n",
      "n_cols AFTER multicolinearity treatement 223\n",
      "attemp no.:  16 3s & MICE & nothing & SMOTE & RF  acc:  0.9140127388535032  accuracy_train:  0.9777777777777777  f1:  0.3414634146341463  f1_train:  0.9781696053736357  spec:  0.3333333333333333  :auc  0.6444823663253697  cfm:  \n",
      " [[280  13]\n",
      " [ 14   7]] \n",
      " cols 223\n"
     ]
    },
    {
     "name": "stderr",
     "output_type": "stream",
     "text": [
      "100%|██████████| 100/100 [01:26<00:00,  1.16it/s]\n"
     ]
    },
    {
     "name": "stdout",
     "output_type": "stream",
     "text": [
      "n_cols BEFORE multicolinearity treatement 16\n",
      "n_cols AFTER multicolinearity treatement 12\n",
      "attemp no.:  17 nothing & knn__uniform & BoS__shap & ROSE & RF  acc:  0.802547770700637  accuracy_train:  0.8307692307692308  f1:  0.27906976744186046  f1_train:  0.8291630716134598  spec:  0.5714285714285714  :auc  0.6952705997074597  cfm:  \n",
      " [[240  53]\n",
      " [  9  12]] \n",
      " cols 12\n"
     ]
    },
    {
     "name": "stderr",
     "output_type": "stream",
     "text": [
      "100%|██████████| 100/100 [01:27<00:00,  1.14it/s]\n"
     ]
    },
    {
     "name": "stdout",
     "output_type": "stream",
     "text": [
      "n_cols BEFORE multicolinearity treatement 16\n",
      "n_cols AFTER multicolinearity treatement 12\n",
      "attemp no.:  18 nothing & knn__uniform & BoS__shap & SMOTE & RF  acc:  0.8248407643312102  accuracy_train:  0.8666666666666667  f1:  0.2857142857142857  f1_train:  0.8682432432432432  spec:  0.5238095238095238  :auc  0.6851129530310417  cfm:  \n",
      " [[248  45]\n",
      " [ 10  11]] \n",
      " cols 12\n",
      "n_cols BEFORE multicolinearity treatement 13\n",
      "n_cols AFTER multicolinearity treatement 11\n",
      "attemp no.:  19 nothing & knn__uniform & BoP & ROSE & RF  acc:  0.7898089171974523  accuracy_train:  0.8277777777777777  f1:  0.2826086956521739  f1_train:  0.8248587570621468  spec:  0.6190476190476191  :auc  0.7105477003087924  cfm:  \n",
      " [[235  58]\n",
      " [  8  13]] \n",
      " cols 11\n",
      "n_cols BEFORE multicolinearity treatement 13\n",
      "n_cols AFTER multicolinearity treatement 11\n",
      "attemp no.:  20 nothing & knn__uniform & BoP & SMOTE & RF  acc:  0.7866242038216561  accuracy_train:  0.8982905982905983  f1:  0.2117647058823529  f1_train:  0.9047237790232187  spec:  0.42857142857142855  :auc  0.6204290589956118  cfm:  \n",
      " [[238  55]\n",
      " [ 12   9]] \n",
      " cols 11\n",
      "n_cols BEFORE multicolinearity treatement 16\n",
      "n_cols AFTER multicolinearity treatement 14\n",
      "attemp no.:  21 nothing & knn__uniform & RFE__RF & ROSE & RF  acc:  0.7834394904458599  accuracy_train:  0.8376068376068376  f1:  0.276595744680851  f1_train:  0.8356401384083045  spec:  0.6190476190476191  :auc  0.7071347310255162  cfm:  \n",
      " [[233  60]\n",
      " [  8  13]] \n",
      " cols 14\n",
      "n_cols BEFORE multicolinearity treatement 16\n",
      "n_cols AFTER multicolinearity treatement 14\n"
     ]
    }
   ],
   "source": [
    "X = read_features()\n",
    "y = read_target().iloc[:,0]\n",
    "\n",
    "result = []\n",
    "i = 1\n",
    "\n",
    "\n",
    "\n",
    "#step 1:\n",
    "X_train, X_test, y_train, y_test = train_test_split(X, y, test_size = 0.2, random_state = 1, stratify=y)\n",
    "#change random state??\n",
    "\n",
    "#-----------\n",
    "\n",
    "#step 2:\n",
    "X_train = remove_duplicated_columns(X_train)\n",
    "#step 3:\n",
    "X_train = remove_constant_volatility(X_train)\n",
    "#step 4:\n",
    "X_train = remove_cols_with_high_pct_null(X_train, 0.8) #this can be in the loop too, may be later\n",
    "#step 5: remove the same columns from step 2-4 TRAIN_TEST split\n",
    "X_test = X_test.loc[:,X_train.columns]\n",
    "\n",
    "#------------\n",
    "\n",
    "# X_train = X_train.loc[:, fast_track_cols]\n",
    "# X_test = X_test.loc[:, fast_track_cols]\n",
    "\n",
    "#------------\n",
    "\n",
    "\n",
    "#step 6-9\n",
    "replace_outlier_options = ['3s','nothing'] #nothing at all\n",
    "#replace_outlier_options = ['3s','NaN','nothing']\n",
    "impute_null_options = ['knn__uniform','MICE']\n",
    "#impute_null_options = ['knn__distance', 'MICE', 'knn__uniform']\n",
    "FS_options = ['BoS__shap','BoP','RFE__RF','nothing']\n",
    "#FS_options = ['BoP','BoS__shap', 'BoS__gini', 'RFE__RF', 'RFE__SVM', 'nothing]\n",
    "sampling_options = ['ROSE','SMOTE'] #TRY OTHER SAMPLING\n",
    "#sampling_options = ['SMOTE','ROSE','ADASYN','SMOTEENN']\n",
    "model_options = ['RF']\n",
    "#model_options = ['LR', 'RF', 'NN']\n",
    "\n",
    "for replace_with in replace_outlier_options:\n",
    "    for knn_weight in impute_null_options:\n",
    "        for classifier_model in FS_options:\n",
    "            for sampling_technique in sampling_options:\n",
    "                for Model in model_options:\n",
    "                    X_train_temp = X_train\n",
    "                    X_test_temp = X_test\n",
    "                    y_train_temp = y_train\n",
    "                    y_test_temp = y_test\n",
    "\n",
    "                    combined_technique = replace_with +' & '+ knn_weight +' & '+ classifier_model +' & '+ sampling_technique +' & '+ Model\n",
    "\n",
    "                    #step 6: oulier treatement (on both TRAIN & TEST split)\n",
    "                    if replace_with != 'nothing':\n",
    "                        X_train_temp = replace_outlier(X_train_temp, replace_with)\n",
    "                        X_test_temp = replace_outlier(X_test_temp, replace_with)\n",
    "                    \n",
    "                    #step 7: missing value imputation (on both TRAIN & TEST split)\n",
    "                    if knn_weight == 'knn__distance' or knn_weight == 'knn__uniform':\n",
    "                        X_train_temp, X_test_temp = impute_null_with_knn(X_train_temp, X_test_temp, knn_weight[-(len(knn_weight)-5):])\n",
    "                    elif knn_weight == 'MICE':\n",
    "                        X_train_temp, X_test_temp = impute_null_with_mice(X_train_temp, X_test_temp)\n",
    "\n",
    "                    #step 8: feature selection (on both TRAIN & TEST split)\n",
    "                    if classifier_model !='nothing':\n",
    "                        if classifier_model == 'BoS__shap' or classifier_model == 'BoS__gini':\n",
    "                            X_train_temp = BorutaShap_FS(X_train_temp, y_train_temp, classifier_model[-(len(classifier_model)-5):])\n",
    "                        elif classifier_model == 'RFE__RF' or classifier_model == 'RFE__SVM':\n",
    "                            X_train_temp = RFE_FS(X_train_temp, y_train_temp, classifier_model[-(len(classifier_model)-5):])\n",
    "                        elif classifier_model == 'BoP':\n",
    "                            X_train_temp = BorutaPy_FS(X_train_temp, y_train_temp)\n",
    "                    \n",
    "                    #step 9: remove multilinear features\n",
    "                    print('n_cols BEFORE multicolinearity treatement', X_train_temp.shape[1])\n",
    "                    X_train_temp = remove_collinear_features(X_train_temp, 0.7)\n",
    "                    print('n_cols AFTER multicolinearity treatement', X_train_temp.shape[1])\n",
    "\n",
    "                    #apply the same result for TEST\n",
    "                    X_test_temp = X_test_temp.loc[:,X_train_temp.columns]\n",
    "\n",
    "                    #print out datasets for backup\n",
    "                    X_train_temp.to_csv('sampling_visualization/X_train_temp_BEFORESAMPLING_'+str(i)+combined_technique+'.csv')\n",
    "                    X_test_temp.to_csv('sampling_visualization/X_test_temp_BEFORESAMPLING_'+str(i)+combined_technique+'.csv')\n",
    "                    y_train_temp.to_csv('sampling_visualization/y_train_temp_BEFORESAMPLING_'+str(i)+combined_technique+'.csv')\n",
    "                    y_test_temp.to_csv('sampling_visualization/y_test_temp_BEFORESAMPLING_'+str(i)+combined_technique+'.csv')\n",
    "\n",
    "                    #step 10: balancing only on TRAIN split\n",
    "                    X_train_temp, y_train_temp = sampling(X_train_temp, y_train_temp, sampling_technique)\n",
    "\n",
    "                    #print out datasets for backup\n",
    "                    X_train_temp.to_csv('sampling_visualization/X_train_temp_AFTERSAMPLING_'+str(i)+combined_technique+'.csv')\n",
    "                    X_test_temp.to_csv('sampling_visualization/X_test_temp_AFTERSAMPLING_'+str(i)+combined_technique+'.csv')\n",
    "                    y_train_temp.to_csv('sampling_visualization/y_train_temp_AFTERSAMPLING_'+str(i)+combined_technique+'.csv')\n",
    "                    y_test_temp.to_csv('sampling_visualization/y_test_temp_AFTERSAMPLING_'+str(i)+combined_technique+'.csv')\n",
    "\n",
    "\n",
    "                    #step 11: train model, predict, and print scores\n",
    "                    if Model != 'NN':\n",
    "                        try:\n",
    "                            cf_matrix, accuracy, f1, precision, recall, sensitivity, type_1_error_FP, type_2_error_FN, auc, log_loss_,cohen_kappa_score_, cf_matrix_train, accuracy_train, f1_train, precision_train, recall_train, sensitivity_train, type_1_error_FP_train, type_2_error_FN_train, auc_train = run_model(X_train_temp, y_train_temp, X_test_temp, y_test_temp, Model)\n",
    "                        except Exception:\n",
    "                            cf_matrix = accuracy = f1 = precision = recall = sensitivity = type_1_error_FP = type_2_error_FN = auc = log_loss_ =cohen_kappa_score_ = cf_matrix_train = accuracy_train = f1_train = precision_train = recall_train = sensitivity_train = type_1_error_FP_train = type_2_error_FN_train = auc_train = 0\n",
    "                    elif Model == 'NN':\n",
    "                        try:\n",
    "                            cf_matrix, accuracy, f1, precision, recall, sensitivity, type_1_error_FP, type_2_error_FN, auc, log_loss_,cohen_kappa_score_, cf_matrix_train, accuracy_train, f1_train, precision_train, recall_train, sensitivity_train, type_1_error_FP_train, type_2_error_FN_train, auc_train = run_model_NN(X_train_temp, y_train_temp, X_test_temp, y_test_temp)\n",
    "                        except Exception:\n",
    "                            cf_matrix = accuracy = f1 = precision = recall = sensitivity = type_1_error_FP = type_2_error_FN = auc = log_loss_ =cohen_kappa_score_ = cf_matrix_train = accuracy_train = f1_train = precision_train = recall_train = sensitivity_train = type_1_error_FP_train = type_2_error_FN_train = auc_train = 0\n",
    "\n",
    "                    result.append((i, combined_technique, X_train_temp.shape[1], replace_with, knn_weight, classifier_model, sampling_technique, X_train_temp.columns, cf_matrix, accuracy, f1, precision, recall, sensitivity, type_1_error_FP, type_2_error_FN, auc, log_loss_, cohen_kappa_score_, cf_matrix_train, accuracy_train, f1_train, precision_train, recall_train, sensitivity_train, type_1_error_FP_train, type_2_error_FN_train, auc_train))\n",
    "                    \n",
    "                    print('attemp no.: ',i, combined_technique,' acc: ', accuracy,' accuracy_train: ',accuracy_train, ' f1: ', f1,' f1_train: ',f1_train, ' spec: ', sensitivity, ' :auc ', auc, ' cfm: ', '\\n', cf_matrix, '\\n cols', X_train_temp.shape[1])\n",
    "                    \n",
    "\n",
    "                    if i%5==0: \n",
    "                        df_result = pd.DataFrame(result, columns = ['No.','combination','n_cols','outlier_replace_with', 'imputation_knn_weight', 'FS_classifier_model', 'balancing_sampling_technique', 'cols','cf_matrix', 'accuracy', 'f1', 'precision', 'recall', 'sensitivity', 'type_1_error_FP', 'type_2_error_FN', 'auc', 'log_loss_','cohen_kappa_score_','cf_matrix_train', 'accuracy_train', 'f1_train', 'precision_train', 'recall_train', 'sensitivity_train', 'type_1_error_FP_train', 'type_2_error_FN_train', 'auc_train'])\n",
    "                        df_result.to_csv('tracker/result'+str(i)+'.csv')\n",
    "                    \n",
    "\n",
    "                    i+=1\n",
    "\n",
    "\n",
    "\n",
    "\n",
    "\n",
    "df_result = pd.DataFrame(result, columns = ['No.','combination','n_cols','outlier_replace_with', 'imputation_knn_weight', 'FS_classifier_model', 'balancing_sampling_technique', 'cols','cf_matrix', 'accuracy', 'f1', 'precision', 'recall', 'sensitivity', 'type_1_error_FP', 'type_2_error_FN', 'auc', 'log_loss_','cohen_kappa_score_','cf_matrix_train', 'accuracy_train', 'f1_train', 'precision_train', 'recall_train', 'sensitivity_train', 'type_1_error_FP_train', 'type_2_error_FN_train', 'auc_train'])\n",
    "df_result.to_csv('tracker/result.csv')\n",
    "\n"
   ]
  },
  {
   "cell_type": "code",
   "execution_count": 93,
   "metadata": {},
   "outputs": [
    {
     "name": "stdout",
     "output_type": "stream",
     "text": [
      "0 0\n"
     ]
    }
   ],
   "source": [
    "\n",
    "try:\n",
    "    BorutaShap_FS (X, y, 'shap')\n",
    "except Exception:\n",
    "    a=b=0\n",
    "\n",
    "print(a,b)\n",
    "\n",
    "\n",
    "\n",
    "\n"
   ]
  },
  {
   "cell_type": "markdown",
   "metadata": {},
   "source": [
    "# Problems:\n",
    "1. We should take tentative features, ranking>1 (BurutaShap -> need to ressearch how)\n",
    "2. implement removing columns with high corr after FS_options \n",
    "3. Try other models, because RF is overfitting and we havd very bad F1"
   ]
  },
  {
   "cell_type": "markdown",
   "metadata": {},
   "source": [
    "# --------------------Appendix--------------------"
   ]
  },
  {
   "cell_type": "code",
   "execution_count": null,
   "metadata": {},
   "outputs": [],
   "source": [
    "# #------------------------------------\n",
    "# X_train = replace_outlier(X_train, how)\n",
    "# replace_outlier_options = ['NaN', '3s']\n",
    "# #--\n",
    "# X_train = impute_null_with_knn(X_train, which_weights) #\n",
    "# impute_null_options = ['knn__distance', 'knn__uniform', 'MICE']\n",
    "\n",
    "# X_train = impute_null_with_mice(X_train)\n",
    "# #--\n",
    "# BorutaShap_FS(X_train, y_train, method_option)\n",
    "# list_method=['shap','gini']\n",
    "\n",
    "# RFE_FS(X_train, y_train, classify) \n",
    "# list_clf=['RF','SVM']\n",
    "\n",
    "# BorutaPy_FS(X_train, y_train)\n",
    "\n",
    "# FS_options = ['BoS__shap', 'BoS__gini', 'RFE__RF', 'RFE__SVM', 'BoP']\n",
    "# #--\n",
    "# sampling(X_train, y_train, sampler)\n",
    "# sampling_options = ['SMOTE','ROSE','ADASYN','SMOTEENN']\n",
    "\n",
    "# #--------------------------------------"
   ]
  },
  {
   "cell_type": "code",
   "execution_count": 9,
   "metadata": {},
   "outputs": [
    {
     "data": {
      "text/plain": [
       "[[1, 2, 3], [2, 3, 1]]"
      ]
     },
     "execution_count": 9,
     "metadata": {},
     "output_type": "execute_result"
    }
   ],
   "source": [
    "# l = []\n",
    "# a=1\n",
    "# b=2\n",
    "# c=3\n",
    "\n",
    "# l.append([a,b,c])\n",
    "# l.append([b,c,a])\n",
    "\n",
    "# l\n",
    "\n"
   ]
  },
  {
   "cell_type": "code",
   "execution_count": null,
   "metadata": {},
   "outputs": [],
   "source": [
    "# list_null_impute = [knnimputation_distance, MICEimputation_distance]\n",
    "# list_null_outlier = [outlier_knn,outlier_3s]\n",
    "# list_feat_selection = ['Boruta_RF', 'Boruta_shap', 'RFE']\n",
    "# Boruta = ['RF', 'XGB']\n",
    "# Boruta_shap = ['RF', 'XGB', 'kNN']\n",
    "# RFE = ['RF', 'SVC']"
   ]
  },
  {
   "cell_type": "code",
   "execution_count": null,
   "metadata": {},
   "outputs": [
    {
     "data": {
      "text/html": [
       "<div>\n",
       "<style scoped>\n",
       "    .dataframe tbody tr th:only-of-type {\n",
       "        vertical-align: middle;\n",
       "    }\n",
       "\n",
       "    .dataframe tbody tr th {\n",
       "        vertical-align: top;\n",
       "    }\n",
       "\n",
       "    .dataframe thead th {\n",
       "        text-align: right;\n",
       "    }\n",
       "</style>\n",
       "<table border=\"1\" class=\"dataframe\">\n",
       "  <thead>\n",
       "    <tr style=\"text-align: right;\">\n",
       "      <th></th>\n",
       "      <th>a</th>\n",
       "      <th>b</th>\n",
       "      <th>c</th>\n",
       "    </tr>\n",
       "  </thead>\n",
       "  <tbody>\n",
       "    <tr>\n",
       "      <th>0</th>\n",
       "      <td>1</td>\n",
       "      <td>2</td>\n",
       "      <td>3</td>\n",
       "    </tr>\n",
       "    <tr>\n",
       "      <th>1</th>\n",
       "      <td>4</td>\n",
       "      <td>5</td>\n",
       "      <td>6</td>\n",
       "    </tr>\n",
       "    <tr>\n",
       "      <th>2</th>\n",
       "      <td>7</td>\n",
       "      <td>8</td>\n",
       "      <td>9</td>\n",
       "    </tr>\n",
       "    <tr>\n",
       "      <th>3</th>\n",
       "      <td>1</td>\n",
       "      <td>1</td>\n",
       "      <td>1</td>\n",
       "    </tr>\n",
       "  </tbody>\n",
       "</table>\n",
       "</div>"
      ],
      "text/plain": [
       "   a  b  c\n",
       "0  1  2  3\n",
       "1  4  5  6\n",
       "2  7  8  9\n",
       "3  1  1  1"
      ]
     },
     "metadata": {},
     "output_type": "display_data"
    }
   ],
   "source": [
    "# #TESTING\n",
    "# df = pd.DataFrame(np.array([[1, 2, 3], [4, 5, 6], [7, 8, 9], [1,1,1]]),\n",
    "#                    columns=['a', 'b', 'c'])\n",
    "# df"
   ]
  }
 ],
 "metadata": {
  "interpreter": {
   "hash": "3aeb15c8c31224d9ef37a76c0046f703a279f439b6efd04fb2681e5f2715bf2f"
  },
  "kernelspec": {
   "display_name": "Python 3.8.8 ('base')",
   "language": "python",
   "name": "python3"
  },
  "language_info": {
   "codemirror_mode": {
    "name": "ipython",
    "version": 3
   },
   "file_extension": ".py",
   "mimetype": "text/x-python",
   "name": "python",
   "nbconvert_exporter": "python",
   "pygments_lexer": "ipython3",
   "version": "3.8.8"
  },
  "orig_nbformat": 4
 },
 "nbformat": 4,
 "nbformat_minor": 2
}
