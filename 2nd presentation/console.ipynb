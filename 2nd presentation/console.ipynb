{
 "cells": [
  {
   "cell_type": "markdown",
   "metadata": {},
   "source": [
    "# Import library"
   ]
  },
  {
   "cell_type": "code",
   "execution_count": 82,
   "metadata": {},
   "outputs": [],
   "source": [
    "# #importing libraries\n",
    "# import csv\n",
    "# import pandas as pd\n",
    "# import numpy as np\n",
    "# import matplotlib.pyplot as plt\n",
    "# import seaborn as sns\n",
    "# from sklearn.model_selection import train_test_split\n",
    "# from sklearn.preprocessing import MinMaxScaler\n",
    "# from sklearn.impute import KNNImputer\n",
    "# from sklearn.experimental import enable_iterative_imputer\n",
    "# from sklearn.impute import IterativeImputer\n",
    "# from sklearn.ensemble import RandomForestClassifier\n",
    "\n",
    "# from boruta import BorutaPy\n",
    "# from BorutaShap import BorutaShap\n",
    "# from sklearn.feature_selection import RFE\n",
    "\n",
    "# from imblearn.over_sampling import SMOTE, ADASYN, RandomOverSampler\n",
    "# from imblearn.under_sampling import RandomUnderSampler\n",
    "# from imblearn.combine import SMOTEENN\n",
    "\n",
    "# from collections import Counter\n",
    "# from sklearn.svm import SVC\n",
    "\n",
    "# from sklearn.metrics import accuracy_score, confusion_matrix, ConfusionMatrixDisplay, f1_score, precision_score, recall_score, roc_auc_score"
   ]
  },
  {
   "cell_type": "code",
   "execution_count": 83,
   "metadata": {},
   "outputs": [],
   "source": [
    "# from sklearn.metrics import accuracy_score, confusion_matrix, ConfusionMatrixDisplay, f1_score, precision_score, recall_score, roc_auc_score"
   ]
  },
  {
   "cell_type": "markdown",
   "metadata": {},
   "source": [
    "# Read df"
   ]
  },
  {
   "cell_type": "code",
   "execution_count": 84,
   "metadata": {},
   "outputs": [],
   "source": [
    "#this function is to read, transform and join 2 data frame\n",
    "\n",
    "def read_features():\n",
    "    path = 'input/secom.data'\n",
    "    df = pd.read_csv(path, delimiter=' ', header=None, na_values=['NaN'])\n",
    "    df.columns = ['feature_'+str(x+1) for x in range(len(df.columns))]\n",
    "    return df\n",
    "\n",
    "\n",
    "\n",
    "def read_target():\n",
    "    path = 'input/secom_labels.data'\n",
    "    df = pd.read_csv(path, delimiter=' ', header=None, na_values=['NaN'])\n",
    "    df.columns = ['status','timestamp']\n",
    "    df['timestamp'] = pd.to_datetime(df['timestamp'],dayfirst=True)\n",
    "    return df\n",
    "\n",
    "#for the testing purporse, trim to remain first 100 rows only\n",
    "X = read_features()\n",
    "y = read_target().iloc[:,0]"
   ]
  },
  {
   "cell_type": "markdown",
   "metadata": {},
   "source": [
    "# Remove duplicated columns"
   ]
  },
  {
   "cell_type": "code",
   "execution_count": 85,
   "metadata": {},
   "outputs": [],
   "source": [
    "#find the duplicated features (columns)\n",
    "def remove_duplicated_columns(df):\n",
    "    dict_duplicate_pair = {}\n",
    "    dict_duplicate_matches = {}\n",
    "    list_duplicate = []\n",
    "    to_remove = []\n",
    "    for i in range(0, len(df.columns)):\n",
    "        l = []\n",
    "        for j in range(i+1,len(df.columns)):\n",
    "            dict_duplicate_pair[str(i+1)+';'+str(j+1)] = df.iloc[:,i].equals(df.iloc[:,j])\n",
    "            if df.iloc[:,i].equals(df.iloc[:,j]) == True:\n",
    "                if j not in list_duplicate:\n",
    "                    l.append(j)\n",
    "                    to_remove.append('feature_'+str(j+1))\n",
    "                list_duplicate.append(i)\n",
    "                list_duplicate.append(j)\n",
    "        if len(l)!=0:\n",
    "            dict_duplicate_matches[i] = l\n",
    "\n",
    "\n",
    "    df_duplicate_pair = pd.DataFrame.from_dict(dict_duplicate_pair, orient='index')\n",
    "    df_duplicate_pair.columns=['duplicate']\n",
    "\n",
    "    df_duplicate_matches = pd.DataFrame.from_dict(dict_duplicate_matches, orient='index')\n",
    "\n",
    "    \n",
    "    df = df.drop(columns=to_remove, axis = 1)\n",
    "\n",
    "    return df\n",
    "\n",
    "# X = remove_duplicated_columns(X)\n",
    "# X.shape\n"
   ]
  },
  {
   "cell_type": "markdown",
   "metadata": {},
   "source": [
    "# Remove columns with Constant volatility (std=0)"
   ]
  },
  {
   "cell_type": "code",
   "execution_count": 86,
   "metadata": {},
   "outputs": [],
   "source": [
    "def remove_constant_volatility(df):\n",
    "    df_EDA= df.describe().T\n",
    "    df_EDA= df_EDA[df_EDA[\"std\"] == 0]\n",
    "    df = df.drop(axis=1, columns=df_EDA.index)\n",
    "    return df\n",
    "\n",
    "# X = remove_constant_volatility(X)\n",
    "# X.shape"
   ]
  },
  {
   "cell_type": "markdown",
   "metadata": {},
   "source": [
    "# Remove columns with high %Missing values"
   ]
  },
  {
   "cell_type": "code",
   "execution_count": 87,
   "metadata": {},
   "outputs": [],
   "source": [
    "def remove_cols_with_high_pct_null(df, null_threshold):\n",
    "    list_column_with_pct_null = pd.concat([df.isnull().sum(), df.isnull().sum()/df.shape[0]],axis=1).rename(columns={0:'Missing_Records', 1:'Percentage (%)'})\n",
    "    list_column_with_pct_null= list_column_with_pct_null[list_column_with_pct_null[\"Percentage (%)\"] >= null_threshold]\n",
    "    df = df.drop(axis=1, columns=list_column_with_pct_null.index)\n",
    "    return df\n",
    "\n",
    "# X = remove_cols_with_high_pct_null(X, 0.8)\n",
    "# X.shape"
   ]
  },
  {
   "cell_type": "markdown",
   "metadata": {},
   "source": [
    "# Split data"
   ]
  },
  {
   "cell_type": "code",
   "execution_count": 88,
   "metadata": {},
   "outputs": [],
   "source": [
    "# X_train, X_test, y_train, y_test = train_test_split(X, y, test_size = 0.2, random_state = 1,stratify=y)"
   ]
  },
  {
   "cell_type": "markdown",
   "metadata": {},
   "source": [
    "# Outlier treatment"
   ]
  },
  {
   "cell_type": "code",
   "execution_count": 89,
   "metadata": {},
   "outputs": [],
   "source": [
    "#how = ['NaN', '3s']\n",
    "def replace_outlier(df, how):\n",
    "    for col in df:\n",
    "        ll_col = df[col].mean() - 3 * df[col].std()\n",
    "        ul_col = df[col].mean() + 3 * df[col].std()\n",
    "        if how == 'NaN':\n",
    "            df[col] = np.where(df[col]>ul_col,np.NaN,np.where(df[col]<ll_col,np.NaN,df[col]))\n",
    "        elif how == '3s':\n",
    "            df[col] = np.where(df[col]>ul_col,ul_col,np.where(df[col]<ll_col,ll_col,df[col]))\n",
    "    return df"
   ]
  },
  {
   "cell_type": "markdown",
   "metadata": {},
   "source": [
    "# Missing value Imputation"
   ]
  },
  {
   "cell_type": "code",
   "execution_count": 90,
   "metadata": {},
   "outputs": [],
   "source": [
    "#which_weights = ['distance','uniform']\n",
    "\n",
    "def impute_null_with_knn(X_train, X_test, which_weights):\n",
    "    #First scale the data \n",
    "    scaler = MinMaxScaler()\n",
    "    X_train = pd.DataFrame(scaler.fit_transform(X_train), columns= X_train.columns)\n",
    "    X_test = pd.DataFrame(scaler.transform(X_test), columns= X_test.columns)\n",
    "\n",
    "    knn = KNNImputer(n_neighbors=5, weights=which_weights) #check this neighbors = 5\n",
    "\n",
    "    X_train = pd.DataFrame(knn.fit_transform(X_train), columns=X_train.columns)\n",
    "    X_test = pd.DataFrame(knn.transform(X_test), columns=X_test.columns)\n",
    "    \n",
    "    X_train = pd.DataFrame(scaler.inverse_transform(X_train), columns= X_train.columns)\n",
    "    X_test = pd.DataFrame(scaler.inverse_transform(X_test), columns= X_test.columns)\n",
    "    return X_train, X_test\n",
    "\n",
    "#X_train = impute_null_with_knn(X_train)"
   ]
  },
  {
   "cell_type": "code",
   "execution_count": 91,
   "metadata": {},
   "outputs": [],
   "source": [
    "def impute_null_with_mice(X_train, X_test): \n",
    "    imp = IterativeImputer(max_iter=5, verbose=0, imputation_order='roman', random_state=0)\n",
    "    X_train = pd.DataFrame(imp.fit_transform(X_train), columns=X_train.columns)\n",
    "    X_test = pd.DataFrame(imp.transform(X_test), columns=X_test.columns)\n",
    "    return X_train, X_test"
   ]
  },
  {
   "cell_type": "markdown",
   "metadata": {},
   "source": [
    "# Feature Selection"
   ]
  },
  {
   "cell_type": "code",
   "execution_count": 92,
   "metadata": {},
   "outputs": [],
   "source": [
    "#list_method=['shap','gini']\n",
    "\n",
    "def BorutaShap_FS (X, y, method_option) :\n",
    "    modelshap = RandomForestClassifier(n_jobs=-1,n_estimators=100, max_depth=5, random_state=100)\n",
    "    # define model for resp. classifier\n",
    "    modelshap.fit(X,y)\n",
    "    ##-- feature_names = np.array(X.columns)\n",
    "    # define Boruta Sahp feature selection method\n",
    "    feature_selector = BorutaShap(model=modelshap,\n",
    "                              importance_measure=method_option,\n",
    "                              classification=True)  # find all relevant features\n",
    "    feature_selector.fit(X,y,n_trials=100, sample=False, verbose=False, random_state=100)  \n",
    "    ##-- feature_selector.plot(which_features='accepted',figsize=(20,10))\n",
    "    # call transform() on X to filter it down to selected features\n",
    "    return  feature_selector.Subset()"
   ]
  },
  {
   "cell_type": "code",
   "execution_count": 93,
   "metadata": {},
   "outputs": [],
   "source": [
    "#RFE function with random forest\n",
    "\n",
    "def RFE_FS (X, y, classify) :\n",
    "    feature_names = np.array(X.columns)\n",
    "    if classify == 'RF':\n",
    "    # define random forest classifier\n",
    "        model = RandomForestClassifier(n_jobs=-1, class_weight='balanced_subsample', max_depth=5, random_state=100)\n",
    "        #model.fit(X, y)\n",
    "        #rfe = RFE(estimator = model,n_features_to_select = 15)\n",
    "    if classify== 'SVM':\n",
    "        model = SVC(kernel='linear',C=5)\n",
    "        #model.fit(X, y)\n",
    "        #rfe = RFECV(estimator = model,scoring='accuracy')\n",
    "    # find all relevant features\n",
    "    model.fit(X, y)\n",
    "    rfe = RFE(estimator = model,n_features_to_select = 20) #change to 20\n",
    "    rfe.fit(X,y)\n",
    "\n",
    "    # check selected features\n",
    "    ##-- rfe.support_\n",
    "\n",
    "    # check ranking of features\n",
    "    ##--rfe.ranking_\n",
    "\n",
    "    # zip feature names, ranks, and decisions \n",
    "    # feature_ranks = list(zip(feature_names, \n",
    "    #                          rfe.ranking_, \n",
    "    #                          rfe.support_))\n",
    "\n",
    "    # print the results\n",
    "    ##--for feat in feature_ranks:\n",
    "    ##--    print('Feature: {:<30} Rank: {},  Keep: {}'.format(feat[0], feat[1], feat[2]))\n",
    "        \n",
    "    final_features_rfe = list()\n",
    "    indexes = np.where(rfe.ranking_ <= 2) #change to 2\n",
    "    for x in np.nditer(indexes):\n",
    "        final_features_rfe.append(feature_names[x])\n",
    "    ##-- print(final_features_rfe)\n",
    "    \n",
    " # call transform() on X to filter it down to selected features\n",
    "    return pd.DataFrame(X.filter(final_features_rfe))"
   ]
  },
  {
   "cell_type": "code",
   "execution_count": 94,
   "metadata": {},
   "outputs": [],
   "source": [
    "#Boruta function with random forest\n",
    "\n",
    "def BorutaPy_FS (X, y) :\n",
    "    feature_names = np.array(X.columns)\n",
    "\n",
    "    # define random forest classifier\n",
    "    model = RandomForestClassifier(n_jobs=-1, class_weight='balanced_subsample', max_depth=5, random_state=100)\n",
    "    model.fit(X, y)\n",
    "    # define Boruta feature selection method\n",
    "    \n",
    "    feature_selector = BorutaPy(model, n_estimators='auto', verbose=0, random_state=100, max_iter=140)\n",
    "\n",
    "    # find all relevant features\n",
    "    feature_selector.fit(X.to_numpy(),y)\n",
    "\n",
    "    # check selected features\n",
    "    ##--feature_selector.support_\n",
    "\n",
    "    # check ranking of features\n",
    "    ##--feature_ranking=feature_selector.ranking_\n",
    "\n",
    "    # zip feature names, ranks, and decisions \n",
    "    # feature_ranks = list(zip(feature_names, \n",
    "    #                          feature_selector.ranking_, \n",
    "    #                          feature_selector.support_))\n",
    "\n",
    "    # print the results\n",
    "    ##--for feat in feature_ranks:\n",
    "    ##--    print('Feature: {:<30} Rank: {},  Keep: {}'.format(feat[0], feat[1], feat[2]))\n",
    "        \n",
    "    final_features = list()\n",
    "    indexes = np.where(feature_selector.ranking_ <= 2) #change to 2\n",
    "    for x in np.nditer(indexes):\n",
    "        final_features.append(feature_names[x])\n",
    "    ##--print(final_features)\n",
    "    \n",
    " # call transform() on X to filter it down to selected features\n",
    "    return pd.DataFrame(X.filter(final_features))"
   ]
  },
  {
   "cell_type": "markdown",
   "metadata": {},
   "source": [
    "# Multicolinearity treatement"
   ]
  },
  {
   "cell_type": "code",
   "execution_count": 95,
   "metadata": {},
   "outputs": [],
   "source": [
    "#Remove the highly collinear features from data\n",
    "def remove_collinear_features(x, threshold):\n",
    "    '''\n",
    "    Objective:\n",
    "        Remove collinear features in a dataframe with a correlation coefficient\n",
    "        greater than the threshold. Removing collinear features can help a model \n",
    "        to generalize and improves the interpretability of the model.\n",
    "\n",
    "    Inputs: \n",
    "        x: features dataframe\n",
    "        threshold: features with correlations greater than this value are removed\n",
    "\n",
    "    Output: \n",
    "        dataframe that contains only the non-highly-collinear features\n",
    "    '''\n",
    "\n",
    "    # Calculate the correlation matrix\n",
    "    corr_matrix = x.corr()\n",
    "    iters = range(len(corr_matrix.columns) - 1)\n",
    "    drop_cols = []\n",
    "\n",
    "    # Iterate through the correlation matrix and compare correlations\n",
    "    for i in iters:\n",
    "        for j in range(i+1):\n",
    "            item = corr_matrix.iloc[j:(j+1), (i+1):(i+2)]\n",
    "            col = item.columns\n",
    "            row = item.index\n",
    "            val = abs(item.values)\n",
    "\n",
    "            # If correlation exceeds the threshold\n",
    "            if val >= threshold:\n",
    "                #Print the correlated features and the correlation value\n",
    "                #print(col.values[0], \"|\", row.values[0], \"|\", round(val[0][0], 2))\n",
    "                drop_cols.append(col.values[0])\n",
    "\n",
    "    # Drop one of each pair of correlated columns\n",
    "    drops = set(drop_cols)\n",
    "    x = x.drop(columns=drops)\n",
    "\n",
    "    return x\n",
    "\n",
    "#remove_collinear_features(X, 0.7)"
   ]
  },
  {
   "cell_type": "markdown",
   "metadata": {},
   "source": [
    "# Balancing"
   ]
  },
  {
   "cell_type": "code",
   "execution_count": 96,
   "metadata": {},
   "outputs": [],
   "source": [
    "def sampling(X_train, y_train, sampler):\n",
    "    \n",
    "    #SMOTE\n",
    "    if sampler == 'SMOTE':\n",
    "        sampler = SMOTE(random_state=100)    \n",
    "    \n",
    "    #ROSE\n",
    "    if sampler == 'ROSE':\n",
    "        sampler = RandomOverSampler(random_state=100, shrinkage=1)\n",
    "\n",
    "    #ADASYN\n",
    "    if sampler == 'ADASYN':\n",
    "        sampler = ADASYN(random_state=100)\n",
    "    \n",
    "\n",
    "    #SMOTTEENN\n",
    "    if sampler == 'SMOTEENN' :\n",
    "        sampler = SMOTEENN(random_state=100)\n",
    "        \n",
    "        \n",
    "    #Random under Sampling\n",
    "    if sampler == \"randomunder\":\n",
    "        sampler = RandomUnderSampler(random_state=100)\n",
    "\n",
    "    X_resampled, y_resampled = sampler.fit_resample(X_train, y_train)\n",
    "    #counter = Counter(y_resampled)\n",
    "    #print(counter)\n",
    "    \n",
    "    return X_resampled, y_resampled\n",
    "\n",
    "# X_train, y_train = sampling(X_train, y_train,'SMOTE')\n",
    "# X_train.shape"
   ]
  },
  {
   "cell_type": "markdown",
   "metadata": {},
   "source": [
    "# Model"
   ]
  },
  {
   "cell_type": "code",
   "execution_count": 99,
   "metadata": {},
   "outputs": [],
   "source": [
    "which_model = ['RF', 'LR']\n",
    "\n",
    "def run_model(X_train, y_train, X_test, y_test, which_model):\n",
    "\n",
    "    if which_model == 'RF':\n",
    "    # building model before balancing data\n",
    "        model = RandomForestClassifier(random_state=1, n_estimators=1000, max_depth=5)\n",
    "    elif which_model == 'LR':\n",
    "        model = LogisticRegression(random_state=1)\n",
    "    \n",
    "    model.fit(X_train,y_train)\n",
    "\n",
    "\n",
    "    #For TEST SPLIT\n",
    "    y_pred= model.predict(X_test)\n",
    "    cf_matrix = confusion_matrix(y_test, y_pred)\n",
    "    accuracy= accuracy_score(y_test, y_pred)\n",
    "    f1 = f1_score(y_test, y_pred) ##\n",
    "    precision = precision_score(y_test, y_pred)\n",
    "    recall = recall_score(y_test, y_pred)\n",
    "    specificity = cf_matrix[1][1] / ( cf_matrix[1][1] + cf_matrix[1][0] )\n",
    "    auc = roc_auc_score(y_test, y_pred)\n",
    "    type_1_error_FP = cf_matrix[0][1]\n",
    "    type_2_error_FN = cf_matrix[1][0]\n",
    "    #Note by default 1 is the positive label. Therefore, -1 is negative\n",
    "    #bad waffe -> 2 line of matrix -> POSITIVE -> data = -1\n",
    "\n",
    "    #For TRAIN SPLIT\n",
    "    y_pred_train= model.predict(X_train)\n",
    "    cf_matrix_train = confusion_matrix(y_train, y_pred_train)\n",
    "    accuracy_train= accuracy_score(y_train, y_pred_train)\n",
    "    f1_train = f1_score(y_train, y_pred_train) ##\n",
    "    precision_train = precision_score(y_train, y_pred_train)\n",
    "    recall_train = recall_score(y_train, y_pred_train)\n",
    "    specificity_train = cf_matrix_train[1][1] / ( cf_matrix_train[1][1] + cf_matrix_train[1][0] )\n",
    "    auc_train = roc_auc_score(y_train, y_pred_train)\n",
    "    type_1_error_FP_train = cf_matrix_train[0][1]\n",
    "    type_2_error_FN_train = cf_matrix_train[1][0]\n",
    "\n",
    "\n",
    "    return cf_matrix, accuracy, f1, precision, recall, specificity, type_1_error_FP, type_2_error_FN, auc, cf_matrix_train, accuracy_train, f1_train, precision_train, recall_train, specificity_train, type_1_error_FP_train, type_2_error_FN_train, auc_train\n",
    "\n",
    "#run_model(X_train, y_train, X_test, y_test)"
   ]
  },
  {
   "cell_type": "markdown",
   "metadata": {},
   "source": [
    "## Combine"
   ]
  },
  {
   "cell_type": "code",
   "execution_count": null,
   "metadata": {},
   "outputs": [],
   "source": [
    "# fast_track_cols = X_test.columns\n",
    "# fast_track_cols"
   ]
  },
  {
   "cell_type": "code",
   "execution_count": 80,
   "metadata": {},
   "outputs": [
    {
     "name": "stdout",
     "output_type": "stream",
     "text": [
      "n_cols BEFORE multicolinearity treatement 16\n",
      "n_cols AFTER multicolinearity treatement 13\n",
      "attemp no.:  0 3s&knn__uniform&BoP&SMOTE  acc:  0.8121019108280255  accuracy_train:  0.8884615384615384  f1:  0.2337662337662338  f1_train:  0.8935128518971847  spec:  0.42857142857142855  :auc  0.6340809361287179  cfm:  \n",
      " [[246  47]\n",
      " [ 12   9]] \n",
      " cols 13 Index(['feature_20', 'feature_22', 'feature_34', 'feature_60', 'feature_104',\n",
      "       'feature_122', 'feature_130', 'feature_131', 'feature_206',\n",
      "       'feature_248', 'feature_349', 'feature_427', 'feature_511'],\n",
      "      dtype='object') \n",
      "\n",
      "n_cols BEFORE multicolinearity treatement 16\n",
      "n_cols AFTER multicolinearity treatement 14\n",
      "attemp no.:  1 3s&knn__uniform&BoP&ROSE  acc:  0.7802547770700637  accuracy_train:  0.8401709401709402  f1:  0.24175824175824173  f1_train:  0.8398972602739726  spec:  0.5238095238095238  :auc  0.6612221680481066  cfm:  \n",
      " [[234  59]\n",
      " [ 10  11]] \n",
      " cols 14 Index(['feature_1', 'feature_20', 'feature_22', 'feature_34', 'feature_60',\n",
      "       'feature_104', 'feature_118', 'feature_122', 'feature_130',\n",
      "       'feature_131', 'feature_206', 'feature_248', 'feature_349',\n",
      "       'feature_511'],\n",
      "      dtype='object') \n",
      "\n"
     ]
    },
    {
     "name": "stderr",
     "output_type": "stream",
     "text": [
      "100%|██████████| 100/100 [01:22<00:00,  1.21it/s]\n"
     ]
    },
    {
     "name": "stdout",
     "output_type": "stream",
     "text": [
      "n_cols BEFORE multicolinearity treatement 19\n",
      "n_cols AFTER multicolinearity treatement 14\n",
      "attemp no.:  2 3s&knn__uniform&BoS__shap&SMOTE  acc:  0.8375796178343949  accuracy_train:  0.8730769230769231  f1:  0.3013698630136986  f1_train:  0.8771203971865951  spec:  0.5238095238095238  :auc  0.6919388915975947  cfm:  \n",
      " [[252  41]\n",
      " [ 10  11]] \n",
      " cols 14 Index(['feature_442', 'feature_206', 'feature_435', 'feature_118',\n",
      "       'feature_133', 'feature_461', 'feature_66', 'feature_22', 'feature_148',\n",
      "       'feature_349', 'feature_34', 'feature_124', 'feature_332',\n",
      "       'feature_60'],\n",
      "      dtype='object') \n",
      "\n"
     ]
    },
    {
     "name": "stderr",
     "output_type": "stream",
     "text": [
      "100%|██████████| 100/100 [01:18<00:00,  1.28it/s]\n"
     ]
    },
    {
     "name": "stdout",
     "output_type": "stream",
     "text": [
      "n_cols BEFORE multicolinearity treatement 15\n",
      "n_cols AFTER multicolinearity treatement 10\n",
      "attemp no.:  3 3s&knn__uniform&BoS__shap&ROSE  acc:  0.8089171974522293  accuracy_train:  0.8363247863247864  f1:  0.2857142857142857  f1_train:  0.8370905997447895  spec:  0.5714285714285714  :auc  0.6986835689907362  cfm:  \n",
      " [[242  51]\n",
      " [  9  12]] \n",
      " cols 10 Index(['feature_164', 'feature_22', 'feature_148', 'feature_65', 'feature_206',\n",
      "       'feature_349', 'feature_118', 'feature_34', 'feature_60',\n",
      "       'feature_133'],\n",
      "      dtype='object') \n",
      "\n"
     ]
    },
    {
     "name": "stderr",
     "output_type": "stream",
     "text": [
      "100%|██████████| 100/100 [00:41<00:00,  2.41it/s]\n"
     ]
    },
    {
     "name": "stdout",
     "output_type": "stream",
     "text": [
      "n_cols BEFORE multicolinearity treatement 11\n",
      "n_cols AFTER multicolinearity treatement 7\n",
      "attemp no.:  4 3s&knn__uniform&BoS__gini&SMOTE  acc:  0.7197452229299363  accuracy_train:  0.8068376068376069  f1:  0.16981132075471697  f1_train:  0.817741935483871  spec:  0.42857142857142855  :auc  0.5845928815212091  cfm:  \n",
      " [[217  76]\n",
      " [ 12   9]] \n",
      " cols 7 Index(['feature_289', 'feature_442', 'feature_65', 'feature_354',\n",
      "       'feature_299', 'feature_133', 'feature_461'],\n",
      "      dtype='object') \n",
      "\n"
     ]
    },
    {
     "name": "stderr",
     "output_type": "stream",
     "text": [
      "100%|██████████| 100/100 [00:41<00:00,  2.39it/s]\n"
     ]
    },
    {
     "name": "stdout",
     "output_type": "stream",
     "text": [
      "n_cols BEFORE multicolinearity treatement 10\n",
      "n_cols AFTER multicolinearity treatement 7\n",
      "attemp no.:  5 3s&knn__uniform&BoS__gini&ROSE  acc:  0.8057324840764332  accuracy_train:  0.7790598290598291  f1:  0.2469135802469136  f1_train:  0.7571629873179897  spec:  0.47619047619047616  :auc  0.6527710060133268  cfm:  \n",
      " [[243  50]\n",
      " [ 11  10]] \n",
      " cols 7 Index(['feature_289', 'feature_442', 'feature_65', 'feature_354',\n",
      "       'feature_299', 'feature_133', 'feature_461'],\n",
      "      dtype='object') \n",
      "\n",
      "n_cols BEFORE multicolinearity treatement 21\n",
      "n_cols AFTER multicolinearity treatement 18\n",
      "attemp no.:  6 3s&knn__uniform&RFE__RF&SMOTE  acc:  0.8439490445859873  accuracy_train:  0.9299145299145299  f1:  0.1967213114754098  f1_train:  0.9322314049586777  spec:  0.2857142857142857  :auc  0.5848366650414432  cfm:  \n",
      " [[259  34]\n",
      " [ 15   6]] \n",
      " cols 18 Index(['feature_1', 'feature_20', 'feature_22', 'feature_34', 'feature_60',\n",
      "       'feature_65', 'feature_92', 'feature_118', 'feature_122', 'feature_130',\n",
      "       'feature_131', 'feature_153', 'feature_206', 'feature_337',\n",
      "       'feature_349', 'feature_427', 'feature_489', 'feature_511'],\n",
      "      dtype='object') \n",
      "\n",
      "n_cols BEFORE multicolinearity treatement 21\n",
      "n_cols AFTER multicolinearity treatement 18\n",
      "attemp no.:  7 3s&knn__uniform&RFE__RF&ROSE  acc:  0.8121019108280255  accuracy_train:  0.847008547008547  f1:  0.2891566265060241  f1_train:  0.8446180555555556  spec:  0.5714285714285714  :auc  0.7003900536323745  cfm:  \n",
      " [[243  50]\n",
      " [  9  12]] \n",
      " cols 18 Index(['feature_1', 'feature_20', 'feature_22', 'feature_34', 'feature_60',\n",
      "       'feature_104', 'feature_118', 'feature_122', 'feature_130',\n",
      "       'feature_131', 'feature_206', 'feature_320', 'feature_349',\n",
      "       'feature_424', 'feature_426', 'feature_427', 'feature_461',\n",
      "       'feature_489'],\n",
      "      dtype='object') \n",
      "\n",
      "n_cols BEFORE multicolinearity treatement 17\n",
      "n_cols AFTER multicolinearity treatement 14\n",
      "attemp no.:  8 3s&MICE&BoP&SMOTE  acc:  0.8089171974522293  accuracy_train:  0.9042735042735043  f1:  0.25  f1_train:  0.909895414320193  spec:  0.47619047619047616  :auc  0.6544774906549651  cfm:  \n",
      " [[244  49]\n",
      " [ 11  10]] \n",
      " cols 14 Index(['feature_1', 'feature_20', 'feature_22', 'feature_34', 'feature_60',\n",
      "       'feature_104', 'feature_113', 'feature_122', 'feature_130',\n",
      "       'feature_131', 'feature_206', 'feature_248', 'feature_349',\n",
      "       'feature_383'],\n",
      "      dtype='object') \n",
      "\n",
      "n_cols BEFORE multicolinearity treatement 17\n",
      "n_cols AFTER multicolinearity treatement 14\n",
      "attemp no.:  9 3s&MICE&BoP&ROSE  acc:  0.802547770700637  accuracy_train:  0.8444444444444444  f1:  0.27906976744186046  f1_train:  0.8466722830665544  spec:  0.5714285714285714  :auc  0.6952705997074597  cfm:  \n",
      " [[240  53]\n",
      " [  9  12]] \n",
      " cols 14 Index(['feature_1', 'feature_20', 'feature_22', 'feature_34', 'feature_60',\n",
      "       'feature_104', 'feature_113', 'feature_122', 'feature_130',\n",
      "       'feature_131', 'feature_206', 'feature_248', 'feature_349',\n",
      "       'feature_383'],\n",
      "      dtype='object') \n",
      "\n"
     ]
    },
    {
     "name": "stderr",
     "output_type": "stream",
     "text": [
      "100%|██████████| 100/100 [01:24<00:00,  1.19it/s]\n"
     ]
    },
    {
     "name": "stdout",
     "output_type": "stream",
     "text": [
      "n_cols BEFORE multicolinearity treatement 12\n",
      "n_cols AFTER multicolinearity treatement 8\n",
      "attemp no.:  10 3s&MICE&BoS__shap&SMOTE  acc:  0.8343949044585988  accuracy_train:  0.8487179487179487  f1:  0.35  f1_train:  0.8503803888419272  spec:  0.6666666666666666  :auc  0.7565415244596131  cfm:  \n",
      " [[248  45]\n",
      " [  7  14]] \n",
      " cols 8 Index(['feature_164', 'feature_22', 'feature_65', 'feature_206', 'feature_349',\n",
      "       'feature_118', 'feature_60', 'feature_34'],\n",
      "      dtype='object') \n",
      "\n"
     ]
    },
    {
     "name": "stderr",
     "output_type": "stream",
     "text": [
      "100%|██████████| 100/100 [01:27<00:00,  1.14it/s]\n"
     ]
    },
    {
     "name": "stdout",
     "output_type": "stream",
     "text": [
      "n_cols BEFORE multicolinearity treatement 12\n",
      "n_cols AFTER multicolinearity treatement 8\n",
      "attemp no.:  11 3s&MICE&BoS__shap&ROSE  acc:  0.8089171974522293  accuracy_train:  0.8226495726495726  f1:  0.2682926829268293  f1_train:  0.8199566160520608  spec:  0.5238095238095238  :auc  0.6765805298228506  cfm:  \n",
      " [[243  50]\n",
      " [ 10  11]] \n",
      " cols 8 Index(['feature_148', 'feature_65', 'feature_206', 'feature_349',\n",
      "       'feature_435', 'feature_332', 'feature_60', 'feature_34'],\n",
      "      dtype='object') \n",
      "\n"
     ]
    },
    {
     "name": "stderr",
     "output_type": "stream",
     "text": [
      "100%|██████████| 100/100 [00:46<00:00,  2.14it/s]\n"
     ]
    },
    {
     "name": "stdout",
     "output_type": "stream",
     "text": [
      "n_cols BEFORE multicolinearity treatement 6\n",
      "n_cols AFTER multicolinearity treatement 4\n",
      "attemp no.:  12 3s&MICE&BoS__gini&SMOTE  acc:  0.767515923566879  accuracy_train:  0.7482905982905983  f1:  0.2150537634408602  f1_train:  0.7299403943145347  spec:  0.47619047619047616  :auc  0.6322931903136682  cfm:  \n",
      " [[231  62]\n",
      " [ 11  10]] \n",
      " cols 4 Index(['feature_427', 'feature_442', 'feature_65', 'feature_3'], dtype='object') \n",
      "\n"
     ]
    },
    {
     "ename": "KeyboardInterrupt",
     "evalue": "",
     "output_type": "error",
     "traceback": [
      "\u001b[0;31m---------------------------------------------------------------------------\u001b[0m",
      "\u001b[0;31mKeyboardInterrupt\u001b[0m                         Traceback (most recent call last)",
      "\u001b[0;32m<ipython-input-80-fbbf33cbda8c>\u001b[0m in \u001b[0;36m<module>\u001b[0;34m\u001b[0m\n\u001b[1;32m     64\u001b[0m                     \u001b[0mX_train_temp\u001b[0m\u001b[0;34m,\u001b[0m \u001b[0mX_test_temp\u001b[0m \u001b[0;34m=\u001b[0m \u001b[0mimpute_null_with_knn\u001b[0m\u001b[0;34m(\u001b[0m\u001b[0mX_train_temp\u001b[0m\u001b[0;34m,\u001b[0m \u001b[0mX_test_temp\u001b[0m\u001b[0;34m,\u001b[0m \u001b[0mknn_weight\u001b[0m\u001b[0;34m[\u001b[0m\u001b[0;34m-\u001b[0m\u001b[0;34m(\u001b[0m\u001b[0mlen\u001b[0m\u001b[0;34m(\u001b[0m\u001b[0mknn_weight\u001b[0m\u001b[0;34m)\u001b[0m\u001b[0;34m-\u001b[0m\u001b[0;36m5\u001b[0m\u001b[0;34m)\u001b[0m\u001b[0;34m:\u001b[0m\u001b[0;34m]\u001b[0m\u001b[0;34m)\u001b[0m\u001b[0;34m\u001b[0m\u001b[0;34m\u001b[0m\u001b[0m\n\u001b[1;32m     65\u001b[0m                 \u001b[0;32melif\u001b[0m \u001b[0mknn_weight\u001b[0m \u001b[0;34m==\u001b[0m \u001b[0;34m'MICE'\u001b[0m\u001b[0;34m:\u001b[0m\u001b[0;34m\u001b[0m\u001b[0;34m\u001b[0m\u001b[0m\n\u001b[0;32m---> 66\u001b[0;31m                     \u001b[0mX_train_temp\u001b[0m\u001b[0;34m,\u001b[0m \u001b[0mX_test_temp\u001b[0m \u001b[0;34m=\u001b[0m \u001b[0mimpute_null_with_mice\u001b[0m\u001b[0;34m(\u001b[0m\u001b[0mX_train_temp\u001b[0m\u001b[0;34m,\u001b[0m \u001b[0mX_test_temp\u001b[0m\u001b[0;34m)\u001b[0m\u001b[0;34m\u001b[0m\u001b[0;34m\u001b[0m\u001b[0m\n\u001b[0m\u001b[1;32m     67\u001b[0m \u001b[0;34m\u001b[0m\u001b[0m\n\u001b[1;32m     68\u001b[0m                 \u001b[0;31m#step 8: feature selection (on both TRAIN & TEST split)\u001b[0m\u001b[0;34m\u001b[0m\u001b[0;34m\u001b[0m\u001b[0;34m\u001b[0m\u001b[0m\n",
      "\u001b[0;32m<ipython-input-72-8200d43145d8>\u001b[0m in \u001b[0;36mimpute_null_with_mice\u001b[0;34m(X_train, X_test)\u001b[0m\n\u001b[1;32m      1\u001b[0m \u001b[0;32mdef\u001b[0m \u001b[0mimpute_null_with_mice\u001b[0m\u001b[0;34m(\u001b[0m\u001b[0mX_train\u001b[0m\u001b[0;34m,\u001b[0m \u001b[0mX_test\u001b[0m\u001b[0;34m)\u001b[0m\u001b[0;34m:\u001b[0m\u001b[0;34m\u001b[0m\u001b[0;34m\u001b[0m\u001b[0m\n\u001b[1;32m      2\u001b[0m     \u001b[0mimp\u001b[0m \u001b[0;34m=\u001b[0m \u001b[0mIterativeImputer\u001b[0m\u001b[0;34m(\u001b[0m\u001b[0mmax_iter\u001b[0m\u001b[0;34m=\u001b[0m\u001b[0;36m5\u001b[0m\u001b[0;34m,\u001b[0m \u001b[0mverbose\u001b[0m\u001b[0;34m=\u001b[0m\u001b[0;36m0\u001b[0m\u001b[0;34m,\u001b[0m \u001b[0mimputation_order\u001b[0m\u001b[0;34m=\u001b[0m\u001b[0;34m'roman'\u001b[0m\u001b[0;34m,\u001b[0m \u001b[0mrandom_state\u001b[0m\u001b[0;34m=\u001b[0m\u001b[0;36m0\u001b[0m\u001b[0;34m)\u001b[0m\u001b[0;34m\u001b[0m\u001b[0;34m\u001b[0m\u001b[0m\n\u001b[0;32m----> 3\u001b[0;31m     \u001b[0mX_train\u001b[0m \u001b[0;34m=\u001b[0m \u001b[0mpd\u001b[0m\u001b[0;34m.\u001b[0m\u001b[0mDataFrame\u001b[0m\u001b[0;34m(\u001b[0m\u001b[0mimp\u001b[0m\u001b[0;34m.\u001b[0m\u001b[0mfit_transform\u001b[0m\u001b[0;34m(\u001b[0m\u001b[0mX_train\u001b[0m\u001b[0;34m)\u001b[0m\u001b[0;34m,\u001b[0m \u001b[0mcolumns\u001b[0m\u001b[0;34m=\u001b[0m\u001b[0mX_train\u001b[0m\u001b[0;34m.\u001b[0m\u001b[0mcolumns\u001b[0m\u001b[0;34m)\u001b[0m\u001b[0;34m\u001b[0m\u001b[0;34m\u001b[0m\u001b[0m\n\u001b[0m\u001b[1;32m      4\u001b[0m     \u001b[0mX_test\u001b[0m \u001b[0;34m=\u001b[0m \u001b[0mpd\u001b[0m\u001b[0;34m.\u001b[0m\u001b[0mDataFrame\u001b[0m\u001b[0;34m(\u001b[0m\u001b[0mimp\u001b[0m\u001b[0;34m.\u001b[0m\u001b[0mtransform\u001b[0m\u001b[0;34m(\u001b[0m\u001b[0mX_test\u001b[0m\u001b[0;34m)\u001b[0m\u001b[0;34m,\u001b[0m \u001b[0mcolumns\u001b[0m\u001b[0;34m=\u001b[0m\u001b[0mX_test\u001b[0m\u001b[0;34m.\u001b[0m\u001b[0mcolumns\u001b[0m\u001b[0;34m)\u001b[0m\u001b[0;34m\u001b[0m\u001b[0;34m\u001b[0m\u001b[0m\n\u001b[1;32m      5\u001b[0m     \u001b[0;32mreturn\u001b[0m \u001b[0mX_train\u001b[0m\u001b[0;34m,\u001b[0m \u001b[0mX_test\u001b[0m\u001b[0;34m\u001b[0m\u001b[0;34m\u001b[0m\u001b[0m\n",
      "\u001b[0;32m~/.local/lib/python3.8/site-packages/sklearn/impute/_iterative.py\u001b[0m in \u001b[0;36mfit_transform\u001b[0;34m(self, X, y)\u001b[0m\n\u001b[1;32m    663\u001b[0m                     \u001b[0mn_features\u001b[0m\u001b[0;34m,\u001b[0m \u001b[0mfeat_idx\u001b[0m\u001b[0;34m,\u001b[0m \u001b[0mabs_corr_mat\u001b[0m\u001b[0;34m\u001b[0m\u001b[0;34m\u001b[0m\u001b[0m\n\u001b[1;32m    664\u001b[0m                 )\n\u001b[0;32m--> 665\u001b[0;31m                 Xt, estimator = self._impute_one_feature(\n\u001b[0m\u001b[1;32m    666\u001b[0m                     \u001b[0mXt\u001b[0m\u001b[0;34m,\u001b[0m\u001b[0;34m\u001b[0m\u001b[0;34m\u001b[0m\u001b[0m\n\u001b[1;32m    667\u001b[0m                     \u001b[0mmask_missing_values\u001b[0m\u001b[0;34m,\u001b[0m\u001b[0;34m\u001b[0m\u001b[0;34m\u001b[0m\u001b[0m\n",
      "\u001b[0;32m~/.local/lib/python3.8/site-packages/sklearn/impute/_iterative.py\u001b[0m in \u001b[0;36m_impute_one_feature\u001b[0;34m(self, X_filled, mask_missing_values, feat_idx, neighbor_feat_idx, estimator, fit_mode)\u001b[0m\n\u001b[1;32m    316\u001b[0m             \u001b[0mX_train\u001b[0m \u001b[0;34m=\u001b[0m \u001b[0m_safe_indexing\u001b[0m\u001b[0;34m(\u001b[0m\u001b[0mX_filled\u001b[0m\u001b[0;34m[\u001b[0m\u001b[0;34m:\u001b[0m\u001b[0;34m,\u001b[0m \u001b[0mneighbor_feat_idx\u001b[0m\u001b[0;34m]\u001b[0m\u001b[0;34m,\u001b[0m \u001b[0;34m~\u001b[0m\u001b[0mmissing_row_mask\u001b[0m\u001b[0;34m)\u001b[0m\u001b[0;34m\u001b[0m\u001b[0;34m\u001b[0m\u001b[0m\n\u001b[1;32m    317\u001b[0m             \u001b[0my_train\u001b[0m \u001b[0;34m=\u001b[0m \u001b[0m_safe_indexing\u001b[0m\u001b[0;34m(\u001b[0m\u001b[0mX_filled\u001b[0m\u001b[0;34m[\u001b[0m\u001b[0;34m:\u001b[0m\u001b[0;34m,\u001b[0m \u001b[0mfeat_idx\u001b[0m\u001b[0;34m]\u001b[0m\u001b[0;34m,\u001b[0m \u001b[0;34m~\u001b[0m\u001b[0mmissing_row_mask\u001b[0m\u001b[0;34m)\u001b[0m\u001b[0;34m\u001b[0m\u001b[0;34m\u001b[0m\u001b[0m\n\u001b[0;32m--> 318\u001b[0;31m             \u001b[0mestimator\u001b[0m\u001b[0;34m.\u001b[0m\u001b[0mfit\u001b[0m\u001b[0;34m(\u001b[0m\u001b[0mX_train\u001b[0m\u001b[0;34m,\u001b[0m \u001b[0my_train\u001b[0m\u001b[0;34m)\u001b[0m\u001b[0;34m\u001b[0m\u001b[0;34m\u001b[0m\u001b[0m\n\u001b[0m\u001b[1;32m    319\u001b[0m \u001b[0;34m\u001b[0m\u001b[0m\n\u001b[1;32m    320\u001b[0m         \u001b[0;31m# if no missing values, don't predict\u001b[0m\u001b[0;34m\u001b[0m\u001b[0;34m\u001b[0m\u001b[0;34m\u001b[0m\u001b[0m\n",
      "\u001b[0;32m~/.local/lib/python3.8/site-packages/sklearn/linear_model/_bayes.py\u001b[0m in \u001b[0;36mfit\u001b[0;34m(self, X, y, sample_weight)\u001b[0m\n\u001b[1;32m    281\u001b[0m \u001b[0;34m\u001b[0m\u001b[0m\n\u001b[1;32m    282\u001b[0m         \u001b[0mXT_y\u001b[0m \u001b[0;34m=\u001b[0m \u001b[0mnp\u001b[0m\u001b[0;34m.\u001b[0m\u001b[0mdot\u001b[0m\u001b[0;34m(\u001b[0m\u001b[0mX\u001b[0m\u001b[0;34m.\u001b[0m\u001b[0mT\u001b[0m\u001b[0;34m,\u001b[0m \u001b[0my\u001b[0m\u001b[0;34m)\u001b[0m\u001b[0;34m\u001b[0m\u001b[0;34m\u001b[0m\u001b[0m\n\u001b[0;32m--> 283\u001b[0;31m         \u001b[0mU\u001b[0m\u001b[0;34m,\u001b[0m \u001b[0mS\u001b[0m\u001b[0;34m,\u001b[0m \u001b[0mVh\u001b[0m \u001b[0;34m=\u001b[0m \u001b[0mlinalg\u001b[0m\u001b[0;34m.\u001b[0m\u001b[0msvd\u001b[0m\u001b[0;34m(\u001b[0m\u001b[0mX\u001b[0m\u001b[0;34m,\u001b[0m \u001b[0mfull_matrices\u001b[0m\u001b[0;34m=\u001b[0m\u001b[0;32mFalse\u001b[0m\u001b[0;34m)\u001b[0m\u001b[0;34m\u001b[0m\u001b[0;34m\u001b[0m\u001b[0m\n\u001b[0m\u001b[1;32m    284\u001b[0m         \u001b[0meigen_vals_\u001b[0m \u001b[0;34m=\u001b[0m \u001b[0mS\u001b[0m\u001b[0;34m**\u001b[0m\u001b[0;36m2\u001b[0m\u001b[0;34m\u001b[0m\u001b[0;34m\u001b[0m\u001b[0m\n\u001b[1;32m    285\u001b[0m \u001b[0;34m\u001b[0m\u001b[0m\n",
      "\u001b[0;32m~/.local/lib/python3.8/site-packages/scipy/linalg/_decomp_svd.py\u001b[0m in \u001b[0;36msvd\u001b[0;34m(a, full_matrices, compute_uv, overwrite_a, check_finite, lapack_driver)\u001b[0m\n\u001b[1;32m    125\u001b[0m \u001b[0;34m\u001b[0m\u001b[0m\n\u001b[1;32m    126\u001b[0m     \u001b[0;31m# perform decomposition\u001b[0m\u001b[0;34m\u001b[0m\u001b[0;34m\u001b[0m\u001b[0;34m\u001b[0m\u001b[0m\n\u001b[0;32m--> 127\u001b[0;31m     u, s, v, info = gesXd(a1, compute_uv=compute_uv, lwork=lwork,\n\u001b[0m\u001b[1;32m    128\u001b[0m                           full_matrices=full_matrices, overwrite_a=overwrite_a)\n\u001b[1;32m    129\u001b[0m \u001b[0;34m\u001b[0m\u001b[0m\n",
      "\u001b[0;31mKeyboardInterrupt\u001b[0m: "
     ]
    }
   ],
   "source": [
    "X = read_features()\n",
    "y = read_target().iloc[:,0]\n",
    "\n",
    "result = []\n",
    "i = 0\n",
    "\n",
    "#f = open('output/tracker.csv', 'w')\n",
    "# create the csv writer\n",
    "#writer = csv.writer(f)\n",
    "\n",
    "\n",
    "\n",
    "#step 1:\n",
    "X_train, X_test, y_train, y_test = train_test_split(X, y, test_size = 0.2, random_state = 1, stratify=y)\n",
    "#--------------> we should try differeny split\n",
    "\n",
    "#-----------\n",
    "#step 2:\n",
    "X_train = remove_duplicated_columns(X_train)\n",
    "#step 3:\n",
    "X_train = remove_constant_volatility(X_train)\n",
    "#step 4:\n",
    "X_train = remove_cols_with_high_pct_null(X_train, 0.8) #this can be in the loop too, may be later\n",
    "\n",
    "#step 5: remove the same columns from step 2-4 TRAIN_TEST split\n",
    "X_test = X_test.loc[:,X_train.columns]\n",
    "\n",
    "\n",
    "#------------\n",
    "\n",
    "\n",
    "# X_train = X_train.loc[:, fast_track_cols]\n",
    "# X_test = X_test.loc[:, fast_track_cols]\n",
    "\n",
    "#------------\n",
    "\n",
    "\n",
    "#step 6-9\n",
    "replace_outlier_options = ['3s']\n",
    "#replace_outlier_options = ['3s','NaN']\n",
    "impute_null_options = ['knn__uniform','MICE']\n",
    "#impute_null_options = ['knn__distance', 'MICE', 'knn__uniform']\n",
    "FS_options = ['BoP','BoS__shap','RFE__RF']\n",
    "#FS_options = ['BoP','BoS__shap', 'BoS__gini', 'RFE__RF', 'RFE__SVM' ]\n",
    "sampling_options = ['ROSE']\n",
    "#sampling_options = ['SMOTE','ROSE','ADASYN','SMOTEENN']\n",
    "model_options = ['LR']\n",
    "#model_options = ['LR', 'RF']\n",
    "\n",
    "for replace_with in replace_outlier_options:\n",
    "    for knn_weight in impute_null_options:\n",
    "        for classifier_model in FS_options:\n",
    "            for sampling_technique in sampling_options:\n",
    "                for Model in model_options:\n",
    "                    X_train_temp = X_train\n",
    "                    X_test_temp = X_test\n",
    "                    y_train_temp = y_train\n",
    "                    y_test_temp = y_test\n",
    "\n",
    "                    #step 6: oulier treatement (on both TRAIN & TEST split)\n",
    "                    X_train_temp = replace_outlier(X_train_temp, replace_with)\n",
    "                    X_test_temp = replace_outlier(X_test_temp, replace_with)\n",
    "                    \n",
    "                    #step 7: missing value imputation (on both TRAIN & TEST split)\n",
    "                    if knn_weight == 'knn__distance' or knn_weight == 'knn__uniform':\n",
    "                        X_train_temp, X_test_temp = impute_null_with_knn(X_train_temp, X_test_temp, knn_weight[-(len(knn_weight)-5):])\n",
    "                    elif knn_weight == 'MICE':\n",
    "                        X_train_temp, X_test_temp = impute_null_with_mice(X_train_temp, X_test_temp)\n",
    "\n",
    "                    #step 8: feature selection (on both TRAIN & TEST split)\n",
    "                    if classifier_model == 'BoS__shap' or classifier_model == 'BoS__gini':\n",
    "                        X_train_temp = BorutaShap_FS(X_train_temp, y_train_temp, classifier_model[-(len(classifier_model)-5):])\n",
    "                    elif classifier_model == 'RFE__RF' or classifier_model == 'RFE__SVM':\n",
    "                        X_train_temp = RFE_FS(X_train_temp, y_train_temp, classifier_model[-(len(classifier_model)-5):])\n",
    "                    elif classifier_model == 'BoP':\n",
    "                        X_train_temp = BorutaPy_FS(X_train_temp, y_train_temp)\n",
    "                    \n",
    "                    #step 9: remove multilinear features\n",
    "                    print('n_cols BEFORE multicolinearity treatement', X_train_temp.shape[1])\n",
    "                    X_train_temp = remove_collinear_features(X_train_temp, 0.7)\n",
    "                    print('n_cols AFTER multicolinearity treatement', X_train_temp.shape[1])\n",
    "\n",
    "                    #apply the same result for TEST\n",
    "                    X_test_temp = X_test_temp.loc[:,X_train_temp.columns]\n",
    "\n",
    "\n",
    "                    #step 10: balancing only on TRAIN split\n",
    "                    X_train_temp, y_train_temp = sampling(X_train_temp, y_train_temp, sampling_technique)\n",
    "\n",
    "\n",
    "                    #step 11: train model, predict, and print scores\n",
    "                    cf_matrix, accuracy, f1, precision, recall, specificity, type_1_error_FP, type_2_error_FN, auc, cf_matrix_train, accuracy_train, f1_train, precision_train, recall_train, specificity_train, type_1_error_FP_train, type_2_error_FN_train, auc_train = run_model(X_train_temp, y_train_temp, X_test_temp, y_test_temp, Model)\n",
    "\n",
    "                    combined_technique = replace_with +'&'+ knn_weight +'&'+ classifier_model +'&'+ sampling_technique\n",
    "                    result.append((i, combined_technique, X_train_temp.shape[1], replace_with, knn_weight, classifier_model, sampling_technique, X_train_temp.columns, cf_matrix, accuracy, f1, precision, recall, specificity, type_1_error_FP, type_2_error_FN, auc, cf_matrix_train, accuracy_train, f1_train, precision_train, recall_train, specificity_train, type_1_error_FP_train, type_2_error_FN_train, auc_train))\n",
    "                    \n",
    "                    print('attemp no.: ',i, combined_technique,' acc: ', accuracy,' accuracy_train: ',accuracy_train, ' f1: ', f1,' f1_train: ',f1_train, ' spec: ', specificity, ' :auc ', auc, ' cfm: ', '\\n', cf_matrix, '\\n cols', X_train_temp.shape[1], X_train_temp.columns, '\\n')\n",
    "                    #print(i, combined_technique)\n",
    "                    #row = str(i) +' '+ combined_technique +' acc '+ str(accuracy) +' f1 '+ str(f1) +' acc_train '+ str(accuracy_train) +' f1_train '+ str(f1_train)\n",
    "                    #writer.writerow(row)\n",
    "\n",
    "                    i+=1\n",
    "                    #print out datasets for backup\n",
    "                    # X_train_temp.to_csv('output/X_train_temp_'+str(i)+combined_technique'.csv')\n",
    "                    # X_test_temp.to_csv('output/X_test_temp_'+str(i)+combined_technique'.csv')\n",
    "                    # y_train_temp.to_csv('output/y_train_temp_'+str(i)+combined_technique'.csv')\n",
    "                    # y_test_temp.to_csv('output/y_test_temp_'+str(i)+combined_technique'.csv')\n",
    "\n",
    "\n",
    "\n",
    "df_result = pd.DataFrame(result, columns = ['No.','combination','n_cols','outlier_replace_with', 'imputation_knn_weight', 'FS_classifier_model', 'balancing_sampling_technique', 'cols','cf_matrix', 'accuracy', 'f1', 'precision', 'recall', 'specificity', 'type_1_error_FP', 'type_2_error_FN', 'auc', 'cf_matrix_train', 'accuracy_train', 'f1_train', 'precision_train', 'recall_train', 'specificity_train', 'type_1_error_FP_train', 'type_2_error_FN_train', 'auc_train'])\n",
    "df_result.to_csv('tracker/result.csv')\n",
    "#print(result)\n",
    "# close the file\n",
    "#f.close()"
   ]
  },
  {
   "cell_type": "markdown",
   "metadata": {},
   "source": [
    "# Problems:\n",
    "1. We should take tentative features, ranking>1 (BurutaShap -> need to ressearch how)\n",
    "2. implement removing columns with high corr after FS_options \n",
    "3. Try other models, because RF is overfitting and we havd very bad F1"
   ]
  },
  {
   "cell_type": "markdown",
   "metadata": {},
   "source": [
    "# --------------------Appendix--------------------"
   ]
  },
  {
   "cell_type": "code",
   "execution_count": null,
   "metadata": {},
   "outputs": [],
   "source": [
    "# #------------------------------------\n",
    "# X_train = replace_outlier(X_train, how)\n",
    "# replace_outlier_options = ['NaN', '3s']\n",
    "# #--\n",
    "# X_train = impute_null_with_knn(X_train, which_weights) #\n",
    "# impute_null_options = ['knn__distance', 'knn__uniform', 'MICE']\n",
    "\n",
    "# X_train = impute_null_with_mice(X_train)\n",
    "# #--\n",
    "# BorutaShap_FS(X_train, y_train, method_option)\n",
    "# list_method=['shap','gini']\n",
    "\n",
    "# RFE_FS(X_train, y_train, classify) \n",
    "# list_clf=['RF','SVM']\n",
    "\n",
    "# BorutaPy_FS(X_train, y_train)\n",
    "\n",
    "# FS_options = ['BoS__shap', 'BoS__gini', 'RFE__RF', 'RFE__SVM', 'BoP']\n",
    "# #--\n",
    "# sampling(X_train, y_train, sampler)\n",
    "# sampling_options = ['SMOTE','ROSE','ADASYN','SMOTEENN']\n",
    "\n",
    "# #--------------------------------------"
   ]
  },
  {
   "cell_type": "code",
   "execution_count": 9,
   "metadata": {},
   "outputs": [
    {
     "data": {
      "text/plain": [
       "[[1, 2, 3], [2, 3, 1]]"
      ]
     },
     "execution_count": 9,
     "metadata": {},
     "output_type": "execute_result"
    }
   ],
   "source": [
    "# l = []\n",
    "# a=1\n",
    "# b=2\n",
    "# c=3\n",
    "\n",
    "# l.append([a,b,c])\n",
    "# l.append([b,c,a])\n",
    "\n",
    "# l\n",
    "\n"
   ]
  },
  {
   "cell_type": "code",
   "execution_count": null,
   "metadata": {},
   "outputs": [],
   "source": [
    "# list_null_impute = [knnimputation_distance, MICEimputation_distance]\n",
    "# list_null_outlier = [outlier_knn,outlier_3s]\n",
    "# list_feat_selection = ['Boruta_RF', 'Boruta_shap', 'RFE']\n",
    "# Boruta = ['RF', 'XGB']\n",
    "# Boruta_shap = ['RF', 'XGB', 'kNN']\n",
    "# RFE = ['RF', 'SVC']"
   ]
  },
  {
   "cell_type": "code",
   "execution_count": null,
   "metadata": {},
   "outputs": [
    {
     "data": {
      "text/html": [
       "<div>\n",
       "<style scoped>\n",
       "    .dataframe tbody tr th:only-of-type {\n",
       "        vertical-align: middle;\n",
       "    }\n",
       "\n",
       "    .dataframe tbody tr th {\n",
       "        vertical-align: top;\n",
       "    }\n",
       "\n",
       "    .dataframe thead th {\n",
       "        text-align: right;\n",
       "    }\n",
       "</style>\n",
       "<table border=\"1\" class=\"dataframe\">\n",
       "  <thead>\n",
       "    <tr style=\"text-align: right;\">\n",
       "      <th></th>\n",
       "      <th>a</th>\n",
       "      <th>b</th>\n",
       "      <th>c</th>\n",
       "    </tr>\n",
       "  </thead>\n",
       "  <tbody>\n",
       "    <tr>\n",
       "      <th>0</th>\n",
       "      <td>1</td>\n",
       "      <td>2</td>\n",
       "      <td>3</td>\n",
       "    </tr>\n",
       "    <tr>\n",
       "      <th>1</th>\n",
       "      <td>4</td>\n",
       "      <td>5</td>\n",
       "      <td>6</td>\n",
       "    </tr>\n",
       "    <tr>\n",
       "      <th>2</th>\n",
       "      <td>7</td>\n",
       "      <td>8</td>\n",
       "      <td>9</td>\n",
       "    </tr>\n",
       "    <tr>\n",
       "      <th>3</th>\n",
       "      <td>1</td>\n",
       "      <td>1</td>\n",
       "      <td>1</td>\n",
       "    </tr>\n",
       "  </tbody>\n",
       "</table>\n",
       "</div>"
      ],
      "text/plain": [
       "   a  b  c\n",
       "0  1  2  3\n",
       "1  4  5  6\n",
       "2  7  8  9\n",
       "3  1  1  1"
      ]
     },
     "metadata": {},
     "output_type": "display_data"
    }
   ],
   "source": [
    "# #TESTING\n",
    "# df = pd.DataFrame(np.array([[1, 2, 3], [4, 5, 6], [7, 8, 9], [1,1,1]]),\n",
    "#                    columns=['a', 'b', 'c'])\n",
    "# df"
   ]
  }
 ],
 "metadata": {
  "interpreter": {
   "hash": "3aeb15c8c31224d9ef37a76c0046f703a279f439b6efd04fb2681e5f2715bf2f"
  },
  "kernelspec": {
   "display_name": "Python 3.8.8 ('base')",
   "language": "python",
   "name": "python3"
  },
  "language_info": {
   "codemirror_mode": {
    "name": "ipython",
    "version": 3
   },
   "file_extension": ".py",
   "mimetype": "text/x-python",
   "name": "python",
   "nbconvert_exporter": "python",
   "pygments_lexer": "ipython3",
   "version": "3.8.8"
  },
  "orig_nbformat": 4
 },
 "nbformat": 4,
 "nbformat_minor": 2
}
