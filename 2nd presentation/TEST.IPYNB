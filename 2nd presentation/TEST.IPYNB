{
 "cells": [
  {
   "cell_type": "code",
   "execution_count": 9,
   "metadata": {},
   "outputs": [
    {
     "ename": "SyntaxError",
     "evalue": "unexpected character after line continuation character (<ipython-input-9-fd437fd1bd4c>, line 12)",
     "output_type": "error",
     "traceback": [
      "\u001b[0;36m  File \u001b[0;32m\"<ipython-input-9-fd437fd1bd4c>\"\u001b[0;36m, line \u001b[0;32m12\u001b[0m\n\u001b[0;31m    row = ''.join([str(a),str(b),str(c),str(d),\\n])\u001b[0m\n\u001b[0m                                                   ^\u001b[0m\n\u001b[0;31mSyntaxError\u001b[0m\u001b[0;31m:\u001b[0m unexpected character after line continuation character\n"
     ]
    }
   ],
   "source": [
    "import csv\n",
    "\n",
    "# open the file in the write mode\n",
    "f = open('output/tracker.csv', 'w')\n",
    "\n",
    "# create the csv writer\n",
    "writer = csv.writer(f)\n",
    "a=1\n",
    "b=2\n",
    "c=3\n",
    "d=4\n",
    "row = ''.join([str(a),str(b),str(c),str(d),'\\n'])\n",
    "# write a row to the csv file\n",
    "writer.writerow(row)\n",
    "\n",
    "row = ''.join([str(a),str(a),str(a),str(a)])\n",
    "# write a row to the csv file\n",
    "writer.writerow(row)\n",
    "\n",
    "# close the file\n",
    "f.close()"
   ]
  },
  {
   "cell_type": "code",
   "execution_count": 10,
   "metadata": {},
   "outputs": [
    {
     "data": {
      "text/plain": [
       "\"['a', 'b']\""
      ]
     },
     "execution_count": 10,
     "metadata": {},
     "output_type": "execute_result"
    }
   ],
   "source": [
    "a =['a','b']\n",
    "str(a)"
   ]
  },
  {
   "cell_type": "code",
   "execution_count": 13,
   "metadata": {},
   "outputs": [
    {
     "name": "stdout",
     "output_type": "stream",
     "text": [
      "0   NaN&knn__distance&BoS__shap&SMOTE\n",
      "1   NaN&knn__distance&BoS__shap&ROSE\n",
      "2   NaN&knn__distance&BoS__shap&ADASYN\n",
      "3   NaN&knn__distance&BoS__shap&SMOTEENN\n",
      "4   NaN&knn__distance&BoS__gini&SMOTE\n",
      "5   NaN&knn__distance&BoS__gini&ROSE\n",
      "6   NaN&knn__distance&BoS__gini&ADASYN\n",
      "7   NaN&knn__distance&BoS__gini&SMOTEENN\n",
      "8   NaN&knn__distance&RFE__RF&SMOTE\n",
      "9   NaN&knn__distance&RFE__RF&ROSE\n",
      "10   NaN&knn__distance&RFE__RF&ADASYN\n",
      "11   NaN&knn__distance&RFE__RF&SMOTEENN\n",
      "12   NaN&knn__distance&RFE__SVM&SMOTE\n",
      "13   NaN&knn__distance&RFE__SVM&ROSE\n",
      "14   NaN&knn__distance&RFE__SVM&ADASYN\n",
      "15   NaN&knn__distance&RFE__SVM&SMOTEENN\n",
      "16   NaN&knn__distance&BoP&SMOTE\n",
      "17   NaN&knn__distance&BoP&ROSE\n",
      "18   NaN&knn__distance&BoP&ADASYN\n",
      "19   NaN&knn__distance&BoP&SMOTEENN\n",
      "20   NaN&knn__uniform&BoS__shap&SMOTE\n",
      "21   NaN&knn__uniform&BoS__shap&ROSE\n",
      "22   NaN&knn__uniform&BoS__shap&ADASYN\n",
      "23   NaN&knn__uniform&BoS__shap&SMOTEENN\n",
      "24   NaN&knn__uniform&BoS__gini&SMOTE\n",
      "25   NaN&knn__uniform&BoS__gini&ROSE\n",
      "26   NaN&knn__uniform&BoS__gini&ADASYN\n",
      "27   NaN&knn__uniform&BoS__gini&SMOTEENN\n",
      "28   NaN&knn__uniform&RFE__RF&SMOTE\n",
      "29   NaN&knn__uniform&RFE__RF&ROSE\n",
      "30   NaN&knn__uniform&RFE__RF&ADASYN\n",
      "31   NaN&knn__uniform&RFE__RF&SMOTEENN\n",
      "32   NaN&knn__uniform&RFE__SVM&SMOTE\n",
      "33   NaN&knn__uniform&RFE__SVM&ROSE\n",
      "34   NaN&knn__uniform&RFE__SVM&ADASYN\n",
      "35   NaN&knn__uniform&RFE__SVM&SMOTEENN\n",
      "36   NaN&knn__uniform&BoP&SMOTE\n",
      "37   NaN&knn__uniform&BoP&ROSE\n",
      "38   NaN&knn__uniform&BoP&ADASYN\n",
      "39   NaN&knn__uniform&BoP&SMOTEENN\n",
      "40   NaN&MICE&BoS__shap&SMOTE\n",
      "41   NaN&MICE&BoS__shap&ROSE\n",
      "42   NaN&MICE&BoS__shap&ADASYN\n",
      "43   NaN&MICE&BoS__shap&SMOTEENN\n",
      "44   NaN&MICE&BoS__gini&SMOTE\n",
      "45   NaN&MICE&BoS__gini&ROSE\n",
      "46   NaN&MICE&BoS__gini&ADASYN\n",
      "47   NaN&MICE&BoS__gini&SMOTEENN\n",
      "48   NaN&MICE&RFE__RF&SMOTE\n",
      "49   NaN&MICE&RFE__RF&ROSE\n",
      "50   NaN&MICE&RFE__RF&ADASYN\n",
      "51   NaN&MICE&RFE__RF&SMOTEENN\n",
      "52   NaN&MICE&RFE__SVM&SMOTE\n",
      "53   NaN&MICE&RFE__SVM&ROSE\n",
      "54   NaN&MICE&RFE__SVM&ADASYN\n",
      "55   NaN&MICE&RFE__SVM&SMOTEENN\n",
      "56   NaN&MICE&BoP&SMOTE\n",
      "57   NaN&MICE&BoP&ROSE\n",
      "58   NaN&MICE&BoP&ADASYN\n",
      "59   NaN&MICE&BoP&SMOTEENN\n",
      "60   3s&knn__distance&BoS__shap&SMOTE\n",
      "61   3s&knn__distance&BoS__shap&ROSE\n",
      "62   3s&knn__distance&BoS__shap&ADASYN\n",
      "63   3s&knn__distance&BoS__shap&SMOTEENN\n",
      "64   3s&knn__distance&BoS__gini&SMOTE\n",
      "65   3s&knn__distance&BoS__gini&ROSE\n",
      "66   3s&knn__distance&BoS__gini&ADASYN\n",
      "67   3s&knn__distance&BoS__gini&SMOTEENN\n",
      "68   3s&knn__distance&RFE__RF&SMOTE\n",
      "69   3s&knn__distance&RFE__RF&ROSE\n",
      "70   3s&knn__distance&RFE__RF&ADASYN\n",
      "71   3s&knn__distance&RFE__RF&SMOTEENN\n",
      "72   3s&knn__distance&RFE__SVM&SMOTE\n",
      "73   3s&knn__distance&RFE__SVM&ROSE\n",
      "74   3s&knn__distance&RFE__SVM&ADASYN\n",
      "75   3s&knn__distance&RFE__SVM&SMOTEENN\n",
      "76   3s&knn__distance&BoP&SMOTE\n",
      "77   3s&knn__distance&BoP&ROSE\n",
      "78   3s&knn__distance&BoP&ADASYN\n",
      "79   3s&knn__distance&BoP&SMOTEENN\n",
      "80   3s&knn__uniform&BoS__shap&SMOTE\n",
      "81   3s&knn__uniform&BoS__shap&ROSE\n",
      "82   3s&knn__uniform&BoS__shap&ADASYN\n",
      "83   3s&knn__uniform&BoS__shap&SMOTEENN\n",
      "84   3s&knn__uniform&BoS__gini&SMOTE\n",
      "85   3s&knn__uniform&BoS__gini&ROSE\n",
      "86   3s&knn__uniform&BoS__gini&ADASYN\n",
      "87   3s&knn__uniform&BoS__gini&SMOTEENN\n",
      "88   3s&knn__uniform&RFE__RF&SMOTE\n",
      "89   3s&knn__uniform&RFE__RF&ROSE\n",
      "90   3s&knn__uniform&RFE__RF&ADASYN\n",
      "91   3s&knn__uniform&RFE__RF&SMOTEENN\n",
      "92   3s&knn__uniform&RFE__SVM&SMOTE\n",
      "93   3s&knn__uniform&RFE__SVM&ROSE\n",
      "94   3s&knn__uniform&RFE__SVM&ADASYN\n",
      "95   3s&knn__uniform&RFE__SVM&SMOTEENN\n",
      "96   3s&knn__uniform&BoP&SMOTE\n",
      "97   3s&knn__uniform&BoP&ROSE\n",
      "98   3s&knn__uniform&BoP&ADASYN\n",
      "99   3s&knn__uniform&BoP&SMOTEENN\n",
      "100   3s&MICE&BoS__shap&SMOTE\n",
      "101   3s&MICE&BoS__shap&ROSE\n",
      "102   3s&MICE&BoS__shap&ADASYN\n",
      "103   3s&MICE&BoS__shap&SMOTEENN\n",
      "104   3s&MICE&BoS__gini&SMOTE\n",
      "105   3s&MICE&BoS__gini&ROSE\n",
      "106   3s&MICE&BoS__gini&ADASYN\n",
      "107   3s&MICE&BoS__gini&SMOTEENN\n",
      "108   3s&MICE&RFE__RF&SMOTE\n",
      "109   3s&MICE&RFE__RF&ROSE\n",
      "110   3s&MICE&RFE__RF&ADASYN\n",
      "111   3s&MICE&RFE__RF&SMOTEENN\n",
      "112   3s&MICE&RFE__SVM&SMOTE\n",
      "113   3s&MICE&RFE__SVM&ROSE\n",
      "114   3s&MICE&RFE__SVM&ADASYN\n",
      "115   3s&MICE&RFE__SVM&SMOTEENN\n",
      "116   3s&MICE&BoP&SMOTE\n",
      "117   3s&MICE&BoP&ROSE\n",
      "118   3s&MICE&BoP&ADASYN\n",
      "119   3s&MICE&BoP&SMOTEENN\n"
     ]
    }
   ],
   "source": [
    "i=0\n",
    "replace_outlier_options = ['NaN', '3s']\n",
    "impute_null_options = ['knn__distance', 'knn__uniform', 'MICE']\n",
    "FS_options = ['BoS__shap', 'BoS__gini', 'RFE__RF', 'RFE__SVM', 'BoP']\n",
    "sampling_options = ['SMOTE','ROSE','ADASYN','SMOTEENN']\n",
    "\n",
    "for replace_with in replace_outlier_options:\n",
    "    for knn_weight in impute_null_options:\n",
    "        for classifier_model in FS_options:\n",
    "            for sampling_technique in sampling_options:\n",
    "                combined_technique = replace_with +'&'+ knn_weight +'&'+ classifier_model +'&'+ sampling_technique\n",
    "                print(i,' ',combined_technique)\n",
    "                i+=1"
   ]
  },
  {
   "cell_type": "code",
   "execution_count": null,
   "metadata": {},
   "outputs": [],
   "source": []
  }
 ],
 "metadata": {
  "interpreter": {
   "hash": "3aeb15c8c31224d9ef37a76c0046f703a279f439b6efd04fb2681e5f2715bf2f"
  },
  "kernelspec": {
   "display_name": "Python 3.8.8 ('base')",
   "language": "python",
   "name": "python3"
  },
  "language_info": {
   "codemirror_mode": {
    "name": "ipython",
    "version": 3
   },
   "file_extension": ".py",
   "mimetype": "text/x-python",
   "name": "python",
   "nbconvert_exporter": "python",
   "pygments_lexer": "ipython3",
   "version": "3.8.8"
  },
  "orig_nbformat": 4
 },
 "nbformat": 4,
 "nbformat_minor": 2
}
