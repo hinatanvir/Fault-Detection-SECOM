{
 "cells": [
  {
   "cell_type": "markdown",
   "metadata": {},
   "source": [
    "# Presentation 1 - Group 4"
   ]
  },
  {
   "cell_type": "code",
   "execution_count": 14,
   "metadata": {},
   "outputs": [],
   "source": [
    "#importing libraries\n",
    "import pandas as pd\n",
    "import numpy as np\n",
    "from scipy import stats\n",
    "import matplotlib.pyplot as plt\n",
    "import seaborn as sns\n",
    "from sklearn.preprocessing import MinMaxScaler\n",
    "from scipy.stats import normaltest\n",
    "\n",
    "\n",
    "\n",
    "#Libraries for model\n",
    "from sklearn.model_selection import train_test_split\n",
    "from sklearn.preprocessing import MinMaxScaler"
   ]
  },
  {
   "cell_type": "code",
   "execution_count": 30,
   "metadata": {},
   "outputs": [
    {
     "data": {
      "text/html": [
       "<div>\n",
       "<style scoped>\n",
       "    .dataframe tbody tr th:only-of-type {\n",
       "        vertical-align: middle;\n",
       "    }\n",
       "\n",
       "    .dataframe tbody tr th {\n",
       "        vertical-align: top;\n",
       "    }\n",
       "\n",
       "    .dataframe thead th {\n",
       "        text-align: right;\n",
       "    }\n",
       "</style>\n",
       "<table border=\"1\" class=\"dataframe\">\n",
       "  <thead>\n",
       "    <tr style=\"text-align: right;\">\n",
       "      <th></th>\n",
       "      <th>feature1</th>\n",
       "      <th>feature2</th>\n",
       "      <th>feature3</th>\n",
       "      <th>feature4</th>\n",
       "      <th>feature5</th>\n",
       "      <th>feature6</th>\n",
       "      <th>feature7</th>\n",
       "      <th>feature8</th>\n",
       "      <th>feature9</th>\n",
       "      <th>feature10</th>\n",
       "      <th>...</th>\n",
       "      <th>feature583</th>\n",
       "      <th>feature584</th>\n",
       "      <th>feature585</th>\n",
       "      <th>feature586</th>\n",
       "      <th>feature587</th>\n",
       "      <th>feature588</th>\n",
       "      <th>feature589</th>\n",
       "      <th>feature590</th>\n",
       "      <th>status</th>\n",
       "      <th>timestamp</th>\n",
       "    </tr>\n",
       "  </thead>\n",
       "  <tbody>\n",
       "    <tr>\n",
       "      <th>0</th>\n",
       "      <td>3030.93</td>\n",
       "      <td>2564.00</td>\n",
       "      <td>2187.7333</td>\n",
       "      <td>1411.1265</td>\n",
       "      <td>1.3602</td>\n",
       "      <td>100.0</td>\n",
       "      <td>97.6133</td>\n",
       "      <td>0.1242</td>\n",
       "      <td>1.5005</td>\n",
       "      <td>0.0162</td>\n",
       "      <td>...</td>\n",
       "      <td>0.5005</td>\n",
       "      <td>0.0118</td>\n",
       "      <td>0.0035</td>\n",
       "      <td>2.3630</td>\n",
       "      <td>NaN</td>\n",
       "      <td>NaN</td>\n",
       "      <td>NaN</td>\n",
       "      <td>NaN</td>\n",
       "      <td>-1</td>\n",
       "      <td>2008-07-19 11:55:00</td>\n",
       "    </tr>\n",
       "    <tr>\n",
       "      <th>1</th>\n",
       "      <td>3095.78</td>\n",
       "      <td>2465.14</td>\n",
       "      <td>2230.4222</td>\n",
       "      <td>1463.6606</td>\n",
       "      <td>0.8294</td>\n",
       "      <td>100.0</td>\n",
       "      <td>102.3433</td>\n",
       "      <td>0.1247</td>\n",
       "      <td>1.4966</td>\n",
       "      <td>-0.0005</td>\n",
       "      <td>...</td>\n",
       "      <td>0.5019</td>\n",
       "      <td>0.0223</td>\n",
       "      <td>0.0055</td>\n",
       "      <td>4.4447</td>\n",
       "      <td>0.0096</td>\n",
       "      <td>0.0201</td>\n",
       "      <td>0.0060</td>\n",
       "      <td>208.2045</td>\n",
       "      <td>-1</td>\n",
       "      <td>2008-07-19 12:32:00</td>\n",
       "    </tr>\n",
       "    <tr>\n",
       "      <th>2</th>\n",
       "      <td>2932.61</td>\n",
       "      <td>2559.94</td>\n",
       "      <td>2186.4111</td>\n",
       "      <td>1698.0172</td>\n",
       "      <td>1.5102</td>\n",
       "      <td>100.0</td>\n",
       "      <td>95.4878</td>\n",
       "      <td>0.1241</td>\n",
       "      <td>1.4436</td>\n",
       "      <td>0.0041</td>\n",
       "      <td>...</td>\n",
       "      <td>0.4958</td>\n",
       "      <td>0.0157</td>\n",
       "      <td>0.0039</td>\n",
       "      <td>3.1745</td>\n",
       "      <td>0.0584</td>\n",
       "      <td>0.0484</td>\n",
       "      <td>0.0148</td>\n",
       "      <td>82.8602</td>\n",
       "      <td>1</td>\n",
       "      <td>2008-07-19 13:17:00</td>\n",
       "    </tr>\n",
       "    <tr>\n",
       "      <th>3</th>\n",
       "      <td>2988.72</td>\n",
       "      <td>2479.90</td>\n",
       "      <td>2199.0333</td>\n",
       "      <td>909.7926</td>\n",
       "      <td>1.3204</td>\n",
       "      <td>100.0</td>\n",
       "      <td>104.2367</td>\n",
       "      <td>0.1217</td>\n",
       "      <td>1.4882</td>\n",
       "      <td>-0.0124</td>\n",
       "      <td>...</td>\n",
       "      <td>0.4990</td>\n",
       "      <td>0.0103</td>\n",
       "      <td>0.0025</td>\n",
       "      <td>2.0544</td>\n",
       "      <td>0.0202</td>\n",
       "      <td>0.0149</td>\n",
       "      <td>0.0044</td>\n",
       "      <td>73.8432</td>\n",
       "      <td>-1</td>\n",
       "      <td>2008-07-19 14:43:00</td>\n",
       "    </tr>\n",
       "    <tr>\n",
       "      <th>4</th>\n",
       "      <td>3032.24</td>\n",
       "      <td>2502.87</td>\n",
       "      <td>2233.3667</td>\n",
       "      <td>1326.5200</td>\n",
       "      <td>1.5334</td>\n",
       "      <td>100.0</td>\n",
       "      <td>100.3967</td>\n",
       "      <td>0.1235</td>\n",
       "      <td>1.5031</td>\n",
       "      <td>-0.0031</td>\n",
       "      <td>...</td>\n",
       "      <td>0.4800</td>\n",
       "      <td>0.4766</td>\n",
       "      <td>0.1045</td>\n",
       "      <td>99.3032</td>\n",
       "      <td>0.0202</td>\n",
       "      <td>0.0149</td>\n",
       "      <td>0.0044</td>\n",
       "      <td>73.8432</td>\n",
       "      <td>-1</td>\n",
       "      <td>2008-07-19 15:22:00</td>\n",
       "    </tr>\n",
       "  </tbody>\n",
       "</table>\n",
       "<p>5 rows × 592 columns</p>\n",
       "</div>"
      ],
      "text/plain": [
       "   feature1  feature2   feature3   feature4  feature5  feature6  feature7  \\\n",
       "0   3030.93   2564.00  2187.7333  1411.1265    1.3602     100.0   97.6133   \n",
       "1   3095.78   2465.14  2230.4222  1463.6606    0.8294     100.0  102.3433   \n",
       "2   2932.61   2559.94  2186.4111  1698.0172    1.5102     100.0   95.4878   \n",
       "3   2988.72   2479.90  2199.0333   909.7926    1.3204     100.0  104.2367   \n",
       "4   3032.24   2502.87  2233.3667  1326.5200    1.5334     100.0  100.3967   \n",
       "\n",
       "   feature8  feature9  feature10  ...  feature583  feature584  feature585  \\\n",
       "0    0.1242    1.5005     0.0162  ...      0.5005      0.0118      0.0035   \n",
       "1    0.1247    1.4966    -0.0005  ...      0.5019      0.0223      0.0055   \n",
       "2    0.1241    1.4436     0.0041  ...      0.4958      0.0157      0.0039   \n",
       "3    0.1217    1.4882    -0.0124  ...      0.4990      0.0103      0.0025   \n",
       "4    0.1235    1.5031    -0.0031  ...      0.4800      0.4766      0.1045   \n",
       "\n",
       "   feature586  feature587  feature588  feature589  feature590  status  \\\n",
       "0      2.3630         NaN         NaN         NaN         NaN      -1   \n",
       "1      4.4447      0.0096      0.0201      0.0060    208.2045      -1   \n",
       "2      3.1745      0.0584      0.0484      0.0148     82.8602       1   \n",
       "3      2.0544      0.0202      0.0149      0.0044     73.8432      -1   \n",
       "4     99.3032      0.0202      0.0149      0.0044     73.8432      -1   \n",
       "\n",
       "            timestamp  \n",
       "0 2008-07-19 11:55:00  \n",
       "1 2008-07-19 12:32:00  \n",
       "2 2008-07-19 13:17:00  \n",
       "3 2008-07-19 14:43:00  \n",
       "4 2008-07-19 15:22:00  \n",
       "\n",
       "[5 rows x 592 columns]"
      ]
     },
     "execution_count": 30,
     "metadata": {},
     "output_type": "execute_result"
    }
   ],
   "source": [
    "#this function is to read, transform and join 2 data frame\n",
    "#%%\n",
    "def read_secom():\n",
    "    path = 'secom.data'\n",
    "    df = pd.read_csv(path, delimiter=' ', header=None, na_values=['NaN'])\n",
    "    df.columns = ['feature'+str(x+1) for x in range(len(df.columns))]\n",
    "    return df\n",
    "\n",
    "\n",
    "#%%\n",
    "def read_labels():\n",
    "    path = 'secom_labels.data'\n",
    "    df = pd.read_csv(path, delimiter=' ', header=None, na_values=['NaN'])\n",
    "    df.columns = ['status','timestamp']\n",
    "    df['timestamp'] = pd.to_datetime(df['timestamp'],dayfirst=True)\n",
    "    return df\n",
    "\n",
    "#read 2 df \n",
    "df_features = read_secom()\n",
    "df_target = read_labels()\n",
    "\n",
    "#concat them vertically\n",
    "df = pd.concat([df_features,df_target],axis=1)\n",
    "\n",
    "df.head()"
   ]
  },
  {
   "cell_type": "markdown",
   "metadata": {},
   "source": [
    "# Target values"
   ]
  },
  {
   "cell_type": "markdown",
   "metadata": {},
   "source": [
    "## Frequency distribution"
   ]
  },
  {
   "cell_type": "code",
   "execution_count": 8,
   "metadata": {},
   "outputs": [
    {
     "data": {
      "text/plain": [
       "<AxesSubplot:>"
      ]
     },
     "execution_count": 8,
     "metadata": {},
     "output_type": "execute_result"
    },
    {
     "data": {
      "image/png": "[encoded data removed]",
      "text/plain": [
       "<Figure size 432x288 with 1 Axes>"
      ]
     },
     "metadata": {
      "needs_background": "light"
     },
     "output_type": "display_data"
    }
   ],
   "source": [
    "#frequency distribution of target values\n",
    "df.status.value_counts().plot(kind = 'bar',color='green')"
   ]
  },
  {
   "cell_type": "markdown",
   "metadata": {
    "id": "ChyXrR1ciMA3"
   },
   "source": [
    "## Analysis of Target Variable (Hina added)"
   ]
  },
  {
   "cell_type": "markdown",
   "metadata": {
    "id": "AsDMfeT_nDeG"
   },
   "source": [
    "### Distribution of Target Variable w.r.t Timestamps"
   ]
  },
  {
   "cell_type": "code",
   "execution_count": 29,
   "metadata": {
    "colab": {
     "base_uri": "https://localhost:8080/",
     "height": 285
    },
    "id": "1uIezwxpivSx",
    "outputId": "10ea3d8d-4e3f-4766-ea6e-f2d28544d92a"
   },
   "outputs": [
    {
     "data": {
      "image/png": "[encoded data removed]",
      "text/plain": [
       "<Figure size 1440x864 with 1 Axes>"
      ]
     },
     "metadata": {},
     "output_type": "display_data"
    }
   ],
   "source": [
    "#distribution of Traget variable in terms of timestamp\n",
    "sns.histplot( df[df.status == -1]['timestamp'], color = 'g');\n",
    "sns.histplot( df[df.status == 1]['timestamp'], color = 'r');"
   ]
  },
  {
   "cell_type": "markdown",
   "metadata": {
    "id": "uGFEJJD6i9C9"
   },
   "source": [
    "#### Analysis of Target in differet timeframes (months,year,day etc.)"
   ]
  },
  {
   "cell_type": "code",
   "execution_count": null,
   "metadata": {
    "id": "pJ7d-3hBi1Z0"
   },
   "outputs": [],
   "source": [
    "signal_df= df.copy(deep=True)\n",
    "\n",
    "signal_df['year'] = pd.DatetimeIndex(signal_df['timestamp']).year\n",
    "signal_df['month'] = pd.DatetimeIndex(signal_df['timestamp']).month\n",
    "signal_df['month_name'] = pd.DatetimeIndex(signal_df['timestamp']).month_name()\n",
    "signal_df['date'] = pd.DatetimeIndex(signal_df['timestamp']).day\n",
    "signal_df['week_day'] = pd.DatetimeIndex(signal_df['timestamp']).weekday\n",
    "signal_df['week_day_name'] = pd.DatetimeIndex(signal_df['timestamp']).day_name()\n",
    "signal_df['start_time'] = pd.DatetimeIndex(signal_df['timestamp']).time\n",
    "signal_df['hour'] = pd.DatetimeIndex(signal_df['timestamp']).hour\n",
    "signal_df['min'] = pd.DatetimeIndex(signal_df['timestamp']).minute"
   ]
  },
  {
   "cell_type": "markdown",
   "metadata": {
    "id": "S9XJowIVjKnJ"
   },
   "source": [
    "#Checking"
   ]
  },
  {
   "cell_type": "code",
   "execution_count": null,
   "metadata": {
    "colab": {
     "base_uri": "https://localhost:8080/"
    },
    "id": "USC6o7ThjMiB",
    "outputId": "e7264c58-74f4-4439-cf82-aa279289a9e7"
   },
   "outputs": [
    {
     "data": {
      "text/plain": [
       "array([19, 20, 21, 22, 23, 25, 27, 28, 29, 30, 31,  1,  2,  3,  4,  5,  6,\n",
       "        7,  8,  9, 10, 11, 12, 13, 15, 16, 17, 18, 24, 14, 26])"
      ]
     },
     "metadata": {},
     "output_type": "display_data"
    }
   ],
   "source": [
    "signal_df.year.unique()\n",
    "#signal_df.month.value_counts()\n",
    "signal_df.groupby(['month','status']).size().reset_index(name='count').sort_index()\n",
    "signal_df.date.unique()"
   ]
  },
  {
   "cell_type": "markdown",
   "metadata": {
    "id": "dvoak6XBjfpY"
   },
   "source": [
    "##### Grid Plot"
   ]
  },
  {
   "cell_type": "code",
   "execution_count": null,
   "metadata": {
    "colab": {
     "base_uri": "https://localhost:8080/",
     "height": 569
    },
    "id": "21d3veQSjQTt",
    "outputId": "02a41d92-8598-4178-8a26-2a5a0e0d287d"
   },
   "outputs": [
    {
     "data": {
      "image/png": "[encoded data removed]",
      "text/plain": [
       "<Figure size 1296x648 with 4 Axes>"
      ]
     },
     "metadata": {},
     "output_type": "display_data"
    }
   ],
   "source": [
    "sns.set_style(\"whitegrid\", {'axes.grid' : False})\n",
    "fig, axes = plt.subplots(\n",
    "                     ncols=2,\n",
    "                     nrows=2,\n",
    "                     figsize=(18, 9))\n",
    "\n",
    "mx, dx, wx, hx = axes.flatten()\n",
    "sns.set(style=\"whitegrid\", font=\"CMU Sans Serif\" )\n",
    "mx=sns.countplot(ax=axes[0, 0],data=signal_df, x=\"month_name\",hue=\"status\")\n",
    "#signal_df.groupby(['month','status']).size().reset_index(name='count').sort_index()\n",
    "mx.get_legend().remove()\n",
    "add_value_labels(mx,1)\n",
    "#mx.legend(['Pass','Fail'])\n",
    "\n",
    "sns.set(style=\"whitegrid\", font=\"CMU Sans Serif\" )\n",
    "dx=sns.countplot(ax=axes[0, 1],data=signal_df, x=\"date\",hue=\"status\")\n",
    "#signal_df.groupby(['month','status']).size().reset_index(name='count').sort_index()\n",
    "dx.get_legend().remove()\n",
    "add_value_labels(dx,1)\n",
    "#dx.legend(['Pass','Fail'])\n",
    "sns.set(style=\"whitegrid\", font=\"CMU Sans Serif\" )\n",
    "wx=sns.countplot(ax=axes[1, 1],data=signal_df, x=\"week_day_name\",hue=\"status\")\n",
    "#signal_df.groupby(['month','status']).size().reset_index(name='count').sort_index()\n",
    "wx.get_legend().remove()\n",
    "add_value_labels(wx,1)\n",
    "#wx.legend(['Pass','Fail'])\n",
    "\n",
    "sns.set(style=\"whitegrid\", font=\"CMU Sans Serif\" )\n",
    "hx=sns.countplot(ax=axes[1, 0],data=signal_df, x=\"hour\",hue=\"status\")\n",
    "#signal_df.groupby(['month','status']).size().reset_index(name='count').sort_index()\n",
    "hx.get_legend().remove()\n",
    "add_value_labels(hx,1)\n",
    "#hx.legend(['Pass','Fail'])\n",
    "handles, labels = mx.get_legend_handles_labels()\n",
    "fig.legend(handles,['Pass','Fail'] ,loc='center right', fontsize='medium')\n",
    "fig.suptitle(\"Number of Pass/Fail Wafers in various Time Frames\", fontsize=16,y=0.92)\n",
    "\n",
    "plt.show()"
   ]
  },
  {
   "cell_type": "markdown",
   "metadata": {},
   "source": [
    "## Pie chart"
   ]
  },
  {
   "cell_type": "code",
   "execution_count": 9,
   "metadata": {},
   "outputs": [
    {
     "data": {
      "image/png": "[encoded data removed]",
      "text/plain": [
       "<Figure size 504x504 with 1 Axes>"
      ]
     },
     "metadata": {},
     "output_type": "display_data"
    },
    {
     "data": {
      "text/plain": [
       "-1    1463\n",
       " 1     104\n",
       "Name: status, dtype: int64"
      ]
     },
     "execution_count": 9,
     "metadata": {},
     "output_type": "execute_result"
    }
   ],
   "source": [
    "#pie chart for 'status(fail-pass)\n",
    "plt.rcParams['figure.figsize'] = (7,7)\n",
    "labels = ['Pass', 'Fail']\n",
    "size = df['status'].value_counts()\n",
    "colors = ['teal', 'slateblue']\n",
    "explode = [0, 0.1]\n",
    "\n",
    "plt.style.use('seaborn-deep')\n",
    "plt.pie(size, labels =labels, colors = colors, explode = explode, autopct = \"%.2f%%\")\n",
    "plt.axis('off')\n",
    "plt.legend()\n",
    "plt.show()\n",
    "df['status'].value_counts()"
   ]
  },
  {
   "cell_type": "code",
   "execution_count": null,
   "metadata": {},
   "outputs": [],
   "source": []
  },
  {
   "cell_type": "markdown",
   "metadata": {},
   "source": [
    "# Outliers"
   ]
  },
  {
   "cell_type": "markdown",
   "metadata": {
    "id": "P1YMb-3DaBoy"
   },
   "source": [
    "## Functions used in the code \n"
   ]
  },
  {
   "cell_type": "markdown",
   "metadata": {
    "id": "zLSk8HYGmbH0"
   },
   "source": [
    "### Function to add value labels top each bar"
   ]
  },
  {
   "cell_type": "code",
   "execution_count": 10,
   "metadata": {
    "id": "5Me5ZssWZ2Yi"
   },
   "outputs": [],
   "source": [
    "#Function adding value label to each bar \n",
    "def add_value_labels(ax, spacing):\n",
    "    \"\"\"Add labels to the end of each bar in a bar chart.\n",
    "\n",
    "    Arguments:\n",
    "        ax (matplotlib.axes.Axes): The matplotlib object containing the axes\n",
    "            of the plot to annotate.\n",
    "        spacing (int): The distance between the labels and the bars.\n",
    "    \"\"\"\n",
    "\n",
    "    # For each bar: Place a label\n",
    "    for rect in ax.patches:\n",
    "        # Get X and Y placement of label from rect.\n",
    "        y_value = rect.get_height()\n",
    "        x_value = rect.get_x() + rect.get_width() / 2\n",
    "\n",
    "        # Number of points between bar and label. Change to your liking.\n",
    "        space = spacing\n",
    "        # Vertical alignment for positive values\n",
    "        va = 'bottom'\n",
    "\n",
    "        # If value of bar is negative: Place label below bar\n",
    "        if y_value < 0  :\n",
    "            # Invert space to place label below\n",
    "            space *= -1\n",
    "            # Vertically align label at top\n",
    "            va = 'top'\n",
    "        # If we can fit the label above the column, do that;\n",
    "        # otherwise, put it inside the column.\n",
    "        \n",
    "        # Use Y value as label and format number with one decimal place\n",
    "        label = \"{:.0f}\".format(y_value)\n",
    "\n",
    "        # Create annotation\n",
    "        ax.annotate(\n",
    "            label,                      # Use `label` as label\n",
    "            (x_value, y_value),         # Place label at end of the bar\n",
    "            xytext=(0, space),          # Vertically shift label by `space`\n",
    "            textcoords=\"offset points\", # Interpret `xytext` as offset in points\n",
    "            ha='center',                # Horizontally center label\n",
    "            va=va, size=8)                      # Vertically align label differently for\n",
    "                                        # positive and negative values."
   ]
  },
  {
   "cell_type": "markdown",
   "metadata": {
    "id": "N98tBtxhmhty"
   },
   "source": [
    "### Function to evaluate descriptive statistics "
   ]
  },
  {
   "cell_type": "code",
   "execution_count": 11,
   "metadata": {
    "id": "DxEnzbXdaJrS"
   },
   "outputs": [],
   "source": [
    "#Function for descriptive analysis\n",
    "def eda(frame,output):\n",
    "    #output={}\n",
    "    for col in frame.columns:\n",
    "        mean=frame[col].mean()\n",
    "        std= frame[col].std()\n",
    "        percent_null= pd.isnull(frame[col]).sum()/len(frame[col])*100\n",
    "        unique=len(pd.unique(frame[col]))\n",
    "        outlier_df3= frame[(np.abs(stats.zscore(frame[col])) > 3)]\n",
    "        outlier_df2= frame[(np.abs(stats.zscore(frame[col])) > 2)]\n",
    "        count_3s_perc=len(outlier_df3)*100/len(frame)\n",
    "        count_2s_perc=(len(outlier_df2)-len(outlier_df3))*100/len(frame)\n",
    "        min= frame[col].min()\n",
    "        q25=frame[col].quantile(0.25)\n",
    "        q50=frame[col].quantile(0.5)\n",
    "        q75=frame[col].quantile(0.75)\n",
    "        max= frame[col].max()\n",
    "        skewness=frame[col].skew()\n",
    "        kurtosis=frame[col].kurtosis()\n",
    "        list = []\n",
    "        list.append(mean)\n",
    "        list.append(std)\n",
    "        list.append(percent_null)\n",
    "        list.append(unique)\n",
    "        list.append(count_3s_perc)\n",
    "        list.append(count_2s_perc)\n",
    "        list.append(min)\n",
    "        list.append(q25)\n",
    "        list.append(q50)\n",
    "        list.append(q75)\n",
    "        list.append(max)\n",
    "        list.append(skewness)\n",
    "        list.append(kurtosis)\n",
    "        output[col] = list\n",
    "    return output;"
   ]
  },
  {
   "cell_type": "markdown",
   "metadata": {
    "id": "cjvSEBcWOgU1"
   },
   "source": [
    "### Function to evaluate skewness "
   ]
  },
  {
   "cell_type": "code",
   "execution_count": 12,
   "metadata": {
    "id": "Z3J5A3agOfGP"
   },
   "outputs": [],
   "source": [
    "def skw(row):\n",
    "    if row['Q3Q2'] > row['Q2Q1']:\n",
    "        return 'Right'\n",
    "    elif row['Q2Q1'] > row['Q3Q2']:\n",
    "        return 'Left'\n",
    "    else: \n",
    "        return 'Equal'\n"
   ]
  },
  {
   "cell_type": "markdown",
   "metadata": {
    "id": "ama3EhJ9eJmX"
   },
   "source": [
    "## EDA"
   ]
  },
  {
   "cell_type": "code",
   "execution_count": 16,
   "metadata": {
    "id": "LnsyJpCueMhm"
   },
   "outputs": [
    {
     "data": {
      "text/html": [
       "<div>\n",
       "<style scoped>\n",
       "    .dataframe tbody tr th:only-of-type {\n",
       "        vertical-align: middle;\n",
       "    }\n",
       "\n",
       "    .dataframe tbody tr th {\n",
       "        vertical-align: top;\n",
       "    }\n",
       "\n",
       "    .dataframe thead th {\n",
       "        text-align: right;\n",
       "    }\n",
       "</style>\n",
       "<table border=\"1\" class=\"dataframe\">\n",
       "  <thead>\n",
       "    <tr style=\"text-align: right;\">\n",
       "      <th></th>\n",
       "      <th>mean</th>\n",
       "      <th>std</th>\n",
       "      <th>percent_null</th>\n",
       "      <th>unique</th>\n",
       "      <th>count_3s_perc</th>\n",
       "      <th>count_2s_perc</th>\n",
       "      <th>min</th>\n",
       "      <th>q25</th>\n",
       "      <th>q50</th>\n",
       "      <th>q75</th>\n",
       "      <th>max</th>\n",
       "      <th>skewness</th>\n",
       "      <th>kurtosis</th>\n",
       "    </tr>\n",
       "  </thead>\n",
       "  <tbody>\n",
       "    <tr>\n",
       "      <th>feature1</th>\n",
       "      <td>3014.452896</td>\n",
       "      <td>73.621787</td>\n",
       "      <td>0.382897</td>\n",
       "      <td>1521</td>\n",
       "      <td>0.0</td>\n",
       "      <td>0.0</td>\n",
       "      <td>2743.2400</td>\n",
       "      <td>2966.260000</td>\n",
       "      <td>3011.49000</td>\n",
       "      <td>3056.650000</td>\n",
       "      <td>3356.3500</td>\n",
       "      <td>0.513657</td>\n",
       "      <td>1.470652</td>\n",
       "    </tr>\n",
       "    <tr>\n",
       "      <th>feature2</th>\n",
       "      <td>2495.850231</td>\n",
       "      <td>80.407705</td>\n",
       "      <td>0.446713</td>\n",
       "      <td>1505</td>\n",
       "      <td>0.0</td>\n",
       "      <td>0.0</td>\n",
       "      <td>2158.7500</td>\n",
       "      <td>2452.247500</td>\n",
       "      <td>2499.40500</td>\n",
       "      <td>2538.822500</td>\n",
       "      <td>2846.4400</td>\n",
       "      <td>-0.043066</td>\n",
       "      <td>2.241442</td>\n",
       "    </tr>\n",
       "    <tr>\n",
       "      <th>feature3</th>\n",
       "      <td>2200.547318</td>\n",
       "      <td>29.513152</td>\n",
       "      <td>0.893427</td>\n",
       "      <td>508</td>\n",
       "      <td>0.0</td>\n",
       "      <td>0.0</td>\n",
       "      <td>2060.6600</td>\n",
       "      <td>2181.044400</td>\n",
       "      <td>2201.06670</td>\n",
       "      <td>2218.055500</td>\n",
       "      <td>2315.2667</td>\n",
       "      <td>-0.305764</td>\n",
       "      <td>2.304955</td>\n",
       "    </tr>\n",
       "    <tr>\n",
       "      <th>feature4</th>\n",
       "      <td>1396.376627</td>\n",
       "      <td>441.691640</td>\n",
       "      <td>0.893427</td>\n",
       "      <td>519</td>\n",
       "      <td>0.0</td>\n",
       "      <td>0.0</td>\n",
       "      <td>0.0000</td>\n",
       "      <td>1081.875800</td>\n",
       "      <td>1285.21440</td>\n",
       "      <td>1591.223500</td>\n",
       "      <td>3715.0417</td>\n",
       "      <td>1.711627</td>\n",
       "      <td>4.594917</td>\n",
       "    </tr>\n",
       "    <tr>\n",
       "      <th>feature5</th>\n",
       "      <td>4.197013</td>\n",
       "      <td>56.355540</td>\n",
       "      <td>0.893427</td>\n",
       "      <td>504</td>\n",
       "      <td>0.0</td>\n",
       "      <td>0.0</td>\n",
       "      <td>0.6815</td>\n",
       "      <td>1.017700</td>\n",
       "      <td>1.31680</td>\n",
       "      <td>1.525700</td>\n",
       "      <td>1114.5366</td>\n",
       "      <td>19.645262</td>\n",
       "      <td>384.452750</td>\n",
       "    </tr>\n",
       "    <tr>\n",
       "      <th>...</th>\n",
       "      <td>...</td>\n",
       "      <td>...</td>\n",
       "      <td>...</td>\n",
       "      <td>...</td>\n",
       "      <td>...</td>\n",
       "      <td>...</td>\n",
       "      <td>...</td>\n",
       "      <td>...</td>\n",
       "      <td>...</td>\n",
       "      <td>...</td>\n",
       "      <td>...</td>\n",
       "      <td>...</td>\n",
       "      <td>...</td>\n",
       "    </tr>\n",
       "    <tr>\n",
       "      <th>feature586</th>\n",
       "      <td>3.067826</td>\n",
       "      <td>3.578033</td>\n",
       "      <td>0.063816</td>\n",
       "      <td>1503</td>\n",
       "      <td>0.0</td>\n",
       "      <td>0.0</td>\n",
       "      <td>1.1975</td>\n",
       "      <td>2.306500</td>\n",
       "      <td>2.75765</td>\n",
       "      <td>3.295175</td>\n",
       "      <td>99.3032</td>\n",
       "      <td>24.697136</td>\n",
       "      <td>659.562151</td>\n",
       "    </tr>\n",
       "    <tr>\n",
       "      <th>feature587</th>\n",
       "      <td>0.021458</td>\n",
       "      <td>0.012358</td>\n",
       "      <td>0.063816</td>\n",
       "      <td>323</td>\n",
       "      <td>0.0</td>\n",
       "      <td>0.0</td>\n",
       "      <td>-0.0169</td>\n",
       "      <td>0.013425</td>\n",
       "      <td>0.02050</td>\n",
       "      <td>0.027600</td>\n",
       "      <td>0.1028</td>\n",
       "      <td>1.438025</td>\n",
       "      <td>6.975957</td>\n",
       "    </tr>\n",
       "    <tr>\n",
       "      <th>feature588</th>\n",
       "      <td>0.016475</td>\n",
       "      <td>0.008808</td>\n",
       "      <td>0.063816</td>\n",
       "      <td>261</td>\n",
       "      <td>0.0</td>\n",
       "      <td>0.0</td>\n",
       "      <td>0.0032</td>\n",
       "      <td>0.010600</td>\n",
       "      <td>0.01480</td>\n",
       "      <td>0.020300</td>\n",
       "      <td>0.0799</td>\n",
       "      <td>1.947408</td>\n",
       "      <td>7.092926</td>\n",
       "    </tr>\n",
       "    <tr>\n",
       "      <th>feature589</th>\n",
       "      <td>0.005283</td>\n",
       "      <td>0.002867</td>\n",
       "      <td>0.063816</td>\n",
       "      <td>121</td>\n",
       "      <td>0.0</td>\n",
       "      <td>0.0</td>\n",
       "      <td>0.0010</td>\n",
       "      <td>0.003300</td>\n",
       "      <td>0.00460</td>\n",
       "      <td>0.006400</td>\n",
       "      <td>0.0286</td>\n",
       "      <td>2.029372</td>\n",
       "      <td>8.238837</td>\n",
       "    </tr>\n",
       "    <tr>\n",
       "      <th>feature590</th>\n",
       "      <td>99.670066</td>\n",
       "      <td>93.891919</td>\n",
       "      <td>0.063816</td>\n",
       "      <td>612</td>\n",
       "      <td>0.0</td>\n",
       "      <td>0.0</td>\n",
       "      <td>0.0000</td>\n",
       "      <td>44.368600</td>\n",
       "      <td>71.90050</td>\n",
       "      <td>114.749700</td>\n",
       "      <td>737.3048</td>\n",
       "      <td>2.714475</td>\n",
       "      <td>9.809990</td>\n",
       "    </tr>\n",
       "  </tbody>\n",
       "</table>\n",
       "<p>590 rows × 13 columns</p>\n",
       "</div>"
      ],
      "text/plain": [
       "                   mean         std  percent_null  unique  count_3s_perc  \\\n",
       "feature1    3014.452896   73.621787      0.382897    1521            0.0   \n",
       "feature2    2495.850231   80.407705      0.446713    1505            0.0   \n",
       "feature3    2200.547318   29.513152      0.893427     508            0.0   \n",
       "feature4    1396.376627  441.691640      0.893427     519            0.0   \n",
       "feature5       4.197013   56.355540      0.893427     504            0.0   \n",
       "...                 ...         ...           ...     ...            ...   \n",
       "feature586     3.067826    3.578033      0.063816    1503            0.0   \n",
       "feature587     0.021458    0.012358      0.063816     323            0.0   \n",
       "feature588     0.016475    0.008808      0.063816     261            0.0   \n",
       "feature589     0.005283    0.002867      0.063816     121            0.0   \n",
       "feature590    99.670066   93.891919      0.063816     612            0.0   \n",
       "\n",
       "            count_2s_perc        min          q25         q50          q75  \\\n",
       "feature1              0.0  2743.2400  2966.260000  3011.49000  3056.650000   \n",
       "feature2              0.0  2158.7500  2452.247500  2499.40500  2538.822500   \n",
       "feature3              0.0  2060.6600  2181.044400  2201.06670  2218.055500   \n",
       "feature4              0.0     0.0000  1081.875800  1285.21440  1591.223500   \n",
       "feature5              0.0     0.6815     1.017700     1.31680     1.525700   \n",
       "...                   ...        ...          ...         ...          ...   \n",
       "feature586            0.0     1.1975     2.306500     2.75765     3.295175   \n",
       "feature587            0.0    -0.0169     0.013425     0.02050     0.027600   \n",
       "feature588            0.0     0.0032     0.010600     0.01480     0.020300   \n",
       "feature589            0.0     0.0010     0.003300     0.00460     0.006400   \n",
       "feature590            0.0     0.0000    44.368600    71.90050   114.749700   \n",
       "\n",
       "                  max   skewness    kurtosis  \n",
       "feature1    3356.3500   0.513657    1.470652  \n",
       "feature2    2846.4400  -0.043066    2.241442  \n",
       "feature3    2315.2667  -0.305764    2.304955  \n",
       "feature4    3715.0417   1.711627    4.594917  \n",
       "feature5    1114.5366  19.645262  384.452750  \n",
       "...               ...        ...         ...  \n",
       "feature586    99.3032  24.697136  659.562151  \n",
       "feature587     0.1028   1.438025    6.975957  \n",
       "feature588     0.0799   1.947408    7.092926  \n",
       "feature589     0.0286   2.029372    8.238837  \n",
       "feature590   737.3048   2.714475    9.809990  \n",
       "\n",
       "[590 rows x 13 columns]"
      ]
     },
     "execution_count": 16,
     "metadata": {},
     "output_type": "execute_result"
    }
   ],
   "source": [
    "#dictionary for EDA\n",
    "result={}\n",
    "result=eda(df_features,result)\n",
    "result1=pd.DataFrame.from_dict(result,orient='index')\n",
    "result1.columns=['mean','std', 'percent_null', 'unique', 'count_3s_perc', 'count_2s_perc', 'min', 'q25', 'q50', 'q75', 'max','skewness','kurtosis']\n",
    "result1"
   ]
  },
  {
   "cell_type": "markdown",
   "metadata": {
    "id": "hfjibQ5GfDly"
   },
   "source": [
    "## Visualising Outliers"
   ]
  },
  {
   "cell_type": "markdown",
   "metadata": {},
   "source": [
    "### Outlier chart for whole data set"
   ]
  },
  {
   "cell_type": "code",
   "execution_count": 18,
   "metadata": {
    "colab": {
     "base_uri": "https://localhost:8080/",
     "height": 459
    },
    "id": "b2lK_N8ReqjW",
    "outputId": "db2c1e21-2850-443f-c9e8-814d3fbf7d00"
   },
   "outputs": [
    {
     "data": {
      "image/png": "[encoded data removed]",
      "text/plain": [
       "<Figure size 1440x504 with 2 Axes>"
      ]
     },
     "metadata": {},
     "output_type": "display_data"
    }
   ],
   "source": [
    "#broken axis bar chart for outlier percentage \n",
    "# set style for seaborn plot\n",
    "sns.set(style=\"whitegrid\", font=\"CMU Sans Serif\" )\n",
    "sns.set_style(\"ticks\")\n",
    "# create a color palette (we only have three different colors for the three different tests T1...T3)\n",
    "pal = sns.color_palette(n_colors=3)\n",
    "#shared x axis\n",
    "f, (ax1,ax2)= plt.subplots(2,1,sharex = True,sharey=False,figsize=(20, 7))\n",
    "ax1 = sns.countplot(x='count_3s_perc',data=result1, ax=ax1)\n",
    "sns.set(style=\"whitegrid\", font=\"CMU Sans Serif\" )\n",
    "sns.set_style(\"ticks\")\n",
    "# we basically do the same thing again for the second plot\n",
    "ax2 = sns.countplot(x='count_3s_perc',data=result1, ax=ax2)\n",
    "\n",
    "ax1.set_ylim(500, 545)\n",
    "ax2.set_ylim(0, 22)\n",
    "# the upper part does not need its own x axis as it shares one with the lower part\n",
    "ax1.get_xaxis().set_visible(False)\n",
    "# by default, each part will get its own \"Latency in ms\" label, but we want to set a common for the whole figure\n",
    "# first, remove the y label for both subplots\n",
    "ax1.set_title(\"Bar Chart for Percentage of Outlier per Feature\", size=14)\n",
    "ax1.set_ylabel(\"\")\n",
    "ax2.set_ylabel(\"\")\n",
    "ax2.set_xlabel(\"Percentage of outliers\", size=12 )\n",
    "# then, set a new label on the plot (basically just a piece of text) and move it to where it makes sense (requires trial and error)\n",
    "f.text(0.11, 0.55,\"Frequency\", va=\"center\", rotation=\"vertical\")\n",
    "\n",
    "# let's put some ticks on the top of the upper part and bottom of the lower part for style\n",
    "ax1.xaxis.tick_top()\n",
    "ax2.xaxis.tick_bottom()\n",
    "#xlabels = ['{:,.3f}'.format(x) + '%' for x in ax2.get_xticks()]\n",
    "labels = [item.get_text() for item in ax2.get_xticklabels()]\n",
    "ax2.set_xticklabels([str(round(float(label), 2)) + '%' for label in labels],rotation=45,ha=\"right\")\n",
    "\n",
    "abs_values = result1['count_3s_perc'].value_counts().sort_index()\n",
    "rel_values = result1['count_3s_perc'].value_counts(normalize=True).sort_index().values * 100\n",
    "lbls = [f'{p[0]} ({p[1]:.0f}%)' for p in zip(abs_values, rel_values)]\n",
    "ax1.bar_label(container=ax1.containers[0], labels=lbls)\n",
    "ax2.bar_label(container=ax2.containers[0], labels=lbls)\n",
    "#labels = [f' {v.get_width()}\\n {df.iloc[i, 1]}%' for i, v in enumerate(ax.containers[0])]\n",
    "\n",
    "\n",
    "# finally, adjust everything a bit to make it prettier (this just moves everything, best to try and iterate)\n",
    "f.subplots_adjust(left=0.15, right=0.85, bottom=0.15, top=0.85)\n",
    "#add_value_labels(ax2,5)\n",
    "\n",
    "# label each bar in histogram\n",
    "#plt.show()\n",
    "ax1.spines['bottom'].set_visible(False)\n",
    "ax2.spines['top'].set_visible(False)\n",
    "d = .02  # how big to make the diagonal lines in axes coordinates\n",
    "# arguments to pass to plot, just so we don't keep repeating them\n",
    "kwargs = dict(transform=ax1.transAxes, color=\"k\", clip_on=False)\n",
    "ax1.plot((-d, +d), (-d, +d), **kwargs)        # top-left diagonal\n",
    "ax1.plot((1 - d, 1 + d), (-d, +d), **kwargs)  # top-right diagonal\n",
    "\n",
    "kwargs.update(transform=ax2.transAxes)  # switch to the bottom axes\n",
    "ax2.plot((-d, +d), (1 - d, 1 + d), **kwargs)  # bottom-left diagonal\n",
    "ax2.plot((1 - d, 1 + d), (1 - d, 1 + d), **kwargs)  # bottom-right diagonal\n",
    "\n",
    "plt.show()\n"
   ]
  },
  {
   "cell_type": "markdown",
   "metadata": {
    "id": "_ukG9nObmzvQ"
   },
   "source": [
    "### Visualising only those features which have outliers"
   ]
  },
  {
   "cell_type": "code",
   "execution_count": 28,
   "metadata": {
    "colab": {
     "base_uri": "https://localhost:8080/",
     "height": 319
    },
    "id": "yjoT_nuhhDoM",
    "outputId": "7913c56a-574b-4eb0-a837-6c0fbd21100a"
   },
   "outputs": [
    {
     "data": {
      "text/plain": [
       "Text(0.5, 1.0, 'Percentage of Outliers Per Feature > 0%')"
      ]
     },
     "execution_count": 28,
     "metadata": {},
     "output_type": "execute_result"
    },
    {
     "data": {
      "image/png": "[encoded data removed]",
      "text/plain": [
       "<Figure size 1440x864 with 1 Axes>"
      ]
     },
     "metadata": {},
     "output_type": "display_data"
    }
   ],
   "source": [
    "#visualizing features having outliers\n",
    "plt.rcParams['figure.figsize'] = (20, 12) \n",
    "\n",
    "result1_out= result1.loc[result1['count_3s_perc'] > 0]\n",
    "sns.set_theme(style=\"whitegrid\")\n",
    "ax = sns.barplot(x=result1_out.index, y=result1_out['count_3s_perc'], data=result1_out, order=result1_out.sort_values('count_3s_perc',ascending = False).index)\n",
    "#ax = sns.barplot(x=result1.index, y=result1['count_3s_perc'], data=result1, order=result1.sort_values('count_3s_perc',ascending = False).index)\n",
    "#labels = [item.get_text() for item in ax.get_xticklabels()]\n",
    "#ax.set_xticklabels([str(round(float(label), 2)) + '%' for label in labels],rotation=90,ha=\"right\")\n",
    "for item in ax.get_xticklabels():\n",
    "    item.set_rotation(90)\n",
    "    item.set_size(5)\n",
    "ax.set_ylabel(\"Percentage of outliers\", size=10 )\n",
    "ax.set_title(\"Percentage of Outliers Per Feature > 0%\", size=12 )\n"
   ]
  },
  {
   "cell_type": "markdown",
   "metadata": {
    "id": "k4X1eLdr5LbX"
   },
   "source": [
    "## Distribution of Features (Normal, Uniform, Skewed)\n"
   ]
  },
  {
   "cell_type": "markdown",
   "metadata": {
    "id": "tVljahh85f5C"
   },
   "source": [
    "### Normally Distributed"
   ]
  },
  {
   "cell_type": "code",
   "execution_count": null,
   "metadata": {
    "id": "mHT9tPdq5J34"
   },
   "outputs": [],
   "source": [
    "alpha = 0.05\n",
    "ntest= df_features.apply(normaltest,nan_policy='omit')\n",
    "ntest=ntest.transpose()\n",
    "ntest.columns= ['stat', 'p']\n",
    "nm_features=ntest[ntest['p']>alpha]\n",
    "#result1.loc[nm_features.index,:]"
   ]
  },
  {
   "cell_type": "markdown",
   "metadata": {
    "id": "3Pdwv1Iy_l37"
   },
   "source": [
    "## Uniform Distribution"
   ]
  },
  {
   "cell_type": "code",
   "execution_count": null,
   "metadata": {
    "id": "ErQn9tlS_snJ"
   },
   "outputs": [],
   "source": [
    "ncol_name= nm_features.index\n",
    "no_norm=df_features.loc[:, ~df_features.columns.isin(ncol_name)].copy()\n",
    "#stats.kstest(time, stats.uniform(loc=0.0, scale=100.0).cdf)\n",
    "uniform_f=result1[result1['std']==0].index\n",
    "uni_norm=ncol_name.union(uniform_f)"
   ]
  },
  {
   "cell_type": "markdown",
   "metadata": {
    "id": "XT2pJHa6I4BU"
   },
   "source": [
    "## Skewed Data"
   ]
  },
  {
   "cell_type": "code",
   "execution_count": null,
   "metadata": {
    "id": "Hrb6B3xoIv5v"
   },
   "outputs": [],
   "source": [
    "skewed_f=df_features.loc[:, ~df_features.columns.isin(uni_norm)].copy()\n",
    "skew_eda = skewed_f.describe().T\n",
    "# Checking\n",
    "#skew_eda={}\n",
    "#skew_eda=eda(skewed_f,skew_eda)\n",
    "#skew_eda=pd.DataFrame.from_dict(skew_eda,orient='index')\n",
    "#skew_eda.columns=['mean','std', 'percent_null', 'unique', 'count_3s_perc', 'count_2s_perc', 'min', 'q25', 'q50', 'q75', 'max','skewness','kurtosis']\n",
    "#skew_eda['Q2Q1']=skew_eda['50%']-skew_eda['25%']\n",
    "#skew_eda['Q3Q2']=skew_eda['75%']-skew_eda['50%']\n",
    "#skew_eda['sk']=  skew_eda.apply(lambda row: skw(row), axis=1)\n",
    "#skew_eda.loc[skew_eda['sk']== 'Equal']"
   ]
  },
  {
   "cell_type": "markdown",
   "metadata": {
    "id": "Xb7Pf9J38oVh"
   },
   "source": [
    "## Visualisng the distribution results"
   ]
  },
  {
   "cell_type": "code",
   "execution_count": null,
   "metadata": {
    "colab": {
     "base_uri": "https://localhost:8080/",
     "height": 284
    },
    "id": "EBMDranCCTD_",
    "outputId": "d5d797cd-d503-436b-98a5-e608fd74dfe6"
   },
   "outputs": [
    {
     "data": {
      "image/png": "[encoded data removed]",
      "text/plain": [
       "<Figure size 432x288 with 1 Axes>"
      ]
     },
     "metadata": {},
     "output_type": "display_data"
    }
   ],
   "source": [
    "# creating a dataframe with distribution counts\n",
    "dist = pd.DataFrame(\n",
    "    [{len(ncol_name)},\n",
    "    {len(uniform_f)},\n",
    "    {len(skewed_f.columns)}\n",
    "    ],index=[\"Normal Dist\",\"Uniform Dist\",\"Other Dist\"])\n",
    "dist.columns=['Count']\n",
    "dist.index.name='Dist'\n",
    "#labels = [item.get_text() for item in ax2.get_xticklabels()]\n",
    "#ax2.set_xticklabels([str(round(float(label), 2)) + '%' for label in labels],rotation=45,ha=\"right\")\n",
    "sns.set_style(\"whitegrid\", {'axes.grid' : False})\n",
    "nx=sns.barplot(x=dist.index,y=dist['Count'],data=dist)\n",
    "add_value_labels(nx,1)\n",
    "nx.set_ylabel(\"Feature Count\",size=10,fontname=\"Arial\")\n",
    "nx.set_xlabel(None)\n",
    "nx.set_title(\"Type of Distribution in Features\",size=12)\n",
    "plt.show()"
   ]
  },
  {
   "cell_type": "markdown",
   "metadata": {
    "id": "EcfDHStOkdR9"
   },
   "source": [
    "# Splitting Train and Test Data "
   ]
  },
  {
   "cell_type": "code",
   "execution_count": null,
   "metadata": {
    "id": "4aerZbfhjmUn"
   },
   "outputs": [],
   "source": [
    "#separate target variable and remaining data\n",
    "x = df.iloc[:,:590]\n",
    "y = df.iloc[:,590]\n",
    "\n",
    "# splitting df into train test and split\n",
    "x_train, x_test, y_train, y_test = train_test_split(x, y, test_size = 0.2, random_state = 1,stratify=y)# random state = fix the random generator (same data all time)\n",
    "#startify preserves the same proportions of examples in each class as observed in the original dataset- imbalance data ."
   ]
  },
  {
   "cell_type": "markdown",
   "metadata": {
    "id": "TGhXd6_glWJ0"
   },
   "source": [
    "#Checking"
   ]
  },
  {
   "cell_type": "code",
   "execution_count": null,
   "metadata": {
    "id": "wN23dG-OlUQY"
   },
   "outputs": [],
   "source": [
    "#frequency count of target varaible in training and test data separately (after splitting)\n",
    "#x_train - 1253.590\n",
    "#x_test - 314.590\n",
    "#y_train.value_counts(normalize=True)\n",
    "y_test.value_counts(normalize=True)\n",
    "y_train.value_counts(normalize=True).plot(kind='bar')\n",
    "y_train=y_train.to_frame()\n",
    "y_train['index']=y_train.index\n",
    "y_train\n",
    "sns.histplot(data=y_train,x=y_train[y_train['status'] == -1]['index'],kde=True,color='g')\n",
    "sns.histplot(data=y_train,x=y_train[y_train['status'] == 1]['index'],kde=True,color='r')\n",
    "x_train\n"
   ]
  },
  {
   "cell_type": "markdown",
   "metadata": {
    "id": "qbeYxQO1rH3e"
   },
   "source": [
    "## EDA Training data "
   ]
  },
  {
   "cell_type": "code",
   "execution_count": null,
   "metadata": {
    "colab": {
     "base_uri": "https://localhost:8080/"
    },
    "id": "BkK9R5fantTA",
    "outputId": "3a01f59a-3860-4a71-8386-7e5b2a41e275"
   },
   "outputs": [
    {
     "name": "stderr",
     "output_type": "stream",
     "text": [
      "/usr/local/lib/python3.7/dist-packages/scipy/stats/stats.py:2419: RuntimeWarning: invalid value encountered in true_divide\n",
      "  return (a - mns) / sstd\n"
     ]
    }
   ],
   "source": [
    "xtrain_eda={}\n",
    "xtrain_eda=eda(x_train,xtrain_eda)\n",
    "\n",
    "xtrain_eda1=pd.DataFrame.from_dict(xtrain_eda,orient='index')\n",
    "\n",
    "xtrain_eda1.columns=['mean','std', 'percent_null', 'unique', 'count_3s', 'count_2s', 'min', 'q25', 'q50', 'q75', 'max','skewness','kurtosis']\n"
   ]
  },
  {
   "cell_type": "markdown",
   "metadata": {
    "id": "YbPjJlJ8ra4a"
   },
   "source": [
    "### Null/Missing Value in Train data set"
   ]
  },
  {
   "cell_type": "markdown",
   "metadata": {
    "id": "SzTg1bwArl6T"
   },
   "source": [
    "#Checking"
   ]
  },
  {
   "cell_type": "code",
   "execution_count": null,
   "metadata": {
    "id": "F-NhSSsXrNL9"
   },
   "outputs": [],
   "source": [
    "result1['percent_null'].hist()\n",
    "\n",
    "\"\"\"Before split and after split the trend of missing percent values are same\n",
    "important thresholds:\n",
    "- big jump from 17% to 45%\n",
    "- after 45% , more number of columns show 65% null values , therefore threshold should be between 55% to 65%\n",
    "\"\"\"\n",
    "\n",
    "result1.percent_null.value_counts().sort_index()\n",
    "\n",
    "xtrain_eda1.percent_null.value_counts().sort_index()"
   ]
  },
  {
   "cell_type": "code",
   "execution_count": null,
   "metadata": {
    "colab": {
     "base_uri": "https://localhost:8080/",
     "height": 303
    },
    "id": "Ay6JK6s5r0yZ",
    "outputId": "b248e4fb-e9d0-4a2c-8696-6089aecb60a5"
   },
   "outputs": [
    {
     "data": {
      "text/plain": [
       "<AxesSubplot:xlabel='percent_null', ylabel='Count'>"
      ]
     },
     "metadata": {},
     "output_type": "display_data"
    },
    {
     "data": {
      "image/png": "[encoded data removed]",
      "text/plain": [
       "<Figure size 432x288 with 1 Axes>"
      ]
     },
     "metadata": {},
     "output_type": "display_data"
    }
   ],
   "source": [
    "sns.histplot(data=xtrain_eda1, x='percent_null',bins=7, kde=True)"
   ]
  },
  {
   "cell_type": "markdown",
   "metadata": {
    "id": "XBZCeZivr8pP"
   },
   "source": [
    "### Standard deviation Before and after splitting"
   ]
  },
  {
   "cell_type": "markdown",
   "metadata": {
    "id": "ziN3yIadsQ2F"
   },
   "source": [
    "#### Std Before split "
   ]
  },
  {
   "cell_type": "code",
   "execution_count": null,
   "metadata": {
    "colab": {
     "base_uri": "https://localhost:8080/",
     "height": 303
    },
    "id": "_8UJp3nLr4Oo",
    "outputId": "3c3a6f3e-6664-4d5a-80ef-68a4c19ac94a"
   },
   "outputs": [
    {
     "data": {
      "text/plain": [
       "<AxesSubplot:xlabel='std', ylabel='Count'>"
      ]
     },
     "metadata": {},
     "output_type": "display_data"
    },
    {
     "data": {
      "image/png": "[encoded data removed]",
      "text/plain": [
       "<Figure size 432x288 with 1 Axes>"
      ]
     },
     "metadata": {},
     "output_type": "display_data"
    }
   ],
   "source": [
    "scaler = MinMaxScaler()\n",
    "#It seems like the Scaler works only with series. When we scale the whole dataframe, the datafram will be broken down.\n",
    "#Then we need to form the dataframe again.\n",
    "\n",
    "data_scaled = pd.DataFrame(scaler.fit_transform(df_features), columns=df_features.columns)\n",
    "data_scaled_desc=data_scaled.describe().T\n",
    "\n",
    "sns.histplot(data=data_scaled_desc, x='std',bins=20, kde=True)"
   ]
  },
  {
   "cell_type": "markdown",
   "metadata": {
    "id": "QCgyIKhNsget"
   },
   "source": [
    "#### Std After Split"
   ]
  },
  {
   "cell_type": "code",
   "execution_count": null,
   "metadata": {
    "colab": {
     "base_uri": "https://localhost:8080/",
     "height": 303
    },
    "id": "QM9x45euskdS",
    "outputId": "ea4edb2e-9289-43b5-a51a-6ca2a2905ec7"
   },
   "outputs": [
    {
     "data": {
      "text/plain": [
       "<AxesSubplot:xlabel='std', ylabel='Count'>"
      ]
     },
     "metadata": {},
     "output_type": "display_data"
    },
    {
     "data": {
      "image/png": "[encoded data removed]",
      "text/plain": [
       "<Figure size 432x288 with 1 Axes>"
      ]
     },
     "metadata": {},
     "output_type": "display_data"
    }
   ],
   "source": [
    "xtrain_scaled = pd.DataFrame(scaler.fit_transform(x_train), columns=x_train.columns)\n",
    "xtrain_scaled_desc=xtrain_scaled.describe().T\n",
    "#xtrain_scaled_desc['std'].value_counts().sort_index()\n",
    "\n",
    "sns.histplot(data=xtrain_scaled_desc, x='std',bins=20, kde=True)"
   ]
  }
 ],
 "metadata": {
  "interpreter": {
   "hash": "3aeb15c8c31224d9ef37a76c0046f703a279f439b6efd04fb2681e5f2715bf2f"
  },
  "kernelspec": {
   "display_name": "Python 3.8.8 ('base')",
   "language": "python",
   "name": "python3"
  },
  "language_info": {
   "codemirror_mode": {
    "name": "ipython",
    "version": 3
   },
   "file_extension": ".py",
   "mimetype": "text/x-python",
   "name": "python",
   "nbconvert_exporter": "python",
   "pygments_lexer": "ipython3",
   "version": "3.8.8"
  },
  "orig_nbformat": 4
 },
 "nbformat": 4,
 "nbformat_minor": 2
}
