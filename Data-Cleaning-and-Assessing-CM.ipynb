{
 "cells": [
  {
   "cell_type": "markdown",
   "metadata": {},
   "source": [
    "# CI/CD\n",
    "##### This notebook will use user-defined functions from external .py files placed in the same repos.\n",
    "##### Doing this we can all contribute to the main codes without interupting others."
   ]
  },
  {
   "cell_type": "markdown",
   "metadata": {},
   "source": [
    "##### Below is the link to to guide you on how to call functions from another .py file:\n",
    "##### https://www.geeksforgeeks.org/python-call-function-from-another-file/\n",
    "\n",
    "##### Here is how to define your function:\n",
    "##### https://towardsdatascience.com/how-to-create-user-defined-functions-in-python-e5a529386534\n"
   ]
  },
  {
   "cell_type": "code",
   "execution_count": null,
   "metadata": {},
   "outputs": [],
   "source": [
    "#The following functions need to be defined:\n",
    "\n",
    "df_F = read_n_clean_feature()\n",
    "\n",
    "df_T = read_n_clean_target()\n",
    "\n",
    "x_train, x_test, y_train, y_test = train_test_split(df_F,df_T)\n",
    "\n",
    "x_train = remove_duplicate_col(x_train)\n",
    "\n",
    "x_train = remove_col_with_missing_values(x_train, percentage_of_missing_value)\n",
    "\n",
    "x_train = remove_col_with_small_volatility(x_train, norm_volatility)\n",
    " #the normalizing should be included in this function\n",
    "\n",
    "x_train = feature_selection_Boruta(x_train, ...)\n",
    " #instead of removing cols by Pearson correlation\n",
    " #when should we do this, before or after the other feature selection steps?\n",
    "\n",
    "x_train = imputation_Mean(x_train,...)\n",
    "\n",
    "x_train = imputation_Regression(x_train,...)\n",
    "\n",
    "x_train = imputation_Multiple(x_train,...)\n",
    "\n",
    "x_train = imputation_kNN(x_train, k, ...)\n",
    " #HotDeck is a child of kNN\n",
    " #Professor advised to start with kNN\n",
    "\n",
    "x_train = imputation_MICE(x_train, k, ...)\n",
    " #Professor advised in advance that MICE would not work well with SECOM dataset\n",
    "\n",
    "x_train = replace_outliers(x_train, ...)\n",
    " #when should we do this, before or after imputation?"
   ]
  }
 ],
 "metadata": {
  "language_info": {
   "name": "python"
  },
  "orig_nbformat": 4
 },
 "nbformat": 4,
 "nbformat_minor": 2
}
