{
 "cells": [
  {
   "cell_type": "markdown",
   "metadata": {},
   "source": [
    "Importing relevant Libraries "
   ]
  },
  {
   "cell_type": "code",
   "execution_count": 18,
   "metadata": {},
   "outputs": [],
   "source": [
    "import pandas as pd \n",
    "import matplotlib.pyplot as plt\n",
    "import seaborn as sns\n",
    "import numpy as np\n",
    "from sklearn.preprocessing import MinMaxScaler"
   ]
  },
  {
   "cell_type": "markdown",
   "metadata": {},
   "source": [
    "Read Files, Rename Variables & Merge Data "
   ]
  },
  {
   "cell_type": "code",
   "execution_count": null,
   "metadata": {},
   "outputs": [],
   "source": [
    "#Read & Transfrom secom.data \n",
    "df_secom_data = pd.read_csv('secom.data', delimiter=' ', header=None, na_values=['NaN'])\n",
    "df_secom_data.columns = ['feature'+str(x+1) for x in range(len(df_secom_data.columns))]\n",
    "\n",
    "#Normalization of df_secom_data\n",
    "scaler = MinMaxScaler()\n",
    "df_secom_data = pd.DataFrame(scaler.fit_transform(df_secom_data), columns=df_secom_data.columns)\n",
    "\n",
    "#Read & Transform secom_labels.data \n",
    "df_secom_labels = pd.read_csv('secom_labels.data', delimiter=' ', header=None, na_values=['NaN'])\n",
    "df_secom_labels.columns = ['status', 'timestamp']\n",
    "df_secom_labels['timestamp'] = pd.to_datetime(df_secom_labels['timestamp'],dayfirst=True)\n",
    "df_secom_labels['status'] = np.where(df_secom_labels['status']== -1,'pass','fail')\n",
    "\n",
    "#Concat dataframes vertically\n",
    "df_secom = pd.concat([df_secom_data,df_secom_labels],axis=1)\n",
    "df_secom.head()"
   ]
  },
  {
   "cell_type": "markdown",
   "metadata": {},
   "source": [
    "Explonatory Data Analysis Target Variable"
   ]
  },
  {
   "cell_type": "code",
   "execution_count": 26,
   "metadata": {},
   "outputs": [
    {
     "data": {
      "text/plain": [
       "pass    1463\n",
       "fail     104\n",
       "Name: status, dtype: int64"
      ]
     },
     "execution_count": 26,
     "metadata": {},
     "output_type": "execute_result"
    }
   ],
   "source": [
    "#Frequency Table Absolute  \n",
    "df_secom['status'].value_counts()"
   ]
  },
  {
   "cell_type": "code",
   "execution_count": 27,
   "metadata": {},
   "outputs": [
    {
     "data": {
      "text/plain": [
       "pass    0.933631\n",
       "fail    0.066369\n",
       "Name: status, dtype: float64"
      ]
     },
     "execution_count": 27,
     "metadata": {},
     "output_type": "execute_result"
    }
   ],
   "source": [
    "#Frequency Table Relative \n",
    "df_secom['status'].value_counts(normalize=True)"
   ]
  },
  {
   "cell_type": "code",
   "execution_count": 40,
   "metadata": {},
   "outputs": [
    {
     "data": {
      "text/plain": [
       "Text(0.5, 1.0, 'Frequency Distribution of Target Variable')"
      ]
     },
     "execution_count": 40,
     "metadata": {},
     "output_type": "execute_result"
    },
    {
     "data": {
      "image/png": "[encoded data removed]",
      "text/plain": [
       "<Figure size 432x288 with 1 Axes>"
      ]
     },
     "metadata": {
      "needs_background": "light"
     },
     "output_type": "display_data"
    }
   ],
   "source": [
    "#Bar Plot of Target Variable\n",
    "df_secom['status'].value_counts().plot(kind='bar').set_title('Frequency Distribution of Target Variable')"
   ]
  },
  {
   "cell_type": "markdown",
   "metadata": {},
   "source": [
    "Explanatory Analysis Feature Data "
   ]
  },
  {
   "cell_type": "code",
   "execution_count": 66,
   "metadata": {},
   "outputs": [
    {
     "data": {
      "text/html": [
       "<div>\n",
       "<style scoped>\n",
       "    .dataframe tbody tr th:only-of-type {\n",
       "        vertical-align: middle;\n",
       "    }\n",
       "\n",
       "    .dataframe tbody tr th {\n",
       "        vertical-align: top;\n",
       "    }\n",
       "\n",
       "    .dataframe thead th {\n",
       "        text-align: right;\n",
       "    }\n",
       "</style>\n",
       "<table border=\"1\" class=\"dataframe\">\n",
       "  <thead>\n",
       "    <tr style=\"text-align: right;\">\n",
       "      <th></th>\n",
       "      <th>percent_missing</th>\n",
       "    </tr>\n",
       "  </thead>\n",
       "  <tbody>\n",
       "    <tr>\n",
       "      <th>feature1</th>\n",
       "      <td>0.382897</td>\n",
       "    </tr>\n",
       "    <tr>\n",
       "      <th>feature2</th>\n",
       "      <td>0.446713</td>\n",
       "    </tr>\n",
       "    <tr>\n",
       "      <th>feature3</th>\n",
       "      <td>0.893427</td>\n",
       "    </tr>\n",
       "    <tr>\n",
       "      <th>feature4</th>\n",
       "      <td>0.893427</td>\n",
       "    </tr>\n",
       "    <tr>\n",
       "      <th>feature5</th>\n",
       "      <td>0.893427</td>\n",
       "    </tr>\n",
       "    <tr>\n",
       "      <th>...</th>\n",
       "      <td>...</td>\n",
       "    </tr>\n",
       "    <tr>\n",
       "      <th>feature586</th>\n",
       "      <td>0.063816</td>\n",
       "    </tr>\n",
       "    <tr>\n",
       "      <th>feature587</th>\n",
       "      <td>0.063816</td>\n",
       "    </tr>\n",
       "    <tr>\n",
       "      <th>feature588</th>\n",
       "      <td>0.063816</td>\n",
       "    </tr>\n",
       "    <tr>\n",
       "      <th>feature589</th>\n",
       "      <td>0.063816</td>\n",
       "    </tr>\n",
       "    <tr>\n",
       "      <th>feature590</th>\n",
       "      <td>0.063816</td>\n",
       "    </tr>\n",
       "  </tbody>\n",
       "</table>\n",
       "<p>590 rows × 1 columns</p>\n",
       "</div>"
      ],
      "text/plain": [
       "            percent_missing\n",
       "feature1           0.382897\n",
       "feature2           0.446713\n",
       "feature3           0.893427\n",
       "feature4           0.893427\n",
       "feature5           0.893427\n",
       "...                     ...\n",
       "feature586         0.063816\n",
       "feature587         0.063816\n",
       "feature588         0.063816\n",
       "feature589         0.063816\n",
       "feature590         0.063816\n",
       "\n",
       "[590 rows x 1 columns]"
      ]
     },
     "execution_count": 66,
     "metadata": {},
     "output_type": "execute_result"
    }
   ],
   "source": [
    "#Missing Values \n",
    "#Creating a Data Frame with percentage of Missing Values in the Feature Data \n",
    "percent_missing = df_secom_data.isnull().sum()*100 / len(df_secom_data)\n",
    "df_na_percent = pd.DataFrame({'percent_missing': percent_missing})\n",
    "df_na_percent"
   ]
  },
  {
   "cell_type": "code",
   "execution_count": 64,
   "metadata": {},
   "outputs": [
    {
     "data": {
      "image/png": "[encoded data removed]",
      "text/plain": [
       "<Figure size 432x288 with 1 Axes>"
      ]
     },
     "metadata": {
      "needs_background": "light"
     },
     "output_type": "display_data"
    }
   ],
   "source": [
    "#histogram of missing Values\n",
    "plt.hist(df_na_percent.percent_missing)\n",
    "plt.show()"
   ]
  },
  {
   "cell_type": "code",
   "execution_count": 44,
   "metadata": {},
   "outputs": [
    {
     "data": {
      "text/html": [
       "<div>\n",
       "<style scoped>\n",
       "    .dataframe tbody tr th:only-of-type {\n",
       "        vertical-align: middle;\n",
       "    }\n",
       "\n",
       "    .dataframe tbody tr th {\n",
       "        vertical-align: top;\n",
       "    }\n",
       "\n",
       "    .dataframe thead th {\n",
       "        text-align: right;\n",
       "    }\n",
       "</style>\n",
       "<table border=\"1\" class=\"dataframe\">\n",
       "  <thead>\n",
       "    <tr style=\"text-align: right;\">\n",
       "      <th></th>\n",
       "      <th>count</th>\n",
       "      <th>mean</th>\n",
       "      <th>std</th>\n",
       "      <th>min</th>\n",
       "      <th>25%</th>\n",
       "      <th>50%</th>\n",
       "      <th>75%</th>\n",
       "      <th>max</th>\n",
       "    </tr>\n",
       "  </thead>\n",
       "  <tbody>\n",
       "    <tr>\n",
       "      <th>feature1</th>\n",
       "      <td>1561.0</td>\n",
       "      <td>0.442356</td>\n",
       "      <td>0.120079</td>\n",
       "      <td>0.0</td>\n",
       "      <td>0.363752</td>\n",
       "      <td>0.437523</td>\n",
       "      <td>0.511181</td>\n",
       "      <td>1.0</td>\n",
       "    </tr>\n",
       "    <tr>\n",
       "      <th>feature2</th>\n",
       "      <td>1560.0</td>\n",
       "      <td>0.490192</td>\n",
       "      <td>0.116924</td>\n",
       "      <td>0.0</td>\n",
       "      <td>0.426788</td>\n",
       "      <td>0.495361</td>\n",
       "      <td>0.552680</td>\n",
       "      <td>1.0</td>\n",
       "    </tr>\n",
       "    <tr>\n",
       "      <th>feature3</th>\n",
       "      <td>1553.0</td>\n",
       "      <td>0.549425</td>\n",
       "      <td>0.115917</td>\n",
       "      <td>0.0</td>\n",
       "      <td>0.472825</td>\n",
       "      <td>0.551465</td>\n",
       "      <td>0.618191</td>\n",
       "      <td>1.0</td>\n",
       "    </tr>\n",
       "    <tr>\n",
       "      <th>feature4</th>\n",
       "      <td>1553.0</td>\n",
       "      <td>0.375871</td>\n",
       "      <td>0.118893</td>\n",
       "      <td>0.0</td>\n",
       "      <td>0.291215</td>\n",
       "      <td>0.345949</td>\n",
       "      <td>0.428319</td>\n",
       "      <td>1.0</td>\n",
       "    </tr>\n",
       "    <tr>\n",
       "      <th>feature5</th>\n",
       "      <td>1553.0</td>\n",
       "      <td>0.003156</td>\n",
       "      <td>0.050595</td>\n",
       "      <td>0.0</td>\n",
       "      <td>0.000302</td>\n",
       "      <td>0.000570</td>\n",
       "      <td>0.000758</td>\n",
       "      <td>1.0</td>\n",
       "    </tr>\n",
       "    <tr>\n",
       "      <th>...</th>\n",
       "      <td>...</td>\n",
       "      <td>...</td>\n",
       "      <td>...</td>\n",
       "      <td>...</td>\n",
       "      <td>...</td>\n",
       "      <td>...</td>\n",
       "      <td>...</td>\n",
       "      <td>...</td>\n",
       "    </tr>\n",
       "    <tr>\n",
       "      <th>feature586</th>\n",
       "      <td>1566.0</td>\n",
       "      <td>0.019064</td>\n",
       "      <td>0.036471</td>\n",
       "      <td>0.0</td>\n",
       "      <td>0.011304</td>\n",
       "      <td>0.015903</td>\n",
       "      <td>0.021382</td>\n",
       "      <td>1.0</td>\n",
       "    </tr>\n",
       "    <tr>\n",
       "      <th>feature587</th>\n",
       "      <td>1566.0</td>\n",
       "      <td>0.320455</td>\n",
       "      <td>0.103243</td>\n",
       "      <td>0.0</td>\n",
       "      <td>0.253342</td>\n",
       "      <td>0.312448</td>\n",
       "      <td>0.371763</td>\n",
       "      <td>1.0</td>\n",
       "    </tr>\n",
       "    <tr>\n",
       "      <th>feature588</th>\n",
       "      <td>1566.0</td>\n",
       "      <td>0.173076</td>\n",
       "      <td>0.114831</td>\n",
       "      <td>0.0</td>\n",
       "      <td>0.096480</td>\n",
       "      <td>0.151239</td>\n",
       "      <td>0.222947</td>\n",
       "      <td>1.0</td>\n",
       "    </tr>\n",
       "    <tr>\n",
       "      <th>feature589</th>\n",
       "      <td>1566.0</td>\n",
       "      <td>0.155193</td>\n",
       "      <td>0.103879</td>\n",
       "      <td>0.0</td>\n",
       "      <td>0.083333</td>\n",
       "      <td>0.130435</td>\n",
       "      <td>0.195652</td>\n",
       "      <td>1.0</td>\n",
       "    </tr>\n",
       "    <tr>\n",
       "      <th>feature590</th>\n",
       "      <td>1566.0</td>\n",
       "      <td>0.135182</td>\n",
       "      <td>0.127345</td>\n",
       "      <td>0.0</td>\n",
       "      <td>0.060177</td>\n",
       "      <td>0.097518</td>\n",
       "      <td>0.155634</td>\n",
       "      <td>1.0</td>\n",
       "    </tr>\n",
       "  </tbody>\n",
       "</table>\n",
       "<p>590 rows × 8 columns</p>\n",
       "</div>"
      ],
      "text/plain": [
       "             count      mean       std  min       25%       50%       75%  max\n",
       "feature1    1561.0  0.442356  0.120079  0.0  0.363752  0.437523  0.511181  1.0\n",
       "feature2    1560.0  0.490192  0.116924  0.0  0.426788  0.495361  0.552680  1.0\n",
       "feature3    1553.0  0.549425  0.115917  0.0  0.472825  0.551465  0.618191  1.0\n",
       "feature4    1553.0  0.375871  0.118893  0.0  0.291215  0.345949  0.428319  1.0\n",
       "feature5    1553.0  0.003156  0.050595  0.0  0.000302  0.000570  0.000758  1.0\n",
       "...            ...       ...       ...  ...       ...       ...       ...  ...\n",
       "feature586  1566.0  0.019064  0.036471  0.0  0.011304  0.015903  0.021382  1.0\n",
       "feature587  1566.0  0.320455  0.103243  0.0  0.253342  0.312448  0.371763  1.0\n",
       "feature588  1566.0  0.173076  0.114831  0.0  0.096480  0.151239  0.222947  1.0\n",
       "feature589  1566.0  0.155193  0.103879  0.0  0.083333  0.130435  0.195652  1.0\n",
       "feature590  1566.0  0.135182  0.127345  0.0  0.060177  0.097518  0.155634  1.0\n",
       "\n",
       "[590 rows x 8 columns]"
      ]
     },
     "execution_count": 44,
     "metadata": {},
     "output_type": "execute_result"
    }
   ],
   "source": [
    "df_eda = df_secom_data.describe().T \n",
    "df_eda "
   ]
  },
  {
   "cell_type": "code",
   "execution_count": 69,
   "metadata": {},
   "outputs": [
    {
     "data": {
      "image/png": "[encoded data removed]",
      "text/plain": [
       "<Figure size 432x288 with 1 Axes>"
      ]
     },
     "metadata": {
      "needs_background": "light"
     },
     "output_type": "display_data"
    }
   ],
   "source": [
    "plt.hist(df_eda['std'])\n",
    "plt.show()"
   ]
  },
  {
   "cell_type": "code",
   "execution_count": 70,
   "metadata": {},
   "outputs": [
    {
     "data": {
      "image/png": "[encoded data removed]",
      "text/plain": [
       "<Figure size 432x288 with 1 Axes>"
      ]
     },
     "metadata": {
      "needs_background": "light"
     },
     "output_type": "display_data"
    }
   ],
   "source": [
    "plt.hist(df_eda['mean'])\n",
    "plt.show()"
   ]
  },
  {
   "cell_type": "code",
   "execution_count": null,
   "metadata": {},
   "outputs": [],
   "source": [
    "df_secom_data.corr"
   ]
  }
 ],
 "metadata": {
  "interpreter": {
   "hash": "54e937a1a1a7761effde09d33d0ff6cf15c35e2d4fe8fd7fa23ead6e4dc49a22"
  },
  "kernelspec": {
   "display_name": "Python 3.9.7 ('base')",
   "language": "python",
   "name": "python3"
  },
  "language_info": {
   "codemirror_mode": {
    "name": "ipython",
    "version": 3
   },
   "file_extension": ".py",
   "mimetype": "text/x-python",
   "name": "python",
   "nbconvert_exporter": "python",
   "pygments_lexer": "ipython3",
   "version": "3.9.7"
  },
  "orig_nbformat": 4
 },
 "nbformat": 4,
 "nbformat_minor": 2
}
