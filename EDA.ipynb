{
  "nbformat": 4,
  "nbformat_minor": 0,
  "metadata": {
    "colab": {
      "name": "EDA.ipynb",
      "provenance": [],
      "authorship_tag": "ABX9TyNojQhUqRCL17hJgo4oOYoc",
      "include_colab_link": true
    },
    "kernelspec": {
      "name": "python3",
      "display_name": "Python 3"
    },
    "language_info": {
      "name": "python"
    }
  },
  "cells": [
    {
      "cell_type": "markdown",
      "metadata": {
        "id": "view-in-github",
        "colab_type": "text"
      },
      "source": [
        "<a href=\"https://colab.research.google.com/github/hinatanvir/Fault-Detection-SECOM/blob/main/EDA.ipynb\" target=\"_parent\"><img src=\"https://colab.research.google.com/assets/colab-badge.svg\" alt=\"Open In Colab\"/></a>"
      ]
    },
    {
      "cell_type": "code",
      "execution_count": 1,
      "metadata": {
        "id": "AkPG29orj30V"
      },
      "outputs": [],
      "source": [
        "import pandas as pd\n",
        "import numpy as np\n",
        "from scipy import stats\n",
        "import matplotlib.pyplot as plt\n",
        "import os "
      ]
    },
    {
      "cell_type": "code",
      "source": [
        "#Function adding value label to each bar \n",
        "def add_value_labels(ax, spacing):\n",
        "    \"\"\"Add labels to the end of each bar in a bar chart.\n",
        "\n",
        "    Arguments:\n",
        "        ax (matplotlib.axes.Axes): The matplotlib object containing the axes\n",
        "            of the plot to annotate.\n",
        "        spacing (int): The distance between the labels and the bars.\n",
        "    \"\"\"\n",
        "\n",
        "    # For each bar: Place a label\n",
        "    for rect in ax.patches:\n",
        "        # Get X and Y placement of label from rect.\n",
        "        y_value = rect.get_height()\n",
        "        x_value = rect.get_x() + rect.get_width() / 2\n",
        "\n",
        "        # Number of points between bar and label. Change to your liking.\n",
        "        space = spacing\n",
        "        # Vertical alignment for positive values\n",
        "        va = 'bottom'\n",
        "\n",
        "        # If value of bar is negative: Place label below bar\n",
        "        if y_value < 0:\n",
        "            # Invert space to place label below\n",
        "            space *= -1\n",
        "            # Vertically align label at top\n",
        "            va = 'top'\n",
        "\n",
        "        # Use Y value as label and format number with one decimal place\n",
        "        label = \"{:.1f}\".format(y_value)\n",
        "\n",
        "        # Create annotation\n",
        "        ax.annotate(\n",
        "            label,                      # Use `label` as label\n",
        "            (x_value, y_value),         # Place label at end of the bar\n",
        "            xytext=(0, space),          # Vertically shift label by `space`\n",
        "            textcoords=\"offset points\", # Interpret `xytext` as offset in points\n",
        "            ha='center',                # Horizontally center label\n",
        "            va=va)                      # Vertically align label differently for\n",
        "                                        # positive and negative values.\n"
      ],
      "metadata": {
        "id": "Iu0HIhO6ouIN"
      },
      "execution_count": 2,
      "outputs": []
    },
    {
      "cell_type": "code",
      "source": [
        "path1='https://raw.githubusercontent.com/hinatanvir/Fault-Detection-SECOM/main/secom.data?token=GHSAT0AAAAAABTMJQPCMEYJ4LIGT2V6TRG2YSS5ZWA'"
      ],
      "metadata": {
        "id": "7ycT7o0qkBkY"
      },
      "execution_count": 3,
      "outputs": []
    },
    {
      "cell_type": "code",
      "source": [
        "data = pd.read_csv(path1,delimiter=' ',header=None)"
      ],
      "metadata": {
        "id": "9iCU1AqJkH1A"
      },
      "execution_count": 4,
      "outputs": []
    },
    {
      "cell_type": "code",
      "source": [
        "path2='https://raw.githubusercontent.com/hinatanvir/Fault-Detection-SECOM/main/secom_labels.data?token=GHSAT0AAAAAABTMJQPCJP4OZMM573LK4Q7UYSS562A'"
      ],
      "metadata": {
        "id": "gzJsFkJAkFP5"
      },
      "execution_count": 5,
      "outputs": []
    },
    {
      "cell_type": "code",
      "source": [
        "label=pd.read_csv(path2,delimiter=' ',header=None)"
      ],
      "metadata": {
        "id": "iREDwoRjkQLy"
      },
      "execution_count": 6,
      "outputs": []
    },
    {
      "cell_type": "code",
      "source": [
        "data.columns = ['feature'+str(x+1) for x in range(len(data.columns))]"
      ],
      "metadata": {
        "id": "YQF-326XkXfN"
      },
      "execution_count": 7,
      "outputs": []
    },
    {
      "cell_type": "code",
      "source": [
        "label.columns=['status','timestamp']"
      ],
      "metadata": {
        "id": "i0oo9EdRlmpN"
      },
      "execution_count": 8,
      "outputs": []
    },
    {
      "cell_type": "code",
      "source": [
        "#converting timestamp to datetime format, dayfirst=True arg ensures days and month dont switch \n",
        "#for dates lesser than 13 \n",
        "label['timestamp']=pd.to_datetime(label['timestamp'],dayfirst=True)"
      ],
      "metadata": {
        "id": "6v9Q5SNxlvQx"
      },
      "execution_count": 9,
      "outputs": []
    },
    {
      "cell_type": "code",
      "source": [
        "#dictionary for EDA\n",
        "result={}"
      ],
      "metadata": {
        "id": "KBXucq43RI6z"
      },
      "execution_count": 10,
      "outputs": []
    },
    {
      "cell_type": "code",
      "source": [
        "for col in data.columns:\n",
        "    mean=data[col].mean()\n",
        "    std= data[col].std()\n",
        "    percent_null= pd.isnull(data[col]).sum()/len(data[col])*100\n",
        "    unique=len(pd.unique(data[col]))\n",
        "    outlier_df3= data[(np.abs(stats.zscore(data[col])) > 3)]\n",
        "    outlier_df2= data[(np.abs(stats.zscore(data[col])) > 2)]\n",
        "    count_3s=len(outlier_df3)\n",
        "    count_2s=len(outlier_df2)\n",
        "    min= data[col].min()\n",
        "    q25=data[col].quantile(0.25)\n",
        "    q50=data[col].quantile(0.5)\n",
        "    q75=data[col].quantile(0.75)\n",
        "    max= data[col].max()\n",
        "    skewness=data[col].skew()\n",
        "    kurtosis=data[col].kurtosis()\n",
        "    list = []\n",
        "    list.append(mean)\n",
        "    list.append(std)\n",
        "    list.append(percent_null)\n",
        "    list.append(unique)\n",
        "    list.append(count_3s)\n",
        "    list.append(count_2s)\n",
        "    list.append(min)\n",
        "    list.append(q25)\n",
        "    list.append(q50)\n",
        "    list.append(q75)\n",
        "    list.append(max)\n",
        "    list.append(skewness)\n",
        "    list.append(kurtosis)\n",
        "    result[col] = list"
      ],
      "metadata": {
        "id": "D85ObgZyrP3a"
      },
      "execution_count": 11,
      "outputs": []
    },
    {
      "cell_type": "code",
      "source": [
        "result1=pd.DataFrame.from_dict(result,orient='index') "
      ],
      "metadata": {
        "id": "tVJ0sVe0FIbV"
      },
      "execution_count": 13,
      "outputs": []
    },
    {
      "cell_type": "code",
      "source": [
        "result1.to_excel('eda.xlsx')"
      ],
      "metadata": {
        "id": "11DrUxGaci8U"
      },
      "execution_count": 28,
      "outputs": []
    },
    {
      "cell_type": "code",
      "source": [
        "result1.columns=['mean','std', 'percent_null', 'unique', 'count_3s', 'count_2s', 'min', 'q25', 'q50', 'q75', 'max','skewness','kurtosis']"
      ],
      "metadata": {
        "id": "oqakX0r9T4PM"
      },
      "execution_count": 14,
      "outputs": []
    },
    {
      "cell_type": "code",
      "source": [
        "result1"
      ],
      "metadata": {
        "id": "PleBHmRBqhF1"
      },
      "execution_count": null,
      "outputs": []
    },
    {
      "cell_type": "code",
      "source": [
        "tranform=result1.copy(deep=True)"
      ],
      "metadata": {
        "id": "VURt5mtat66l"
      },
      "execution_count": 22,
      "outputs": []
    },
    {
      "cell_type": "code",
      "source": [
        "tranform['unique'].value_counts()"
      ],
      "metadata": {
        "id": "mo7Cs-3ob5dc"
      },
      "execution_count": null,
      "outputs": []
    },
    {
      "cell_type": "code",
      "source": [
        "#bins = [0, 25, 50, 75, 100]\n",
        "#labels =[1,2,3,4]\n",
        "#pd.cut(df1['Score'], bins,labels=labels)\n",
        "bins_null=[0,1,5,20,55,75,95]\n",
        "labels_null=['<=1','1-5','5 -20','20-55','55-75','75-95']\n",
        "tranform['null_bin']= pd.cut(tranform['percent_null'], bins_null,labels=labels_null,right=True)"
      ],
      "metadata": {
        "id": "30yz47YjuHuE"
      },
      "execution_count": 18,
      "outputs": []
    },
    {
      "cell_type": "code",
      "source": [
        "bins_unique=[0,2,10,100,500,np.inf] # np.inf for greater than 500\n",
        "labels_unique=['>=2','2-10','10-100','100-500','>500']\n",
        "tranform['unique_bin']= pd.cut(tranform['unique'], bins_unique,labels=labels_unique,right=True)"
      ],
      "metadata": {
        "id": "BAlqmnn1deo1"
      },
      "execution_count": 29,
      "outputs": []
    },
    {
      "cell_type": "code",
      "source": [
        "bins_3s=[0,1,11,31,51,71] \n",
        "labels_3s=['<1','1-10','11-30','31-50','51-70']\n",
        "tranform['3s_bin']= pd.cut(tranform['count_3s'], bins_3s,labels=labels_3s,right=False)"
      ],
      "metadata": {
        "id": "yEX-_1qBiZUq"
      },
      "execution_count": 45,
      "outputs": []
    },
    {
      "cell_type": "code",
      "source": [
        "bins_2s=[0,1,11,31,51,71,np.inf] \n",
        "labels_2s=['<1','1-10','11-30','31-50','51-70','>70']\n",
        "tranform['2s_bin']= pd.cut(tranform['count_2s'], bins_2s,labels=labels_2s,right=False)"
      ],
      "metadata": {
        "id": "6HMfhei5orrw"
      },
      "execution_count": 49,
      "outputs": []
    },
    {
      "cell_type": "code",
      "source": [
        "skew_bin=[-np.inf,-1,0,np.inf]\n",
        "labels_skew=['left_skewed','normal or slightly skewed','right skewed']\n",
        "tranform['skew_bin']= pd.cut(tranform['skewness'], skew_bin,labels=labels_skew,right=False)"
      ],
      "metadata": {
        "id": "7zx8djuErWFm"
      },
      "execution_count": 55,
      "outputs": []
    },
    {
      "cell_type": "code",
      "source": [
        "null_counts= tranform['null_bin'].value_counts().sort_index()# sort_index to sort the left column of rows \n",
        "#pd.crosstab(index=tranform[\"null_bin\"], columns=\"count\")"
      ],
      "metadata": {
        "id": "q_7jfjR3CWoo"
      },
      "execution_count": 19,
      "outputs": []
    },
    {
      "cell_type": "code",
      "source": [
        "unique_counts=tranform['unique_bin'].value_counts().sort_index()"
      ],
      "metadata": {
        "id": "T0jZpjxMeiew"
      },
      "execution_count": 31,
      "outputs": []
    },
    {
      "cell_type": "code",
      "source": [
        "unique_counts"
      ],
      "metadata": {
        "id": "swbsRcIiewol"
      },
      "execution_count": null,
      "outputs": []
    },
    {
      "cell_type": "code",
      "source": [
        "bin3s_count=tranform['3s_bin'].value_counts().sort_index()"
      ],
      "metadata": {
        "id": "eBwmh7JdjiCh"
      },
      "execution_count": 50,
      "outputs": []
    },
    {
      "cell_type": "code",
      "source": [
        "bin2s_count=tranform['2s_bin'].value_counts().sort_index()"
      ],
      "metadata": {
        "id": "tIGKcyGWo9ul"
      },
      "execution_count": 54,
      "outputs": []
    },
    {
      "cell_type": "code",
      "source": [
        "skew_counts=tranform['skew_bin'].value_counts().sort_index()"
      ],
      "metadata": {
        "id": "WcZj3yN1q3ik"
      },
      "execution_count": 59,
      "outputs": []
    },
    {
      "cell_type": "code",
      "source": [
        "skew_counts"
      ],
      "metadata": {
        "colab": {
          "base_uri": "https://localhost:8080/"
        },
        "id": "v4b8laNVt0kl",
        "outputId": "9e08124a-5a9d-437d-ccfd-22ca9ad2baf4"
      },
      "execution_count": 60,
      "outputs": [
        {
          "output_type": "execute_result",
          "data": {
            "text/plain": [
              "left_skewed                   31\n",
              "normal or slightly skewed     50\n",
              "right skewed                 509\n",
              "Name: skew_bin, dtype: int64"
            ]
          },
          "metadata": {},
          "execution_count": 60
        }
      ]
    },
    {
      "cell_type": "code",
      "source": [
        "plt.figure(figsize=(12, 8))\n",
        "# bar Graph for Null value categories \n",
        "ax = null_counts.plot(kind=\"bar\")\n",
        "ax.set_title('Feature Analysis - Null Value Percentage')\n",
        "ax.set_xlabel('Null Percent Bin')\n",
        "ax.set_ylabel('Frequency')\n",
        "ax.set_xticklabels(labels_null,rotation=0)\n",
        "#call function to add labels to null values bar chart\n",
        "add_value_labels(ax,5)\n",
        "plt.show()"
      ],
      "metadata": {
        "colab": {
          "base_uri": "https://localhost:8080/",
          "height": 513
        },
        "id": "kJkHRJc0C_v8",
        "outputId": "0830c94a-8e13-4906-fcaa-5bc3377bb998"
      },
      "execution_count": 20,
      "outputs": [
        {
          "output_type": "display_data",
          "data": {
            "text/plain": [
              "<Figure size 864x576 with 1 Axes>"
            ],
            "image/png": "[encoded data removed]"
          },
          "metadata": {
            "needs_background": "light"
          }
        }
      ]
    },
    {
      "cell_type": "code",
      "source": [
        "plt.figure(figsize=(12, 8))\n",
        "# bar Graph for unique value categories \n",
        "ux = unique_counts.plot(kind=\"bar\")\n",
        "ux.set_title('Feature Analysis - Unique Values')\n",
        "ux.set_xlabel('Unique Bin')\n",
        "ux.set_ylabel('Frequency')\n",
        "ux.set_xticklabels(labels_unique,rotation=0)\n",
        "#call function to add labels to null values bar chart\n",
        "add_value_labels(ux,5)\n",
        "plt.show()"
      ],
      "metadata": {
        "colab": {
          "base_uri": "https://localhost:8080/",
          "height": 513
        },
        "id": "t_wvQ8Rje7QS",
        "outputId": "501e314b-82c6-4711-9a4f-6fe81ce72484"
      },
      "execution_count": 36,
      "outputs": [
        {
          "output_type": "display_data",
          "data": {
            "text/plain": [
              "<Figure size 864x576 with 1 Axes>"
            ],
            "image/png": "[encoded data removed]"
          },
          "metadata": {
            "needs_background": "light"
          }
        }
      ]
    },
    {
      "cell_type": "code",
      "source": [
        "plt.figure(figsize=(12, 8))\n",
        "# bar Graph for unique value categories \n",
        "outx = bin3s_count.plot(kind=\"bar\")\n",
        "outx.set_title('Feature Analysis - Outlier Detection')\n",
        "outx.set_xlabel('Outlier Bin')\n",
        "outx.set_ylabel('Frequency')\n",
        "outx.set_xticklabels(labels_3s,rotation=0)\n",
        "#call function to add labels to null values bar chart\n",
        "add_value_labels(outx,5)\n",
        "plt.show()"
      ],
      "metadata": {
        "colab": {
          "base_uri": "https://localhost:8080/",
          "height": 513
        },
        "id": "Da7DuGxajunT",
        "outputId": "7f885a9c-a118-483a-a497-f23dc34e7ab7"
      },
      "execution_count": 48,
      "outputs": [
        {
          "output_type": "display_data",
          "data": {
            "text/plain": [
              "<Figure size 864x576 with 1 Axes>"
            ],
            "image/png": "[encoded data removed]"
          },
          "metadata": {
            "needs_background": "light"
          }
        }
      ]
    },
    {
      "cell_type": "code",
      "source": [
        "plt.figure(figsize=(12, 8))\n",
        "# bar Graph for unique value categories \n",
        "infx = bin2s_count.plot(kind=\"bar\")\n",
        "infx.set_title('Feature Analysis - Influential Detection')\n",
        "infx.set_xlabel('influential Bin')\n",
        "infx.set_ylabel('Frequency')\n",
        "infx.set_xticklabels(labels_2s,rotation=0)\n",
        "#call function to add labels to null values bar chart\n",
        "add_value_labels(infx,5)\n",
        "plt.show()"
      ],
      "metadata": {
        "colab": {
          "base_uri": "https://localhost:8080/",
          "height": 513
        },
        "id": "b4zYTQ4zpIZV",
        "outputId": "fac35bb6-e78c-4f85-ff1a-ce328985cfb3"
      },
      "execution_count": 53,
      "outputs": [
        {
          "output_type": "display_data",
          "data": {
            "text/plain": [
              "<Figure size 864x576 with 1 Axes>"
            ],
            "image/png": "[encoded data removed]"
          },
          "metadata": {
            "needs_background": "light"
          }
        }
      ]
    },
    {
      "cell_type": "code",
      "source": [
        "plt.figure(figsize=(12, 8))\n",
        "# bar Graph for Null value categories \n",
        "skx = skew_counts.plot(kind=\"bar\")\n",
        "skx.set_title('Feature Analysis - Type of Distribution')\n",
        "#skx.set_xlabel('Distribution Type')\n",
        "skx.set_ylabel('Frequency')\n",
        "skx.set_xticklabels(labels_skew,rotation=0)\n",
        "#call function to add labels to null values bar chart\n",
        "add_value_labels(skx,5)\n",
        "plt.show()"
      ],
      "metadata": {
        "colab": {
          "base_uri": "https://localhost:8080/",
          "height": 500
        },
        "id": "3C5V6Tirt9rv",
        "outputId": "78809bc7-eca4-48a6-ed57-ed6d5aa8f875"
      },
      "execution_count": 63,
      "outputs": [
        {
          "output_type": "display_data",
          "data": {
            "text/plain": [
              "<Figure size 864x576 with 1 Axes>"
            ],
            "image/png": "[encoded data removed]"
          },
          "metadata": {
            "needs_background": "light"
          }
        }
      ]
    },
    {
      "cell_type": "code",
      "source": [
        "plt.savefig(\"Percent_null.png\")"
      ],
      "metadata": {
        "colab": {
          "base_uri": "https://localhost:8080/",
          "height": 34
        },
        "id": "4pemtFQHkYZz",
        "outputId": "e61253d1-9511-4c67-f11e-be1f3700bc42"
      },
      "execution_count": 66,
      "outputs": [
        {
          "output_type": "display_data",
          "data": {
            "text/plain": [
              "<Figure size 432x288 with 0 Axes>"
            ]
          },
          "metadata": {}
        }
      ]
    },
    {
      "cell_type": "code",
      "source": [
        "#result1[result1['count_3s'] > 0] # 52 features with outliers\n",
        "#result1[result1['unique'] < 4] # 122 , 116 features only 2 unique values\n",
        "#len(result1[result1['percent_null'] > 55]) # 24 features with null values greater than 55%"
      ],
      "metadata": {
        "id": "No_HDNgyVS07"
      },
      "execution_count": null,
      "outputs": []
    },
    {
      "cell_type": "code",
      "source": [
        "desc=data.describe()"
      ],
      "metadata": {
        "id": "bgzO4G31Oy8H"
      },
      "execution_count": null,
      "outputs": []
    },
    {
      "cell_type": "code",
      "source": [
        "desc"
      ],
      "metadata": {
        "colab": {
          "base_uri": "https://localhost:8080/",
          "height": 393
        },
        "id": "bHLmRM9tPOXu",
        "outputId": "e0e63b2c-c468-4a24-ac49-1901928ed3fc"
      },
      "execution_count": null,
      "outputs": [
        {
          "output_type": "execute_result",
          "data": {
            "text/plain": [
              "          feature1     feature2     feature3     feature4     feature5  \\\n",
              "count  1561.000000  1560.000000  1553.000000  1553.000000  1553.000000   \n",
              "mean   3014.452896  2495.850231  2200.547318  1396.376627     4.197013   \n",
              "std      73.621787    80.407705    29.513152   441.691640    56.355540   \n",
              "min    2743.240000  2158.750000  2060.660000     0.000000     0.681500   \n",
              "25%    2966.260000  2452.247500  2181.044400  1081.875800     1.017700   \n",
              "50%    3011.490000  2499.405000  2201.066700  1285.214400     1.316800   \n",
              "75%    3056.650000  2538.822500  2218.055500  1591.223500     1.525700   \n",
              "max    3356.350000  2846.440000  2315.266700  3715.041700  1114.536600   \n",
              "\n",
              "       feature6     feature7     feature8     feature9    feature10  ...  \\\n",
              "count    1553.0  1553.000000  1558.000000  1565.000000  1565.000000  ...   \n",
              "mean      100.0   101.112908     0.121822     1.462862    -0.000841  ...   \n",
              "std         0.0     6.237214     0.008961     0.073897     0.015116  ...   \n",
              "min       100.0    82.131100     0.000000     1.191000    -0.053400  ...   \n",
              "25%       100.0    97.920000     0.121100     1.411200    -0.010800  ...   \n",
              "50%       100.0   101.512200     0.122400     1.461600    -0.001300  ...   \n",
              "75%       100.0   104.586700     0.123800     1.516900     0.008400  ...   \n",
              "max       100.0   129.252200     0.128600     1.656400     0.074900  ...   \n",
              "\n",
              "       feature581  feature582   feature583   feature584   feature585  \\\n",
              "count  618.000000  618.000000  1566.000000  1566.000000  1566.000000   \n",
              "mean     0.005396   97.934373     0.500096     0.015318     0.003847   \n",
              "std      0.003116   87.520966     0.003404     0.017180     0.003720   \n",
              "min      0.001000    0.000000     0.477800     0.006000     0.001700   \n",
              "25%      0.003400   46.184900     0.497900     0.011600     0.003100   \n",
              "50%      0.004700   72.288900     0.500200     0.013800     0.003600   \n",
              "75%      0.006475  116.539150     0.502375     0.016500     0.004100   \n",
              "max      0.028600  737.304800     0.509800     0.476600     0.104500   \n",
              "\n",
              "        feature586   feature587   feature588   feature589   feature590  \n",
              "count  1566.000000  1566.000000  1566.000000  1566.000000  1566.000000  \n",
              "mean      3.067826     0.021458     0.016475     0.005283    99.670066  \n",
              "std       3.578033     0.012358     0.008808     0.002867    93.891919  \n",
              "min       1.197500    -0.016900     0.003200     0.001000     0.000000  \n",
              "25%       2.306500     0.013425     0.010600     0.003300    44.368600  \n",
              "50%       2.757650     0.020500     0.014800     0.004600    71.900500  \n",
              "75%       3.295175     0.027600     0.020300     0.006400   114.749700  \n",
              "max      99.303200     0.102800     0.079900     0.028600   737.304800  \n",
              "\n",
              "[8 rows x 590 columns]"
            ],
            "text/html": [
              "\n",
              "  <div id=\"df-81e4c248-f16d-4a70-97a5-9db7fe930c42\">\n",
              "    <div class=\"colab-df-container\">\n",
              "      <div>\n",
              "<style scoped>\n",
              "    .dataframe tbody tr th:only-of-type {\n",
              "        vertical-align: middle;\n",
              "    }\n",
              "\n",
              "    .dataframe tbody tr th {\n",
              "        vertical-align: top;\n",
              "    }\n",
              "\n",
              "    .dataframe thead th {\n",
              "        text-align: right;\n",
              "    }\n",
              "</style>\n",
              "<table border=\"1\" class=\"dataframe\">\n",
              "  <thead>\n",
              "    <tr style=\"text-align: right;\">\n",
              "      <th></th>\n",
              "      <th>feature1</th>\n",
              "      <th>feature2</th>\n",
              "      <th>feature3</th>\n",
              "      <th>feature4</th>\n",
              "      <th>feature5</th>\n",
              "      <th>feature6</th>\n",
              "      <th>feature7</th>\n",
              "      <th>feature8</th>\n",
              "      <th>feature9</th>\n",
              "      <th>feature10</th>\n",
              "      <th>...</th>\n",
              "      <th>feature581</th>\n",
              "      <th>feature582</th>\n",
              "      <th>feature583</th>\n",
              "      <th>feature584</th>\n",
              "      <th>feature585</th>\n",
              "      <th>feature586</th>\n",
              "      <th>feature587</th>\n",
              "      <th>feature588</th>\n",
              "      <th>feature589</th>\n",
              "      <th>feature590</th>\n",
              "    </tr>\n",
              "  </thead>\n",
              "  <tbody>\n",
              "    <tr>\n",
              "      <th>count</th>\n",
              "      <td>1561.000000</td>\n",
              "      <td>1560.000000</td>\n",
              "      <td>1553.000000</td>\n",
              "      <td>1553.000000</td>\n",
              "      <td>1553.000000</td>\n",
              "      <td>1553.0</td>\n",
              "      <td>1553.000000</td>\n",
              "      <td>1558.000000</td>\n",
              "      <td>1565.000000</td>\n",
              "      <td>1565.000000</td>\n",
              "      <td>...</td>\n",
              "      <td>618.000000</td>\n",
              "      <td>618.000000</td>\n",
              "      <td>1566.000000</td>\n",
              "      <td>1566.000000</td>\n",
              "      <td>1566.000000</td>\n",
              "      <td>1566.000000</td>\n",
              "      <td>1566.000000</td>\n",
              "      <td>1566.000000</td>\n",
              "      <td>1566.000000</td>\n",
              "      <td>1566.000000</td>\n",
              "    </tr>\n",
              "    <tr>\n",
              "      <th>mean</th>\n",
              "      <td>3014.452896</td>\n",
              "      <td>2495.850231</td>\n",
              "      <td>2200.547318</td>\n",
              "      <td>1396.376627</td>\n",
              "      <td>4.197013</td>\n",
              "      <td>100.0</td>\n",
              "      <td>101.112908</td>\n",
              "      <td>0.121822</td>\n",
              "      <td>1.462862</td>\n",
              "      <td>-0.000841</td>\n",
              "      <td>...</td>\n",
              "      <td>0.005396</td>\n",
              "      <td>97.934373</td>\n",
              "      <td>0.500096</td>\n",
              "      <td>0.015318</td>\n",
              "      <td>0.003847</td>\n",
              "      <td>3.067826</td>\n",
              "      <td>0.021458</td>\n",
              "      <td>0.016475</td>\n",
              "      <td>0.005283</td>\n",
              "      <td>99.670066</td>\n",
              "    </tr>\n",
              "    <tr>\n",
              "      <th>std</th>\n",
              "      <td>73.621787</td>\n",
              "      <td>80.407705</td>\n",
              "      <td>29.513152</td>\n",
              "      <td>441.691640</td>\n",
              "      <td>56.355540</td>\n",
              "      <td>0.0</td>\n",
              "      <td>6.237214</td>\n",
              "      <td>0.008961</td>\n",
              "      <td>0.073897</td>\n",
              "      <td>0.015116</td>\n",
              "      <td>...</td>\n",
              "      <td>0.003116</td>\n",
              "      <td>87.520966</td>\n",
              "      <td>0.003404</td>\n",
              "      <td>0.017180</td>\n",
              "      <td>0.003720</td>\n",
              "      <td>3.578033</td>\n",
              "      <td>0.012358</td>\n",
              "      <td>0.008808</td>\n",
              "      <td>0.002867</td>\n",
              "      <td>93.891919</td>\n",
              "    </tr>\n",
              "    <tr>\n",
              "      <th>min</th>\n",
              "      <td>2743.240000</td>\n",
              "      <td>2158.750000</td>\n",
              "      <td>2060.660000</td>\n",
              "      <td>0.000000</td>\n",
              "      <td>0.681500</td>\n",
              "      <td>100.0</td>\n",
              "      <td>82.131100</td>\n",
              "      <td>0.000000</td>\n",
              "      <td>1.191000</td>\n",
              "      <td>-0.053400</td>\n",
              "      <td>...</td>\n",
              "      <td>0.001000</td>\n",
              "      <td>0.000000</td>\n",
              "      <td>0.477800</td>\n",
              "      <td>0.006000</td>\n",
              "      <td>0.001700</td>\n",
              "      <td>1.197500</td>\n",
              "      <td>-0.016900</td>\n",
              "      <td>0.003200</td>\n",
              "      <td>0.001000</td>\n",
              "      <td>0.000000</td>\n",
              "    </tr>\n",
              "    <tr>\n",
              "      <th>25%</th>\n",
              "      <td>2966.260000</td>\n",
              "      <td>2452.247500</td>\n",
              "      <td>2181.044400</td>\n",
              "      <td>1081.875800</td>\n",
              "      <td>1.017700</td>\n",
              "      <td>100.0</td>\n",
              "      <td>97.920000</td>\n",
              "      <td>0.121100</td>\n",
              "      <td>1.411200</td>\n",
              "      <td>-0.010800</td>\n",
              "      <td>...</td>\n",
              "      <td>0.003400</td>\n",
              "      <td>46.184900</td>\n",
              "      <td>0.497900</td>\n",
              "      <td>0.011600</td>\n",
              "      <td>0.003100</td>\n",
              "      <td>2.306500</td>\n",
              "      <td>0.013425</td>\n",
              "      <td>0.010600</td>\n",
              "      <td>0.003300</td>\n",
              "      <td>44.368600</td>\n",
              "    </tr>\n",
              "    <tr>\n",
              "      <th>50%</th>\n",
              "      <td>3011.490000</td>\n",
              "      <td>2499.405000</td>\n",
              "      <td>2201.066700</td>\n",
              "      <td>1285.214400</td>\n",
              "      <td>1.316800</td>\n",
              "      <td>100.0</td>\n",
              "      <td>101.512200</td>\n",
              "      <td>0.122400</td>\n",
              "      <td>1.461600</td>\n",
              "      <td>-0.001300</td>\n",
              "      <td>...</td>\n",
              "      <td>0.004700</td>\n",
              "      <td>72.288900</td>\n",
              "      <td>0.500200</td>\n",
              "      <td>0.013800</td>\n",
              "      <td>0.003600</td>\n",
              "      <td>2.757650</td>\n",
              "      <td>0.020500</td>\n",
              "      <td>0.014800</td>\n",
              "      <td>0.004600</td>\n",
              "      <td>71.900500</td>\n",
              "    </tr>\n",
              "    <tr>\n",
              "      <th>75%</th>\n",
              "      <td>3056.650000</td>\n",
              "      <td>2538.822500</td>\n",
              "      <td>2218.055500</td>\n",
              "      <td>1591.223500</td>\n",
              "      <td>1.525700</td>\n",
              "      <td>100.0</td>\n",
              "      <td>104.586700</td>\n",
              "      <td>0.123800</td>\n",
              "      <td>1.516900</td>\n",
              "      <td>0.008400</td>\n",
              "      <td>...</td>\n",
              "      <td>0.006475</td>\n",
              "      <td>116.539150</td>\n",
              "      <td>0.502375</td>\n",
              "      <td>0.016500</td>\n",
              "      <td>0.004100</td>\n",
              "      <td>3.295175</td>\n",
              "      <td>0.027600</td>\n",
              "      <td>0.020300</td>\n",
              "      <td>0.006400</td>\n",
              "      <td>114.749700</td>\n",
              "    </tr>\n",
              "    <tr>\n",
              "      <th>max</th>\n",
              "      <td>3356.350000</td>\n",
              "      <td>2846.440000</td>\n",
              "      <td>2315.266700</td>\n",
              "      <td>3715.041700</td>\n",
              "      <td>1114.536600</td>\n",
              "      <td>100.0</td>\n",
              "      <td>129.252200</td>\n",
              "      <td>0.128600</td>\n",
              "      <td>1.656400</td>\n",
              "      <td>0.074900</td>\n",
              "      <td>...</td>\n",
              "      <td>0.028600</td>\n",
              "      <td>737.304800</td>\n",
              "      <td>0.509800</td>\n",
              "      <td>0.476600</td>\n",
              "      <td>0.104500</td>\n",
              "      <td>99.303200</td>\n",
              "      <td>0.102800</td>\n",
              "      <td>0.079900</td>\n",
              "      <td>0.028600</td>\n",
              "      <td>737.304800</td>\n",
              "    </tr>\n",
              "  </tbody>\n",
              "</table>\n",
              "<p>8 rows × 590 columns</p>\n",
              "</div>\n",
              "      <button class=\"colab-df-convert\" onclick=\"convertToInteractive('df-81e4c248-f16d-4a70-97a5-9db7fe930c42')\"\n",
              "              title=\"Convert this dataframe to an interactive table.\"\n",
              "              style=\"display:none;\">\n",
              "        \n",
              "  <svg xmlns=\"http://www.w3.org/2000/svg\" height=\"24px\"viewBox=\"0 0 24 24\"\n",
              "       width=\"24px\">\n",
              "    <path d=\"M0 0h24v24H0V0z\" fill=\"none\"/>\n",
              "    <path d=\"M18.56 5.44l.94 2.06.94-2.06 2.06-.94-2.06-.94-.94-2.06-.94 2.06-2.06.94zm-11 1L8.5 8.5l.94-2.06 2.06-.94-2.06-.94L8.5 2.5l-.94 2.06-2.06.94zm10 10l.94 2.06.94-2.06 2.06-.94-2.06-.94-.94-2.06-.94 2.06-2.06.94z\"/><path d=\"M17.41 7.96l-1.37-1.37c-.4-.4-.92-.59-1.43-.59-.52 0-1.04.2-1.43.59L10.3 9.45l-7.72 7.72c-.78.78-.78 2.05 0 2.83L4 21.41c.39.39.9.59 1.41.59.51 0 1.02-.2 1.41-.59l7.78-7.78 2.81-2.81c.8-.78.8-2.07 0-2.86zM5.41 20L4 18.59l7.72-7.72 1.47 1.35L5.41 20z\"/>\n",
              "  </svg>\n",
              "      </button>\n",
              "      \n",
              "  <style>\n",
              "    .colab-df-container {\n",
              "      display:flex;\n",
              "      flex-wrap:wrap;\n",
              "      gap: 12px;\n",
              "    }\n",
              "\n",
              "    .colab-df-convert {\n",
              "      background-color: #E8F0FE;\n",
              "      border: none;\n",
              "      border-radius: 50%;\n",
              "      cursor: pointer;\n",
              "      display: none;\n",
              "      fill: #1967D2;\n",
              "      height: 32px;\n",
              "      padding: 0 0 0 0;\n",
              "      width: 32px;\n",
              "    }\n",
              "\n",
              "    .colab-df-convert:hover {\n",
              "      background-color: #E2EBFA;\n",
              "      box-shadow: 0px 1px 2px rgba(60, 64, 67, 0.3), 0px 1px 3px 1px rgba(60, 64, 67, 0.15);\n",
              "      fill: #174EA6;\n",
              "    }\n",
              "\n",
              "    [theme=dark] .colab-df-convert {\n",
              "      background-color: #3B4455;\n",
              "      fill: #D2E3FC;\n",
              "    }\n",
              "\n",
              "    [theme=dark] .colab-df-convert:hover {\n",
              "      background-color: #434B5C;\n",
              "      box-shadow: 0px 1px 3px 1px rgba(0, 0, 0, 0.15);\n",
              "      filter: drop-shadow(0px 1px 2px rgba(0, 0, 0, 0.3));\n",
              "      fill: #FFFFFF;\n",
              "    }\n",
              "  </style>\n",
              "\n",
              "      <script>\n",
              "        const buttonEl =\n",
              "          document.querySelector('#df-81e4c248-f16d-4a70-97a5-9db7fe930c42 button.colab-df-convert');\n",
              "        buttonEl.style.display =\n",
              "          google.colab.kernel.accessAllowed ? 'block' : 'none';\n",
              "\n",
              "        async function convertToInteractive(key) {\n",
              "          const element = document.querySelector('#df-81e4c248-f16d-4a70-97a5-9db7fe930c42');\n",
              "          const dataTable =\n",
              "            await google.colab.kernel.invokeFunction('convertToInteractive',\n",
              "                                                     [key], {});\n",
              "          if (!dataTable) return;\n",
              "\n",
              "          const docLinkHtml = 'Like what you see? Visit the ' +\n",
              "            '<a target=\"_blank\" href=https://colab.research.google.com/notebooks/data_table.ipynb>data table notebook</a>'\n",
              "            + ' to learn more about interactive tables.';\n",
              "          element.innerHTML = '';\n",
              "          dataTable['output_type'] = 'display_data';\n",
              "          await google.colab.output.renderOutput(dataTable, element);\n",
              "          const docLink = document.createElement('div');\n",
              "          docLink.innerHTML = docLinkHtml;\n",
              "          element.appendChild(docLink);\n",
              "        }\n",
              "      </script>\n",
              "    </div>\n",
              "  </div>\n",
              "  "
            ]
          },
          "metadata": {},
          "execution_count": 12
        }
      ]
    },
    {
      "cell_type": "code",
      "source": [
        "#see distribtion of all the features \n",
        "data.hist()"
      ],
      "metadata": {
        "id": "Dg5VlVWVbcse"
      },
      "execution_count": null,
      "outputs": []
    }
  ]
}