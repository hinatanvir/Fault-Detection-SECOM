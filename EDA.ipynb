{
  "nbformat": 4,
  "nbformat_minor": 0,
  "metadata": {
    "colab": {
      "name": "EDA.ipynb",
      "provenance": [],
      "authorship_tag": "ABX9TyMOXpNY19gXJdT/AJ4x6hMH",
      "include_colab_link": true
    },
    "kernelspec": {
      "name": "python3",
      "display_name": "Python 3"
    },
    "language_info": {
      "name": "python"
    }
  },
  "cells": [
    {
      "cell_type": "markdown",
      "metadata": {
        "id": "view-in-github",
        "colab_type": "text"
      },
      "source": [
        "<a href=\"https://colab.research.google.com/github/hinatanvir/Fault-Detection-SECOM/blob/main/EDA.ipynb\" target=\"_parent\"><img src=\"https://colab.research.google.com/assets/colab-badge.svg\" alt=\"Open In Colab\"/></a>"
      ]
    },
    {
      "cell_type": "code",
      "execution_count": 1,
      "metadata": {
        "id": "AkPG29orj30V"
      },
      "outputs": [],
      "source": [
        "import pandas as pd\n",
        "import numpy as np\n",
        "from scipy import stats\n",
        "from scipy.stats import normaltest\n",
        "import os \n",
        "# libraries for plots \n",
        "import matplotlib.pyplot as plt\n",
        "import seaborn as sns\n",
        "#Libraries for model\n",
        "from sklearn.model_selection import train_test_split\n",
        "from sklearn.preprocessing import MinMaxScaler\n"
      ]
    },
    {
      "cell_type": "code",
      "source": [
        "#Function adding value label to each bar \n",
        "def add_value_labels(ax, spacing):\n",
        "    \"\"\"Add labels to the end of each bar in a bar chart.\n",
        "\n",
        "    Arguments:\n",
        "        ax (matplotlib.axes.Axes): The matplotlib object containing the axes\n",
        "            of the plot to annotate.\n",
        "        spacing (int): The distance between the labels and the bars.\n",
        "    \"\"\"\n",
        "\n",
        "    # For each bar: Place a label\n",
        "    for rect in ax.patches:\n",
        "        # Get X and Y placement of label from rect.\n",
        "        y_value = rect.get_height()\n",
        "        x_value = rect.get_x() + rect.get_width() / 2\n",
        "\n",
        "        # Number of points between bar and label. Change to your liking.\n",
        "        space = spacing\n",
        "        # Vertical alignment for positive values\n",
        "        va = 'bottom'\n",
        "\n",
        "        # If value of bar is negative: Place label below bar\n",
        "        if y_value < 0:\n",
        "            # Invert space to place label below\n",
        "            space *= -1\n",
        "            # Vertically align label at top\n",
        "            va = 'top'\n",
        "\n",
        "        # Use Y value as label and format number with one decimal place\n",
        "        label = \"{:.1f}\".format(y_value)\n",
        "\n",
        "        # Create annotation\n",
        "        ax.annotate(\n",
        "            label,                      # Use `label` as label\n",
        "            (x_value, y_value),         # Place label at end of the bar\n",
        "            xytext=(0, space),          # Vertically shift label by `space`\n",
        "            textcoords=\"offset points\", # Interpret `xytext` as offset in points\n",
        "            ha='center',                # Horizontally center label\n",
        "            va=va)                      # Vertically align label differently for\n",
        "                                        # positive and negative values.\n"
      ],
      "metadata": {
        "id": "Iu0HIhO6ouIN"
      },
      "execution_count": 2,
      "outputs": []
    },
    {
      "cell_type": "code",
      "source": [
        "path1='https://raw.githubusercontent.com/hinatanvir/Fault-Detection-SECOM/main/secom.data?token=GHSAT0AAAAAABTMJQPCMEYJ4LIGT2V6TRG2YSS5ZWA'"
      ],
      "metadata": {
        "id": "7ycT7o0qkBkY"
      },
      "execution_count": 3,
      "outputs": []
    },
    {
      "cell_type": "code",
      "source": [
        "data = pd.read_csv(path1,delimiter=' ',header=None)"
      ],
      "metadata": {
        "id": "9iCU1AqJkH1A"
      },
      "execution_count": 4,
      "outputs": []
    },
    {
      "cell_type": "code",
      "source": [
        "path2='https://raw.githubusercontent.com/hinatanvir/Fault-Detection-SECOM/main/secom_labels.data?token=GHSAT0AAAAAABTMJQPCJP4OZMM573LK4Q7UYSS562A'"
      ],
      "metadata": {
        "id": "gzJsFkJAkFP5"
      },
      "execution_count": 5,
      "outputs": []
    },
    {
      "cell_type": "code",
      "source": [
        "label=pd.read_csv(path2,delimiter=' ',header=None)"
      ],
      "metadata": {
        "id": "iREDwoRjkQLy"
      },
      "execution_count": 6,
      "outputs": []
    },
    {
      "cell_type": "code",
      "source": [
        "data.columns = ['feature'+str(x+1) for x in range(len(data.columns))]"
      ],
      "metadata": {
        "id": "YQF-326XkXfN"
      },
      "execution_count": 7,
      "outputs": []
    },
    {
      "cell_type": "code",
      "source": [
        "label.columns=['status','timestamp']"
      ],
      "metadata": {
        "id": "i0oo9EdRlmpN"
      },
      "execution_count": 8,
      "outputs": []
    },
    {
      "cell_type": "code",
      "source": [
        "#converting timestamp to datetime format, dayfirst=True arg ensures days and month dont switch \n",
        "#for dates lesser than 13 \n",
        "label['timestamp']=pd.to_datetime(label['timestamp'],dayfirst=True)"
      ],
      "metadata": {
        "id": "6v9Q5SNxlvQx"
      },
      "execution_count": 9,
      "outputs": []
    },
    {
      "cell_type": "code",
      "source": [
        "# merge the data \n",
        "merge_data= pd.concat([data,label],axis=1)"
      ],
      "metadata": {
        "id": "nZp-RnPUXFlL"
      },
      "execution_count": 10,
      "outputs": []
    },
    {
      "cell_type": "code",
      "source": [
        "merge_data.iloc[:,:590]"
      ],
      "metadata": {
        "id": "p9v5tElrZaah"
      },
      "execution_count": null,
      "outputs": []
    },
    {
      "cell_type": "code",
      "source": [
        "def eda(df,output):\n",
        "    #output={}\n",
        "    for col in df.columns:\n",
        "        mean=df[col].mean()\n",
        "        std= df[col].std()\n",
        "        percent_null= pd.isnull(df[col]).sum()/len(df[col])*100\n",
        "        unique=len(pd.unique(df[col]))\n",
        "        outlier_df3= df[(np.abs(stats.zscore(df[col])) > 3)]\n",
        "        outlier_df2= df[(np.abs(stats.zscore(df[col])) > 2)]\n",
        "        count_3s=len(outlier_df3)\n",
        "        count_2s=len(outlier_df2)-len(outlier_df3)\n",
        "        min= df[col].min()\n",
        "        q25=df[col].quantile(0.25)\n",
        "        q50=df[col].quantile(0.5)\n",
        "        q75=df[col].quantile(0.75)\n",
        "        max= df[col].max()\n",
        "        skewness=df[col].skew()\n",
        "        kurtosis=df[col].kurtosis()\n",
        "        list = []\n",
        "        list.append(mean)\n",
        "        list.append(std)\n",
        "        list.append(percent_null)\n",
        "        list.append(unique)\n",
        "        list.append(count_3s)\n",
        "        list.append(count_2s)\n",
        "        list.append(min)\n",
        "        list.append(q25)\n",
        "        list.append(q50)\n",
        "        list.append(q75)\n",
        "        list.append(max)\n",
        "        list.append(skewness)\n",
        "        list.append(kurtosis)\n",
        "        output[col] = list\n",
        "    return output;"
      ],
      "metadata": {
        "id": "i7Tj6wUMdUmk"
      },
      "execution_count": 15,
      "outputs": []
    },
    {
      "cell_type": "code",
      "source": [
        "#dictionary for EDA\n",
        "result={}\n",
        "result=eda(data,result)"
      ],
      "metadata": {
        "id": "KBXucq43RI6z"
      },
      "execution_count": 16,
      "outputs": []
    },
    {
      "cell_type": "code",
      "source": [
        "result1=pd.DataFrame.from_dict(result,orient='index') "
      ],
      "metadata": {
        "id": "tVJ0sVe0FIbV"
      },
      "execution_count": 17,
      "outputs": []
    },
    {
      "cell_type": "code",
      "source": [
        "result1.columns=['mean','std', 'percent_null', 'unique', 'count_3s', 'count_2s', 'min', 'q25', 'q50', 'q75', 'max','skewness','kurtosis']"
      ],
      "metadata": {
        "id": "oqakX0r9T4PM"
      },
      "execution_count": 18,
      "outputs": []
    },
    {
      "cell_type": "markdown",
      "source": [
        "Proceeding with analysis on merged data"
      ],
      "metadata": {
        "id": "qGYvRh4miBBz"
      }
    },
    {
      "cell_type": "code",
      "source": [
        "#frequency count of target variable before splitting# \n",
        "pass_fail = merge_data['status'].unique()  # -1,1"
      ],
      "metadata": {
        "id": "7wKeiosAWShf"
      },
      "execution_count": 19,
      "outputs": []
    },
    {
      "cell_type": "code",
      "source": [
        "clrs = ['red' if (x == 1) else 'green' for x in merge_data['status'] ]\n",
        "merge_data['status'].value_counts().plot(kind = 'bar', color=clrs)# 1463 pass , 104 fail"
      ],
      "metadata": {
        "colab": {
          "base_uri": "https://localhost:8080/",
          "height": 282
        },
        "id": "UIUtIpVhZ_kY",
        "outputId": "9d760117-8f20-4ca4-c9df-2b7211cd9efd"
      },
      "execution_count": 79,
      "outputs": [
        {
          "output_type": "execute_result",
          "data": {
            "text/plain": [
              "<matplotlib.axes._subplots.AxesSubplot at 0x7f8eb64d09d0>"
            ]
          },
          "metadata": {},
          "execution_count": 79
        },
        {
          "output_type": "display_data",
          "data": {
            "text/plain": [
              "<Figure size 432x288 with 1 Axes>"
            ],
            "image/png": "[encoded data removed]"
          },
          "metadata": {
            "needs_background": "light"
          }
        }
      ]
    },
    {
      "cell_type": "code",
      "source": [
        "merge_data[merge_data.status==-1]['index']"
      ],
      "metadata": {
        "colab": {
          "base_uri": "https://localhost:8080/"
        },
        "id": "QHXese3ZsWfC",
        "outputId": "af3575e9-c6d4-4e5f-b666-448441ad2482"
      },
      "execution_count": 88,
      "outputs": [
        {
          "output_type": "execute_result",
          "data": {
            "text/plain": [
              "0          0\n",
              "1          1\n",
              "3          3\n",
              "4          4\n",
              "5          5\n",
              "        ... \n",
              "1562    1562\n",
              "1563    1563\n",
              "1564    1564\n",
              "1565    1565\n",
              "1566    1566\n",
              "Name: index, Length: 1463, dtype: int64"
            ]
          },
          "metadata": {},
          "execution_count": 88
        }
      ]
    },
    {
      "cell_type": "code",
      "source": [
        "merge_data['index']=merge_data.index\n",
        "sns.histplot( merge_data['status'] == -1]['index'], color = 'g');\n",
        "sns.histplot( merge_data[merge_data.status == 1]['index'], color = 'r');"
      ],
      "metadata": {
        "colab": {
          "base_uri": "https://localhost:8080/",
          "height": 279
        },
        "id": "jH03ogwNGGmW",
        "outputId": "e5ba4038-9a48-4bbc-f60e-b027d922c902"
      },
      "execution_count": 74,
      "outputs": [
        {
          "output_type": "display_data",
          "data": {
            "text/plain": [
              "<Figure size 432x288 with 1 Axes>"
            ],
            "image/png": "[encoded data removed]"
          },
          "metadata": {
            "needs_background": "light"
          }
        }
      ]
    },
    {
      "cell_type": "code",
      "source": [
        "data_pass=merge_data.loc[merge_data['status']== -1]\n",
        "data_fail=merge_data.loc[merge_data['status']== 1]"
      ],
      "metadata": {
        "id": "3k_doKEoTVhj"
      },
      "execution_count": 70,
      "outputs": []
    },
    {
      "cell_type": "code",
      "source": [
        "#plt.scatter(x2,k, label=\"signal\", c = kcolors)\n",
        "sns.histplot(data=data_pass, x=merge_data[merge_data.status == -1]['index'], kde=True,color='green')\n",
        "sns.histplot(data=data_fail, x=merge_data[merge_data.status == 1]['index'], kde=True,color='red')"
      ],
      "metadata": {
        "colab": {
          "base_uri": "https://localhost:8080/",
          "height": 297
        },
        "id": "PjZuShDzVkt1",
        "outputId": "ecea802c-749d-44ca-a53c-55c4c8949d3d"
      },
      "execution_count": 92,
      "outputs": [
        {
          "output_type": "execute_result",
          "data": {
            "text/plain": [
              "<matplotlib.axes._subplots.AxesSubplot at 0x7f8eb4a528d0>"
            ]
          },
          "metadata": {},
          "execution_count": 92
        },
        {
          "output_type": "display_data",
          "data": {
            "text/plain": [
              "<Figure size 432x288 with 1 Axes>"
            ],
            "image/png": "[encoded data removed]"
          },
          "metadata": {
            "needs_background": "light"
          }
        }
      ]
    },
    {
      "cell_type": "code",
      "source": [
        "#sns.histplot( merge_data[merge_data.status == -1]['index'], color = 'g');\n",
        "#sns.histplot( merge_data[merge_data.status == 1]['index'], color = 'r');\n",
        "sns.barplot( data=data_pass, y=merge_data['status'], x=merge_data['index'], color = 'g');\n",
        "sns.histplot( y=merge_data[merge_data.status == 1], x=merge_data['index'], color = 'r');"
      ],
      "metadata": {
        "id": "aeaXyRkiKohl"
      },
      "execution_count": null,
      "outputs": []
    },
    {
      "cell_type": "markdown",
      "source": [
        "Separate Training and test data \n",
        "1. separate the target variable\n",
        "2. make the splits with equal proportion of target varaible in training and test split\n",
        "3. check for frequency counts\n",
        "4. proceed with histograming null values and volatility of training data "
      ],
      "metadata": {
        "id": "uzpa2nR9essB"
      }
    },
    {
      "cell_type": "code",
      "source": [
        "#data set accoring to pass or fail \n",
        "#unique_vals = merge_data['status'].unique()  # [0, 1, 2]\n",
        "#targets = [merge_data.loc[merge_data['status'] == val] for val in unique_vals]"
      ],
      "metadata": {
        "id": "WIanUu92hAsU"
      },
      "execution_count": 37,
      "outputs": []
    },
    {
      "cell_type": "code",
      "source": [
        "merge_data.shape"
      ],
      "metadata": {
        "colab": {
          "base_uri": "https://localhost:8080/"
        },
        "id": "UM31wnlchQrX",
        "outputId": "7417f4dd-5131-4d58-8ca0-83f65f74a325"
      },
      "execution_count": 21,
      "outputs": [
        {
          "output_type": "execute_result",
          "data": {
            "text/plain": [
              "(1567, 592)"
            ]
          },
          "metadata": {},
          "execution_count": 21
        }
      ]
    },
    {
      "cell_type": "code",
      "source": [
        "#separate target variable and remaining data\n",
        "x = merge_data.iloc[:,:590]\n",
        "y = merge_data[\"status\"]"
      ],
      "metadata": {
        "id": "fUfYgcuumjPO"
      },
      "execution_count": 22,
      "outputs": []
    },
    {
      "cell_type": "code",
      "source": [
        "# splitting merge_data into train test and split\n",
        "\n",
        "from sklearn.model_selection import train_test_split\n",
        "\n",
        "x_train, x_test, y_train, y_test = train_test_split(x, y, test_size = 0.2, random_state = 1,stratify=y)# random state = fix the random generator (same data all time)\n",
        "#startify preserves the same proportions of examples in each class as observed in the original dataset- imbalance data ."
      ],
      "metadata": {
        "id": "noFE2tsEoYlx"
      },
      "execution_count": 23,
      "outputs": []
    },
    {
      "cell_type": "code",
      "source": [
        "#frequency count of target varaible in training and test data separately (after splitting)\n",
        "#x_train - 1253.590\n",
        "#x_test - 314.590\n",
        "#y_train.value_counts(normalize=True)\n",
        "y_test.value_counts(normalize=True)"
      ],
      "metadata": {
        "colab": {
          "base_uri": "https://localhost:8080/"
        },
        "id": "39RspaH8WYzu",
        "outputId": "99f04099-283f-4056-fc87-21e7a6841303"
      },
      "execution_count": 24,
      "outputs": [
        {
          "output_type": "execute_result",
          "data": {
            "text/plain": [
              "-1    0.933121\n",
              " 1    0.066879\n",
              "Name: status, dtype: float64"
            ]
          },
          "metadata": {},
          "execution_count": 24
        }
      ]
    },
    {
      "cell_type": "code",
      "source": [
        "##proceeding with only training data \n",
        "#analysis of volatility and null values of training data \n",
        "#xtrain_desc = x_train.describe()\n",
        "xtrain_eda={}\n",
        "xtrain_eda=eda(x_train,xtrain_eda)"
      ],
      "metadata": {
        "colab": {
          "base_uri": "https://localhost:8080/"
        },
        "id": "caJixGjojDfk",
        "outputId": "09cfdb20-c13a-4728-e9ed-c98ae8487245"
      },
      "execution_count": 25,
      "outputs": [
        {
          "output_type": "stream",
          "name": "stderr",
          "text": [
            "/usr/local/lib/python3.7/dist-packages/scipy/stats/stats.py:2419: RuntimeWarning: invalid value encountered in true_divide\n",
            "  return (a - mns) / sstd\n"
          ]
        }
      ]
    },
    {
      "cell_type": "code",
      "source": [
        "xtrain_eda1=pd.DataFrame.from_dict(xtrain_eda,orient='index')"
      ],
      "metadata": {
        "id": "tAi39oSpswfI"
      },
      "execution_count": 26,
      "outputs": []
    },
    {
      "cell_type": "code",
      "source": [
        "xtrain_eda1.columns=['mean','std', 'percent_null', 'unique', 'count_3s', 'count_2s', 'min', 'q25', 'q50', 'q75', 'max','skewness','kurtosis']"
      ],
      "metadata": {
        "id": "e8Hd7H--s9wg"
      },
      "execution_count": 27,
      "outputs": []
    },
    {
      "cell_type": "code",
      "source": [
        "#Percent_null of features before split \n",
        "#sns.histplot(data=result1, x='percent_null',bins=20, kde=True)\n",
        "result1['percent_null'].hist()"
      ],
      "metadata": {
        "colab": {
          "base_uri": "https://localhost:8080/",
          "height": 282
        },
        "id": "XiON8OV-mdNV",
        "outputId": "95aafe48-48c7-4e16-8910-6ed8c669ea8e"
      },
      "execution_count": 28,
      "outputs": [
        {
          "output_type": "execute_result",
          "data": {
            "text/plain": [
              "<matplotlib.axes._subplots.AxesSubplot at 0x7f8ec2f9bc50>"
            ]
          },
          "metadata": {},
          "execution_count": 28
        },
        {
          "output_type": "display_data",
          "data": {
            "text/plain": [
              "<Figure size 432x288 with 1 Axes>"
            ],
            "image/png": "[encoded data removed]"
          },
          "metadata": {
            "needs_background": "light"
          }
        }
      ]
    },
    {
      "cell_type": "markdown",
      "source": [
        "Before split and after split the trend of missing percent values are same\n",
        "important thresholds:\n",
        "- big jump from 17% to 45%\n",
        "- after 45% , more number of columns show 65% null values , therefore threshold should be between 55% to 65%"
      ],
      "metadata": {
        "id": "dIycMnErq2VJ"
      }
    },
    {
      "cell_type": "code",
      "source": [
        "result1.percent_null.value_counts().sort_index()"
      ],
      "metadata": {
        "id": "uGPRcfUXnXW9"
      },
      "execution_count": null,
      "outputs": []
    },
    {
      "cell_type": "code",
      "source": [
        "xtrain_eda1.percent_null.value_counts().sort_index()"
      ],
      "metadata": {
        "id": "HCJYvWZWqfO9"
      },
      "execution_count": null,
      "outputs": []
    },
    {
      "cell_type": "code",
      "source": [
        "sns.histplot(data=xtrain_eda1, x='percent_null',bins=30, kde=True)"
      ],
      "metadata": {
        "colab": {
          "base_uri": "https://localhost:8080/",
          "height": 297
        },
        "id": "JuTA0efBkcLa",
        "outputId": "50aa3993-67e2-4e9e-b9d7-c8ba447ccfcb"
      },
      "execution_count": 32,
      "outputs": [
        {
          "output_type": "execute_result",
          "data": {
            "text/plain": [
              "<matplotlib.axes._subplots.AxesSubplot at 0x7f8ec2ec0990>"
            ]
          },
          "metadata": {},
          "execution_count": 32
        },
        {
          "output_type": "display_data",
          "data": {
            "text/plain": [
              "<Figure size 432x288 with 1 Axes>"
            ],
            "image/png": "[encoded data removed]"
          },
          "metadata": {
            "needs_background": "light"
          }
        }
      ]
    },
    {
      "cell_type": "markdown",
      "source": [
        "plotting scaled std before and after split "
      ],
      "metadata": {
        "id": "py2YsyvbrkMa"
      }
    },
    {
      "cell_type": "code",
      "source": [
        "scaler = MinMaxScaler()\n",
        "#It seems like the Scaler works only with series. When we scale the whole dataframe, the datafram will be broken down.\n",
        "#Then we need to form the dataframe again.\n",
        "\n",
        "data_scaled = pd.DataFrame(scaler.fit_transform(data), columns=data.columns)\n",
        "data_scaled"
      ],
      "metadata": {
        "id": "yB5jKwGPriRP"
      },
      "execution_count": null,
      "outputs": []
    },
    {
      "cell_type": "code",
      "source": [
        "data_scaled_desc=data_scaled.describe().T"
      ],
      "metadata": {
        "id": "Rt81Te7Zr-xS"
      },
      "execution_count": 34,
      "outputs": []
    },
    {
      "cell_type": "code",
      "source": [
        "data_scaled_desc"
      ],
      "metadata": {
        "id": "3H66Tc9mtvUl"
      },
      "execution_count": null,
      "outputs": []
    },
    {
      "cell_type": "code",
      "source": [
        "sns.histplot(data=data_scaled_desc, x='std',bins=20, kde=True)"
      ],
      "metadata": {
        "colab": {
          "base_uri": "https://localhost:8080/",
          "height": 297
        },
        "id": "Y6URNQPGr4rr",
        "outputId": "8878d0cc-a104-4922-9fc1-190e4f2dd484"
      },
      "execution_count": 36,
      "outputs": [
        {
          "output_type": "execute_result",
          "data": {
            "text/plain": [
              "<matplotlib.axes._subplots.AxesSubplot at 0x7f8ec2eb9fd0>"
            ]
          },
          "metadata": {},
          "execution_count": 36
        },
        {
          "output_type": "display_data",
          "data": {
            "text/plain": [
              "<Figure size 432x288 with 1 Axes>"
            ],
            "image/png": "[encoded data removed]"
          },
          "metadata": {
            "needs_background": "light"
          }
        }
      ]
    },
    {
      "cell_type": "code",
      "source": [
        "data_scaled_desc['std'].value_counts().sort_index()"
      ],
      "metadata": {
        "colab": {
          "base_uri": "https://localhost:8080/"
        },
        "id": "HGdlWx4qssMb",
        "outputId": "30b84e18-493b-45b0-c490-cd7a0d2568df"
      },
      "execution_count": 38,
      "outputs": [
        {
          "output_type": "execute_result",
          "data": {
            "text/plain": [
              "0.000000    116\n",
              "0.024430      1\n",
              "0.025046      1\n",
              "0.025245      1\n",
              "0.025245      1\n",
              "           ... \n",
              "0.287901      1\n",
              "0.323251      1\n",
              "0.324771      1\n",
              "0.325878      1\n",
              "0.329665      1\n",
              "Name: std, Length: 470, dtype: int64"
            ]
          },
          "metadata": {},
          "execution_count": 38
        }
      ]
    },
    {
      "cell_type": "code",
      "source": [
        "xtrain_scaled = pd.DataFrame(scaler.fit_transform(x_train), columns=x_train.columns)\n",
        "xtrain_scaled"
      ],
      "metadata": {
        "id": "q0qczpghuBGv"
      },
      "execution_count": null,
      "outputs": []
    },
    {
      "cell_type": "code",
      "source": [
        "xtrain_scaled_desc=xtrain_scaled.describe().T"
      ],
      "metadata": {
        "id": "R8RQLOYvub7f"
      },
      "execution_count": 40,
      "outputs": []
    },
    {
      "cell_type": "code",
      "source": [
        "xtrain_scaled_desc['std'].value_counts().sort_index()"
      ],
      "metadata": {
        "colab": {
          "base_uri": "https://localhost:8080/"
        },
        "id": "AqQdWh3zvLJq",
        "outputId": "a3a74fb9-3000-4483-e1f0-d99164fcab2c"
      },
      "execution_count": 41,
      "outputs": [
        {
          "output_type": "execute_result",
          "data": {
            "text/plain": [
              "0.000000    116\n",
              "0.027202      1\n",
              "0.027938      1\n",
              "0.028183      1\n",
              "0.028210      1\n",
              "           ... \n",
              "0.292407      1\n",
              "0.324719      1\n",
              "0.326763      1\n",
              "0.326917      1\n",
              "0.330286      1\n",
              "Name: std, Length: 470, dtype: int64"
            ]
          },
          "metadata": {},
          "execution_count": 41
        }
      ]
    },
    {
      "cell_type": "code",
      "source": [
        "sns.histplot(data=xtrain_scaled_desc, x='std',bins=20, kde=True)"
      ],
      "metadata": {
        "colab": {
          "base_uri": "https://localhost:8080/",
          "height": 297
        },
        "id": "OcplI7XbvgqG",
        "outputId": "de0ab54d-1d2c-4d4e-b5b8-852710d6821b"
      },
      "execution_count": 42,
      "outputs": [
        {
          "output_type": "execute_result",
          "data": {
            "text/plain": [
              "<matplotlib.axes._subplots.AxesSubplot at 0x7f8ec0a81150>"
            ]
          },
          "metadata": {},
          "execution_count": 42
        },
        {
          "output_type": "display_data",
          "data": {
            "text/plain": [
              "<Figure size 432x288 with 1 Axes>"
            ],
            "image/png": "[encoded data removed]"
          },
          "metadata": {
            "needs_background": "light"
          }
        }
      ]
    },
    {
      "cell_type": "code",
      "source": [
        "tranform=result1.copy(deep=True)"
      ],
      "metadata": {
        "id": "VURt5mtat66l"
      },
      "execution_count": 15,
      "outputs": []
    },
    {
      "cell_type": "code",
      "source": [
        "tranform['std'].value_counts()"
      ],
      "metadata": {
        "colab": {
          "base_uri": "https://localhost:8080/"
        },
        "id": "vOa8_g9LpHL7",
        "outputId": "e1a90f5a-5886-48e8-9f8e-398b6f3a57f6"
      },
      "execution_count": 16,
      "outputs": [
        {
          "output_type": "execute_result",
          "data": {
            "text/plain": [
              "0.000000       116\n",
              "73.621787        1\n",
              "0.002699         1\n",
              "20.326415        1\n",
              "0.011816         1\n",
              "              ... \n",
              "0.121989         1\n",
              "6553.569317      1\n",
              "4239.245058      1\n",
              "574.808588       1\n",
              "93.891919        1\n",
              "Name: std, Length: 475, dtype: int64"
            ]
          },
          "metadata": {},
          "execution_count": 16
        }
      ]
    },
    {
      "cell_type": "code",
      "source": [
        "std_counts.plot(kind=\"hist\")"
      ],
      "metadata": {
        "id": "1RlTEsW4pep9"
      },
      "execution_count": null,
      "outputs": []
    },
    {
      "cell_type": "code",
      "source": [
        "tranform['unique'].value_counts()"
      ],
      "metadata": {
        "id": "mo7Cs-3ob5dc"
      },
      "execution_count": null,
      "outputs": []
    },
    {
      "cell_type": "code",
      "source": [
        "#bins = [0, 25, 50, 75, 100]\n",
        "#labels =[1,2,3,4]\n",
        "#pd.cut(df1['Score'], bins,labels=labels)\n",
        "bins_null=[0,1,5,20,55,75,95]\n",
        "labels_null=['<=1','1-5','5 -20','20-55','55-75','75-95']\n",
        "tranform['null_bin']= pd.cut(tranform['percent_null'], bins_null,labels=labels_null,right=True)"
      ],
      "metadata": {
        "id": "30yz47YjuHuE"
      },
      "execution_count": 18,
      "outputs": []
    },
    {
      "cell_type": "code",
      "source": [
        "bins_unique=[0,2,10,100,500,np.inf] # np.inf for greater than 500\n",
        "labels_unique=['>=2','2-10','10-100','100-500','>500']\n",
        "tranform['unique_bin']= pd.cut(tranform['unique'], bins_unique,labels=labels_unique,right=True)"
      ],
      "metadata": {
        "id": "BAlqmnn1deo1"
      },
      "execution_count": 19,
      "outputs": []
    },
    {
      "cell_type": "code",
      "source": [
        "bins_3s=[0,1,11,31,51,71] \n",
        "labels_3s=['<1','1-10','11-30','31-50','51-70']\n",
        "tranform['3s_bin']= pd.cut(tranform['count_3s'], bins_3s,labels=labels_3s,right=False)"
      ],
      "metadata": {
        "id": "yEX-_1qBiZUq"
      },
      "execution_count": 20,
      "outputs": []
    },
    {
      "cell_type": "code",
      "source": [
        "tranform['count_3s'].value_counts()"
      ],
      "metadata": {
        "id": "Q-9L-Tk6mLTc"
      },
      "execution_count": null,
      "outputs": []
    },
    {
      "cell_type": "code",
      "source": [
        "tranform['count_2s'].value_counts()"
      ],
      "metadata": {
        "id": "SGXIGsdmbZs8"
      },
      "execution_count": null,
      "outputs": []
    },
    {
      "cell_type": "code",
      "source": [
        "bins_2s=[0,1,11,31,51,71,np.inf] \n",
        "labels_2s=['<1','1-10','11-30','31-50','51-70','>70']\n",
        "tranform['2s_bin']= pd.cut(tranform['count_2s'], bins_2s,labels=labels_2s,right=False)"
      ],
      "metadata": {
        "id": "6HMfhei5orrw"
      },
      "execution_count": 22,
      "outputs": []
    },
    {
      "cell_type": "code",
      "source": [
        "skew_bin=[-np.inf,-1,0,np.inf]\n",
        "labels_skew=['left_skewed','normal or slightly skewed','right skewed']\n",
        "tranform['skew_bin']= pd.cut(tranform['skewness'], skew_bin,labels=labels_skew,right=False)"
      ],
      "metadata": {
        "id": "7zx8djuErWFm"
      },
      "execution_count": 23,
      "outputs": []
    },
    {
      "cell_type": "code",
      "source": [
        "null_counts= tranform['null_bin'].value_counts().sort_index()# sort_index to sort the left column of rows \n",
        "#pd.crosstab(index=tranform[\"null_bin\"], columns=\"count\")\n",
        "null_counts"
      ],
      "metadata": {
        "id": "q_7jfjR3CWoo",
        "colab": {
          "base_uri": "https://localhost:8080/"
        },
        "outputId": "236c51d2-d93c-4070-8cb9-576c1e599c3d"
      },
      "execution_count": 25,
      "outputs": [
        {
          "output_type": "execute_result",
          "data": {
            "text/plain": [
              "<=1      435\n",
              "1-5       51\n",
              "5 -20     20\n",
              "20-55      8\n",
              "55-75     16\n",
              "75-95      8\n",
              "Name: null_bin, dtype: int64"
            ]
          },
          "metadata": {},
          "execution_count": 25
        }
      ]
    },
    {
      "cell_type": "code",
      "source": [
        "unique_counts=tranform['unique_bin'].value_counts().sort_index()\n",
        "unique_counts"
      ],
      "metadata": {
        "id": "T0jZpjxMeiew"
      },
      "execution_count": null,
      "outputs": []
    },
    {
      "cell_type": "code",
      "source": [
        "bin3s_count=tranform['3s_bin'].value_counts().sort_index()\n",
        "bin3s_count"
      ],
      "metadata": {
        "id": "eBwmh7JdjiCh"
      },
      "execution_count": null,
      "outputs": []
    },
    {
      "cell_type": "code",
      "source": [
        "bin2s_count=tranform['2s_bin'].value_counts().sort_index()\n",
        "bin2s_count"
      ],
      "metadata": {
        "id": "tIGKcyGWo9ul"
      },
      "execution_count": null,
      "outputs": []
    },
    {
      "cell_type": "code",
      "source": [
        "skew_counts=tranform['skew_bin'].value_counts().sort_index()"
      ],
      "metadata": {
        "id": "WcZj3yN1q3ik"
      },
      "execution_count": null,
      "outputs": []
    },
    {
      "cell_type": "code",
      "source": [
        "skew_counts"
      ],
      "metadata": {
        "id": "v4b8laNVt0kl"
      },
      "execution_count": null,
      "outputs": []
    },
    {
      "cell_type": "code",
      "source": [
        "plt.figure(figsize=(12, 8))\n",
        "# bar Graph for Null value categories \n",
        "ax = null_counts.plot(kind=\"bar\")\n",
        "ax.set_title('Feature Analysis - Null Value Percentage')\n",
        "ax.set_xlabel('Null Percent Bin')\n",
        "ax.set_ylabel('Frequency')\n",
        "ax.set_xticklabels(labels_null,rotation=0)\n",
        "#call function to add labels to null values bar chart\n",
        "add_value_labels(ax,5)\n",
        "plt.show()"
      ],
      "metadata": {
        "colab": {
          "base_uri": "https://localhost:8080/",
          "height": 513
        },
        "id": "kJkHRJc0C_v8",
        "outputId": "0830c94a-8e13-4906-fcaa-5bc3377bb998"
      },
      "execution_count": null,
      "outputs": [
        {
          "output_type": "display_data",
          "data": {
            "text/plain": [
              "<Figure size 864x576 with 1 Axes>"
            ],
            "image/png": "[encoded data removed]"
          },
          "metadata": {
            "needs_background": "light"
          }
        }
      ]
    },
    {
      "cell_type": "code",
      "source": [
        "plt.figure(figsize=(12, 8))\n",
        "# bar Graph for unique value categories \n",
        "ux = unique_counts.plot(kind=\"bar\")\n",
        "ux.set_title('Feature Analysis - Unique Values')\n",
        "ux.set_xlabel('Unique Bin')\n",
        "ux.set_ylabel('Frequency')\n",
        "ux.set_xticklabels(labels_unique,rotation=0)\n",
        "#call function to add labels to null values bar chart\n",
        "add_value_labels(ux,5)\n",
        "plt.show()"
      ],
      "metadata": {
        "colab": {
          "base_uri": "https://localhost:8080/",
          "height": 513
        },
        "id": "t_wvQ8Rje7QS",
        "outputId": "501e314b-82c6-4711-9a4f-6fe81ce72484"
      },
      "execution_count": null,
      "outputs": [
        {
          "output_type": "display_data",
          "data": {
            "text/plain": [
              "<Figure size 864x576 with 1 Axes>"
            ],
            "image/png": "[encoded data removed]"
          },
          "metadata": {
            "needs_background": "light"
          }
        }
      ]
    },
    {
      "cell_type": "code",
      "source": [
        "plt.figure(figsize=(12, 8))\n",
        "# bar Graph for unique value categories \n",
        "outx = bin3s_count.plot(kind=\"bar\")\n",
        "outx.set_title('Feature Analysis - Outlier Detection')\n",
        "outx.set_xlabel('Outlier Bin')\n",
        "outx.set_ylabel('Frequency')\n",
        "outx.set_xticklabels(labels_3s,rotation=0)\n",
        "#call function to add labels to null values bar chart\n",
        "add_value_labels(outx,5)\n",
        "plt.show()"
      ],
      "metadata": {
        "colab": {
          "base_uri": "https://localhost:8080/",
          "height": 513
        },
        "id": "Da7DuGxajunT",
        "outputId": "7f885a9c-a118-483a-a497-f23dc34e7ab7"
      },
      "execution_count": null,
      "outputs": [
        {
          "output_type": "display_data",
          "data": {
            "text/plain": [
              "<Figure size 864x576 with 1 Axes>"
            ],
            "image/png": "[encoded data removed]"
          },
          "metadata": {
            "needs_background": "light"
          }
        }
      ]
    },
    {
      "cell_type": "code",
      "source": [
        "plt.figure(figsize=(12, 8))\n",
        "# bar Graph for unique value categories \n",
        "infx = bin2s_count.plot(kind=\"bar\")\n",
        "infx.set_title('Feature Analysis - Influential Detection')\n",
        "infx.set_xlabel('influential Bin')\n",
        "infx.set_ylabel('Frequency')\n",
        "infx.set_xticklabels(labels_2s,rotation=0)\n",
        "#call function to add labels to null values bar chart\n",
        "add_value_labels(infx,5)\n",
        "plt.show()"
      ],
      "metadata": {
        "colab": {
          "base_uri": "https://localhost:8080/",
          "height": 513
        },
        "id": "b4zYTQ4zpIZV",
        "outputId": "fac35bb6-e78c-4f85-ff1a-ce328985cfb3"
      },
      "execution_count": null,
      "outputs": [
        {
          "output_type": "display_data",
          "data": {
            "text/plain": [
              "<Figure size 864x576 with 1 Axes>"
            ],
            "image/png": "[encoded data removed]"
          },
          "metadata": {
            "needs_background": "light"
          }
        }
      ]
    },
    {
      "cell_type": "code",
      "source": [
        "plt.figure(figsize=(12, 8))\n",
        "# bar Graph for Null value categories \n",
        "skx = skew_counts.plot(kind=\"bar\")\n",
        "skx.set_title('Feature Analysis - Type of Distribution')\n",
        "#skx.set_xlabel('Distribution Type')\n",
        "skx.set_ylabel('Frequency')\n",
        "skx.set_xticklabels(labels_skew,rotation=0)\n",
        "#call function to add labels to null values bar chart\n",
        "add_value_labels(skx,5)\n",
        "plt.show()"
      ],
      "metadata": {
        "colab": {
          "base_uri": "https://localhost:8080/",
          "height": 500
        },
        "id": "3C5V6Tirt9rv",
        "outputId": "78809bc7-eca4-48a6-ed57-ed6d5aa8f875"
      },
      "execution_count": null,
      "outputs": [
        {
          "output_type": "display_data",
          "data": {
            "text/plain": [
              "<Figure size 864x576 with 1 Axes>"
            ],
            "image/png": "[encoded data removed]"
          },
          "metadata": {
            "needs_background": "light"
          }
        }
      ]
    },
    {
      "cell_type": "code",
      "source": [
        "plt.savefig(\"Percent_null.png\")"
      ],
      "metadata": {
        "colab": {
          "base_uri": "https://localhost:8080/",
          "height": 34
        },
        "id": "4pemtFQHkYZz",
        "outputId": "e61253d1-9511-4c67-f11e-be1f3700bc42"
      },
      "execution_count": null,
      "outputs": [
        {
          "output_type": "display_data",
          "data": {
            "text/plain": [
              "<Figure size 432x288 with 0 Axes>"
            ]
          },
          "metadata": {}
        }
      ]
    },
    {
      "cell_type": "code",
      "source": [
        "#result1[result1['count_3s'] > 0] # 52 features with outliers\n",
        "#result1[result1['unique'] < 4] # 122 , 116 features only 2 unique values\n",
        "#len(result1[result1['percent_null'] > 55]) # 24 features with null values greater than 55%"
      ],
      "metadata": {
        "id": "No_HDNgyVS07"
      },
      "execution_count": null,
      "outputs": []
    },
    {
      "cell_type": "markdown",
      "source": [
        "Creating box plots for skewness "
      ],
      "metadata": {
        "id": "47-29trx0NFd"
      }
    },
    {
      "cell_type": "code",
      "source": [
        "data_secom=pd.melt(data)"
      ],
      "metadata": {
        "id": "XhEa5Sbw4VI4"
      },
      "execution_count": null,
      "outputs": []
    },
    {
      "cell_type": "code",
      "source": [
        "data_secom"
      ],
      "metadata": {
        "id": "QdH-S-a_4eUq"
      },
      "execution_count": null,
      "outputs": []
    },
    {
      "cell_type": "code",
      "source": [
        "sns.heatmap(data.corr())"
      ],
      "metadata": {
        "id": "ugVT9azr0MPi"
      },
      "execution_count": null,
      "outputs": []
    },
    {
      "cell_type": "code",
      "source": [
        "#onlytest normality tests \n",
        "from numpy.random import seed\n",
        "from numpy.random import randn\n",
        "from scipy.stats import normaltest\n",
        "# seed the random number generator\n",
        "seed(1)\n",
        "# generate univariate observations\n",
        "rand = 5 * randn(100) + 50\n",
        "# normality test\n",
        "stat, p = normaltest(rand)\n",
        "print('Statistics=%.3f, p=%.3f' % (stat, p))\n",
        "# interpret\n",
        "alpha = 0.05\n",
        "if p > alpha:\n",
        "    print('Sample looks Gaussian (fail to reject H0)')\n",
        "else:\n",
        "    print('Sample does not look Gaussian (reject H0)')"
      ],
      "metadata": {
        "colab": {
          "base_uri": "https://localhost:8080/"
        },
        "id": "asbByoclaPEm",
        "outputId": "800818aa-b646-47d0-fdae-62c70696919a"
      },
      "execution_count": 9,
      "outputs": [
        {
          "output_type": "stream",
          "name": "stdout",
          "text": [
            "Statistics=0.102, p=0.950\n",
            "Sample looks Gaussian (fail to reject H0)\n"
          ]
        }
      ]
    },
    {
      "cell_type": "markdown",
      "source": [
        "from numpy.random import seed\n",
        "from numpy.random import randn\n",
        "from scipy.stats import normaltest\n",
        "import scipy.stats as st\n",
        "seed(42)"
      ],
      "metadata": {
        "id": "IH7tt7ZFbYW_"
      }
    },
    {
      "cell_type": "code",
      "source": [
        "from scipy.stats import normaltest\n",
        "alpha = 0.05"
      ],
      "metadata": {
        "id": "a-AuRD7_nnOT"
      },
      "execution_count": 16,
      "outputs": []
    },
    {
      "cell_type": "code",
      "source": [
        "test= data.apply(normaltest,nan_policy='omit')"
      ],
      "metadata": {
        "id": "9p80MiUuWHxa"
      },
      "execution_count": 22,
      "outputs": []
    },
    {
      "cell_type": "code",
      "source": [
        "test=test.transpose()"
      ],
      "metadata": {
        "id": "EG44O3X3nbzy"
      },
      "execution_count": 35,
      "outputs": []
    },
    {
      "cell_type": "code",
      "source": [
        "test.columns= ['stat', 'p']"
      ],
      "metadata": {
        "id": "RYazq8GNs2kl"
      },
      "execution_count": 39,
      "outputs": []
    },
    {
      "cell_type": "code",
      "source": [
        "test[test['p']>alpha]"
      ],
      "metadata": {
        "colab": {
          "base_uri": "https://localhost:8080/",
          "height": 206
        },
        "id": "CZ7r8IJ3tqRI",
        "outputId": "e79ef03c-a2d6-4027-93ea-f96fd5c5fc69"
      },
      "execution_count": 42,
      "outputs": [
        {
          "output_type": "execute_result",
          "data": {
            "text/plain": [
              "                stat         p\n",
              "feature9    4.485891  0.106145\n",
              "feature49   1.669308  0.434025\n",
              "feature84   1.672086  0.433422\n",
              "feature85   5.204714  0.074099\n",
              "feature320  2.778687  0.249239"
            ],
            "text/html": [
              "\n",
              "  <div id=\"df-312bdfb9-8708-49f4-9449-e46940160f95\">\n",
              "    <div class=\"colab-df-container\">\n",
              "      <div>\n",
              "<style scoped>\n",
              "    .dataframe tbody tr th:only-of-type {\n",
              "        vertical-align: middle;\n",
              "    }\n",
              "\n",
              "    .dataframe tbody tr th {\n",
              "        vertical-align: top;\n",
              "    }\n",
              "\n",
              "    .dataframe thead th {\n",
              "        text-align: right;\n",
              "    }\n",
              "</style>\n",
              "<table border=\"1\" class=\"dataframe\">\n",
              "  <thead>\n",
              "    <tr style=\"text-align: right;\">\n",
              "      <th></th>\n",
              "      <th>stat</th>\n",
              "      <th>p</th>\n",
              "    </tr>\n",
              "  </thead>\n",
              "  <tbody>\n",
              "    <tr>\n",
              "      <th>feature9</th>\n",
              "      <td>4.485891</td>\n",
              "      <td>0.106145</td>\n",
              "    </tr>\n",
              "    <tr>\n",
              "      <th>feature49</th>\n",
              "      <td>1.669308</td>\n",
              "      <td>0.434025</td>\n",
              "    </tr>\n",
              "    <tr>\n",
              "      <th>feature84</th>\n",
              "      <td>1.672086</td>\n",
              "      <td>0.433422</td>\n",
              "    </tr>\n",
              "    <tr>\n",
              "      <th>feature85</th>\n",
              "      <td>5.204714</td>\n",
              "      <td>0.074099</td>\n",
              "    </tr>\n",
              "    <tr>\n",
              "      <th>feature320</th>\n",
              "      <td>2.778687</td>\n",
              "      <td>0.249239</td>\n",
              "    </tr>\n",
              "  </tbody>\n",
              "</table>\n",
              "</div>\n",
              "      <button class=\"colab-df-convert\" onclick=\"convertToInteractive('df-312bdfb9-8708-49f4-9449-e46940160f95')\"\n",
              "              title=\"Convert this dataframe to an interactive table.\"\n",
              "              style=\"display:none;\">\n",
              "        \n",
              "  <svg xmlns=\"http://www.w3.org/2000/svg\" height=\"24px\"viewBox=\"0 0 24 24\"\n",
              "       width=\"24px\">\n",
              "    <path d=\"M0 0h24v24H0V0z\" fill=\"none\"/>\n",
              "    <path d=\"M18.56 5.44l.94 2.06.94-2.06 2.06-.94-2.06-.94-.94-2.06-.94 2.06-2.06.94zm-11 1L8.5 8.5l.94-2.06 2.06-.94-2.06-.94L8.5 2.5l-.94 2.06-2.06.94zm10 10l.94 2.06.94-2.06 2.06-.94-2.06-.94-.94-2.06-.94 2.06-2.06.94z\"/><path d=\"M17.41 7.96l-1.37-1.37c-.4-.4-.92-.59-1.43-.59-.52 0-1.04.2-1.43.59L10.3 9.45l-7.72 7.72c-.78.78-.78 2.05 0 2.83L4 21.41c.39.39.9.59 1.41.59.51 0 1.02-.2 1.41-.59l7.78-7.78 2.81-2.81c.8-.78.8-2.07 0-2.86zM5.41 20L4 18.59l7.72-7.72 1.47 1.35L5.41 20z\"/>\n",
              "  </svg>\n",
              "      </button>\n",
              "      \n",
              "  <style>\n",
              "    .colab-df-container {\n",
              "      display:flex;\n",
              "      flex-wrap:wrap;\n",
              "      gap: 12px;\n",
              "    }\n",
              "\n",
              "    .colab-df-convert {\n",
              "      background-color: #E8F0FE;\n",
              "      border: none;\n",
              "      border-radius: 50%;\n",
              "      cursor: pointer;\n",
              "      display: none;\n",
              "      fill: #1967D2;\n",
              "      height: 32px;\n",
              "      padding: 0 0 0 0;\n",
              "      width: 32px;\n",
              "    }\n",
              "\n",
              "    .colab-df-convert:hover {\n",
              "      background-color: #E2EBFA;\n",
              "      box-shadow: 0px 1px 2px rgba(60, 64, 67, 0.3), 0px 1px 3px 1px rgba(60, 64, 67, 0.15);\n",
              "      fill: #174EA6;\n",
              "    }\n",
              "\n",
              "    [theme=dark] .colab-df-convert {\n",
              "      background-color: #3B4455;\n",
              "      fill: #D2E3FC;\n",
              "    }\n",
              "\n",
              "    [theme=dark] .colab-df-convert:hover {\n",
              "      background-color: #434B5C;\n",
              "      box-shadow: 0px 1px 3px 1px rgba(0, 0, 0, 0.15);\n",
              "      filter: drop-shadow(0px 1px 2px rgba(0, 0, 0, 0.3));\n",
              "      fill: #FFFFFF;\n",
              "    }\n",
              "  </style>\n",
              "\n",
              "      <script>\n",
              "        const buttonEl =\n",
              "          document.querySelector('#df-312bdfb9-8708-49f4-9449-e46940160f95 button.colab-df-convert');\n",
              "        buttonEl.style.display =\n",
              "          google.colab.kernel.accessAllowed ? 'block' : 'none';\n",
              "\n",
              "        async function convertToInteractive(key) {\n",
              "          const element = document.querySelector('#df-312bdfb9-8708-49f4-9449-e46940160f95');\n",
              "          const dataTable =\n",
              "            await google.colab.kernel.invokeFunction('convertToInteractive',\n",
              "                                                     [key], {});\n",
              "          if (!dataTable) return;\n",
              "\n",
              "          const docLinkHtml = 'Like what you see? Visit the ' +\n",
              "            '<a target=\"_blank\" href=https://colab.research.google.com/notebooks/data_table.ipynb>data table notebook</a>'\n",
              "            + ' to learn more about interactive tables.';\n",
              "          element.innerHTML = '';\n",
              "          dataTable['output_type'] = 'display_data';\n",
              "          await google.colab.output.renderOutput(dataTable, element);\n",
              "          const docLink = document.createElement('div');\n",
              "          docLink.innerHTML = docLinkHtml;\n",
              "          element.appendChild(docLink);\n",
              "        }\n",
              "      </script>\n",
              "    </div>\n",
              "  </div>\n",
              "  "
            ]
          },
          "metadata": {},
          "execution_count": 42
        }
      ]
    },
    {
      "cell_type": "code",
      "source": [
        "from scipy.stats import shapiro"
      ],
      "metadata": {
        "id": "z9N2zexNZ60H"
      },
      "execution_count": 23,
      "outputs": []
    }
  ]
}