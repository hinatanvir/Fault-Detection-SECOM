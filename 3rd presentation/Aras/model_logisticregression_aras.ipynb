{
 "cells": [
  {
   "cell_type": "markdown",
   "metadata": {},
   "source": [
    "# 1. Importing Libraries"
   ]
  },
  {
   "cell_type": "code",
   "execution_count": 1,
   "metadata": {},
   "outputs": [],
   "source": [
    "import pandas as pd \n",
    "import numpy as np \n",
    "from sklearn.impute import KNNImputer\n",
    "import matplotlib.pyplot as plt \n",
    "from sklearn.preprocessing import MinMaxScaler\n",
    "from scipy import stats\n",
    "from sklearn.model_selection import KFold, StratifiedKFold, train_test_split \n",
    "import seaborn as sns \n",
    "from sklearn.experimental import enable_iterative_imputer\n",
    "from sklearn.impute import IterativeImputer\n",
    "from sklearn.ensemble import RandomForestClassifier\n",
    "from BorutaShap import BorutaShap\n",
    "from imblearn.combine import SMOTEENN\n",
    "from sklearn import metrics\n",
    "from sklearn.naive_bayes import GaussianNB\n",
    "from sklearn.linear_model import LogisticRegression\n",
    "from sklearn.metrics import accuracy_score, confusion_matrix, ConfusionMatrixDisplay, f1_score, precision_score, recall_score, roc_auc_score, log_loss, cohen_kappa_score, plot_confusion_matrix"
   ]
  },
  {
   "cell_type": "markdown",
   "metadata": {},
   "source": [
    "# 2. Reading Data"
   ]
  },
  {
   "cell_type": "code",
   "execution_count": 2,
   "metadata": {},
   "outputs": [],
   "source": [
    "#this function is to read, transform and join 2 data frame\n",
    "\n",
    "def read_features():\n",
    "    path = 'secom.data'\n",
    "    df = pd.read_csv(path, delimiter=' ', header=None, na_values=['NaN'])\n",
    "    df.columns = ['feature_'+str(x+1) for x in range(len(df.columns))]\n",
    "    return df\n",
    "\n",
    "\n",
    "\n",
    "def read_target():\n",
    "    path = 'secom_labels.data'\n",
    "    df = pd.read_csv(path, delimiter=' ', header=None, na_values=['NaN'])\n",
    "    df.columns = ['status','timestamp']\n",
    "    df['timestamp'] = pd.to_datetime(df['timestamp'],dayfirst=True)\n",
    "    return df\n",
    "\n",
    "#for the testing purporse, trim to remain first 100 rows only\n",
    "X = read_features()\n",
    "y = read_target().iloc[:,0]"
   ]
  },
  {
   "cell_type": "code",
   "execution_count": 3,
   "metadata": {},
   "outputs": [
    {
     "data": {
      "text/plain": [
       "(1567, 590)"
      ]
     },
     "execution_count": 3,
     "metadata": {},
     "output_type": "execute_result"
    }
   ],
   "source": [
    "#Row & Columns of Features \n",
    "X.shape"
   ]
  },
  {
   "cell_type": "markdown",
   "metadata": {},
   "source": [
    "# 3. Splitting Training & Testing Data"
   ]
  },
  {
   "cell_type": "code",
   "execution_count": 4,
   "metadata": {},
   "outputs": [],
   "source": [
    "#Splitting the Data: 80% Training, 20% Testing Data\n",
    "x_train, x_test, y_train, y_test = train_test_split(X, y, test_size = 0.2, random_state = 1,stratify=y)"
   ]
  },
  {
   "cell_type": "code",
   "execution_count": 5,
   "metadata": {},
   "outputs": [
    {
     "data": {
      "text/plain": [
       "(1253, 590)"
      ]
     },
     "execution_count": 5,
     "metadata": {},
     "output_type": "execute_result"
    }
   ],
   "source": [
    "#Rows and Columns of X_Train DF\n",
    "x_train.shape"
   ]
  },
  {
   "cell_type": "code",
   "execution_count": 6,
   "metadata": {},
   "outputs": [
    {
     "data": {
      "text/plain": [
       "(314, 590)"
      ]
     },
     "execution_count": 6,
     "metadata": {},
     "output_type": "execute_result"
    }
   ],
   "source": [
    "#Rows and Columns of X_Train DF\n",
    "x_test.shape"
   ]
  },
  {
   "cell_type": "markdown",
   "metadata": {},
   "source": [
    "# 4. Reducing Dimensionality"
   ]
  },
  {
   "cell_type": "markdown",
   "metadata": {},
   "source": [
    "## 4.1. Remove duplicated Columns"
   ]
  },
  {
   "cell_type": "code",
   "execution_count": 7,
   "metadata": {},
   "outputs": [],
   "source": [
    "#Function for finding and removing duplicated columns (features)\n",
    "def remove_duplicated_columns(df):\n",
    "    dict_duplicate_pair = {}\n",
    "    dict_duplicate_matches = {}\n",
    "    list_duplicate = []\n",
    "    to_remove = []\n",
    "    for i in range(0, len(df.columns)):\n",
    "        l = []\n",
    "        for j in range(i+1,len(df.columns)):\n",
    "            dict_duplicate_pair[str(i+1)+';'+str(j+1)] = df.iloc[:,i].equals(df.iloc[:,j])\n",
    "            if df.iloc[:,i].equals(df.iloc[:,j]) == True:\n",
    "                if j not in list_duplicate:\n",
    "                    l.append(j)\n",
    "                    to_remove.append('feature_'+str(j+1))\n",
    "                list_duplicate.append(i)\n",
    "                list_duplicate.append(j)\n",
    "        if len(l)!=0:\n",
    "            dict_duplicate_matches[i] = l\n",
    "\n",
    "\n",
    "    df_duplicate_pair = pd.DataFrame.from_dict(dict_duplicate_pair, orient='index')\n",
    "    df_duplicate_pair.columns=['duplicate']\n",
    "\n",
    "    df_duplicate_matches = pd.DataFrame.from_dict(dict_duplicate_matches, orient='index')\n",
    "\n",
    "    \n",
    "    df = df.drop(columns=to_remove, axis = 1)\n",
    "\n",
    "    return df"
   ]
  },
  {
   "cell_type": "code",
   "execution_count": 8,
   "metadata": {},
   "outputs": [
    {
     "data": {
      "text/plain": [
       "(1253, 486)"
      ]
     },
     "execution_count": 8,
     "metadata": {},
     "output_type": "execute_result"
    }
   ],
   "source": [
    "#Using Function on x_train & printing new shape of dataframe after transformation \n",
    "x_train = remove_duplicated_columns(x_train)\n",
    "x_train.shape"
   ]
  },
  {
   "cell_type": "markdown",
   "metadata": {},
   "source": [
    "## 4.2. Removing Features with Constant Volatility"
   ]
  },
  {
   "cell_type": "code",
   "execution_count": 9,
   "metadata": {},
   "outputs": [],
   "source": [
    "#Defining function to find and remove features with zero standard deviation \n",
    "def remove_constant_volatility(df):\n",
    "    df_EDA= df.describe().T\n",
    "    df_EDA= df_EDA[df_EDA[\"std\"] == 0]\n",
    "    df = df.drop(axis=1, columns=df_EDA.index)\n",
    "    return df"
   ]
  },
  {
   "cell_type": "code",
   "execution_count": 10,
   "metadata": {},
   "outputs": [
    {
     "data": {
      "text/plain": [
       "(1253, 474)"
      ]
     },
     "execution_count": 10,
     "metadata": {},
     "output_type": "execute_result"
    }
   ],
   "source": [
    "#Using Function on x_train & printing new shape of dataframe after transformation \n",
    "x_train = remove_constant_volatility(x_train)\n",
    "x_train.shape"
   ]
  },
  {
   "cell_type": "markdown",
   "metadata": {},
   "source": [
    "## 4.3. Remove Features with high % of Missing Values"
   ]
  },
  {
   "cell_type": "code",
   "execution_count": 11,
   "metadata": {},
   "outputs": [],
   "source": [
    "#Defining function to remove features with a given % of missing values \n",
    "def remove_cols_with_high_pct_null(df, null_threshold):\n",
    "    list_column_with_pct_null = pd.concat([df.isnull().sum(), df.isnull().sum()/df.shape[0]],axis=1).rename(columns={0:'Missing_Records', 1:'Percentage (%)'})\n",
    "    list_column_with_pct_null= list_column_with_pct_null[list_column_with_pct_null[\"Percentage (%)\"] >= null_threshold]\n",
    "    df = df.drop(axis=1, columns=list_column_with_pct_null.index)\n",
    "    return df"
   ]
  },
  {
   "cell_type": "code",
   "execution_count": 12,
   "metadata": {},
   "outputs": [
    {
     "data": {
      "text/plain": [
       "(1253, 450)"
      ]
     },
     "execution_count": 12,
     "metadata": {},
     "output_type": "execute_result"
    }
   ],
   "source": [
    "#Using Function on x_train & printing new shape of dataframe after transformation \n",
    "x_train = remove_cols_with_high_pct_null(x_train, 0.6)\n",
    "x_train.shape"
   ]
  },
  {
   "cell_type": "markdown",
   "metadata": {},
   "source": [
    "# 5. Outlier & Missing Value Treatment"
   ]
  },
  {
   "cell_type": "markdown",
   "metadata": {},
   "source": [
    "#Definition of Functiom\n",
    "def outlier_clamp(df):\n",
    "    for col in df.columns:\n",
    "        ll_col = df[col].mean() - 2 * df[col].std()\n",
    "        ul_col = df[col].mean() + 2 * df[col].std()\n",
    "        df[col] = np.where(df[col]>ul_col,ul_col,np.where(df[col]<ll_col,ll_col,df[col]))\n",
    "    return df"
   ]
  },
  {
   "cell_type": "markdown",
   "metadata": {},
   "source": [
    "x_train = outlier_clamp(x_train)"
   ]
  },
  {
   "cell_type": "markdown",
   "metadata": {},
   "source": [
    "#KNN only distance\n",
    "def knndistance(df):\n",
    "    scaler = MinMaxScaler()\n",
    "    df = pd.DataFrame(scaler.fit_transform(df), columns= df.columns)\n",
    "    #KNN Imputation \n",
    "    knn = KNNImputer(n_neighbors=5, weights='distance')\n",
    "    df = pd.DataFrame(knn.fit_transform(df), columns=df.columns)\n",
    "    #Reverse Scaling\n",
    "    df = pd.DataFrame(scaler.inverse_transform(df), columns= df.columns)\n",
    "    return df  "
   ]
  },
  {
   "cell_type": "markdown",
   "metadata": {},
   "source": [
    "x_train = knndistance(x_train)"
   ]
  },
  {
   "cell_type": "code",
   "execution_count": 13,
   "metadata": {},
   "outputs": [],
   "source": [
    "#Function to drop Outliers and impute Missing Values with KNN \n",
    "def outlierknn(df):\n",
    "    #Outlier treatment first:\n",
    "    for col in df.columns:\n",
    "          ll_col = df[col].mean() - 3 * df[col].std()\n",
    "          ul_col = df[col].mean() + 3 * df[col].std()\n",
    "          df[col] = np.where(df[col]>ul_col,np.NaN,np.where(df[col]<ll_col,np.NaN,df[col]))\n",
    "    #Scaling data \n",
    "    scaler = MinMaxScaler()\n",
    "    df = pd.DataFrame(scaler.fit_transform(df), columns= df.columns)\n",
    "    #KNN Imputation\n",
    "    knn = KNNImputer(n_neighbors=3, weights='distance')\n",
    "    df = pd.DataFrame(knn.fit_transform(df), columns=df.columns)\n",
    "    #Reverse Scaling\n",
    "    df = pd.DataFrame(scaler.inverse_transform(df), columns= df.columns)\n",
    "    return df  "
   ]
  },
  {
   "cell_type": "code",
   "execution_count": 14,
   "metadata": {},
   "outputs": [],
   "source": [
    "#Using function above on x_train\n",
    "x_train = outlierknn(x_train)"
   ]
  },
  {
   "cell_type": "markdown",
   "metadata": {},
   "source": [
    "# 6. Feature Selection"
   ]
  },
  {
   "cell_type": "code",
   "execution_count": 15,
   "metadata": {},
   "outputs": [],
   "source": [
    "#This is BorutaShap with TENTATIVE features\n",
    "\n",
    "#list_method=['shap','gini']\n",
    "\n",
    "def BorutaShap_FS (X, y,method_option) :\n",
    "    #modelshap = RandomForestClassifier(n_jobs=-1,n_estimators=100, class_weight='balanced_subsample', max_depth=5, random_state=100)\n",
    "    modelshap = RandomForestClassifier(n_jobs=-1,n_estimators=100, max_depth=5, random_state=100)\n",
    "\n",
    "    # define model for resp. classifier\n",
    "    modelshap.fit(X,y)\n",
    "    feature_names = np.array(X.columns)\n",
    "    # define Boruta Sahp feature selection method\n",
    "    feature_selector = BorutaShap(model=modelshap,\n",
    "                              importance_measure=method_option,\n",
    "                              classification=True)  # find all relevant features\n",
    "    feature_selector.fit(X,y,n_trials=100,sample = False, verbose = False,random_state=100)  \n",
    "    #feature_selector.plot(which_features='accepted',figsize=(20,10))\n",
    "    tentative=X.loc[:,feature_selector.tentative]\n",
    "    selected=feature_selector.Subset()\n",
    "    selten=pd.concat([selected,tentative],axis=1)\n",
    "    # call transform() on X to filter it down to selected features\n",
    "    return  selten"
   ]
  },
  {
   "cell_type": "code",
   "execution_count": 16,
   "metadata": {},
   "outputs": [
    {
     "data": {
      "application/vnd.jupyter.widget-view+json": {
       "model_id": "cabd8e2c913a40d7be6100dbc4061c80",
       "version_major": 2,
       "version_minor": 0
      },
      "text/plain": [
       "  0%|          | 0/100 [00:00<?, ?it/s]"
      ]
     },
     "metadata": {},
     "output_type": "display_data"
    }
   ],
   "source": [
    "x_train = BorutaShap_FS(x_train,y_train,'shap')"
   ]
  },
  {
   "cell_type": "code",
   "execution_count": 17,
   "metadata": {},
   "outputs": [
    {
     "data": {
      "text/plain": [
       "(1253, 13)"
      ]
     },
     "execution_count": 17,
     "metadata": {},
     "output_type": "execute_result"
    }
   ],
   "source": [
    "#Shape of x_train after Feature Selection\n",
    "x_train.shape"
   ]
  },
  {
   "cell_type": "code",
   "execution_count": 18,
   "metadata": {},
   "outputs": [
    {
     "data": {
      "text/html": [
       "<div>\n",
       "<style scoped>\n",
       "    .dataframe tbody tr th:only-of-type {\n",
       "        vertical-align: middle;\n",
       "    }\n",
       "\n",
       "    .dataframe tbody tr th {\n",
       "        vertical-align: top;\n",
       "    }\n",
       "\n",
       "    .dataframe thead th {\n",
       "        text-align: right;\n",
       "    }\n",
       "</style>\n",
       "<table border=\"1\" class=\"dataframe\">\n",
       "  <thead>\n",
       "    <tr style=\"text-align: right;\">\n",
       "      <th></th>\n",
       "      <th>feature_469</th>\n",
       "      <th>feature_125</th>\n",
       "      <th>feature_478</th>\n",
       "      <th>feature_563</th>\n",
       "      <th>feature_66</th>\n",
       "      <th>feature_60</th>\n",
       "      <th>feature_1</th>\n",
       "      <th>feature_342</th>\n",
       "      <th>feature_122</th>\n",
       "      <th>feature_349</th>\n",
       "      <th>feature_148</th>\n",
       "      <th>feature_206</th>\n",
       "      <th>feature_211</th>\n",
       "    </tr>\n",
       "  </thead>\n",
       "  <tbody>\n",
       "    <tr>\n",
       "      <th>feature_469</th>\n",
       "      <td>1.000000</td>\n",
       "      <td>-0.071781</td>\n",
       "      <td>-0.071633</td>\n",
       "      <td>0.030468</td>\n",
       "      <td>0.002376</td>\n",
       "      <td>-0.281611</td>\n",
       "      <td>0.046157</td>\n",
       "      <td>-0.068816</td>\n",
       "      <td>-0.048110</td>\n",
       "      <td>-0.109094</td>\n",
       "      <td>-0.083995</td>\n",
       "      <td>-0.071577</td>\n",
       "      <td>-0.103312</td>\n",
       "    </tr>\n",
       "    <tr>\n",
       "      <th>feature_125</th>\n",
       "      <td>-0.071781</td>\n",
       "      <td>1.000000</td>\n",
       "      <td>0.058983</td>\n",
       "      <td>-0.089570</td>\n",
       "      <td>-0.066064</td>\n",
       "      <td>0.084756</td>\n",
       "      <td>-0.011159</td>\n",
       "      <td>0.043213</td>\n",
       "      <td>0.909212</td>\n",
       "      <td>0.062308</td>\n",
       "      <td>0.017679</td>\n",
       "      <td>0.052808</td>\n",
       "      <td>0.019774</td>\n",
       "    </tr>\n",
       "    <tr>\n",
       "      <th>feature_478</th>\n",
       "      <td>-0.071633</td>\n",
       "      <td>0.058983</td>\n",
       "      <td>1.000000</td>\n",
       "      <td>-0.040102</td>\n",
       "      <td>0.009969</td>\n",
       "      <td>0.213406</td>\n",
       "      <td>-0.021343</td>\n",
       "      <td>0.965742</td>\n",
       "      <td>-0.004417</td>\n",
       "      <td>0.075844</td>\n",
       "      <td>0.127130</td>\n",
       "      <td>0.997951</td>\n",
       "      <td>0.078979</td>\n",
       "    </tr>\n",
       "    <tr>\n",
       "      <th>feature_563</th>\n",
       "      <td>0.030468</td>\n",
       "      <td>-0.089570</td>\n",
       "      <td>-0.040102</td>\n",
       "      <td>1.000000</td>\n",
       "      <td>0.024735</td>\n",
       "      <td>-0.044269</td>\n",
       "      <td>-0.044226</td>\n",
       "      <td>-0.024844</td>\n",
       "      <td>-0.066689</td>\n",
       "      <td>-0.009674</td>\n",
       "      <td>0.420001</td>\n",
       "      <td>-0.040135</td>\n",
       "      <td>-0.011143</td>\n",
       "    </tr>\n",
       "    <tr>\n",
       "      <th>feature_66</th>\n",
       "      <td>0.002376</td>\n",
       "      <td>-0.066064</td>\n",
       "      <td>0.009969</td>\n",
       "      <td>0.024735</td>\n",
       "      <td>1.000000</td>\n",
       "      <td>-0.383884</td>\n",
       "      <td>-0.074033</td>\n",
       "      <td>0.023313</td>\n",
       "      <td>-0.083536</td>\n",
       "      <td>0.044331</td>\n",
       "      <td>0.034184</td>\n",
       "      <td>0.014484</td>\n",
       "      <td>0.044844</td>\n",
       "    </tr>\n",
       "    <tr>\n",
       "      <th>feature_60</th>\n",
       "      <td>-0.281611</td>\n",
       "      <td>0.084756</td>\n",
       "      <td>0.213406</td>\n",
       "      <td>-0.044269</td>\n",
       "      <td>-0.383884</td>\n",
       "      <td>1.000000</td>\n",
       "      <td>-0.085323</td>\n",
       "      <td>0.197105</td>\n",
       "      <td>0.017738</td>\n",
       "      <td>0.264595</td>\n",
       "      <td>0.261020</td>\n",
       "      <td>0.208366</td>\n",
       "      <td>0.236711</td>\n",
       "    </tr>\n",
       "    <tr>\n",
       "      <th>feature_1</th>\n",
       "      <td>0.046157</td>\n",
       "      <td>-0.011159</td>\n",
       "      <td>-0.021343</td>\n",
       "      <td>-0.044226</td>\n",
       "      <td>-0.074033</td>\n",
       "      <td>-0.085323</td>\n",
       "      <td>1.000000</td>\n",
       "      <td>-0.020730</td>\n",
       "      <td>0.016995</td>\n",
       "      <td>-0.062468</td>\n",
       "      <td>-0.081268</td>\n",
       "      <td>-0.017596</td>\n",
       "      <td>-0.042851</td>\n",
       "    </tr>\n",
       "    <tr>\n",
       "      <th>feature_342</th>\n",
       "      <td>-0.068816</td>\n",
       "      <td>0.043213</td>\n",
       "      <td>0.965742</td>\n",
       "      <td>-0.024844</td>\n",
       "      <td>0.023313</td>\n",
       "      <td>0.197105</td>\n",
       "      <td>-0.020730</td>\n",
       "      <td>1.000000</td>\n",
       "      <td>-0.016473</td>\n",
       "      <td>0.068478</td>\n",
       "      <td>0.128320</td>\n",
       "      <td>0.967686</td>\n",
       "      <td>0.075907</td>\n",
       "    </tr>\n",
       "    <tr>\n",
       "      <th>feature_122</th>\n",
       "      <td>-0.048110</td>\n",
       "      <td>0.909212</td>\n",
       "      <td>-0.004417</td>\n",
       "      <td>-0.066689</td>\n",
       "      <td>-0.083536</td>\n",
       "      <td>0.017738</td>\n",
       "      <td>0.016995</td>\n",
       "      <td>-0.016473</td>\n",
       "      <td>1.000000</td>\n",
       "      <td>0.012492</td>\n",
       "      <td>-0.037840</td>\n",
       "      <td>-0.008369</td>\n",
       "      <td>-0.023579</td>\n",
       "    </tr>\n",
       "    <tr>\n",
       "      <th>feature_349</th>\n",
       "      <td>-0.109094</td>\n",
       "      <td>0.062308</td>\n",
       "      <td>0.075844</td>\n",
       "      <td>-0.009674</td>\n",
       "      <td>0.044331</td>\n",
       "      <td>0.264595</td>\n",
       "      <td>-0.062468</td>\n",
       "      <td>0.068478</td>\n",
       "      <td>0.012492</td>\n",
       "      <td>1.000000</td>\n",
       "      <td>0.154857</td>\n",
       "      <td>0.073221</td>\n",
       "      <td>0.922887</td>\n",
       "    </tr>\n",
       "    <tr>\n",
       "      <th>feature_148</th>\n",
       "      <td>-0.083995</td>\n",
       "      <td>0.017679</td>\n",
       "      <td>0.127130</td>\n",
       "      <td>0.420001</td>\n",
       "      <td>0.034184</td>\n",
       "      <td>0.261020</td>\n",
       "      <td>-0.081268</td>\n",
       "      <td>0.128320</td>\n",
       "      <td>-0.037840</td>\n",
       "      <td>0.154857</td>\n",
       "      <td>1.000000</td>\n",
       "      <td>0.125065</td>\n",
       "      <td>0.126630</td>\n",
       "    </tr>\n",
       "    <tr>\n",
       "      <th>feature_206</th>\n",
       "      <td>-0.071577</td>\n",
       "      <td>0.052808</td>\n",
       "      <td>0.997951</td>\n",
       "      <td>-0.040135</td>\n",
       "      <td>0.014484</td>\n",
       "      <td>0.208366</td>\n",
       "      <td>-0.017596</td>\n",
       "      <td>0.967686</td>\n",
       "      <td>-0.008369</td>\n",
       "      <td>0.073221</td>\n",
       "      <td>0.125065</td>\n",
       "      <td>1.000000</td>\n",
       "      <td>0.077071</td>\n",
       "    </tr>\n",
       "    <tr>\n",
       "      <th>feature_211</th>\n",
       "      <td>-0.103312</td>\n",
       "      <td>0.019774</td>\n",
       "      <td>0.078979</td>\n",
       "      <td>-0.011143</td>\n",
       "      <td>0.044844</td>\n",
       "      <td>0.236711</td>\n",
       "      <td>-0.042851</td>\n",
       "      <td>0.075907</td>\n",
       "      <td>-0.023579</td>\n",
       "      <td>0.922887</td>\n",
       "      <td>0.126630</td>\n",
       "      <td>0.077071</td>\n",
       "      <td>1.000000</td>\n",
       "    </tr>\n",
       "  </tbody>\n",
       "</table>\n",
       "</div>"
      ],
      "text/plain": [
       "             feature_469  feature_125  feature_478  feature_563  feature_66  \\\n",
       "feature_469     1.000000    -0.071781    -0.071633     0.030468    0.002376   \n",
       "feature_125    -0.071781     1.000000     0.058983    -0.089570   -0.066064   \n",
       "feature_478    -0.071633     0.058983     1.000000    -0.040102    0.009969   \n",
       "feature_563     0.030468    -0.089570    -0.040102     1.000000    0.024735   \n",
       "feature_66      0.002376    -0.066064     0.009969     0.024735    1.000000   \n",
       "feature_60     -0.281611     0.084756     0.213406    -0.044269   -0.383884   \n",
       "feature_1       0.046157    -0.011159    -0.021343    -0.044226   -0.074033   \n",
       "feature_342    -0.068816     0.043213     0.965742    -0.024844    0.023313   \n",
       "feature_122    -0.048110     0.909212    -0.004417    -0.066689   -0.083536   \n",
       "feature_349    -0.109094     0.062308     0.075844    -0.009674    0.044331   \n",
       "feature_148    -0.083995     0.017679     0.127130     0.420001    0.034184   \n",
       "feature_206    -0.071577     0.052808     0.997951    -0.040135    0.014484   \n",
       "feature_211    -0.103312     0.019774     0.078979    -0.011143    0.044844   \n",
       "\n",
       "             feature_60  feature_1  feature_342  feature_122  feature_349  \\\n",
       "feature_469   -0.281611   0.046157    -0.068816    -0.048110    -0.109094   \n",
       "feature_125    0.084756  -0.011159     0.043213     0.909212     0.062308   \n",
       "feature_478    0.213406  -0.021343     0.965742    -0.004417     0.075844   \n",
       "feature_563   -0.044269  -0.044226    -0.024844    -0.066689    -0.009674   \n",
       "feature_66    -0.383884  -0.074033     0.023313    -0.083536     0.044331   \n",
       "feature_60     1.000000  -0.085323     0.197105     0.017738     0.264595   \n",
       "feature_1     -0.085323   1.000000    -0.020730     0.016995    -0.062468   \n",
       "feature_342    0.197105  -0.020730     1.000000    -0.016473     0.068478   \n",
       "feature_122    0.017738   0.016995    -0.016473     1.000000     0.012492   \n",
       "feature_349    0.264595  -0.062468     0.068478     0.012492     1.000000   \n",
       "feature_148    0.261020  -0.081268     0.128320    -0.037840     0.154857   \n",
       "feature_206    0.208366  -0.017596     0.967686    -0.008369     0.073221   \n",
       "feature_211    0.236711  -0.042851     0.075907    -0.023579     0.922887   \n",
       "\n",
       "             feature_148  feature_206  feature_211  \n",
       "feature_469    -0.083995    -0.071577    -0.103312  \n",
       "feature_125     0.017679     0.052808     0.019774  \n",
       "feature_478     0.127130     0.997951     0.078979  \n",
       "feature_563     0.420001    -0.040135    -0.011143  \n",
       "feature_66      0.034184     0.014484     0.044844  \n",
       "feature_60      0.261020     0.208366     0.236711  \n",
       "feature_1      -0.081268    -0.017596    -0.042851  \n",
       "feature_342     0.128320     0.967686     0.075907  \n",
       "feature_122    -0.037840    -0.008369    -0.023579  \n",
       "feature_349     0.154857     0.073221     0.922887  \n",
       "feature_148     1.000000     0.125065     0.126630  \n",
       "feature_206     0.125065     1.000000     0.077071  \n",
       "feature_211     0.126630     0.077071     1.000000  "
      ]
     },
     "execution_count": 18,
     "metadata": {},
     "output_type": "execute_result"
    }
   ],
   "source": [
    "#Correlation Matrix of Remaining Features\n",
    "x_train.corr()"
   ]
  },
  {
   "cell_type": "code",
   "execution_count": 19,
   "metadata": {},
   "outputs": [
    {
     "data": {
      "text/plain": [
       "Text(0.5, 1.0, 'Correlation of remaining Features')"
      ]
     },
     "execution_count": 19,
     "metadata": {},
     "output_type": "execute_result"
    },
    {
     "data": {
      "image/png": "[encoded data removed]",
      "text/plain": [
       "<Figure size 576x576 with 2 Axes>"
      ]
     },
     "metadata": {
      "needs_background": "light"
     },
     "output_type": "display_data"
    }
   ],
   "source": [
    "#Heatmap of Correlation of Remaining Feaures \n",
    "plt.rcParams['figure.figsize'] = (8, 8) #this is to set the size for the plot, making it bigger\n",
    "sns.heatmap(x_train.corr(), cmap = \"YlGnBu\")\n",
    "plt.title('Correlation of remaining Features', fontsize = 20)"
   ]
  },
  {
   "cell_type": "markdown",
   "metadata": {},
   "source": [
    "# 7. Multicolinearity Treatment"
   ]
  },
  {
   "cell_type": "code",
   "execution_count": 20,
   "metadata": {},
   "outputs": [],
   "source": [
    "#Remove the highly collinear features from data\n",
    "def remove_collinear_features(x, threshold):\n",
    "\n",
    "\n",
    "    # Calculate the correlation matrix\n",
    "    corr_matrix = x.corr()\n",
    "    iters = range(len(corr_matrix.columns) - 1)\n",
    "    drop_cols = []\n",
    "\n",
    "    # Iterate through the correlation matrix and compare correlations\n",
    "    for i in iters:\n",
    "        for j in range(i+1):\n",
    "            item = corr_matrix.iloc[j:(j+1), (i+1):(i+2)]\n",
    "            col = item.columns\n",
    "            row = item.index\n",
    "            val = abs(item.values)\n",
    "\n",
    "            # If correlation exceeds the threshold\n",
    "            if val >= threshold:\n",
    "                #Print the correlated features and the correlation value\n",
    "                #print(col.values[0], \"|\", row.values[0], \"|\", round(val[0][0], 2))\n",
    "                drop_cols.append(col.values[0])\n",
    "\n",
    "    # Drop one of each pair of correlated columns\n",
    "    drops = set(drop_cols)\n",
    "    x = x.drop(columns=drops)\n",
    "\n",
    "    return x"
   ]
  },
  {
   "cell_type": "code",
   "execution_count": 21,
   "metadata": {},
   "outputs": [
    {
     "data": {
      "text/plain": [
       "(1253, 9)"
      ]
     },
     "execution_count": 21,
     "metadata": {},
     "output_type": "execute_result"
    }
   ],
   "source": [
    "x_train=remove_collinear_features(x_train, 0.7)\n",
    "x_train.shape"
   ]
  },
  {
   "cell_type": "code",
   "execution_count": 22,
   "metadata": {},
   "outputs": [
    {
     "data": {
      "text/plain": [
       "Text(0.5, 1.0, 'Correlation of remaining Features')"
      ]
     },
     "execution_count": 22,
     "metadata": {},
     "output_type": "execute_result"
    },
    {
     "data": {
      "image/png": "[encoded data removed]",
      "text/plain": [
       "<Figure size 576x576 with 2 Axes>"
      ]
     },
     "metadata": {
      "needs_background": "light"
     },
     "output_type": "display_data"
    }
   ],
   "source": [
    "#Heatmap of Correlation of Remaining Feaures \n",
    "plt.rcParams['figure.figsize'] = (8, 8) #this is to set the size for the plot, making it bigger\n",
    "sns.heatmap(x_train.corr(), cmap = \"YlGnBu\")\n",
    "plt.title('Correlation of remaining Features', fontsize = 20)"
   ]
  },
  {
   "cell_type": "markdown",
   "metadata": {},
   "source": [
    "# 8. Balancing"
   ]
  },
  {
   "cell_type": "code",
   "execution_count": 23,
   "metadata": {},
   "outputs": [],
   "source": [
    "#Function SMOTEENN\n",
    "def sampling(X_train, y_train):\n",
    "    sampler = SMOTEENN(random_state=100)\n",
    "    X_resampled, y_resampled = sampler.fit_resample(X_train, y_train)\n",
    "    return X_resampled, y_resampled\n",
    "\n",
    "# X_train, y_train = sampling(X_train, y_train,'SMOTE')\n",
    "# X_train.shape"
   ]
  },
  {
   "cell_type": "code",
   "execution_count": 24,
   "metadata": {},
   "outputs": [],
   "source": [
    "x_train, y_train = sampling(x_train, y_train)"
   ]
  },
  {
   "cell_type": "code",
   "execution_count": 25,
   "metadata": {},
   "outputs": [
    {
     "data": {
      "text/plain": [
       "(1672, 9)"
      ]
     },
     "execution_count": 25,
     "metadata": {},
     "output_type": "execute_result"
    }
   ],
   "source": [
    "x_train.shape"
   ]
  },
  {
   "cell_type": "code",
   "execution_count": 26,
   "metadata": {},
   "outputs": [
    {
     "data": {
      "text/plain": [
       "(1672,)"
      ]
     },
     "execution_count": 26,
     "metadata": {},
     "output_type": "execute_result"
    }
   ],
   "source": [
    "y_train.shape"
   ]
  },
  {
   "cell_type": "markdown",
   "metadata": {},
   "source": [
    "# 9. Modeling"
   ]
  },
  {
   "cell_type": "code",
   "execution_count": 27,
   "metadata": {},
   "outputs": [
    {
     "name": "stdout",
     "output_type": "stream",
     "text": [
      "              precision    recall  f1-score   support\n",
      "\n",
      "          -1       0.67      0.85      0.75       723\n",
      "           1       0.86      0.68      0.76       949\n",
      "\n",
      "    accuracy                           0.76      1672\n",
      "   macro avg       0.76      0.77      0.76      1672\n",
      "weighted avg       0.78      0.76      0.76      1672\n",
      "\n",
      "[[613 110]\n",
      " [299 650]]\n"
     ]
    }
   ],
   "source": [
    "model = LogisticRegression(random_state=1)\n",
    "model.fit(x_train, y_train)\n",
    "# make predictions\n",
    "expected = y_train\n",
    "predicted = model.predict(x_train)\n",
    "# summarize the fit of the model\n",
    "print(metrics.classification_report(expected, predicted))\n",
    "print(metrics.confusion_matrix(expected, predicted))\n"
   ]
  },
  {
   "cell_type": "code",
   "execution_count": 28,
   "metadata": {},
   "outputs": [
    {
     "data": {
      "text/plain": [
       "0.684931506849315"
      ]
     },
     "execution_count": 28,
     "metadata": {},
     "output_type": "execute_result"
    }
   ],
   "source": [
    "cf_matrix = confusion_matrix(expected, predicted)\n",
    "sensitivity = cf_matrix[1][1] / ( cf_matrix[1][1] + cf_matrix[1][0] )\n",
    "sensitivity"
   ]
  },
  {
   "cell_type": "markdown",
   "metadata": {},
   "source": [
    "# 10. Test Data"
   ]
  },
  {
   "cell_type": "code",
   "execution_count": 29,
   "metadata": {},
   "outputs": [
    {
     "data": {
      "text/plain": [
       "(314, 480)"
      ]
     },
     "execution_count": 29,
     "metadata": {},
     "output_type": "execute_result"
    }
   ],
   "source": [
    "#1. Remove Duplicated Columns \n",
    "x_test = remove_duplicated_columns(x_test)\n",
    "x_test.shape"
   ]
  },
  {
   "cell_type": "code",
   "execution_count": 30,
   "metadata": {},
   "outputs": [
    {
     "data": {
      "text/plain": [
       "(314, 468)"
      ]
     },
     "execution_count": 30,
     "metadata": {},
     "output_type": "execute_result"
    }
   ],
   "source": [
    "#2. Remove Constant Volalitily\n",
    "x_test = remove_constant_volatility(x_test)\n",
    "x_test.shape"
   ]
  },
  {
   "cell_type": "code",
   "execution_count": 31,
   "metadata": {},
   "outputs": [
    {
     "data": {
      "text/plain": [
       "(314, 444)"
      ]
     },
     "execution_count": 31,
     "metadata": {},
     "output_type": "execute_result"
    }
   ],
   "source": [
    "#3. Remove High % of NA\n",
    "x_test = remove_cols_with_high_pct_null(x_test, 0.6)\n",
    "x_test.shape"
   ]
  },
  {
   "cell_type": "code",
   "execution_count": 32,
   "metadata": {},
   "outputs": [],
   "source": [
    "#4. Drop Outliers and KNN Imputation\n",
    "x_test= outlierknn(x_test)"
   ]
  },
  {
   "cell_type": "code",
   "execution_count": 33,
   "metadata": {},
   "outputs": [
    {
     "data": {
      "text/plain": [
       "(314, 9)"
      ]
     },
     "execution_count": 33,
     "metadata": {},
     "output_type": "execute_result"
    }
   ],
   "source": [
    "#5. Take the same Columns as in train data \n",
    "columns_list = x_train.columns\n",
    "x_test = x_test.loc[:,columns_list]\n",
    "x_test.shape"
   ]
  },
  {
   "cell_type": "code",
   "execution_count": 35,
   "metadata": {},
   "outputs": [
    {
     "name": "stdout",
     "output_type": "stream",
     "text": [
      "              precision    recall  f1-score   support\n",
      "\n",
      "          -1       0.96      0.81      0.88       293\n",
      "           1       0.18      0.57      0.27        21\n",
      "\n",
      "    accuracy                           0.79       314\n",
      "   macro avg       0.57      0.69      0.57       314\n",
      "weighted avg       0.91      0.79      0.84       314\n",
      "\n",
      "[[237  56]\n",
      " [  9  12]]\n"
     ]
    }
   ],
   "source": [
    "exp_test = y_test\n",
    "pred_test = model.predict(x_test)\n",
    "# summarize the fit of the gnb\n",
    "print(metrics.classification_report(exp_test, pred_test))\n",
    "print(metrics.confusion_matrix(exp_test, pred_test))"
   ]
  },
  {
   "cell_type": "code",
   "execution_count": 36,
   "metadata": {},
   "outputs": [
    {
     "data": {
      "text/plain": [
       "0.5714285714285714"
      ]
     },
     "execution_count": 36,
     "metadata": {},
     "output_type": "execute_result"
    }
   ],
   "source": [
    "cf_matrix_test = confusion_matrix(exp_test, pred_test)\n",
    "sensitivity_test = cf_matrix_test[1][1] / ( cf_matrix_test[1][1] + cf_matrix_test[1][0] )\n",
    "sensitivity_test"
   ]
  },
  {
   "cell_type": "code",
   "execution_count": 40,
   "metadata": {},
   "outputs": [
    {
     "data": {
      "text/plain": [
       "0.7929936305732485"
      ]
     },
     "execution_count": 40,
     "metadata": {},
     "output_type": "execute_result"
    }
   ],
   "source": [
    "#Accuracy\n",
    "accuracy_score(exp_test, pred_test)"
   ]
  },
  {
   "cell_type": "code",
   "execution_count": 41,
   "metadata": {},
   "outputs": [
    {
     "data": {
      "text/plain": [
       "0.5714285714285714"
      ]
     },
     "execution_count": 41,
     "metadata": {},
     "output_type": "execute_result"
    }
   ],
   "source": [
    "recall_score(exp_test, pred_test)"
   ]
  }
 ],
 "metadata": {
  "kernelspec": {
   "display_name": "Python 3.9.12 ('dscience')",
   "language": "python",
   "name": "python3"
  },
  "language_info": {
   "codemirror_mode": {
    "name": "ipython",
    "version": 3
   },
   "file_extension": ".py",
   "mimetype": "text/x-python",
   "name": "python",
   "nbconvert_exporter": "python",
   "pygments_lexer": "ipython3",
   "version": "3.9.12"
  },
  "orig_nbformat": 4,
  "vscode": {
   "interpreter": {
    "hash": "3078b67b691a5c266f6971fd9f463b4eac2178879712276f7d11f0f0eb816c78"
   }
  }
 },
 "nbformat": 4,
 "nbformat_minor": 2
}
