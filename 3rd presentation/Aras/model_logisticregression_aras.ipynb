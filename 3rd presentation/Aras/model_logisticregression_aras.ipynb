{
 "cells": [
  {
   "cell_type": "markdown",
   "metadata": {},
   "source": [
    "# 1. Importing Libraries"
   ]
  },
  {
   "cell_type": "code",
   "execution_count": 80,
   "metadata": {},
   "outputs": [],
   "source": [
    "import pandas as pd \n",
    "import numpy as np \n",
    "from sklearn.impute import KNNImputer\n",
    "import matplotlib.pyplot as plt \n",
    "from sklearn.preprocessing import MinMaxScaler\n",
    "from scipy import stats\n",
    "from sklearn.model_selection import KFold, StratifiedKFold, train_test_split \n",
    "import seaborn as sns \n",
    "from sklearn.experimental import enable_iterative_imputer\n",
    "from sklearn.impute import IterativeImputer\n",
    "from sklearn.ensemble import RandomForestClassifier\n",
    "from BorutaShap import BorutaShap\n",
    "from imblearn.combine import SMOTEENN\n",
    "from sklearn import metrics\n",
    "from sklearn.naive_bayes import GaussianNB\n",
    "from sklearn.linear_model import LogisticRegression\n",
    "from sklearn.metrics import accuracy_score, confusion_matrix, ConfusionMatrixDisplay, f1_score, precision_score, recall_score, roc_auc_score, log_loss, cohen_kappa_score, plot_confusion_matrix"
   ]
  },
  {
   "cell_type": "markdown",
   "metadata": {},
   "source": [
    "# 2. Reading Data"
   ]
  },
  {
   "cell_type": "code",
   "execution_count": 81,
   "metadata": {},
   "outputs": [],
   "source": [
    "#this function is to read, transform and join 2 data frame\n",
    "\n",
    "def read_features():\n",
    "    path = 'secom.data'\n",
    "    df = pd.read_csv(path, delimiter=' ', header=None, na_values=['NaN'])\n",
    "    df.columns = ['feature_'+str(x+1) for x in range(len(df.columns))]\n",
    "    return df\n",
    "\n",
    "\n",
    "\n",
    "def read_target():\n",
    "    path = 'secom_labels.data'\n",
    "    df = pd.read_csv(path, delimiter=' ', header=None, na_values=['NaN'])\n",
    "    df.columns = ['status','timestamp']\n",
    "    df['timestamp'] = pd.to_datetime(df['timestamp'],dayfirst=True)\n",
    "    return df\n",
    "\n",
    "#for the testing purporse, trim to remain first 100 rows only\n",
    "X = read_features()\n",
    "y = read_target().iloc[:,0]"
   ]
  },
  {
   "cell_type": "code",
   "execution_count": 82,
   "metadata": {},
   "outputs": [
    {
     "data": {
      "text/plain": [
       "(1567, 590)"
      ]
     },
     "execution_count": 82,
     "metadata": {},
     "output_type": "execute_result"
    }
   ],
   "source": [
    "#Row & Columns of Features \n",
    "X.shape"
   ]
  },
  {
   "cell_type": "markdown",
   "metadata": {},
   "source": [
    "# 3. Splitting Training & Testing Data"
   ]
  },
  {
   "cell_type": "code",
   "execution_count": 83,
   "metadata": {},
   "outputs": [],
   "source": [
    "#Splitting the Data: 80% Training, 20% Testing Data\n",
    "x_train, x_test, y_train, y_test = train_test_split(X, y, test_size = 0.2, random_state = 1,stratify=y)"
   ]
  },
  {
   "cell_type": "code",
   "execution_count": 84,
   "metadata": {},
   "outputs": [
    {
     "data": {
      "text/plain": [
       "(1253, 590)"
      ]
     },
     "execution_count": 84,
     "metadata": {},
     "output_type": "execute_result"
    }
   ],
   "source": [
    "#Rows and Columns of X_Train DF\n",
    "x_train.shape"
   ]
  },
  {
   "cell_type": "code",
   "execution_count": 85,
   "metadata": {},
   "outputs": [
    {
     "data": {
      "text/plain": [
       "(314, 590)"
      ]
     },
     "execution_count": 85,
     "metadata": {},
     "output_type": "execute_result"
    }
   ],
   "source": [
    "#Rows and Columns of X_Train DF\n",
    "x_test.shape"
   ]
  },
  {
   "cell_type": "markdown",
   "metadata": {},
   "source": [
    "# 4. Reducing Dimensionality"
   ]
  },
  {
   "cell_type": "markdown",
   "metadata": {},
   "source": [
    "## 4.1. Remove duplicated Columns"
   ]
  },
  {
   "cell_type": "code",
   "execution_count": 86,
   "metadata": {},
   "outputs": [],
   "source": [
    "#Function for finding and removing duplicated columns (features)\n",
    "def remove_duplicated_columns(df):\n",
    "    dict_duplicate_pair = {}\n",
    "    dict_duplicate_matches = {}\n",
    "    list_duplicate = []\n",
    "    to_remove = []\n",
    "    for i in range(0, len(df.columns)):\n",
    "        l = []\n",
    "        for j in range(i+1,len(df.columns)):\n",
    "            dict_duplicate_pair[str(i+1)+';'+str(j+1)] = df.iloc[:,i].equals(df.iloc[:,j])\n",
    "            if df.iloc[:,i].equals(df.iloc[:,j]) == True:\n",
    "                if j not in list_duplicate:\n",
    "                    l.append(j)\n",
    "                    to_remove.append('feature_'+str(j+1))\n",
    "                list_duplicate.append(i)\n",
    "                list_duplicate.append(j)\n",
    "        if len(l)!=0:\n",
    "            dict_duplicate_matches[i] = l\n",
    "\n",
    "\n",
    "    df_duplicate_pair = pd.DataFrame.from_dict(dict_duplicate_pair, orient='index')\n",
    "    df_duplicate_pair.columns=['duplicate']\n",
    "\n",
    "    df_duplicate_matches = pd.DataFrame.from_dict(dict_duplicate_matches, orient='index')\n",
    "\n",
    "    \n",
    "    df = df.drop(columns=to_remove, axis = 1)\n",
    "\n",
    "    return df"
   ]
  },
  {
   "cell_type": "code",
   "execution_count": 87,
   "metadata": {},
   "outputs": [
    {
     "data": {
      "text/plain": [
       "(1253, 486)"
      ]
     },
     "execution_count": 87,
     "metadata": {},
     "output_type": "execute_result"
    }
   ],
   "source": [
    "#Using Function on x_train & printing new shape of dataframe after transformation \n",
    "x_train = remove_duplicated_columns(x_train)\n",
    "x_train.shape"
   ]
  },
  {
   "cell_type": "markdown",
   "metadata": {},
   "source": [
    "## 4.2. Removing Features with Constant Volatility"
   ]
  },
  {
   "cell_type": "code",
   "execution_count": 88,
   "metadata": {},
   "outputs": [],
   "source": [
    "#Defining function to find and remove features with zero standard deviation \n",
    "def remove_constant_volatility(df):\n",
    "    df_EDA= df.describe().T\n",
    "    df_EDA= df_EDA[df_EDA[\"std\"] == 0]\n",
    "    df = df.drop(axis=1, columns=df_EDA.index)\n",
    "    return df"
   ]
  },
  {
   "cell_type": "code",
   "execution_count": 89,
   "metadata": {},
   "outputs": [
    {
     "data": {
      "text/plain": [
       "(1253, 474)"
      ]
     },
     "execution_count": 89,
     "metadata": {},
     "output_type": "execute_result"
    }
   ],
   "source": [
    "#Using Function on x_train & printing new shape of dataframe after transformation \n",
    "x_train = remove_constant_volatility(x_train)\n",
    "x_train.shape"
   ]
  },
  {
   "cell_type": "markdown",
   "metadata": {},
   "source": [
    "## 4.3. Remove Features with high % of Missing Values"
   ]
  },
  {
   "cell_type": "code",
   "execution_count": 90,
   "metadata": {},
   "outputs": [],
   "source": [
    "#Defining function to remove features with a given % of missing values \n",
    "def remove_cols_with_high_pct_null(df, null_threshold):\n",
    "    list_column_with_pct_null = pd.concat([df.isnull().sum(), df.isnull().sum()/df.shape[0]],axis=1).rename(columns={0:'Missing_Records', 1:'Percentage (%)'})\n",
    "    list_column_with_pct_null= list_column_with_pct_null[list_column_with_pct_null[\"Percentage (%)\"] >= null_threshold]\n",
    "    df = df.drop(axis=1, columns=list_column_with_pct_null.index)\n",
    "    return df"
   ]
  },
  {
   "cell_type": "code",
   "execution_count": 91,
   "metadata": {},
   "outputs": [
    {
     "data": {
      "text/plain": [
       "(1253, 466)"
      ]
     },
     "execution_count": 91,
     "metadata": {},
     "output_type": "execute_result"
    }
   ],
   "source": [
    "#Using Function on x_train & printing new shape of dataframe after transformation \n",
    "x_train = remove_cols_with_high_pct_null(x_train, 0.7)\n",
    "x_train.shape"
   ]
  },
  {
   "cell_type": "markdown",
   "metadata": {},
   "source": [
    "# 5. Outlier & Missing Value Treatment"
   ]
  },
  {
   "cell_type": "markdown",
   "metadata": {},
   "source": [
    "#Definition of Functiom\n",
    "def outlier_clamp(df):\n",
    "    for col in df.columns:\n",
    "        ll_col = df[col].mean() - 2 * df[col].std()\n",
    "        ul_col = df[col].mean() + 2 * df[col].std()\n",
    "        df[col] = np.where(df[col]>ul_col,ul_col,np.where(df[col]<ll_col,ll_col,df[col]))\n",
    "    return df"
   ]
  },
  {
   "cell_type": "markdown",
   "metadata": {},
   "source": [
    "x_train = outlier_clamp(x_train)"
   ]
  },
  {
   "cell_type": "markdown",
   "metadata": {},
   "source": [
    "#KNN only distance\n",
    "def knndistance(df):\n",
    "    scaler = MinMaxScaler()\n",
    "    df = pd.DataFrame(scaler.fit_transform(df), columns= df.columns)\n",
    "    #KNN Imputation \n",
    "    knn = KNNImputer(n_neighbors=5, weights='distance')\n",
    "    df = pd.DataFrame(knn.fit_transform(df), columns=df.columns)\n",
    "    #Reverse Scaling\n",
    "    df = pd.DataFrame(scaler.inverse_transform(df), columns= df.columns)\n",
    "    return df  "
   ]
  },
  {
   "cell_type": "markdown",
   "metadata": {},
   "source": [
    "x_train = knndistance(x_train)"
   ]
  },
  {
   "cell_type": "code",
   "execution_count": 92,
   "metadata": {},
   "outputs": [],
   "source": [
    "#Function to drop Outliers and impute Missing Values with KNN \n",
    "def outlierknn(df):\n",
    "    #Outlier treatment first:\n",
    "    for col in df.columns:\n",
    "          ll_col = df[col].mean() - 3 * df[col].std()\n",
    "          ul_col = df[col].mean() + 3 * df[col].std()\n",
    "          df[col] = np.where(df[col]>ul_col,np.NaN,np.where(df[col]<ll_col,np.NaN,df[col]))\n",
    "    #Scaling data \n",
    "    scaler = MinMaxScaler()\n",
    "    df = pd.DataFrame(scaler.fit_transform(df), columns= df.columns)\n",
    "    #KNN Imputation\n",
    "    knn = KNNImputer(n_neighbors=3, weights='distance')\n",
    "    df = pd.DataFrame(knn.fit_transform(df), columns=df.columns)\n",
    "    #Reverse Scaling\n",
    "    df = pd.DataFrame(scaler.inverse_transform(df), columns= df.columns)\n",
    "    return df  "
   ]
  },
  {
   "cell_type": "code",
   "execution_count": 93,
   "metadata": {},
   "outputs": [],
   "source": [
    "#Using function above on x_train\n",
    "x_train = outlierknn(x_train)"
   ]
  },
  {
   "cell_type": "markdown",
   "metadata": {},
   "source": [
    "# 6. Feature Selection"
   ]
  },
  {
   "cell_type": "code",
   "execution_count": 94,
   "metadata": {},
   "outputs": [],
   "source": [
    "#This is BorutaShap with TENTATIVE features\n",
    "\n",
    "#list_method=['shap','gini']\n",
    "\n",
    "def BorutaShap_FS (X, y,method_option) :\n",
    "    #modelshap = RandomForestClassifier(n_jobs=-1,n_estimators=100, class_weight='balanced_subsample', max_depth=5, random_state=100)\n",
    "    modelshap = RandomForestClassifier(n_jobs=-1,n_estimators=100, max_depth=5, random_state=100)\n",
    "\n",
    "    # define model for resp. classifier\n",
    "    modelshap.fit(X,y)\n",
    "    feature_names = np.array(X.columns)\n",
    "    # define Boruta Sahp feature selection method\n",
    "    feature_selector = BorutaShap(model=modelshap,\n",
    "                              importance_measure=method_option,\n",
    "                              classification=True)  # find all relevant features\n",
    "    feature_selector.fit(X,y,n_trials=100,sample = False, verbose = False,random_state=100)  \n",
    "    #feature_selector.plot(which_features='accepted',figsize=(20,10))\n",
    "    tentative=X.loc[:,feature_selector.tentative]\n",
    "    selected=feature_selector.Subset()\n",
    "    selten=pd.concat([selected,tentative],axis=1)\n",
    "    # call transform() on X to filter it down to selected features\n",
    "    return  selten"
   ]
  },
  {
   "cell_type": "code",
   "execution_count": 95,
   "metadata": {},
   "outputs": [
    {
     "data": {
      "application/vnd.jupyter.widget-view+json": {
       "model_id": "a3cf3606e2354bcbb4b8266100b908cb",
       "version_major": 2,
       "version_minor": 0
      },
      "text/plain": [
       "  0%|          | 0/100 [00:00<?, ?it/s]"
      ]
     },
     "metadata": {},
     "output_type": "display_data"
    }
   ],
   "source": [
    "x_train = BorutaShap_FS(x_train,y_train,'shap')"
   ]
  },
  {
   "cell_type": "code",
   "execution_count": 96,
   "metadata": {},
   "outputs": [
    {
     "data": {
      "text/plain": [
       "(1253, 14)"
      ]
     },
     "execution_count": 96,
     "metadata": {},
     "output_type": "execute_result"
    }
   ],
   "source": [
    "#Shape of x_train after Feature Selection\n",
    "x_train.shape"
   ]
  },
  {
   "cell_type": "code",
   "execution_count": 97,
   "metadata": {},
   "outputs": [
    {
     "data": {
      "text/html": [
       "<div>\n",
       "<style scoped>\n",
       "    .dataframe tbody tr th:only-of-type {\n",
       "        vertical-align: middle;\n",
       "    }\n",
       "\n",
       "    .dataframe tbody tr th {\n",
       "        vertical-align: top;\n",
       "    }\n",
       "\n",
       "    .dataframe thead th {\n",
       "        text-align: right;\n",
       "    }\n",
       "</style>\n",
       "<table border=\"1\" class=\"dataframe\">\n",
       "  <thead>\n",
       "    <tr style=\"text-align: right;\">\n",
       "      <th></th>\n",
       "      <th>feature_478</th>\n",
       "      <th>feature_563</th>\n",
       "      <th>feature_66</th>\n",
       "      <th>feature_60</th>\n",
       "      <th>feature_148</th>\n",
       "      <th>feature_342</th>\n",
       "      <th>feature_442</th>\n",
       "      <th>feature_133</th>\n",
       "      <th>feature_349</th>\n",
       "      <th>feature_332</th>\n",
       "      <th>feature_206</th>\n",
       "      <th>feature_124</th>\n",
       "      <th>feature_476</th>\n",
       "      <th>feature_421</th>\n",
       "    </tr>\n",
       "  </thead>\n",
       "  <tbody>\n",
       "    <tr>\n",
       "      <th>feature_478</th>\n",
       "      <td>1.000000</td>\n",
       "      <td>-0.041205</td>\n",
       "      <td>0.011083</td>\n",
       "      <td>0.213053</td>\n",
       "      <td>0.127089</td>\n",
       "      <td>0.965772</td>\n",
       "      <td>0.096947</td>\n",
       "      <td>0.094808</td>\n",
       "      <td>0.075932</td>\n",
       "      <td>-0.089345</td>\n",
       "      <td>0.997951</td>\n",
       "      <td>-0.000621</td>\n",
       "      <td>0.032221</td>\n",
       "      <td>0.127903</td>\n",
       "    </tr>\n",
       "    <tr>\n",
       "      <th>feature_563</th>\n",
       "      <td>-0.041205</td>\n",
       "      <td>1.000000</td>\n",
       "      <td>0.025285</td>\n",
       "      <td>-0.046322</td>\n",
       "      <td>0.418489</td>\n",
       "      <td>-0.025426</td>\n",
       "      <td>-0.091399</td>\n",
       "      <td>-0.191751</td>\n",
       "      <td>-0.010384</td>\n",
       "      <td>-0.039400</td>\n",
       "      <td>-0.041226</td>\n",
       "      <td>-0.061407</td>\n",
       "      <td>0.004402</td>\n",
       "      <td>0.414228</td>\n",
       "    </tr>\n",
       "    <tr>\n",
       "      <th>feature_66</th>\n",
       "      <td>0.011083</td>\n",
       "      <td>0.025285</td>\n",
       "      <td>1.000000</td>\n",
       "      <td>-0.383259</td>\n",
       "      <td>0.035018</td>\n",
       "      <td>0.024322</td>\n",
       "      <td>0.003846</td>\n",
       "      <td>0.017097</td>\n",
       "      <td>0.045223</td>\n",
       "      <td>-0.133756</td>\n",
       "      <td>0.015588</td>\n",
       "      <td>-0.073897</td>\n",
       "      <td>-0.122914</td>\n",
       "      <td>0.033659</td>\n",
       "    </tr>\n",
       "    <tr>\n",
       "      <th>feature_60</th>\n",
       "      <td>0.213053</td>\n",
       "      <td>-0.046322</td>\n",
       "      <td>-0.383259</td>\n",
       "      <td>1.000000</td>\n",
       "      <td>0.261027</td>\n",
       "      <td>0.196633</td>\n",
       "      <td>0.115434</td>\n",
       "      <td>0.166408</td>\n",
       "      <td>0.264768</td>\n",
       "      <td>-0.017971</td>\n",
       "      <td>0.208036</td>\n",
       "      <td>0.048769</td>\n",
       "      <td>-0.087381</td>\n",
       "      <td>0.262105</td>\n",
       "    </tr>\n",
       "    <tr>\n",
       "      <th>feature_148</th>\n",
       "      <td>0.127089</td>\n",
       "      <td>0.418489</td>\n",
       "      <td>0.035018</td>\n",
       "      <td>0.261027</td>\n",
       "      <td>1.000000</td>\n",
       "      <td>0.128258</td>\n",
       "      <td>0.025428</td>\n",
       "      <td>0.005778</td>\n",
       "      <td>0.154777</td>\n",
       "      <td>-0.025712</td>\n",
       "      <td>0.125027</td>\n",
       "      <td>-0.012749</td>\n",
       "      <td>-0.008549</td>\n",
       "      <td>0.999892</td>\n",
       "    </tr>\n",
       "    <tr>\n",
       "      <th>feature_342</th>\n",
       "      <td>0.965772</td>\n",
       "      <td>-0.025426</td>\n",
       "      <td>0.024322</td>\n",
       "      <td>0.196633</td>\n",
       "      <td>0.128258</td>\n",
       "      <td>1.000000</td>\n",
       "      <td>0.092578</td>\n",
       "      <td>0.103668</td>\n",
       "      <td>0.068675</td>\n",
       "      <td>-0.108981</td>\n",
       "      <td>0.967712</td>\n",
       "      <td>-0.015985</td>\n",
       "      <td>0.034910</td>\n",
       "      <td>0.128844</td>\n",
       "    </tr>\n",
       "    <tr>\n",
       "      <th>feature_442</th>\n",
       "      <td>0.096947</td>\n",
       "      <td>-0.091399</td>\n",
       "      <td>0.003846</td>\n",
       "      <td>0.115434</td>\n",
       "      <td>0.025428</td>\n",
       "      <td>0.092578</td>\n",
       "      <td>1.000000</td>\n",
       "      <td>0.153265</td>\n",
       "      <td>0.017402</td>\n",
       "      <td>0.072837</td>\n",
       "      <td>0.096962</td>\n",
       "      <td>0.020738</td>\n",
       "      <td>0.057268</td>\n",
       "      <td>0.027117</td>\n",
       "    </tr>\n",
       "    <tr>\n",
       "      <th>feature_133</th>\n",
       "      <td>0.094808</td>\n",
       "      <td>-0.191751</td>\n",
       "      <td>0.017097</td>\n",
       "      <td>0.166408</td>\n",
       "      <td>0.005778</td>\n",
       "      <td>0.103668</td>\n",
       "      <td>0.153265</td>\n",
       "      <td>1.000000</td>\n",
       "      <td>0.042493</td>\n",
       "      <td>0.016080</td>\n",
       "      <td>0.096177</td>\n",
       "      <td>-0.199839</td>\n",
       "      <td>-0.022785</td>\n",
       "      <td>0.007923</td>\n",
       "    </tr>\n",
       "    <tr>\n",
       "      <th>feature_349</th>\n",
       "      <td>0.075932</td>\n",
       "      <td>-0.010384</td>\n",
       "      <td>0.045223</td>\n",
       "      <td>0.264768</td>\n",
       "      <td>0.154777</td>\n",
       "      <td>0.068675</td>\n",
       "      <td>0.017402</td>\n",
       "      <td>0.042493</td>\n",
       "      <td>1.000000</td>\n",
       "      <td>-0.054543</td>\n",
       "      <td>0.073301</td>\n",
       "      <td>0.017463</td>\n",
       "      <td>-0.098570</td>\n",
       "      <td>0.155061</td>\n",
       "    </tr>\n",
       "    <tr>\n",
       "      <th>feature_332</th>\n",
       "      <td>-0.089345</td>\n",
       "      <td>-0.039400</td>\n",
       "      <td>-0.133756</td>\n",
       "      <td>-0.017971</td>\n",
       "      <td>-0.025712</td>\n",
       "      <td>-0.108981</td>\n",
       "      <td>0.072837</td>\n",
       "      <td>0.016080</td>\n",
       "      <td>-0.054543</td>\n",
       "      <td>1.000000</td>\n",
       "      <td>-0.086303</td>\n",
       "      <td>0.110986</td>\n",
       "      <td>0.598172</td>\n",
       "      <td>-0.024060</td>\n",
       "    </tr>\n",
       "    <tr>\n",
       "      <th>feature_206</th>\n",
       "      <td>0.997951</td>\n",
       "      <td>-0.041226</td>\n",
       "      <td>0.015588</td>\n",
       "      <td>0.208036</td>\n",
       "      <td>0.125027</td>\n",
       "      <td>0.967712</td>\n",
       "      <td>0.096962</td>\n",
       "      <td>0.096177</td>\n",
       "      <td>0.073301</td>\n",
       "      <td>-0.086303</td>\n",
       "      <td>1.000000</td>\n",
       "      <td>-0.004050</td>\n",
       "      <td>0.030404</td>\n",
       "      <td>0.125813</td>\n",
       "    </tr>\n",
       "    <tr>\n",
       "      <th>feature_124</th>\n",
       "      <td>-0.000621</td>\n",
       "      <td>-0.061407</td>\n",
       "      <td>-0.073897</td>\n",
       "      <td>0.048769</td>\n",
       "      <td>-0.012749</td>\n",
       "      <td>-0.015985</td>\n",
       "      <td>0.020738</td>\n",
       "      <td>-0.199839</td>\n",
       "      <td>0.017463</td>\n",
       "      <td>0.110986</td>\n",
       "      <td>-0.004050</td>\n",
       "      <td>1.000000</td>\n",
       "      <td>0.170779</td>\n",
       "      <td>-0.011887</td>\n",
       "    </tr>\n",
       "    <tr>\n",
       "      <th>feature_476</th>\n",
       "      <td>0.032221</td>\n",
       "      <td>0.004402</td>\n",
       "      <td>-0.122914</td>\n",
       "      <td>-0.087381</td>\n",
       "      <td>-0.008549</td>\n",
       "      <td>0.034910</td>\n",
       "      <td>0.057268</td>\n",
       "      <td>-0.022785</td>\n",
       "      <td>-0.098570</td>\n",
       "      <td>0.598172</td>\n",
       "      <td>0.030404</td>\n",
       "      <td>0.170779</td>\n",
       "      <td>1.000000</td>\n",
       "      <td>-0.007151</td>\n",
       "    </tr>\n",
       "    <tr>\n",
       "      <th>feature_421</th>\n",
       "      <td>0.127903</td>\n",
       "      <td>0.414228</td>\n",
       "      <td>0.033659</td>\n",
       "      <td>0.262105</td>\n",
       "      <td>0.999892</td>\n",
       "      <td>0.128844</td>\n",
       "      <td>0.027117</td>\n",
       "      <td>0.007923</td>\n",
       "      <td>0.155061</td>\n",
       "      <td>-0.024060</td>\n",
       "      <td>0.125813</td>\n",
       "      <td>-0.011887</td>\n",
       "      <td>-0.007151</td>\n",
       "      <td>1.000000</td>\n",
       "    </tr>\n",
       "  </tbody>\n",
       "</table>\n",
       "</div>"
      ],
      "text/plain": [
       "             feature_478  feature_563  feature_66  feature_60  feature_148  \\\n",
       "feature_478     1.000000    -0.041205    0.011083    0.213053     0.127089   \n",
       "feature_563    -0.041205     1.000000    0.025285   -0.046322     0.418489   \n",
       "feature_66      0.011083     0.025285    1.000000   -0.383259     0.035018   \n",
       "feature_60      0.213053    -0.046322   -0.383259    1.000000     0.261027   \n",
       "feature_148     0.127089     0.418489    0.035018    0.261027     1.000000   \n",
       "feature_342     0.965772    -0.025426    0.024322    0.196633     0.128258   \n",
       "feature_442     0.096947    -0.091399    0.003846    0.115434     0.025428   \n",
       "feature_133     0.094808    -0.191751    0.017097    0.166408     0.005778   \n",
       "feature_349     0.075932    -0.010384    0.045223    0.264768     0.154777   \n",
       "feature_332    -0.089345    -0.039400   -0.133756   -0.017971    -0.025712   \n",
       "feature_206     0.997951    -0.041226    0.015588    0.208036     0.125027   \n",
       "feature_124    -0.000621    -0.061407   -0.073897    0.048769    -0.012749   \n",
       "feature_476     0.032221     0.004402   -0.122914   -0.087381    -0.008549   \n",
       "feature_421     0.127903     0.414228    0.033659    0.262105     0.999892   \n",
       "\n",
       "             feature_342  feature_442  feature_133  feature_349  feature_332  \\\n",
       "feature_478     0.965772     0.096947     0.094808     0.075932    -0.089345   \n",
       "feature_563    -0.025426    -0.091399    -0.191751    -0.010384    -0.039400   \n",
       "feature_66      0.024322     0.003846     0.017097     0.045223    -0.133756   \n",
       "feature_60      0.196633     0.115434     0.166408     0.264768    -0.017971   \n",
       "feature_148     0.128258     0.025428     0.005778     0.154777    -0.025712   \n",
       "feature_342     1.000000     0.092578     0.103668     0.068675    -0.108981   \n",
       "feature_442     0.092578     1.000000     0.153265     0.017402     0.072837   \n",
       "feature_133     0.103668     0.153265     1.000000     0.042493     0.016080   \n",
       "feature_349     0.068675     0.017402     0.042493     1.000000    -0.054543   \n",
       "feature_332    -0.108981     0.072837     0.016080    -0.054543     1.000000   \n",
       "feature_206     0.967712     0.096962     0.096177     0.073301    -0.086303   \n",
       "feature_124    -0.015985     0.020738    -0.199839     0.017463     0.110986   \n",
       "feature_476     0.034910     0.057268    -0.022785    -0.098570     0.598172   \n",
       "feature_421     0.128844     0.027117     0.007923     0.155061    -0.024060   \n",
       "\n",
       "             feature_206  feature_124  feature_476  feature_421  \n",
       "feature_478     0.997951    -0.000621     0.032221     0.127903  \n",
       "feature_563    -0.041226    -0.061407     0.004402     0.414228  \n",
       "feature_66      0.015588    -0.073897    -0.122914     0.033659  \n",
       "feature_60      0.208036     0.048769    -0.087381     0.262105  \n",
       "feature_148     0.125027    -0.012749    -0.008549     0.999892  \n",
       "feature_342     0.967712    -0.015985     0.034910     0.128844  \n",
       "feature_442     0.096962     0.020738     0.057268     0.027117  \n",
       "feature_133     0.096177    -0.199839    -0.022785     0.007923  \n",
       "feature_349     0.073301     0.017463    -0.098570     0.155061  \n",
       "feature_332    -0.086303     0.110986     0.598172    -0.024060  \n",
       "feature_206     1.000000    -0.004050     0.030404     0.125813  \n",
       "feature_124    -0.004050     1.000000     0.170779    -0.011887  \n",
       "feature_476     0.030404     0.170779     1.000000    -0.007151  \n",
       "feature_421     0.125813    -0.011887    -0.007151     1.000000  "
      ]
     },
     "execution_count": 97,
     "metadata": {},
     "output_type": "execute_result"
    }
   ],
   "source": [
    "#Correlation Matrix of Remaining Features\n",
    "x_train.corr()"
   ]
  },
  {
   "cell_type": "code",
   "execution_count": 98,
   "metadata": {},
   "outputs": [
    {
     "data": {
      "text/plain": [
       "Text(0.5, 1.0, 'Correlation of remaining Features')"
      ]
     },
     "execution_count": 98,
     "metadata": {},
     "output_type": "execute_result"
    },
    {
     "data": {
      "image/png": "[encoded data removed]",
      "text/plain": [
       "<Figure size 576x576 with 2 Axes>"
      ]
     },
     "metadata": {
      "needs_background": "light"
     },
     "output_type": "display_data"
    }
   ],
   "source": [
    "#Heatmap of Correlation of Remaining Feaures \n",
    "plt.rcParams['figure.figsize'] = (8, 8) #this is to set the size for the plot, making it bigger\n",
    "sns.heatmap(x_train.corr(), cmap = \"YlGnBu\")\n",
    "plt.title('Correlation of remaining Features', fontsize = 20)"
   ]
  },
  {
   "cell_type": "markdown",
   "metadata": {},
   "source": [
    "# 7. Multicolinearity Treatment"
   ]
  },
  {
   "cell_type": "code",
   "execution_count": 99,
   "metadata": {},
   "outputs": [],
   "source": [
    "#Remove the highly collinear features from data\n",
    "def remove_collinear_features(x, threshold):\n",
    "\n",
    "\n",
    "    # Calculate the correlation matrix\n",
    "    corr_matrix = x.corr()\n",
    "    iters = range(len(corr_matrix.columns) - 1)\n",
    "    drop_cols = []\n",
    "\n",
    "    # Iterate through the correlation matrix and compare correlations\n",
    "    for i in iters:\n",
    "        for j in range(i+1):\n",
    "            item = corr_matrix.iloc[j:(j+1), (i+1):(i+2)]\n",
    "            col = item.columns\n",
    "            row = item.index\n",
    "            val = abs(item.values)\n",
    "\n",
    "            # If correlation exceeds the threshold\n",
    "            if val >= threshold:\n",
    "                #Print the correlated features and the correlation value\n",
    "                #print(col.values[0], \"|\", row.values[0], \"|\", round(val[0][0], 2))\n",
    "                drop_cols.append(col.values[0])\n",
    "\n",
    "    # Drop one of each pair of correlated columns\n",
    "    drops = set(drop_cols)\n",
    "    x = x.drop(columns=drops)\n",
    "\n",
    "    return x"
   ]
  },
  {
   "cell_type": "code",
   "execution_count": 100,
   "metadata": {},
   "outputs": [
    {
     "data": {
      "text/plain": [
       "(1253, 11)"
      ]
     },
     "execution_count": 100,
     "metadata": {},
     "output_type": "execute_result"
    }
   ],
   "source": [
    "x_train=remove_collinear_features(x_train, 0.7)\n",
    "x_train.shape"
   ]
  },
  {
   "cell_type": "code",
   "execution_count": 101,
   "metadata": {},
   "outputs": [
    {
     "data": {
      "text/plain": [
       "Text(0.5, 1.0, 'Correlation of remaining Features')"
      ]
     },
     "execution_count": 101,
     "metadata": {},
     "output_type": "execute_result"
    },
    {
     "data": {
      "image/png": "[encoded data removed]",
      "text/plain": [
       "<Figure size 576x576 with 2 Axes>"
      ]
     },
     "metadata": {
      "needs_background": "light"
     },
     "output_type": "display_data"
    }
   ],
   "source": [
    "#Heatmap of Correlation of Remaining Feaures \n",
    "plt.rcParams['figure.figsize'] = (8, 8) #this is to set the size for the plot, making it bigger\n",
    "sns.heatmap(x_train.corr(), cmap = \"YlGnBu\")\n",
    "plt.title('Correlation of remaining Features', fontsize = 20)"
   ]
  },
  {
   "cell_type": "markdown",
   "metadata": {},
   "source": [
    "# 8. Balancing"
   ]
  },
  {
   "cell_type": "code",
   "execution_count": 102,
   "metadata": {},
   "outputs": [],
   "source": [
    "#Function SMOTEENN\n",
    "def sampling(X_train, y_train):\n",
    "    sampler = SMOTEENN(random_state=100)\n",
    "    X_resampled, y_resampled = sampler.fit_resample(X_train, y_train)\n",
    "    return X_resampled, y_resampled\n",
    "\n",
    "# X_train, y_train = sampling(X_train, y_train,'SMOTE')\n",
    "# X_train.shape"
   ]
  },
  {
   "cell_type": "code",
   "execution_count": 103,
   "metadata": {},
   "outputs": [],
   "source": [
    "x_train, y_train = sampling(x_train, y_train)"
   ]
  },
  {
   "cell_type": "code",
   "execution_count": 104,
   "metadata": {},
   "outputs": [
    {
     "data": {
      "text/plain": [
       "(1748, 11)"
      ]
     },
     "execution_count": 104,
     "metadata": {},
     "output_type": "execute_result"
    }
   ],
   "source": [
    "x_train.shape"
   ]
  },
  {
   "cell_type": "code",
   "execution_count": 105,
   "metadata": {},
   "outputs": [
    {
     "data": {
      "text/plain": [
       "(1748,)"
      ]
     },
     "execution_count": 105,
     "metadata": {},
     "output_type": "execute_result"
    }
   ],
   "source": [
    "y_train.shape"
   ]
  },
  {
   "cell_type": "markdown",
   "metadata": {},
   "source": [
    "# 9. Modeling"
   ]
  },
  {
   "cell_type": "code",
   "execution_count": 106,
   "metadata": {},
   "outputs": [
    {
     "name": "stdout",
     "output_type": "stream",
     "text": [
      "              precision    recall  f1-score   support\n",
      "\n",
      "          -1       0.66      0.73      0.69       725\n",
      "           1       0.79      0.73      0.76      1023\n",
      "\n",
      "    accuracy                           0.73      1748\n",
      "   macro avg       0.72      0.73      0.72      1748\n",
      "weighted avg       0.74      0.73      0.73      1748\n",
      "\n",
      "[[526 199]\n",
      " [274 749]]\n"
     ]
    }
   ],
   "source": [
    "model = LogisticRegression(random_state=1)\n",
    "model.fit(x_train, y_train)\n",
    "# make predictions\n",
    "expected = y_train\n",
    "predicted = model.predict(x_train)\n",
    "# summarize the fit of the model\n",
    "print(metrics.classification_report(expected, predicted))\n",
    "print(metrics.confusion_matrix(expected, predicted))\n"
   ]
  },
  {
   "cell_type": "code",
   "execution_count": 107,
   "metadata": {},
   "outputs": [
    {
     "data": {
      "text/plain": [
       "0.7321603128054741"
      ]
     },
     "execution_count": 107,
     "metadata": {},
     "output_type": "execute_result"
    }
   ],
   "source": [
    "cf_matrix = confusion_matrix(expected, predicted)\n",
    "sensitivity = cf_matrix[1][1] / ( cf_matrix[1][1] + cf_matrix[1][0] )\n",
    "sensitivity"
   ]
  },
  {
   "cell_type": "markdown",
   "metadata": {},
   "source": [
    "# 10. Test Data"
   ]
  },
  {
   "cell_type": "code",
   "execution_count": 108,
   "metadata": {},
   "outputs": [
    {
     "data": {
      "text/plain": [
       "(314, 480)"
      ]
     },
     "execution_count": 108,
     "metadata": {},
     "output_type": "execute_result"
    }
   ],
   "source": [
    "#1. Remove Duplicated Columns \n",
    "x_test = remove_duplicated_columns(x_test)\n",
    "x_test.shape"
   ]
  },
  {
   "cell_type": "code",
   "execution_count": 109,
   "metadata": {},
   "outputs": [
    {
     "data": {
      "text/plain": [
       "(314, 468)"
      ]
     },
     "execution_count": 109,
     "metadata": {},
     "output_type": "execute_result"
    }
   ],
   "source": [
    "#2. Remove Constant Volalitily\n",
    "x_test = remove_constant_volatility(x_test)\n",
    "x_test.shape"
   ]
  },
  {
   "cell_type": "code",
   "execution_count": 110,
   "metadata": {},
   "outputs": [
    {
     "data": {
      "text/plain": [
       "(314, 444)"
      ]
     },
     "execution_count": 110,
     "metadata": {},
     "output_type": "execute_result"
    }
   ],
   "source": [
    "#3. Remove High % of NA\n",
    "x_test = remove_cols_with_high_pct_null(x_test, 0.6)\n",
    "x_test.shape"
   ]
  },
  {
   "cell_type": "code",
   "execution_count": 111,
   "metadata": {},
   "outputs": [],
   "source": [
    "#4. Drop Outliers and KNN Imputation\n",
    "x_test= outlierknn(x_test)"
   ]
  },
  {
   "cell_type": "code",
   "execution_count": 112,
   "metadata": {},
   "outputs": [
    {
     "data": {
      "text/plain": [
       "(314, 11)"
      ]
     },
     "execution_count": 112,
     "metadata": {},
     "output_type": "execute_result"
    }
   ],
   "source": [
    "#5. Take the same Columns as in train data \n",
    "columns_list = x_train.columns\n",
    "x_test = x_test.loc[:,columns_list]\n",
    "x_test.shape"
   ]
  },
  {
   "cell_type": "code",
   "execution_count": 113,
   "metadata": {},
   "outputs": [
    {
     "name": "stdout",
     "output_type": "stream",
     "text": [
      "              precision    recall  f1-score   support\n",
      "\n",
      "          -1       0.96      0.70      0.81       293\n",
      "           1       0.13      0.62      0.21        21\n",
      "\n",
      "    accuracy                           0.70       314\n",
      "   macro avg       0.55      0.66      0.51       314\n",
      "weighted avg       0.91      0.70      0.77       314\n",
      "\n",
      "[[206  87]\n",
      " [  8  13]]\n"
     ]
    }
   ],
   "source": [
    "exp_test = y_test\n",
    "pred_test = model.predict(x_test)\n",
    "# summarize the fit of the gnb\n",
    "print(metrics.classification_report(exp_test, pred_test))\n",
    "print(metrics.confusion_matrix(exp_test, pred_test))"
   ]
  },
  {
   "cell_type": "code",
   "execution_count": 114,
   "metadata": {},
   "outputs": [
    {
     "data": {
      "text/plain": [
       "0.6190476190476191"
      ]
     },
     "execution_count": 114,
     "metadata": {},
     "output_type": "execute_result"
    }
   ],
   "source": [
    "cf_matrix_test = confusion_matrix(exp_test, pred_test)\n",
    "sensitivity_test = cf_matrix_test[1][1] / ( cf_matrix_test[1][1] + cf_matrix_test[1][0] )\n",
    "sensitivity_test"
   ]
  },
  {
   "cell_type": "code",
   "execution_count": 115,
   "metadata": {},
   "outputs": [
    {
     "data": {
      "text/plain": [
       "0.697452229299363"
      ]
     },
     "execution_count": 115,
     "metadata": {},
     "output_type": "execute_result"
    }
   ],
   "source": [
    "#Accuracy\n",
    "accuracy_score(exp_test, pred_test)"
   ]
  },
  {
   "cell_type": "code",
   "execution_count": 116,
   "metadata": {},
   "outputs": [
    {
     "data": {
      "text/plain": [
       "0.6190476190476191"
      ]
     },
     "execution_count": 116,
     "metadata": {},
     "output_type": "execute_result"
    }
   ],
   "source": [
    "recall_score(exp_test, pred_test)"
   ]
  }
 ],
 "metadata": {
  "kernelspec": {
   "display_name": "Python 3.9.12 ('dscience')",
   "language": "python",
   "name": "python3"
  },
  "language_info": {
   "codemirror_mode": {
    "name": "ipython",
    "version": 3
   },
   "file_extension": ".py",
   "mimetype": "text/x-python",
   "name": "python",
   "nbconvert_exporter": "python",
   "pygments_lexer": "ipython3",
   "version": "3.9.12"
  },
  "orig_nbformat": 4,
  "vscode": {
   "interpreter": {
    "hash": "3078b67b691a5c266f6971fd9f463b4eac2178879712276f7d11f0f0eb816c78"
   }
  }
 },
 "nbformat": 4,
 "nbformat_minor": 2
}
