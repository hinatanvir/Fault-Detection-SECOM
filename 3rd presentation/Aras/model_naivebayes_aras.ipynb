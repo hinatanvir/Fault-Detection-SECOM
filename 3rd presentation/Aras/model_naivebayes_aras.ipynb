{
 "cells": [
  {
   "cell_type": "markdown",
   "metadata": {},
   "source": [
    "# 1. Importing Libraries"
   ]
  },
  {
   "cell_type": "code",
   "execution_count": 36,
   "metadata": {},
   "outputs": [],
   "source": [
    "import pandas as pd \n",
    "import numpy as np \n",
    "from sklearn.impute import KNNImputer\n",
    "import matplotlib.pyplot as plt \n",
    "from sklearn.preprocessing import MinMaxScaler\n",
    "from scipy import stats\n",
    "from sklearn.model_selection import KFold, StratifiedKFold, train_test_split \n",
    "import seaborn as sns \n",
    "from sklearn.experimental import enable_iterative_imputer\n",
    "from sklearn.impute import IterativeImputer\n",
    "from sklearn.ensemble import RandomForestClassifier\n",
    "from BorutaShap import BorutaShap\n",
    "from imblearn.combine import SMOTEENN\n"
   ]
  },
  {
   "cell_type": "markdown",
   "metadata": {},
   "source": [
    "# 2. Reading Data"
   ]
  },
  {
   "cell_type": "code",
   "execution_count": 2,
   "metadata": {},
   "outputs": [],
   "source": [
    "#this function is to read, transform and join 2 data frame\n",
    "\n",
    "def read_features():\n",
    "    path = 'secom.data'\n",
    "    df = pd.read_csv(path, delimiter=' ', header=None, na_values=['NaN'])\n",
    "    df.columns = ['feature_'+str(x+1) for x in range(len(df.columns))]\n",
    "    return df\n",
    "\n",
    "\n",
    "\n",
    "def read_target():\n",
    "    path = 'secom_labels.data'\n",
    "    df = pd.read_csv(path, delimiter=' ', header=None, na_values=['NaN'])\n",
    "    df.columns = ['status','timestamp']\n",
    "    df['timestamp'] = pd.to_datetime(df['timestamp'],dayfirst=True)\n",
    "    return df\n",
    "\n",
    "#for the testing purporse, trim to remain first 100 rows only\n",
    "X = read_features()\n",
    "y = read_target().iloc[:,0]"
   ]
  },
  {
   "cell_type": "code",
   "execution_count": 3,
   "metadata": {},
   "outputs": [
    {
     "data": {
      "text/plain": [
       "(1567, 590)"
      ]
     },
     "execution_count": 3,
     "metadata": {},
     "output_type": "execute_result"
    }
   ],
   "source": [
    "#Row & Columns of Features \n",
    "X.shape"
   ]
  },
  {
   "cell_type": "markdown",
   "metadata": {},
   "source": [
    "# 3. Splitting Training & Testing Data"
   ]
  },
  {
   "cell_type": "code",
   "execution_count": 4,
   "metadata": {},
   "outputs": [],
   "source": [
    "#Splitting the Data: 80% Training, 20% Testing Data\n",
    "x_train, x_test, y_train, y_test = train_test_split(X, y, test_size = 0.2, random_state = 1,stratify=y)"
   ]
  },
  {
   "cell_type": "code",
   "execution_count": 5,
   "metadata": {},
   "outputs": [
    {
     "data": {
      "text/plain": [
       "(1253, 590)"
      ]
     },
     "execution_count": 5,
     "metadata": {},
     "output_type": "execute_result"
    }
   ],
   "source": [
    "#Rows and Columns of X_Train DF\n",
    "x_train.shape"
   ]
  },
  {
   "cell_type": "code",
   "execution_count": 6,
   "metadata": {},
   "outputs": [
    {
     "data": {
      "text/plain": [
       "(314, 590)"
      ]
     },
     "execution_count": 6,
     "metadata": {},
     "output_type": "execute_result"
    }
   ],
   "source": [
    "#Rows and Columns of X_Train DF\n",
    "x_test.shape"
   ]
  },
  {
   "cell_type": "markdown",
   "metadata": {},
   "source": [
    "# 4. Reducing Dimensionality"
   ]
  },
  {
   "cell_type": "markdown",
   "metadata": {},
   "source": [
    "## 4.1. Remove duplicated Columns"
   ]
  },
  {
   "cell_type": "code",
   "execution_count": 7,
   "metadata": {},
   "outputs": [],
   "source": [
    "#Function for finding and removing duplicated columns (features)\n",
    "def remove_duplicated_columns(df):\n",
    "    dict_duplicate_pair = {}\n",
    "    dict_duplicate_matches = {}\n",
    "    list_duplicate = []\n",
    "    to_remove = []\n",
    "    for i in range(0, len(df.columns)):\n",
    "        l = []\n",
    "        for j in range(i+1,len(df.columns)):\n",
    "            dict_duplicate_pair[str(i+1)+';'+str(j+1)] = df.iloc[:,i].equals(df.iloc[:,j])\n",
    "            if df.iloc[:,i].equals(df.iloc[:,j]) == True:\n",
    "                if j not in list_duplicate:\n",
    "                    l.append(j)\n",
    "                    to_remove.append('feature_'+str(j+1))\n",
    "                list_duplicate.append(i)\n",
    "                list_duplicate.append(j)\n",
    "        if len(l)!=0:\n",
    "            dict_duplicate_matches[i] = l\n",
    "\n",
    "\n",
    "    df_duplicate_pair = pd.DataFrame.from_dict(dict_duplicate_pair, orient='index')\n",
    "    df_duplicate_pair.columns=['duplicate']\n",
    "\n",
    "    df_duplicate_matches = pd.DataFrame.from_dict(dict_duplicate_matches, orient='index')\n",
    "\n",
    "    \n",
    "    df = df.drop(columns=to_remove, axis = 1)\n",
    "\n",
    "    return df"
   ]
  },
  {
   "cell_type": "code",
   "execution_count": 8,
   "metadata": {},
   "outputs": [
    {
     "data": {
      "text/plain": [
       "(1253, 486)"
      ]
     },
     "execution_count": 8,
     "metadata": {},
     "output_type": "execute_result"
    }
   ],
   "source": [
    "#Using Function on x_train & printing new shape of dataframe after transformation \n",
    "x_train = remove_duplicated_columns(x_train)\n",
    "x_train.shape"
   ]
  },
  {
   "cell_type": "markdown",
   "metadata": {},
   "source": [
    "## 4.2. Removing Features with Constant Volatility"
   ]
  },
  {
   "cell_type": "code",
   "execution_count": 9,
   "metadata": {},
   "outputs": [],
   "source": [
    "#Defining function to find and remove features with zero standard deviation \n",
    "def remove_constant_volatility(df):\n",
    "    df_EDA= df.describe().T\n",
    "    df_EDA= df_EDA[df_EDA[\"std\"] == 0]\n",
    "    df = df.drop(axis=1, columns=df_EDA.index)\n",
    "    return df"
   ]
  },
  {
   "cell_type": "code",
   "execution_count": 10,
   "metadata": {},
   "outputs": [
    {
     "data": {
      "text/plain": [
       "(1253, 474)"
      ]
     },
     "execution_count": 10,
     "metadata": {},
     "output_type": "execute_result"
    }
   ],
   "source": [
    "#Using Function on x_train & printing new shape of dataframe after transformation \n",
    "x_train = remove_constant_volatility(x_train)\n",
    "x_train.shape"
   ]
  },
  {
   "cell_type": "markdown",
   "metadata": {},
   "source": [
    "## 4.3. Remove Features with high % of Missing Values"
   ]
  },
  {
   "cell_type": "code",
   "execution_count": 11,
   "metadata": {},
   "outputs": [],
   "source": [
    "#Defining function to remove features with a given % of missing values \n",
    "def remove_cols_with_high_pct_null(df, null_threshold):\n",
    "    list_column_with_pct_null = pd.concat([df.isnull().sum(), df.isnull().sum()/df.shape[0]],axis=1).rename(columns={0:'Missing_Records', 1:'Percentage (%)'})\n",
    "    list_column_with_pct_null= list_column_with_pct_null[list_column_with_pct_null[\"Percentage (%)\"] >= null_threshold]\n",
    "    df = df.drop(axis=1, columns=list_column_with_pct_null.index)\n",
    "    return df"
   ]
  },
  {
   "cell_type": "code",
   "execution_count": 12,
   "metadata": {},
   "outputs": [
    {
     "data": {
      "text/plain": [
       "(1253, 466)"
      ]
     },
     "execution_count": 12,
     "metadata": {},
     "output_type": "execute_result"
    }
   ],
   "source": [
    "#Using Function on x_train & printing new shape of dataframe after transformation \n",
    "x_train = remove_cols_with_high_pct_null(x_train, 0.8)\n",
    "x_train.shape"
   ]
  },
  {
   "cell_type": "markdown",
   "metadata": {},
   "source": [
    "# 5. Outlier & Missing Value Treatment"
   ]
  },
  {
   "cell_type": "code",
   "execution_count": 21,
   "metadata": {},
   "outputs": [],
   "source": [
    "#Function to drop Outliers and impute Missing Values with KNN \n",
    "def outlierknn(df):\n",
    "    #Outlier treatment first:\n",
    "    for col in df.columns:\n",
    "        ll_col = df[col].mean() - 3 * df[col].std()\n",
    "        ul_col = df[col].mean() + 3 * df[col].std()\n",
    "        df[col] = np.where(df[col]>ul_col,np.NaN,np.where(df[col]<ll_col,np.NaN,df[col]))\n",
    "    #Scaling data \n",
    "    scaler = MinMaxScaler()\n",
    "    df = pd.DataFrame(scaler.fit_transform(df), columns= df.columns)\n",
    "    #KNN Imputation \n",
    "    knn = KNNImputer(n_neighbors=5, weights='distance')\n",
    "    df = pd.DataFrame(knn.fit_transform(df), columns=df.columns)\n",
    "    #Reverse Scaling\n",
    "    df = pd.DataFrame(scaler.inverse_transform(df), columns= df.columns)\n",
    "    return df  "
   ]
  },
  {
   "cell_type": "code",
   "execution_count": 15,
   "metadata": {},
   "outputs": [],
   "source": [
    "#Using function above on x_train\n",
    "x_train = outlierknn(x_train)"
   ]
  },
  {
   "cell_type": "markdown",
   "metadata": {},
   "source": [
    "# 6. Feature Selection"
   ]
  },
  {
   "cell_type": "code",
   "execution_count": 22,
   "metadata": {},
   "outputs": [],
   "source": [
    "#This is BorutaShap with TENTATIVE features\n",
    "\n",
    "#list_method=['shap','gini']\n",
    "\n",
    "def BorutaShap_FS (X, y,method_option) :\n",
    "    #modelshap = RandomForestClassifier(n_jobs=-1,n_estimators=100, class_weight='balanced_subsample', max_depth=5, random_state=100)\n",
    "    modelshap = RandomForestClassifier(n_jobs=-1,n_estimators=100, max_depth=5, random_state=100)\n",
    "\n",
    "    # define model for resp. classifier\n",
    "    modelshap.fit(X,y)\n",
    "    feature_names = np.array(X.columns)\n",
    "    # define Boruta Sahp feature selection method\n",
    "    feature_selector = BorutaShap(model=modelshap,\n",
    "                              importance_measure=method_option,\n",
    "                              classification=True)  # find all relevant features\n",
    "    feature_selector.fit(X,y,n_trials=100,sample = False, verbose = False,random_state=100)  \n",
    "    #feature_selector.plot(which_features='accepted',figsize=(20,10))\n",
    "    tentative=X.loc[:,feature_selector.tentative]\n",
    "    selected=feature_selector.Subset()\n",
    "    selten=pd.concat([selected,tentative],axis=1)\n",
    "    # call transform() on X to filter it down to selected features\n",
    "    return  selten"
   ]
  },
  {
   "cell_type": "code",
   "execution_count": 23,
   "metadata": {},
   "outputs": [
    {
     "data": {
      "application/vnd.jupyter.widget-view+json": {
       "model_id": "cd068ffa697b4191b4896cede64f78d0",
       "version_major": 2,
       "version_minor": 0
      },
      "text/plain": [
       "  0%|          | 0/100 [00:00<?, ?it/s]"
      ]
     },
     "metadata": {},
     "output_type": "display_data"
    }
   ],
   "source": [
    "x_train = BorutaShap_FS(x_train,y_train,'shap')"
   ]
  },
  {
   "cell_type": "code",
   "execution_count": 24,
   "metadata": {},
   "outputs": [
    {
     "data": {
      "text/plain": [
       "(1253, 14)"
      ]
     },
     "execution_count": 24,
     "metadata": {},
     "output_type": "execute_result"
    }
   ],
   "source": [
    "#Shape of x_train after Feature Selection\n",
    "x_train.shape"
   ]
  },
  {
   "cell_type": "code",
   "execution_count": 28,
   "metadata": {},
   "outputs": [
    {
     "data": {
      "text/html": [
       "<div>\n",
       "<style scoped>\n",
       "    .dataframe tbody tr th:only-of-type {\n",
       "        vertical-align: middle;\n",
       "    }\n",
       "\n",
       "    .dataframe tbody tr th {\n",
       "        vertical-align: top;\n",
       "    }\n",
       "\n",
       "    .dataframe thead th {\n",
       "        text-align: right;\n",
       "    }\n",
       "</style>\n",
       "<table border=\"1\" class=\"dataframe\">\n",
       "  <thead>\n",
       "    <tr style=\"text-align: right;\">\n",
       "      <th></th>\n",
       "      <th>feature_124</th>\n",
       "      <th>feature_563</th>\n",
       "      <th>feature_133</th>\n",
       "      <th>feature_60</th>\n",
       "      <th>feature_66</th>\n",
       "      <th>feature_342</th>\n",
       "      <th>feature_332</th>\n",
       "      <th>feature_349</th>\n",
       "      <th>feature_148</th>\n",
       "      <th>feature_442</th>\n",
       "      <th>feature_206</th>\n",
       "      <th>feature_478</th>\n",
       "      <th>feature_476</th>\n",
       "      <th>feature_421</th>\n",
       "    </tr>\n",
       "  </thead>\n",
       "  <tbody>\n",
       "    <tr>\n",
       "      <th>feature_124</th>\n",
       "      <td>1.000000</td>\n",
       "      <td>-0.058645</td>\n",
       "      <td>-0.198523</td>\n",
       "      <td>0.049122</td>\n",
       "      <td>-0.074414</td>\n",
       "      <td>-0.016216</td>\n",
       "      <td>0.111024</td>\n",
       "      <td>0.019627</td>\n",
       "      <td>-0.012134</td>\n",
       "      <td>0.020943</td>\n",
       "      <td>-0.004297</td>\n",
       "      <td>-0.000838</td>\n",
       "      <td>0.172050</td>\n",
       "      <td>-0.011260</td>\n",
       "    </tr>\n",
       "    <tr>\n",
       "      <th>feature_563</th>\n",
       "      <td>-0.058645</td>\n",
       "      <td>1.000000</td>\n",
       "      <td>-0.190573</td>\n",
       "      <td>-0.051219</td>\n",
       "      <td>0.037487</td>\n",
       "      <td>-0.018479</td>\n",
       "      <td>-0.047357</td>\n",
       "      <td>-0.015048</td>\n",
       "      <td>0.417714</td>\n",
       "      <td>-0.090442</td>\n",
       "      <td>-0.034604</td>\n",
       "      <td>-0.034569</td>\n",
       "      <td>-0.000112</td>\n",
       "      <td>0.413384</td>\n",
       "    </tr>\n",
       "    <tr>\n",
       "      <th>feature_133</th>\n",
       "      <td>-0.198523</td>\n",
       "      <td>-0.190573</td>\n",
       "      <td>1.000000</td>\n",
       "      <td>0.166136</td>\n",
       "      <td>0.016326</td>\n",
       "      <td>0.102905</td>\n",
       "      <td>0.016764</td>\n",
       "      <td>0.042093</td>\n",
       "      <td>0.005931</td>\n",
       "      <td>0.152847</td>\n",
       "      <td>0.095612</td>\n",
       "      <td>0.094184</td>\n",
       "      <td>-0.023777</td>\n",
       "      <td>0.008061</td>\n",
       "    </tr>\n",
       "    <tr>\n",
       "      <th>feature_60</th>\n",
       "      <td>0.049122</td>\n",
       "      <td>-0.051219</td>\n",
       "      <td>0.166136</td>\n",
       "      <td>1.000000</td>\n",
       "      <td>-0.381982</td>\n",
       "      <td>0.196641</td>\n",
       "      <td>-0.016146</td>\n",
       "      <td>0.267862</td>\n",
       "      <td>0.261183</td>\n",
       "      <td>0.115820</td>\n",
       "      <td>0.207963</td>\n",
       "      <td>0.212991</td>\n",
       "      <td>-0.088444</td>\n",
       "      <td>0.262258</td>\n",
       "    </tr>\n",
       "    <tr>\n",
       "      <th>feature_66</th>\n",
       "      <td>-0.074414</td>\n",
       "      <td>0.037487</td>\n",
       "      <td>0.016326</td>\n",
       "      <td>-0.381982</td>\n",
       "      <td>1.000000</td>\n",
       "      <td>0.024473</td>\n",
       "      <td>-0.135266</td>\n",
       "      <td>0.045110</td>\n",
       "      <td>0.033594</td>\n",
       "      <td>0.003193</td>\n",
       "      <td>0.015304</td>\n",
       "      <td>0.010843</td>\n",
       "      <td>-0.123287</td>\n",
       "      <td>0.032243</td>\n",
       "    </tr>\n",
       "    <tr>\n",
       "      <th>feature_342</th>\n",
       "      <td>-0.016216</td>\n",
       "      <td>-0.018479</td>\n",
       "      <td>0.102905</td>\n",
       "      <td>0.196641</td>\n",
       "      <td>0.024473</td>\n",
       "      <td>1.000000</td>\n",
       "      <td>-0.108577</td>\n",
       "      <td>0.071085</td>\n",
       "      <td>0.129037</td>\n",
       "      <td>0.093725</td>\n",
       "      <td>0.967640</td>\n",
       "      <td>0.965696</td>\n",
       "      <td>0.034713</td>\n",
       "      <td>0.129611</td>\n",
       "    </tr>\n",
       "    <tr>\n",
       "      <th>feature_332</th>\n",
       "      <td>0.111024</td>\n",
       "      <td>-0.047357</td>\n",
       "      <td>0.016764</td>\n",
       "      <td>-0.016146</td>\n",
       "      <td>-0.135266</td>\n",
       "      <td>-0.108577</td>\n",
       "      <td>1.000000</td>\n",
       "      <td>-0.056560</td>\n",
       "      <td>-0.023986</td>\n",
       "      <td>0.074418</td>\n",
       "      <td>-0.085761</td>\n",
       "      <td>-0.088714</td>\n",
       "      <td>0.598492</td>\n",
       "      <td>-0.022313</td>\n",
       "    </tr>\n",
       "    <tr>\n",
       "      <th>feature_349</th>\n",
       "      <td>0.019627</td>\n",
       "      <td>-0.015048</td>\n",
       "      <td>0.042093</td>\n",
       "      <td>0.267862</td>\n",
       "      <td>0.045110</td>\n",
       "      <td>0.071085</td>\n",
       "      <td>-0.056560</td>\n",
       "      <td>1.000000</td>\n",
       "      <td>0.155351</td>\n",
       "      <td>0.017429</td>\n",
       "      <td>0.075458</td>\n",
       "      <td>0.077981</td>\n",
       "      <td>-0.098460</td>\n",
       "      <td>0.155661</td>\n",
       "    </tr>\n",
       "    <tr>\n",
       "      <th>feature_148</th>\n",
       "      <td>-0.012134</td>\n",
       "      <td>0.417714</td>\n",
       "      <td>0.005931</td>\n",
       "      <td>0.261183</td>\n",
       "      <td>0.033594</td>\n",
       "      <td>0.129037</td>\n",
       "      <td>-0.023986</td>\n",
       "      <td>0.155351</td>\n",
       "      <td>1.000000</td>\n",
       "      <td>0.025682</td>\n",
       "      <td>0.125767</td>\n",
       "      <td>0.127811</td>\n",
       "      <td>-0.008694</td>\n",
       "      <td>0.999892</td>\n",
       "    </tr>\n",
       "    <tr>\n",
       "      <th>feature_442</th>\n",
       "      <td>0.020943</td>\n",
       "      <td>-0.090442</td>\n",
       "      <td>0.152847</td>\n",
       "      <td>0.115820</td>\n",
       "      <td>0.003193</td>\n",
       "      <td>0.093725</td>\n",
       "      <td>0.074418</td>\n",
       "      <td>0.017429</td>\n",
       "      <td>0.025682</td>\n",
       "      <td>1.000000</td>\n",
       "      <td>0.097813</td>\n",
       "      <td>0.097734</td>\n",
       "      <td>0.056700</td>\n",
       "      <td>0.027377</td>\n",
       "    </tr>\n",
       "    <tr>\n",
       "      <th>feature_206</th>\n",
       "      <td>-0.004297</td>\n",
       "      <td>-0.034604</td>\n",
       "      <td>0.095612</td>\n",
       "      <td>0.207963</td>\n",
       "      <td>0.015304</td>\n",
       "      <td>0.967640</td>\n",
       "      <td>-0.085761</td>\n",
       "      <td>0.075458</td>\n",
       "      <td>0.125767</td>\n",
       "      <td>0.097813</td>\n",
       "      <td>1.000000</td>\n",
       "      <td>0.997946</td>\n",
       "      <td>0.030027</td>\n",
       "      <td>0.126542</td>\n",
       "    </tr>\n",
       "    <tr>\n",
       "      <th>feature_478</th>\n",
       "      <td>-0.000838</td>\n",
       "      <td>-0.034569</td>\n",
       "      <td>0.094184</td>\n",
       "      <td>0.212991</td>\n",
       "      <td>0.010843</td>\n",
       "      <td>0.965696</td>\n",
       "      <td>-0.088714</td>\n",
       "      <td>0.077981</td>\n",
       "      <td>0.127811</td>\n",
       "      <td>0.097734</td>\n",
       "      <td>0.997946</td>\n",
       "      <td>1.000000</td>\n",
       "      <td>0.031888</td>\n",
       "      <td>0.128615</td>\n",
       "    </tr>\n",
       "    <tr>\n",
       "      <th>feature_476</th>\n",
       "      <td>0.172050</td>\n",
       "      <td>-0.000112</td>\n",
       "      <td>-0.023777</td>\n",
       "      <td>-0.088444</td>\n",
       "      <td>-0.123287</td>\n",
       "      <td>0.034713</td>\n",
       "      <td>0.598492</td>\n",
       "      <td>-0.098460</td>\n",
       "      <td>-0.008694</td>\n",
       "      <td>0.056700</td>\n",
       "      <td>0.030027</td>\n",
       "      <td>0.031888</td>\n",
       "      <td>1.000000</td>\n",
       "      <td>-0.007300</td>\n",
       "    </tr>\n",
       "    <tr>\n",
       "      <th>feature_421</th>\n",
       "      <td>-0.011260</td>\n",
       "      <td>0.413384</td>\n",
       "      <td>0.008061</td>\n",
       "      <td>0.262258</td>\n",
       "      <td>0.032243</td>\n",
       "      <td>0.129611</td>\n",
       "      <td>-0.022313</td>\n",
       "      <td>0.155661</td>\n",
       "      <td>0.999892</td>\n",
       "      <td>0.027377</td>\n",
       "      <td>0.126542</td>\n",
       "      <td>0.128615</td>\n",
       "      <td>-0.007300</td>\n",
       "      <td>1.000000</td>\n",
       "    </tr>\n",
       "  </tbody>\n",
       "</table>\n",
       "</div>"
      ],
      "text/plain": [
       "             feature_124  feature_563  feature_133  feature_60  feature_66  \\\n",
       "feature_124     1.000000    -0.058645    -0.198523    0.049122   -0.074414   \n",
       "feature_563    -0.058645     1.000000    -0.190573   -0.051219    0.037487   \n",
       "feature_133    -0.198523    -0.190573     1.000000    0.166136    0.016326   \n",
       "feature_60      0.049122    -0.051219     0.166136    1.000000   -0.381982   \n",
       "feature_66     -0.074414     0.037487     0.016326   -0.381982    1.000000   \n",
       "feature_342    -0.016216    -0.018479     0.102905    0.196641    0.024473   \n",
       "feature_332     0.111024    -0.047357     0.016764   -0.016146   -0.135266   \n",
       "feature_349     0.019627    -0.015048     0.042093    0.267862    0.045110   \n",
       "feature_148    -0.012134     0.417714     0.005931    0.261183    0.033594   \n",
       "feature_442     0.020943    -0.090442     0.152847    0.115820    0.003193   \n",
       "feature_206    -0.004297    -0.034604     0.095612    0.207963    0.015304   \n",
       "feature_478    -0.000838    -0.034569     0.094184    0.212991    0.010843   \n",
       "feature_476     0.172050    -0.000112    -0.023777   -0.088444   -0.123287   \n",
       "feature_421    -0.011260     0.413384     0.008061    0.262258    0.032243   \n",
       "\n",
       "             feature_342  feature_332  feature_349  feature_148  feature_442  \\\n",
       "feature_124    -0.016216     0.111024     0.019627    -0.012134     0.020943   \n",
       "feature_563    -0.018479    -0.047357    -0.015048     0.417714    -0.090442   \n",
       "feature_133     0.102905     0.016764     0.042093     0.005931     0.152847   \n",
       "feature_60      0.196641    -0.016146     0.267862     0.261183     0.115820   \n",
       "feature_66      0.024473    -0.135266     0.045110     0.033594     0.003193   \n",
       "feature_342     1.000000    -0.108577     0.071085     0.129037     0.093725   \n",
       "feature_332    -0.108577     1.000000    -0.056560    -0.023986     0.074418   \n",
       "feature_349     0.071085    -0.056560     1.000000     0.155351     0.017429   \n",
       "feature_148     0.129037    -0.023986     0.155351     1.000000     0.025682   \n",
       "feature_442     0.093725     0.074418     0.017429     0.025682     1.000000   \n",
       "feature_206     0.967640    -0.085761     0.075458     0.125767     0.097813   \n",
       "feature_478     0.965696    -0.088714     0.077981     0.127811     0.097734   \n",
       "feature_476     0.034713     0.598492    -0.098460    -0.008694     0.056700   \n",
       "feature_421     0.129611    -0.022313     0.155661     0.999892     0.027377   \n",
       "\n",
       "             feature_206  feature_478  feature_476  feature_421  \n",
       "feature_124    -0.004297    -0.000838     0.172050    -0.011260  \n",
       "feature_563    -0.034604    -0.034569    -0.000112     0.413384  \n",
       "feature_133     0.095612     0.094184    -0.023777     0.008061  \n",
       "feature_60      0.207963     0.212991    -0.088444     0.262258  \n",
       "feature_66      0.015304     0.010843    -0.123287     0.032243  \n",
       "feature_342     0.967640     0.965696     0.034713     0.129611  \n",
       "feature_332    -0.085761    -0.088714     0.598492    -0.022313  \n",
       "feature_349     0.075458     0.077981    -0.098460     0.155661  \n",
       "feature_148     0.125767     0.127811    -0.008694     0.999892  \n",
       "feature_442     0.097813     0.097734     0.056700     0.027377  \n",
       "feature_206     1.000000     0.997946     0.030027     0.126542  \n",
       "feature_478     0.997946     1.000000     0.031888     0.128615  \n",
       "feature_476     0.030027     0.031888     1.000000    -0.007300  \n",
       "feature_421     0.126542     0.128615    -0.007300     1.000000  "
      ]
     },
     "execution_count": 28,
     "metadata": {},
     "output_type": "execute_result"
    }
   ],
   "source": [
    "#Correlation Matrix of Remaining Features\n",
    "x_train.corr()"
   ]
  },
  {
   "cell_type": "code",
   "execution_count": 27,
   "metadata": {},
   "outputs": [
    {
     "data": {
      "text/plain": [
       "Text(0.5, 1.0, 'Correlation of remaining Features')"
      ]
     },
     "execution_count": 27,
     "metadata": {},
     "output_type": "execute_result"
    },
    {
     "data": {
      "image/png": "[encoded data removed]",
      "text/plain": [
       "<Figure size 576x576 with 2 Axes>"
      ]
     },
     "metadata": {
      "needs_background": "light"
     },
     "output_type": "display_data"
    }
   ],
   "source": [
    "#Heatmap of Correlation of Remaining Feaures \n",
    "plt.rcParams['figure.figsize'] = (8, 8) #this is to set the size for the plot, making it bigger\n",
    "sns.heatmap(x_train.corr(), cmap = \"YlGnBu\")\n",
    "plt.title('Correlation of remaining Features', fontsize = 20)"
   ]
  },
  {
   "cell_type": "markdown",
   "metadata": {},
   "source": [
    "# 7. Multicolinearity Treatment"
   ]
  },
  {
   "cell_type": "code",
   "execution_count": 29,
   "metadata": {},
   "outputs": [],
   "source": [
    "#Remove the highly collinear features from data\n",
    "def remove_collinear_features(x, threshold):\n",
    "\n",
    "\n",
    "    # Calculate the correlation matrix\n",
    "    corr_matrix = x.corr()\n",
    "    iters = range(len(corr_matrix.columns) - 1)\n",
    "    drop_cols = []\n",
    "\n",
    "    # Iterate through the correlation matrix and compare correlations\n",
    "    for i in iters:\n",
    "        for j in range(i+1):\n",
    "            item = corr_matrix.iloc[j:(j+1), (i+1):(i+2)]\n",
    "            col = item.columns\n",
    "            row = item.index\n",
    "            val = abs(item.values)\n",
    "\n",
    "            # If correlation exceeds the threshold\n",
    "            if val >= threshold:\n",
    "                #Print the correlated features and the correlation value\n",
    "                #print(col.values[0], \"|\", row.values[0], \"|\", round(val[0][0], 2))\n",
    "                drop_cols.append(col.values[0])\n",
    "\n",
    "    # Drop one of each pair of correlated columns\n",
    "    drops = set(drop_cols)\n",
    "    x = x.drop(columns=drops)\n",
    "\n",
    "    return x"
   ]
  },
  {
   "cell_type": "code",
   "execution_count": 32,
   "metadata": {},
   "outputs": [
    {
     "data": {
      "text/plain": [
       "(1253, 11)"
      ]
     },
     "execution_count": 32,
     "metadata": {},
     "output_type": "execute_result"
    }
   ],
   "source": [
    "x_train=remove_collinear_features(x_train, 0.7)\n",
    "x_train.shape"
   ]
  },
  {
   "cell_type": "code",
   "execution_count": 33,
   "metadata": {},
   "outputs": [
    {
     "data": {
      "text/plain": [
       "Text(0.5, 1.0, 'Correlation of remaining Features')"
      ]
     },
     "execution_count": 33,
     "metadata": {},
     "output_type": "execute_result"
    },
    {
     "data": {
      "image/png": "[encoded data removed]",
      "text/plain": [
       "<Figure size 576x576 with 2 Axes>"
      ]
     },
     "metadata": {
      "needs_background": "light"
     },
     "output_type": "display_data"
    }
   ],
   "source": [
    "#Heatmap of Correlation of Remaining Feaures \n",
    "plt.rcParams['figure.figsize'] = (8, 8) #this is to set the size for the plot, making it bigger\n",
    "sns.heatmap(x_train.corr(), cmap = \"YlGnBu\")\n",
    "plt.title('Correlation of remaining Features', fontsize = 20)"
   ]
  },
  {
   "cell_type": "markdown",
   "metadata": {},
   "source": [
    "# 8. Balancing"
   ]
  },
  {
   "cell_type": "code",
   "execution_count": 34,
   "metadata": {},
   "outputs": [],
   "source": [
    "#Function SMOTEENN\n",
    "def sampling(X_train, y_train):\n",
    "    sampler = SMOTEENN(random_state=100)\n",
    "    X_resampled, y_resampled = sampler.fit_resample(X_train, y_train)\n",
    "    return X_resampled, y_resampled\n",
    "\n",
    "# X_train, y_train = sampling(X_train, y_train,'SMOTE')\n",
    "# X_train.shape"
   ]
  },
  {
   "cell_type": "code",
   "execution_count": 38,
   "metadata": {},
   "outputs": [
    {
     "data": {
      "text/plain": [
       "(2002,)"
      ]
     },
     "execution_count": 38,
     "metadata": {},
     "output_type": "execute_result"
    }
   ],
   "source": [
    "x_train, y_train = sampling(x_train, y_train)"
   ]
  },
  {
   "cell_type": "markdown",
   "metadata": {},
   "source": [
    "# 9. Modeling"
   ]
  }
 ],
 "metadata": {
  "kernelspec": {
   "display_name": "Python 3.9.12 ('dscience')",
   "language": "python",
   "name": "python3"
  },
  "language_info": {
   "codemirror_mode": {
    "name": "ipython",
    "version": 3
   },
   "file_extension": ".py",
   "mimetype": "text/x-python",
   "name": "python",
   "nbconvert_exporter": "python",
   "pygments_lexer": "ipython3",
   "version": "3.9.12"
  },
  "orig_nbformat": 4,
  "vscode": {
   "interpreter": {
    "hash": "3078b67b691a5c266f6971fd9f463b4eac2178879712276f7d11f0f0eb816c78"
   }
  }
 },
 "nbformat": 4,
 "nbformat_minor": 2
}
