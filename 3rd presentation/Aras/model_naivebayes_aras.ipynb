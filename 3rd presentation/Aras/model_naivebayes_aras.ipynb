{
 "cells": [
  {
   "cell_type": "markdown",
   "metadata": {},
   "source": [
    "# 1. Importing Libraries"
   ]
  },
  {
   "cell_type": "code",
   "execution_count": 681,
   "metadata": {},
   "outputs": [],
   "source": [
    "import pandas as pd \n",
    "import numpy as np \n",
    "from sklearn.impute import KNNImputer\n",
    "import matplotlib.pyplot as plt \n",
    "from sklearn.preprocessing import MinMaxScaler\n",
    "from scipy import stats\n",
    "from sklearn.model_selection import KFold, StratifiedKFold, train_test_split \n",
    "import seaborn as sns \n",
    "from sklearn.experimental import enable_iterative_imputer\n",
    "from sklearn.impute import IterativeImputer\n",
    "from sklearn.ensemble import RandomForestClassifier\n",
    "from BorutaShap import BorutaShap\n",
    "from imblearn.combine import SMOTEENN\n",
    "from sklearn import metrics\n",
    "from sklearn.naive_bayes import GaussianNB\n",
    "from sklearn.metrics import accuracy_score, confusion_matrix, ConfusionMatrixDisplay, f1_score, precision_score, recall_score, roc_auc_score, log_loss, cohen_kappa_score, plot_confusion_matrix"
   ]
  },
  {
   "cell_type": "markdown",
   "metadata": {},
   "source": [
    "# 2. Reading Data"
   ]
  },
  {
   "cell_type": "code",
   "execution_count": 682,
   "metadata": {},
   "outputs": [],
   "source": [
    "#this function is to read, transform and join 2 data frame\n",
    "\n",
    "def read_features():\n",
    "    path = 'secom.data'\n",
    "    df = pd.read_csv(path, delimiter=' ', header=None, na_values=['NaN'])\n",
    "    df.columns = ['feature_'+str(x+1) for x in range(len(df.columns))]\n",
    "    return df\n",
    "\n",
    "\n",
    "\n",
    "def read_target():\n",
    "    path = 'secom_labels.data'\n",
    "    df = pd.read_csv(path, delimiter=' ', header=None, na_values=['NaN'])\n",
    "    df.columns = ['status','timestamp']\n",
    "    df['timestamp'] = pd.to_datetime(df['timestamp'],dayfirst=True)\n",
    "    return df\n",
    "\n",
    "#for the testing purporse, trim to remain first 100 rows only\n",
    "X = read_features()\n",
    "y = read_target().iloc[:,0]"
   ]
  },
  {
   "cell_type": "code",
   "execution_count": 683,
   "metadata": {},
   "outputs": [
    {
     "data": {
      "text/plain": [
       "(1567, 590)"
      ]
     },
     "execution_count": 683,
     "metadata": {},
     "output_type": "execute_result"
    }
   ],
   "source": [
    "#Row & Columns of Features \n",
    "X.shape"
   ]
  },
  {
   "cell_type": "markdown",
   "metadata": {},
   "source": [
    "# 3. Splitting Training & Testing Data"
   ]
  },
  {
   "cell_type": "code",
   "execution_count": 684,
   "metadata": {},
   "outputs": [],
   "source": [
    "#Splitting the Data: 80% Training, 20% Testing Data\n",
    "x_train, x_test, y_train, y_test = train_test_split(X, y, test_size = 0.2, random_state = 1,stratify=y)"
   ]
  },
  {
   "cell_type": "code",
   "execution_count": 685,
   "metadata": {},
   "outputs": [
    {
     "data": {
      "text/plain": [
       "(1253, 590)"
      ]
     },
     "execution_count": 685,
     "metadata": {},
     "output_type": "execute_result"
    }
   ],
   "source": [
    "#Rows and Columns of X_Train DF\n",
    "x_train.shape"
   ]
  },
  {
   "cell_type": "code",
   "execution_count": 686,
   "metadata": {},
   "outputs": [
    {
     "data": {
      "text/plain": [
       "(314, 590)"
      ]
     },
     "execution_count": 686,
     "metadata": {},
     "output_type": "execute_result"
    }
   ],
   "source": [
    "#Rows and Columns of X_Train DF\n",
    "x_test.shape"
   ]
  },
  {
   "cell_type": "markdown",
   "metadata": {},
   "source": [
    "# 4. Reducing Dimensionality"
   ]
  },
  {
   "cell_type": "markdown",
   "metadata": {},
   "source": [
    "## 4.1. Remove duplicated Columns"
   ]
  },
  {
   "cell_type": "code",
   "execution_count": 687,
   "metadata": {},
   "outputs": [],
   "source": [
    "#Function for finding and removing duplicated columns (features)\n",
    "def remove_duplicated_columns(df):\n",
    "    dict_duplicate_pair = {}\n",
    "    dict_duplicate_matches = {}\n",
    "    list_duplicate = []\n",
    "    to_remove = []\n",
    "    for i in range(0, len(df.columns)):\n",
    "        l = []\n",
    "        for j in range(i+1,len(df.columns)):\n",
    "            dict_duplicate_pair[str(i+1)+';'+str(j+1)] = df.iloc[:,i].equals(df.iloc[:,j])\n",
    "            if df.iloc[:,i].equals(df.iloc[:,j]) == True:\n",
    "                if j not in list_duplicate:\n",
    "                    l.append(j)\n",
    "                    to_remove.append('feature_'+str(j+1))\n",
    "                list_duplicate.append(i)\n",
    "                list_duplicate.append(j)\n",
    "        if len(l)!=0:\n",
    "            dict_duplicate_matches[i] = l\n",
    "\n",
    "\n",
    "    df_duplicate_pair = pd.DataFrame.from_dict(dict_duplicate_pair, orient='index')\n",
    "    df_duplicate_pair.columns=['duplicate']\n",
    "\n",
    "    df_duplicate_matches = pd.DataFrame.from_dict(dict_duplicate_matches, orient='index')\n",
    "\n",
    "    \n",
    "    df = df.drop(columns=to_remove, axis = 1)\n",
    "\n",
    "    return df"
   ]
  },
  {
   "cell_type": "code",
   "execution_count": 688,
   "metadata": {},
   "outputs": [
    {
     "data": {
      "text/plain": [
       "(1253, 486)"
      ]
     },
     "execution_count": 688,
     "metadata": {},
     "output_type": "execute_result"
    }
   ],
   "source": [
    "#Using Function on x_train & printing new shape of dataframe after transformation \n",
    "x_train = remove_duplicated_columns(x_train)\n",
    "x_train.shape"
   ]
  },
  {
   "cell_type": "markdown",
   "metadata": {},
   "source": [
    "## 4.2. Removing Features with Constant Volatility"
   ]
  },
  {
   "cell_type": "code",
   "execution_count": 689,
   "metadata": {},
   "outputs": [],
   "source": [
    "#Defining function to find and remove features with zero standard deviation \n",
    "def remove_constant_volatility(df):\n",
    "    df_EDA= df.describe().T\n",
    "    df_EDA= df_EDA[df_EDA[\"std\"] == 0]\n",
    "    df = df.drop(axis=1, columns=df_EDA.index)\n",
    "    return df"
   ]
  },
  {
   "cell_type": "code",
   "execution_count": 690,
   "metadata": {},
   "outputs": [
    {
     "data": {
      "text/plain": [
       "(1253, 474)"
      ]
     },
     "execution_count": 690,
     "metadata": {},
     "output_type": "execute_result"
    }
   ],
   "source": [
    "#Using Function on x_train & printing new shape of dataframe after transformation \n",
    "x_train = remove_constant_volatility(x_train)\n",
    "x_train.shape"
   ]
  },
  {
   "cell_type": "markdown",
   "metadata": {},
   "source": [
    "## 4.3. Remove Features with high % of Missing Values"
   ]
  },
  {
   "cell_type": "code",
   "execution_count": 691,
   "metadata": {},
   "outputs": [],
   "source": [
    "#Defining function to remove features with a given % of missing values \n",
    "def remove_cols_with_high_pct_null(df, null_threshold):\n",
    "    list_column_with_pct_null = pd.concat([df.isnull().sum(), df.isnull().sum()/df.shape[0]],axis=1).rename(columns={0:'Missing_Records', 1:'Percentage (%)'})\n",
    "    list_column_with_pct_null= list_column_with_pct_null[list_column_with_pct_null[\"Percentage (%)\"] >= null_threshold]\n",
    "    df = df.drop(axis=1, columns=list_column_with_pct_null.index)\n",
    "    return df"
   ]
  },
  {
   "cell_type": "code",
   "execution_count": 692,
   "metadata": {},
   "outputs": [
    {
     "data": {
      "text/plain": [
       "(1253, 466)"
      ]
     },
     "execution_count": 692,
     "metadata": {},
     "output_type": "execute_result"
    }
   ],
   "source": [
    "#Using Function on x_train & printing new shape of dataframe after transformation \n",
    "x_train = remove_cols_with_high_pct_null(x_train, 0.7)\n",
    "x_train.shape"
   ]
  },
  {
   "cell_type": "markdown",
   "metadata": {},
   "source": [
    "# 5. Outlier & Missing Value Treatment"
   ]
  },
  {
   "cell_type": "code",
   "execution_count": 693,
   "metadata": {},
   "outputs": [],
   "source": [
    "#Definition of Functiom\n",
    "def outlier_clamp(df):\n",
    "    for col in df.columns:\n",
    "        ll_col = df[col].mean() - 2 * df[col].std()\n",
    "        ul_col = df[col].mean() + 2 * df[col].std()\n",
    "        df[col] = np.where(df[col]>ul_col,ul_col,np.where(df[col]<ll_col,ll_col,df[col]))\n",
    "    return df"
   ]
  },
  {
   "cell_type": "code",
   "execution_count": 694,
   "metadata": {},
   "outputs": [],
   "source": [
    "x_train = outlier_clamp(x_train)"
   ]
  },
  {
   "cell_type": "code",
   "execution_count": 695,
   "metadata": {},
   "outputs": [],
   "source": [
    "#KNN only distance\n",
    "def knndistance(df):\n",
    "    scaler = MinMaxScaler()\n",
    "    df = pd.DataFrame(scaler.fit_transform(df), columns= df.columns)\n",
    "    #KNN Imputation \n",
    "    knn = KNNImputer(n_neighbors=3, weights='distance')\n",
    "    df = pd.DataFrame(knn.fit_transform(df), columns=df.columns)\n",
    "    #Reverse Scaling\n",
    "    df = pd.DataFrame(scaler.inverse_transform(df), columns= df.columns)\n",
    "    return df  "
   ]
  },
  {
   "cell_type": "code",
   "execution_count": 696,
   "metadata": {},
   "outputs": [],
   "source": [
    "x_train = knndistance(x_train)"
   ]
  },
  {
   "cell_type": "markdown",
   "metadata": {},
   "source": [
    "#Function to drop Outliers and impute Missing Values with KNN \n",
    "def outlierknn(df):\n",
    "    #Outlier treatment first:\n",
    "    for col in df.columns:\n",
    "          ll_col = df[col].mean() - 3 * df[col].std()\n",
    "          ul_col = df[col].mean() + 3 * df[col].std()\n",
    "          df[col] = np.where(df[col]>ul_col,np.NaN,np.where(df[col]<ll_col,np.NaN,df[col]))\n",
    "    #Scaling data \n",
    "    scaler = MinMaxScaler()\n",
    "    df = pd.DataFrame(scaler.fit_transform(df), columns= df.columns)\n",
    "    #KNN Imputation\n",
    "    knn = KNNImputer(n_neighbors=3, weights='distance')\n",
    "    df = pd.DataFrame(knn.fit_transform(df), columns=df.columns)\n",
    "    #Reverse Scaling\n",
    "    df = pd.DataFrame(scaler.inverse_transform(df), columns= df.columns)\n",
    "    return df  "
   ]
  },
  {
   "cell_type": "markdown",
   "metadata": {},
   "source": [
    "#Using function above on x_train\n",
    "x_train = outlierknn(x_train)"
   ]
  },
  {
   "cell_type": "markdown",
   "metadata": {},
   "source": [
    "# 6. Feature Selection"
   ]
  },
  {
   "cell_type": "code",
   "execution_count": 697,
   "metadata": {},
   "outputs": [],
   "source": [
    "#This is BorutaShap with TENTATIVE features\n",
    "\n",
    "#list_method=['shap','gini']\n",
    "\n",
    "def BorutaShap_FS (X, y,method_option) :\n",
    "    #modelshap = RandomForestClassifier(n_jobs=-1,n_estimators=100, class_weight='balanced_subsample', max_depth=5, random_state=100)\n",
    "    modelshap = RandomForestClassifier(n_jobs=-1,n_estimators=100, max_depth=5, random_state=100)\n",
    "\n",
    "    # define model for resp. classifier\n",
    "    modelshap.fit(X,y)\n",
    "    feature_names = np.array(X.columns)\n",
    "    # define Boruta Sahp feature selection method\n",
    "    feature_selector = BorutaShap(model=modelshap,\n",
    "                              importance_measure=method_option,\n",
    "                              classification=True)  # find all relevant features\n",
    "    feature_selector.fit(X,y,n_trials=100,sample = False, verbose = False,random_state=100)  \n",
    "    #feature_selector.plot(which_features='accepted',figsize=(20,10))\n",
    "    tentative=X.loc[:,feature_selector.tentative]\n",
    "    selected=feature_selector.Subset()\n",
    "    selten=pd.concat([selected,tentative],axis=1)\n",
    "    # call transform() on X to filter it down to selected features\n",
    "    return  selten"
   ]
  },
  {
   "cell_type": "code",
   "execution_count": 698,
   "metadata": {},
   "outputs": [
    {
     "data": {
      "application/vnd.jupyter.widget-view+json": {
       "model_id": "768d25f6264843b088ac14111e297bc1",
       "version_major": 2,
       "version_minor": 0
      },
      "text/plain": [
       "  0%|          | 0/100 [00:00<?, ?it/s]"
      ]
     },
     "metadata": {},
     "output_type": "display_data"
    }
   ],
   "source": [
    "x_train = BorutaShap_FS(x_train,y_train,'shap')"
   ]
  },
  {
   "cell_type": "code",
   "execution_count": 699,
   "metadata": {},
   "outputs": [
    {
     "data": {
      "text/plain": [
       "(1253, 16)"
      ]
     },
     "execution_count": 699,
     "metadata": {},
     "output_type": "execute_result"
    }
   ],
   "source": [
    "#Shape of x_train after Feature Selection\n",
    "x_train.shape"
   ]
  },
  {
   "cell_type": "code",
   "execution_count": 700,
   "metadata": {},
   "outputs": [
    {
     "data": {
      "text/html": [
       "<div>\n",
       "<style scoped>\n",
       "    .dataframe tbody tr th:only-of-type {\n",
       "        vertical-align: middle;\n",
       "    }\n",
       "\n",
       "    .dataframe tbody tr th {\n",
       "        vertical-align: top;\n",
       "    }\n",
       "\n",
       "    .dataframe thead th {\n",
       "        text-align: right;\n",
       "    }\n",
       "</style>\n",
       "<table border=\"1\" class=\"dataframe\">\n",
       "  <thead>\n",
       "    <tr style=\"text-align: right;\">\n",
       "      <th></th>\n",
       "      <th>feature_478</th>\n",
       "      <th>feature_206</th>\n",
       "      <th>feature_60</th>\n",
       "      <th>feature_283</th>\n",
       "      <th>feature_34</th>\n",
       "      <th>feature_66</th>\n",
       "      <th>feature_342</th>\n",
       "      <th>feature_124</th>\n",
       "      <th>feature_299</th>\n",
       "      <th>feature_349</th>\n",
       "      <th>feature_65</th>\n",
       "      <th>feature_435</th>\n",
       "      <th>feature_185</th>\n",
       "      <th>feature_164</th>\n",
       "      <th>feature_332</th>\n",
       "      <th>feature_442</th>\n",
       "    </tr>\n",
       "  </thead>\n",
       "  <tbody>\n",
       "    <tr>\n",
       "      <th>feature_478</th>\n",
       "      <td>1.000000</td>\n",
       "      <td>0.991256</td>\n",
       "      <td>0.225559</td>\n",
       "      <td>0.104229</td>\n",
       "      <td>0.088437</td>\n",
       "      <td>0.070689</td>\n",
       "      <td>0.972405</td>\n",
       "      <td>-0.017736</td>\n",
       "      <td>-0.001642</td>\n",
       "      <td>0.054413</td>\n",
       "      <td>0.002212</td>\n",
       "      <td>0.012037</td>\n",
       "      <td>0.010467</td>\n",
       "      <td>-0.001121</td>\n",
       "      <td>-0.075356</td>\n",
       "      <td>0.070135</td>\n",
       "    </tr>\n",
       "    <tr>\n",
       "      <th>feature_206</th>\n",
       "      <td>0.991256</td>\n",
       "      <td>1.000000</td>\n",
       "      <td>0.222066</td>\n",
       "      <td>0.109558</td>\n",
       "      <td>0.086359</td>\n",
       "      <td>0.064494</td>\n",
       "      <td>0.971257</td>\n",
       "      <td>-0.014702</td>\n",
       "      <td>-0.000171</td>\n",
       "      <td>0.058856</td>\n",
       "      <td>-0.002626</td>\n",
       "      <td>0.014332</td>\n",
       "      <td>0.011152</td>\n",
       "      <td>0.000300</td>\n",
       "      <td>-0.077851</td>\n",
       "      <td>0.078312</td>\n",
       "    </tr>\n",
       "    <tr>\n",
       "      <th>feature_60</th>\n",
       "      <td>0.225559</td>\n",
       "      <td>0.222066</td>\n",
       "      <td>1.000000</td>\n",
       "      <td>0.234082</td>\n",
       "      <td>0.151002</td>\n",
       "      <td>-0.367314</td>\n",
       "      <td>0.212905</td>\n",
       "      <td>0.058494</td>\n",
       "      <td>0.101639</td>\n",
       "      <td>0.262599</td>\n",
       "      <td>-0.441977</td>\n",
       "      <td>0.154459</td>\n",
       "      <td>0.001145</td>\n",
       "      <td>0.094163</td>\n",
       "      <td>-0.013010</td>\n",
       "      <td>0.115579</td>\n",
       "    </tr>\n",
       "    <tr>\n",
       "      <th>feature_283</th>\n",
       "      <td>0.104229</td>\n",
       "      <td>0.109558</td>\n",
       "      <td>0.234082</td>\n",
       "      <td>1.000000</td>\n",
       "      <td>0.015529</td>\n",
       "      <td>0.025996</td>\n",
       "      <td>0.108079</td>\n",
       "      <td>0.018306</td>\n",
       "      <td>0.007369</td>\n",
       "      <td>0.148088</td>\n",
       "      <td>0.010713</td>\n",
       "      <td>0.065387</td>\n",
       "      <td>-0.048790</td>\n",
       "      <td>0.000615</td>\n",
       "      <td>-0.010785</td>\n",
       "      <td>0.038043</td>\n",
       "    </tr>\n",
       "    <tr>\n",
       "      <th>feature_34</th>\n",
       "      <td>0.088437</td>\n",
       "      <td>0.086359</td>\n",
       "      <td>0.151002</td>\n",
       "      <td>0.015529</td>\n",
       "      <td>1.000000</td>\n",
       "      <td>0.077402</td>\n",
       "      <td>0.095569</td>\n",
       "      <td>0.081974</td>\n",
       "      <td>-0.030060</td>\n",
       "      <td>0.078712</td>\n",
       "      <td>0.070404</td>\n",
       "      <td>0.014667</td>\n",
       "      <td>-0.036640</td>\n",
       "      <td>-0.031574</td>\n",
       "      <td>0.018647</td>\n",
       "      <td>-0.171773</td>\n",
       "    </tr>\n",
       "    <tr>\n",
       "      <th>feature_66</th>\n",
       "      <td>0.070689</td>\n",
       "      <td>0.064494</td>\n",
       "      <td>-0.367314</td>\n",
       "      <td>0.025996</td>\n",
       "      <td>0.077402</td>\n",
       "      <td>1.000000</td>\n",
       "      <td>0.078139</td>\n",
       "      <td>-0.074345</td>\n",
       "      <td>0.097826</td>\n",
       "      <td>0.038341</td>\n",
       "      <td>0.929920</td>\n",
       "      <td>0.122255</td>\n",
       "      <td>0.012727</td>\n",
       "      <td>0.076127</td>\n",
       "      <td>-0.100633</td>\n",
       "      <td>0.000788</td>\n",
       "    </tr>\n",
       "    <tr>\n",
       "      <th>feature_342</th>\n",
       "      <td>0.972405</td>\n",
       "      <td>0.971257</td>\n",
       "      <td>0.212905</td>\n",
       "      <td>0.108079</td>\n",
       "      <td>0.095569</td>\n",
       "      <td>0.078139</td>\n",
       "      <td>1.000000</td>\n",
       "      <td>-0.029583</td>\n",
       "      <td>0.001001</td>\n",
       "      <td>0.050799</td>\n",
       "      <td>0.015506</td>\n",
       "      <td>0.012521</td>\n",
       "      <td>0.012152</td>\n",
       "      <td>0.002458</td>\n",
       "      <td>-0.098796</td>\n",
       "      <td>0.069718</td>\n",
       "    </tr>\n",
       "    <tr>\n",
       "      <th>feature_124</th>\n",
       "      <td>-0.017736</td>\n",
       "      <td>-0.014702</td>\n",
       "      <td>0.058494</td>\n",
       "      <td>0.018306</td>\n",
       "      <td>0.081974</td>\n",
       "      <td>-0.074345</td>\n",
       "      <td>-0.029583</td>\n",
       "      <td>1.000000</td>\n",
       "      <td>-0.010214</td>\n",
       "      <td>0.015154</td>\n",
       "      <td>-0.069254</td>\n",
       "      <td>-0.005769</td>\n",
       "      <td>-0.012430</td>\n",
       "      <td>-0.005776</td>\n",
       "      <td>0.083735</td>\n",
       "      <td>0.027781</td>\n",
       "    </tr>\n",
       "    <tr>\n",
       "      <th>feature_299</th>\n",
       "      <td>-0.001642</td>\n",
       "      <td>-0.000171</td>\n",
       "      <td>0.101639</td>\n",
       "      <td>0.007369</td>\n",
       "      <td>-0.030060</td>\n",
       "      <td>0.097826</td>\n",
       "      <td>0.001001</td>\n",
       "      <td>-0.010214</td>\n",
       "      <td>1.000000</td>\n",
       "      <td>0.053644</td>\n",
       "      <td>0.079686</td>\n",
       "      <td>0.872580</td>\n",
       "      <td>-0.010433</td>\n",
       "      <td>0.988120</td>\n",
       "      <td>-0.039670</td>\n",
       "      <td>-0.050088</td>\n",
       "    </tr>\n",
       "    <tr>\n",
       "      <th>feature_349</th>\n",
       "      <td>0.054413</td>\n",
       "      <td>0.058856</td>\n",
       "      <td>0.262599</td>\n",
       "      <td>0.148088</td>\n",
       "      <td>0.078712</td>\n",
       "      <td>0.038341</td>\n",
       "      <td>0.050799</td>\n",
       "      <td>0.015154</td>\n",
       "      <td>0.053644</td>\n",
       "      <td>1.000000</td>\n",
       "      <td>0.011105</td>\n",
       "      <td>0.096147</td>\n",
       "      <td>0.020086</td>\n",
       "      <td>0.045489</td>\n",
       "      <td>-0.058517</td>\n",
       "      <td>0.020348</td>\n",
       "    </tr>\n",
       "    <tr>\n",
       "      <th>feature_65</th>\n",
       "      <td>0.002212</td>\n",
       "      <td>-0.002626</td>\n",
       "      <td>-0.441977</td>\n",
       "      <td>0.010713</td>\n",
       "      <td>0.070404</td>\n",
       "      <td>0.929920</td>\n",
       "      <td>0.015506</td>\n",
       "      <td>-0.069254</td>\n",
       "      <td>0.079686</td>\n",
       "      <td>0.011105</td>\n",
       "      <td>1.000000</td>\n",
       "      <td>0.100074</td>\n",
       "      <td>-0.012281</td>\n",
       "      <td>0.057000</td>\n",
       "      <td>-0.060965</td>\n",
       "      <td>-0.020803</td>\n",
       "    </tr>\n",
       "    <tr>\n",
       "      <th>feature_435</th>\n",
       "      <td>0.012037</td>\n",
       "      <td>0.014332</td>\n",
       "      <td>0.154459</td>\n",
       "      <td>0.065387</td>\n",
       "      <td>0.014667</td>\n",
       "      <td>0.122255</td>\n",
       "      <td>0.012521</td>\n",
       "      <td>-0.005769</td>\n",
       "      <td>0.872580</td>\n",
       "      <td>0.096147</td>\n",
       "      <td>0.100074</td>\n",
       "      <td>1.000000</td>\n",
       "      <td>-0.025596</td>\n",
       "      <td>0.833003</td>\n",
       "      <td>-0.033844</td>\n",
       "      <td>-0.012142</td>\n",
       "    </tr>\n",
       "    <tr>\n",
       "      <th>feature_185</th>\n",
       "      <td>0.010467</td>\n",
       "      <td>0.011152</td>\n",
       "      <td>0.001145</td>\n",
       "      <td>-0.048790</td>\n",
       "      <td>-0.036640</td>\n",
       "      <td>0.012727</td>\n",
       "      <td>0.012152</td>\n",
       "      <td>-0.012430</td>\n",
       "      <td>-0.010433</td>\n",
       "      <td>0.020086</td>\n",
       "      <td>-0.012281</td>\n",
       "      <td>-0.025596</td>\n",
       "      <td>1.000000</td>\n",
       "      <td>-0.002654</td>\n",
       "      <td>-0.152380</td>\n",
       "      <td>-0.016802</td>\n",
       "    </tr>\n",
       "    <tr>\n",
       "      <th>feature_164</th>\n",
       "      <td>-0.001121</td>\n",
       "      <td>0.000300</td>\n",
       "      <td>0.094163</td>\n",
       "      <td>0.000615</td>\n",
       "      <td>-0.031574</td>\n",
       "      <td>0.076127</td>\n",
       "      <td>0.002458</td>\n",
       "      <td>-0.005776</td>\n",
       "      <td>0.988120</td>\n",
       "      <td>0.045489</td>\n",
       "      <td>0.057000</td>\n",
       "      <td>0.833003</td>\n",
       "      <td>-0.002654</td>\n",
       "      <td>1.000000</td>\n",
       "      <td>-0.041794</td>\n",
       "      <td>-0.059304</td>\n",
       "    </tr>\n",
       "    <tr>\n",
       "      <th>feature_332</th>\n",
       "      <td>-0.075356</td>\n",
       "      <td>-0.077851</td>\n",
       "      <td>-0.013010</td>\n",
       "      <td>-0.010785</td>\n",
       "      <td>0.018647</td>\n",
       "      <td>-0.100633</td>\n",
       "      <td>-0.098796</td>\n",
       "      <td>0.083735</td>\n",
       "      <td>-0.039670</td>\n",
       "      <td>-0.058517</td>\n",
       "      <td>-0.060965</td>\n",
       "      <td>-0.033844</td>\n",
       "      <td>-0.152380</td>\n",
       "      <td>-0.041794</td>\n",
       "      <td>1.000000</td>\n",
       "      <td>0.071194</td>\n",
       "    </tr>\n",
       "    <tr>\n",
       "      <th>feature_442</th>\n",
       "      <td>0.070135</td>\n",
       "      <td>0.078312</td>\n",
       "      <td>0.115579</td>\n",
       "      <td>0.038043</td>\n",
       "      <td>-0.171773</td>\n",
       "      <td>0.000788</td>\n",
       "      <td>0.069718</td>\n",
       "      <td>0.027781</td>\n",
       "      <td>-0.050088</td>\n",
       "      <td>0.020348</td>\n",
       "      <td>-0.020803</td>\n",
       "      <td>-0.012142</td>\n",
       "      <td>-0.016802</td>\n",
       "      <td>-0.059304</td>\n",
       "      <td>0.071194</td>\n",
       "      <td>1.000000</td>\n",
       "    </tr>\n",
       "  </tbody>\n",
       "</table>\n",
       "</div>"
      ],
      "text/plain": [
       "             feature_478  feature_206  feature_60  feature_283  feature_34  \\\n",
       "feature_478     1.000000     0.991256    0.225559     0.104229    0.088437   \n",
       "feature_206     0.991256     1.000000    0.222066     0.109558    0.086359   \n",
       "feature_60      0.225559     0.222066    1.000000     0.234082    0.151002   \n",
       "feature_283     0.104229     0.109558    0.234082     1.000000    0.015529   \n",
       "feature_34      0.088437     0.086359    0.151002     0.015529    1.000000   \n",
       "feature_66      0.070689     0.064494   -0.367314     0.025996    0.077402   \n",
       "feature_342     0.972405     0.971257    0.212905     0.108079    0.095569   \n",
       "feature_124    -0.017736    -0.014702    0.058494     0.018306    0.081974   \n",
       "feature_299    -0.001642    -0.000171    0.101639     0.007369   -0.030060   \n",
       "feature_349     0.054413     0.058856    0.262599     0.148088    0.078712   \n",
       "feature_65      0.002212    -0.002626   -0.441977     0.010713    0.070404   \n",
       "feature_435     0.012037     0.014332    0.154459     0.065387    0.014667   \n",
       "feature_185     0.010467     0.011152    0.001145    -0.048790   -0.036640   \n",
       "feature_164    -0.001121     0.000300    0.094163     0.000615   -0.031574   \n",
       "feature_332    -0.075356    -0.077851   -0.013010    -0.010785    0.018647   \n",
       "feature_442     0.070135     0.078312    0.115579     0.038043   -0.171773   \n",
       "\n",
       "             feature_66  feature_342  feature_124  feature_299  feature_349  \\\n",
       "feature_478    0.070689     0.972405    -0.017736    -0.001642     0.054413   \n",
       "feature_206    0.064494     0.971257    -0.014702    -0.000171     0.058856   \n",
       "feature_60    -0.367314     0.212905     0.058494     0.101639     0.262599   \n",
       "feature_283    0.025996     0.108079     0.018306     0.007369     0.148088   \n",
       "feature_34     0.077402     0.095569     0.081974    -0.030060     0.078712   \n",
       "feature_66     1.000000     0.078139    -0.074345     0.097826     0.038341   \n",
       "feature_342    0.078139     1.000000    -0.029583     0.001001     0.050799   \n",
       "feature_124   -0.074345    -0.029583     1.000000    -0.010214     0.015154   \n",
       "feature_299    0.097826     0.001001    -0.010214     1.000000     0.053644   \n",
       "feature_349    0.038341     0.050799     0.015154     0.053644     1.000000   \n",
       "feature_65     0.929920     0.015506    -0.069254     0.079686     0.011105   \n",
       "feature_435    0.122255     0.012521    -0.005769     0.872580     0.096147   \n",
       "feature_185    0.012727     0.012152    -0.012430    -0.010433     0.020086   \n",
       "feature_164    0.076127     0.002458    -0.005776     0.988120     0.045489   \n",
       "feature_332   -0.100633    -0.098796     0.083735    -0.039670    -0.058517   \n",
       "feature_442    0.000788     0.069718     0.027781    -0.050088     0.020348   \n",
       "\n",
       "             feature_65  feature_435  feature_185  feature_164  feature_332  \\\n",
       "feature_478    0.002212     0.012037     0.010467    -0.001121    -0.075356   \n",
       "feature_206   -0.002626     0.014332     0.011152     0.000300    -0.077851   \n",
       "feature_60    -0.441977     0.154459     0.001145     0.094163    -0.013010   \n",
       "feature_283    0.010713     0.065387    -0.048790     0.000615    -0.010785   \n",
       "feature_34     0.070404     0.014667    -0.036640    -0.031574     0.018647   \n",
       "feature_66     0.929920     0.122255     0.012727     0.076127    -0.100633   \n",
       "feature_342    0.015506     0.012521     0.012152     0.002458    -0.098796   \n",
       "feature_124   -0.069254    -0.005769    -0.012430    -0.005776     0.083735   \n",
       "feature_299    0.079686     0.872580    -0.010433     0.988120    -0.039670   \n",
       "feature_349    0.011105     0.096147     0.020086     0.045489    -0.058517   \n",
       "feature_65     1.000000     0.100074    -0.012281     0.057000    -0.060965   \n",
       "feature_435    0.100074     1.000000    -0.025596     0.833003    -0.033844   \n",
       "feature_185   -0.012281    -0.025596     1.000000    -0.002654    -0.152380   \n",
       "feature_164    0.057000     0.833003    -0.002654     1.000000    -0.041794   \n",
       "feature_332   -0.060965    -0.033844    -0.152380    -0.041794     1.000000   \n",
       "feature_442   -0.020803    -0.012142    -0.016802    -0.059304     0.071194   \n",
       "\n",
       "             feature_442  \n",
       "feature_478     0.070135  \n",
       "feature_206     0.078312  \n",
       "feature_60      0.115579  \n",
       "feature_283     0.038043  \n",
       "feature_34     -0.171773  \n",
       "feature_66      0.000788  \n",
       "feature_342     0.069718  \n",
       "feature_124     0.027781  \n",
       "feature_299    -0.050088  \n",
       "feature_349     0.020348  \n",
       "feature_65     -0.020803  \n",
       "feature_435    -0.012142  \n",
       "feature_185    -0.016802  \n",
       "feature_164    -0.059304  \n",
       "feature_332     0.071194  \n",
       "feature_442     1.000000  "
      ]
     },
     "execution_count": 700,
     "metadata": {},
     "output_type": "execute_result"
    }
   ],
   "source": [
    "#Correlation Matrix of Remaining Features\n",
    "x_train.corr()"
   ]
  },
  {
   "cell_type": "code",
   "execution_count": 701,
   "metadata": {},
   "outputs": [
    {
     "data": {
      "text/plain": [
       "Text(0.5, 1.0, 'Correlation of remaining Features')"
      ]
     },
     "execution_count": 701,
     "metadata": {},
     "output_type": "execute_result"
    },
    {
     "data": {
      "image/png": "[encoded data removed]",
      "text/plain": [
       "<Figure size 576x576 with 2 Axes>"
      ]
     },
     "metadata": {
      "needs_background": "light"
     },
     "output_type": "display_data"
    }
   ],
   "source": [
    "#Heatmap of Correlation of Remaining Feaures \n",
    "plt.rcParams['figure.figsize'] = (8, 8) #this is to set the size for the plot, making it bigger\n",
    "sns.heatmap(x_train.corr(), cmap = \"YlGnBu\")\n",
    "plt.title('Correlation of remaining Features', fontsize = 20)"
   ]
  },
  {
   "cell_type": "markdown",
   "metadata": {},
   "source": [
    "# 7. Multicolinearity Treatment"
   ]
  },
  {
   "cell_type": "code",
   "execution_count": 702,
   "metadata": {},
   "outputs": [],
   "source": [
    "#Remove the highly collinear features from data\n",
    "def remove_collinear_features(x, threshold):\n",
    "\n",
    "\n",
    "    # Calculate the correlation matrix\n",
    "    corr_matrix = x.corr()\n",
    "    iters = range(len(corr_matrix.columns) - 1)\n",
    "    drop_cols = []\n",
    "\n",
    "    # Iterate through the correlation matrix and compare correlations\n",
    "    for i in iters:\n",
    "        for j in range(i+1):\n",
    "            item = corr_matrix.iloc[j:(j+1), (i+1):(i+2)]\n",
    "            col = item.columns\n",
    "            row = item.index\n",
    "            val = abs(item.values)\n",
    "\n",
    "            # If correlation exceeds the threshold\n",
    "            if val >= threshold:\n",
    "                #Print the correlated features and the correlation value\n",
    "                #print(col.values[0], \"|\", row.values[0], \"|\", round(val[0][0], 2))\n",
    "                drop_cols.append(col.values[0])\n",
    "\n",
    "    # Drop one of each pair of correlated columns\n",
    "    drops = set(drop_cols)\n",
    "    x = x.drop(columns=drops)\n",
    "\n",
    "    return x"
   ]
  },
  {
   "cell_type": "code",
   "execution_count": 703,
   "metadata": {},
   "outputs": [
    {
     "data": {
      "text/plain": [
       "(1253, 11)"
      ]
     },
     "execution_count": 703,
     "metadata": {},
     "output_type": "execute_result"
    }
   ],
   "source": [
    "x_train=remove_collinear_features(x_train, 0.7)\n",
    "x_train.shape"
   ]
  },
  {
   "cell_type": "code",
   "execution_count": 704,
   "metadata": {},
   "outputs": [
    {
     "data": {
      "text/plain": [
       "Text(0.5, 1.0, 'Correlation of remaining Features')"
      ]
     },
     "execution_count": 704,
     "metadata": {},
     "output_type": "execute_result"
    },
    {
     "data": {
      "image/png": "[encoded data removed]",
      "text/plain": [
       "<Figure size 576x576 with 2 Axes>"
      ]
     },
     "metadata": {
      "needs_background": "light"
     },
     "output_type": "display_data"
    }
   ],
   "source": [
    "#Heatmap of Correlation of Remaining Feaures \n",
    "plt.rcParams['figure.figsize'] = (8, 8) #this is to set the size for the plot, making it bigger\n",
    "sns.heatmap(x_train.corr(), cmap = \"YlGnBu\")\n",
    "plt.title('Correlation of remaining Features', fontsize = 20)"
   ]
  },
  {
   "cell_type": "markdown",
   "metadata": {},
   "source": [
    "# 8. Balancing"
   ]
  },
  {
   "cell_type": "code",
   "execution_count": 705,
   "metadata": {},
   "outputs": [],
   "source": [
    "#Function SMOTEENN\n",
    "def sampling(X_train, y_train):\n",
    "    sampler = SMOTEENN(random_state=100)\n",
    "    X_resampled, y_resampled = sampler.fit_resample(X_train, y_train)\n",
    "    return X_resampled, y_resampled\n",
    "\n",
    "# X_train, y_train = sampling(X_train, y_train,'SMOTE')\n",
    "# X_train.shape"
   ]
  },
  {
   "cell_type": "code",
   "execution_count": 706,
   "metadata": {},
   "outputs": [],
   "source": [
    "x_train, y_train = sampling(x_train, y_train)"
   ]
  },
  {
   "cell_type": "code",
   "execution_count": 707,
   "metadata": {},
   "outputs": [
    {
     "data": {
      "text/plain": [
       "(1665, 11)"
      ]
     },
     "execution_count": 707,
     "metadata": {},
     "output_type": "execute_result"
    }
   ],
   "source": [
    "x_train.shape"
   ]
  },
  {
   "cell_type": "code",
   "execution_count": 708,
   "metadata": {},
   "outputs": [
    {
     "data": {
      "text/plain": [
       "(1665,)"
      ]
     },
     "execution_count": 708,
     "metadata": {},
     "output_type": "execute_result"
    }
   ],
   "source": [
    "y_train.shape"
   ]
  },
  {
   "cell_type": "markdown",
   "metadata": {},
   "source": [
    "# 9. Modeling"
   ]
  },
  {
   "cell_type": "code",
   "execution_count": 709,
   "metadata": {},
   "outputs": [],
   "source": [
    "#Turning y_train to categorical, since Naive Bayes works better on categorical data\n",
    "y_train = pd.Categorical(y_train)"
   ]
  },
  {
   "cell_type": "code",
   "execution_count": 710,
   "metadata": {},
   "outputs": [
    {
     "data": {
      "text/html": [
       "<div>\n",
       "<style scoped>\n",
       "    .dataframe tbody tr th:only-of-type {\n",
       "        vertical-align: middle;\n",
       "    }\n",
       "\n",
       "    .dataframe tbody tr th {\n",
       "        vertical-align: top;\n",
       "    }\n",
       "\n",
       "    .dataframe thead th {\n",
       "        text-align: right;\n",
       "    }\n",
       "</style>\n",
       "<table border=\"1\" class=\"dataframe\">\n",
       "  <thead>\n",
       "    <tr style=\"text-align: right;\">\n",
       "      <th></th>\n",
       "      <th>0</th>\n",
       "    </tr>\n",
       "  </thead>\n",
       "  <tbody>\n",
       "    <tr>\n",
       "      <th>0</th>\n",
       "      <td>-1</td>\n",
       "    </tr>\n",
       "    <tr>\n",
       "      <th>1</th>\n",
       "      <td>-1</td>\n",
       "    </tr>\n",
       "    <tr>\n",
       "      <th>2</th>\n",
       "      <td>-1</td>\n",
       "    </tr>\n",
       "    <tr>\n",
       "      <th>3</th>\n",
       "      <td>-1</td>\n",
       "    </tr>\n",
       "    <tr>\n",
       "      <th>4</th>\n",
       "      <td>-1</td>\n",
       "    </tr>\n",
       "    <tr>\n",
       "      <th>...</th>\n",
       "      <td>...</td>\n",
       "    </tr>\n",
       "    <tr>\n",
       "      <th>1660</th>\n",
       "      <td>1</td>\n",
       "    </tr>\n",
       "    <tr>\n",
       "      <th>1661</th>\n",
       "      <td>1</td>\n",
       "    </tr>\n",
       "    <tr>\n",
       "      <th>1662</th>\n",
       "      <td>1</td>\n",
       "    </tr>\n",
       "    <tr>\n",
       "      <th>1663</th>\n",
       "      <td>1</td>\n",
       "    </tr>\n",
       "    <tr>\n",
       "      <th>1664</th>\n",
       "      <td>1</td>\n",
       "    </tr>\n",
       "  </tbody>\n",
       "</table>\n",
       "<p>1665 rows × 1 columns</p>\n",
       "</div>"
      ],
      "text/plain": [
       "      0\n",
       "0    -1\n",
       "1    -1\n",
       "2    -1\n",
       "3    -1\n",
       "4    -1\n",
       "...  ..\n",
       "1660  1\n",
       "1661  1\n",
       "1662  1\n",
       "1663  1\n",
       "1664  1\n",
       "\n",
       "[1665 rows x 1 columns]"
      ]
     },
     "execution_count": 710,
     "metadata": {},
     "output_type": "execute_result"
    }
   ],
   "source": [
    "y_train = pd.DataFrame(y_train)\n",
    "y_train"
   ]
  },
  {
   "cell_type": "code",
   "execution_count": 711,
   "metadata": {},
   "outputs": [
    {
     "data": {
      "image/png": "[encoded data removed]",
      "text/plain": [
       "<Figure size 576x576 with 1 Axes>"
      ]
     },
     "metadata": {
      "needs_background": "light"
     },
     "output_type": "display_data"
    }
   ],
   "source": [
    "y_train.value_counts().plot.bar(color = ['grey', 'red'])\n",
    "plt.show()"
   ]
  },
  {
   "cell_type": "code",
   "execution_count": 712,
   "metadata": {},
   "outputs": [
    {
     "name": "stdout",
     "output_type": "stream",
     "text": [
      "              precision    recall  f1-score   support\n",
      "\n",
      "          -1       0.63      0.82      0.71       677\n",
      "           1       0.85      0.68      0.75       988\n",
      "\n",
      "    accuracy                           0.73      1665\n",
      "   macro avg       0.74      0.75      0.73      1665\n",
      "weighted avg       0.76      0.73      0.74      1665\n",
      "\n",
      "[[555 122]\n",
      " [321 667]]\n"
     ]
    }
   ],
   "source": [
    "gnb = GaussianNB()\n",
    "gnb.fit(x_train, y_train)\n",
    "# make predictions\n",
    "expected = y_train\n",
    "predicted = gnb.predict(x_train)\n",
    "# summarize the fit of the gnb\n",
    "print(metrics.classification_report(expected, predicted))\n",
    "print(metrics.confusion_matrix(expected, predicted))\n"
   ]
  },
  {
   "cell_type": "code",
   "execution_count": 713,
   "metadata": {},
   "outputs": [
    {
     "data": {
      "text/plain": [
       "0.6751012145748988"
      ]
     },
     "execution_count": 713,
     "metadata": {},
     "output_type": "execute_result"
    }
   ],
   "source": [
    "cf_matrix = confusion_matrix(expected, predicted)\n",
    "sensitivity = cf_matrix[1][1] / ( cf_matrix[1][1] + cf_matrix[1][0] )\n",
    "sensitivity"
   ]
  },
  {
   "cell_type": "markdown",
   "metadata": {},
   "source": [
    "# 10. Test Data"
   ]
  },
  {
   "cell_type": "code",
   "execution_count": 714,
   "metadata": {},
   "outputs": [
    {
     "data": {
      "text/plain": [
       "(314, 480)"
      ]
     },
     "execution_count": 714,
     "metadata": {},
     "output_type": "execute_result"
    }
   ],
   "source": [
    "#1. Remove Duplicated Columns \n",
    "x_test = remove_duplicated_columns(x_test)\n",
    "x_test.shape"
   ]
  },
  {
   "cell_type": "code",
   "execution_count": 715,
   "metadata": {},
   "outputs": [
    {
     "data": {
      "text/plain": [
       "(314, 468)"
      ]
     },
     "execution_count": 715,
     "metadata": {},
     "output_type": "execute_result"
    }
   ],
   "source": [
    "#2. Remove Constant Volalitily\n",
    "x_test = remove_constant_volatility(x_test)\n",
    "x_test.shape"
   ]
  },
  {
   "cell_type": "code",
   "execution_count": 716,
   "metadata": {},
   "outputs": [
    {
     "data": {
      "text/plain": [
       "(314, 444)"
      ]
     },
     "execution_count": 716,
     "metadata": {},
     "output_type": "execute_result"
    }
   ],
   "source": [
    "#3. Remove High % of NA\n",
    "x_test = remove_cols_with_high_pct_null(x_test, 0.6)\n",
    "x_test.shape"
   ]
  },
  {
   "cell_type": "code",
   "execution_count": 717,
   "metadata": {},
   "outputs": [],
   "source": [
    "#4. Drop Outliers and KNN Imputation\n",
    "x_test= outlierknn(x_test)"
   ]
  },
  {
   "cell_type": "code",
   "execution_count": 718,
   "metadata": {},
   "outputs": [
    {
     "data": {
      "text/plain": [
       "(314, 11)"
      ]
     },
     "execution_count": 718,
     "metadata": {},
     "output_type": "execute_result"
    }
   ],
   "source": [
    "#5. Take the same Columns as in train data \n",
    "columns_list = x_train.columns\n",
    "x_test = x_test.loc[:,columns_list]\n",
    "x_test.shape"
   ]
  },
  {
   "cell_type": "code",
   "execution_count": 719,
   "metadata": {},
   "outputs": [],
   "source": [
    "#6. Balancing Again \n",
    "#x_test, y_test = sampling(x_test, y_test)"
   ]
  },
  {
   "cell_type": "code",
   "execution_count": 720,
   "metadata": {},
   "outputs": [
    {
     "data": {
      "text/html": [
       "<div>\n",
       "<style scoped>\n",
       "    .dataframe tbody tr th:only-of-type {\n",
       "        vertical-align: middle;\n",
       "    }\n",
       "\n",
       "    .dataframe tbody tr th {\n",
       "        vertical-align: top;\n",
       "    }\n",
       "\n",
       "    .dataframe thead th {\n",
       "        text-align: right;\n",
       "    }\n",
       "</style>\n",
       "<table border=\"1\" class=\"dataframe\">\n",
       "  <thead>\n",
       "    <tr style=\"text-align: right;\">\n",
       "      <th></th>\n",
       "      <th>0</th>\n",
       "    </tr>\n",
       "  </thead>\n",
       "  <tbody>\n",
       "    <tr>\n",
       "      <th>0</th>\n",
       "      <td>-1</td>\n",
       "    </tr>\n",
       "    <tr>\n",
       "      <th>1</th>\n",
       "      <td>-1</td>\n",
       "    </tr>\n",
       "    <tr>\n",
       "      <th>2</th>\n",
       "      <td>-1</td>\n",
       "    </tr>\n",
       "    <tr>\n",
       "      <th>3</th>\n",
       "      <td>-1</td>\n",
       "    </tr>\n",
       "    <tr>\n",
       "      <th>4</th>\n",
       "      <td>-1</td>\n",
       "    </tr>\n",
       "    <tr>\n",
       "      <th>...</th>\n",
       "      <td>...</td>\n",
       "    </tr>\n",
       "    <tr>\n",
       "      <th>309</th>\n",
       "      <td>-1</td>\n",
       "    </tr>\n",
       "    <tr>\n",
       "      <th>310</th>\n",
       "      <td>-1</td>\n",
       "    </tr>\n",
       "    <tr>\n",
       "      <th>311</th>\n",
       "      <td>-1</td>\n",
       "    </tr>\n",
       "    <tr>\n",
       "      <th>312</th>\n",
       "      <td>-1</td>\n",
       "    </tr>\n",
       "    <tr>\n",
       "      <th>313</th>\n",
       "      <td>-1</td>\n",
       "    </tr>\n",
       "  </tbody>\n",
       "</table>\n",
       "<p>314 rows × 1 columns</p>\n",
       "</div>"
      ],
      "text/plain": [
       "     0\n",
       "0   -1\n",
       "1   -1\n",
       "2   -1\n",
       "3   -1\n",
       "4   -1\n",
       "..  ..\n",
       "309 -1\n",
       "310 -1\n",
       "311 -1\n",
       "312 -1\n",
       "313 -1\n",
       "\n",
       "[314 rows x 1 columns]"
      ]
     },
     "execution_count": 720,
     "metadata": {},
     "output_type": "execute_result"
    }
   ],
   "source": [
    "#6. Change Target Variable to Categorical\n",
    "y_test = pd.Categorical(y_test)\n",
    "y_test = pd.DataFrame(y_test)\n",
    "y_test"
   ]
  },
  {
   "cell_type": "code",
   "execution_count": 721,
   "metadata": {},
   "outputs": [
    {
     "name": "stdout",
     "output_type": "stream",
     "text": [
      "              precision    recall  f1-score   support\n",
      "\n",
      "          -1       0.97      0.77      0.86       293\n",
      "           1       0.16      0.62      0.25        21\n",
      "\n",
      "    accuracy                           0.76       314\n",
      "   macro avg       0.56      0.69      0.56       314\n",
      "weighted avg       0.91      0.76      0.82       314\n",
      "\n",
      "[[225  68]\n",
      " [  8  13]]\n"
     ]
    }
   ],
   "source": [
    "exp_test = y_test\n",
    "pred_test = gnb.predict(x_test)\n",
    "# summarize the fit of the gnb\n",
    "print(metrics.classification_report(exp_test, pred_test))\n",
    "print(metrics.confusion_matrix(exp_test, pred_test))"
   ]
  },
  {
   "cell_type": "code",
   "execution_count": 722,
   "metadata": {},
   "outputs": [
    {
     "data": {
      "text/plain": [
       "0.6190476190476191"
      ]
     },
     "execution_count": 722,
     "metadata": {},
     "output_type": "execute_result"
    }
   ],
   "source": [
    "cf_matrix_test = confusion_matrix(exp_test, pred_test)\n",
    "sensitivity_test = cf_matrix_test[1][1] / ( cf_matrix_test[1][1] + cf_matrix_test[1][0] )\n",
    "sensitivity_test"
   ]
  },
  {
   "cell_type": "code",
   "execution_count": 723,
   "metadata": {},
   "outputs": [
    {
     "data": {
      "text/plain": [
       "0.7579617834394905"
      ]
     },
     "execution_count": 723,
     "metadata": {},
     "output_type": "execute_result"
    }
   ],
   "source": [
    "#Accuracy score\n",
    "accuracy_score(exp_test, pred_test)"
   ]
  },
  {
   "cell_type": "code",
   "execution_count": 724,
   "metadata": {},
   "outputs": [
    {
     "data": {
      "text/plain": [
       "0.6190476190476191"
      ]
     },
     "execution_count": 724,
     "metadata": {},
     "output_type": "execute_result"
    }
   ],
   "source": [
    "#Recall score\n",
    "recall_score(exp_test, pred_test)"
   ]
  }
 ],
 "metadata": {
  "kernelspec": {
   "display_name": "Python 3.9.12 ('dscience')",
   "language": "python",
   "name": "python3"
  },
  "language_info": {
   "codemirror_mode": {
    "name": "ipython",
    "version": 3
   },
   "file_extension": ".py",
   "mimetype": "text/x-python",
   "name": "python",
   "nbconvert_exporter": "python",
   "pygments_lexer": "ipython3",
   "version": "3.9.12"
  },
  "orig_nbformat": 4,
  "vscode": {
   "interpreter": {
    "hash": "3078b67b691a5c266f6971fd9f463b4eac2178879712276f7d11f0f0eb816c78"
   }
  }
 },
 "nbformat": 4,
 "nbformat_minor": 2
}
